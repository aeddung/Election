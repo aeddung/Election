{
 "cells": [
  {
   "cell_type": "code",
   "execution_count": 1,
   "metadata": {},
   "outputs": [],
   "source": [
    "import pandas as pd\n",
    "import numpy as np\n",
    "import re"
   ]
  },
  {
   "cell_type": "code",
   "execution_count": 2,
   "metadata": {},
   "outputs": [
    {
     "data": {
      "text/html": [
       "<div>\n",
       "<style scoped>\n",
       "    .dataframe tbody tr th:only-of-type {\n",
       "        vertical-align: middle;\n",
       "    }\n",
       "\n",
       "    .dataframe tbody tr th {\n",
       "        vertical-align: top;\n",
       "    }\n",
       "\n",
       "    .dataframe thead th {\n",
       "        text-align: right;\n",
       "    }\n",
       "</style>\n",
       "<table border=\"1\" class=\"dataframe\">\n",
       "  <thead>\n",
       "    <tr style=\"text-align: right;\">\n",
       "      <th></th>\n",
       "      <th>Unnamed: 0</th>\n",
       "      <th>program_name</th>\n",
       "      <th>singer</th>\n",
       "      <th>music</th>\n",
       "      <th>views</th>\n",
       "      <th>likes</th>\n",
       "      <th>comments</th>\n",
       "      <th>atmosphere</th>\n",
       "      <th>subject</th>\n",
       "    </tr>\n",
       "  </thead>\n",
       "  <tbody>\n",
       "    <tr>\n",
       "      <th>0</th>\n",
       "      <td>0</td>\n",
       "      <td>미스터트롯</td>\n",
       "      <td>임영웅</td>\n",
       "      <td>바램</td>\n",
       "      <td>2223366</td>\n",
       "      <td>22906</td>\n",
       "      <td>4689</td>\n",
       "      <td>슬픔</td>\n",
       "      <td>인생</td>\n",
       "    </tr>\n",
       "    <tr>\n",
       "      <th>1</th>\n",
       "      <td>1</td>\n",
       "      <td>미스터트롯</td>\n",
       "      <td>영탁</td>\n",
       "      <td>사내</td>\n",
       "      <td>604639</td>\n",
       "      <td>6583</td>\n",
       "      <td>1599</td>\n",
       "      <td>활기참</td>\n",
       "      <td>인생</td>\n",
       "    </tr>\n",
       "    <tr>\n",
       "      <th>2</th>\n",
       "      <td>2</td>\n",
       "      <td>미스터트롯</td>\n",
       "      <td>영탁</td>\n",
       "      <td>댄싱퀸</td>\n",
       "      <td>828628</td>\n",
       "      <td>7804</td>\n",
       "      <td>1884</td>\n",
       "      <td>신남</td>\n",
       "      <td>남녀사랑</td>\n",
       "    </tr>\n",
       "    <tr>\n",
       "      <th>3</th>\n",
       "      <td>3</td>\n",
       "      <td>미스터트롯</td>\n",
       "      <td>임영웅</td>\n",
       "      <td>댄싱퀸</td>\n",
       "      <td>828628</td>\n",
       "      <td>7804</td>\n",
       "      <td>1884</td>\n",
       "      <td>신남</td>\n",
       "      <td>남녀사랑</td>\n",
       "    </tr>\n",
       "    <tr>\n",
       "      <th>4</th>\n",
       "      <td>4</td>\n",
       "      <td>미스터트롯</td>\n",
       "      <td>영탁</td>\n",
       "      <td>막걸리 한 잔</td>\n",
       "      <td>1805978</td>\n",
       "      <td>19675</td>\n",
       "      <td>7231</td>\n",
       "      <td>활기참</td>\n",
       "      <td>부모효도</td>\n",
       "    </tr>\n",
       "  </tbody>\n",
       "</table>\n",
       "</div>"
      ],
      "text/plain": [
       "   Unnamed: 0 program_name singer    music    views  likes  comments  \\\n",
       "0           0        미스터트롯    임영웅       바램  2223366  22906      4689   \n",
       "1           1        미스터트롯     영탁       사내   604639   6583      1599   \n",
       "2           2        미스터트롯     영탁      댄싱퀸   828628   7804      1884   \n",
       "3           3        미스터트롯    임영웅      댄싱퀸   828628   7804      1884   \n",
       "4           4        미스터트롯     영탁  막걸리 한 잔  1805978  19675      7231   \n",
       "\n",
       "  atmosphere subject  \n",
       "0         슬픔      인생  \n",
       "1        활기참      인생  \n",
       "2         신남    남녀사랑  \n",
       "3         신남    남녀사랑  \n",
       "4        활기참    부모효도  "
      ]
     },
     "execution_count": 2,
     "metadata": {},
     "output_type": "execute_result"
    }
   ],
   "source": [
    "df = pd.read_csv('join_table_v2.csv')\n",
    "df.head()"
   ]
  },
  {
   "cell_type": "code",
   "execution_count": 3,
   "metadata": {},
   "outputs": [
    {
     "name": "stdout",
     "output_type": "stream",
     "text": [
      "(435, 8)\n"
     ]
    }
   ],
   "source": [
    "df.drop(['Unnamed: 0'], axis=1, inplace=True)\n",
    "print(df.shape)"
   ]
  },
  {
   "cell_type": "code",
   "execution_count": 4,
   "metadata": {},
   "outputs": [
    {
     "data": {
      "text/plain": [
       "program_name    0\n",
       "singer          0\n",
       "music           0\n",
       "views           0\n",
       "likes           0\n",
       "comments        0\n",
       "atmosphere      0\n",
       "subject         0\n",
       "dtype: int64"
      ]
     },
     "execution_count": 4,
     "metadata": {},
     "output_type": "execute_result"
    }
   ],
   "source": [
    "df.isnull().sum()"
   ]
  },
  {
   "cell_type": "code",
   "execution_count": 7,
   "metadata": {},
   "outputs": [
    {
     "data": {
      "text/plain": [
       "0"
      ]
     },
     "execution_count": 7,
     "metadata": {},
     "output_type": "execute_result"
    }
   ],
   "source": [
    "# 중복값 확인\n",
    "df.duplicated().sum()"
   ]
  },
  {
   "cell_type": "code",
   "execution_count": 8,
   "metadata": {},
   "outputs": [
    {
     "data": {
      "text/html": [
       "<div>\n",
       "<style scoped>\n",
       "    .dataframe tbody tr th:only-of-type {\n",
       "        vertical-align: middle;\n",
       "    }\n",
       "\n",
       "    .dataframe tbody tr th {\n",
       "        vertical-align: top;\n",
       "    }\n",
       "\n",
       "    .dataframe thead th {\n",
       "        text-align: right;\n",
       "    }\n",
       "</style>\n",
       "<table border=\"1\" class=\"dataframe\">\n",
       "  <thead>\n",
       "    <tr style=\"text-align: right;\">\n",
       "      <th></th>\n",
       "      <th>program_name</th>\n",
       "      <th>singer</th>\n",
       "      <th>music</th>\n",
       "      <th>views</th>\n",
       "      <th>likes</th>\n",
       "      <th>comments</th>\n",
       "      <th>atmosphere</th>\n",
       "      <th>subject</th>\n",
       "    </tr>\n",
       "  </thead>\n",
       "  <tbody>\n",
       "    <tr>\n",
       "      <th>112</th>\n",
       "      <td>미스트롯1</td>\n",
       "      <td>정다경</td>\n",
       "      <td>한잔해</td>\n",
       "      <td>60525</td>\n",
       "      <td>85</td>\n",
       "      <td>10</td>\n",
       "      <td>신남</td>\n",
       "      <td>희망부여</td>\n",
       "    </tr>\n",
       "  </tbody>\n",
       "</table>\n",
       "</div>"
      ],
      "text/plain": [
       "    program_name singer music  views  likes  comments atmosphere subject\n",
       "112        미스트롯1    정다경   한잔해  60525     85        10         신남    희망부여"
      ]
     },
     "execution_count": 8,
     "metadata": {},
     "output_type": "execute_result"
    }
   ],
   "source": [
    "# 중복값 1개 존재\n",
    "# df[df.duplicated(['singer', 'music'])]"
   ]
  },
  {
   "cell_type": "code",
   "execution_count": 12,
   "metadata": {},
   "outputs": [
    {
     "data": {
      "text/html": [
       "<div>\n",
       "<style scoped>\n",
       "    .dataframe tbody tr th:only-of-type {\n",
       "        vertical-align: middle;\n",
       "    }\n",
       "\n",
       "    .dataframe tbody tr th {\n",
       "        vertical-align: top;\n",
       "    }\n",
       "\n",
       "    .dataframe thead th {\n",
       "        text-align: right;\n",
       "    }\n",
       "</style>\n",
       "<table border=\"1\" class=\"dataframe\">\n",
       "  <thead>\n",
       "    <tr style=\"text-align: right;\">\n",
       "      <th></th>\n",
       "      <th>program_name</th>\n",
       "      <th>singer</th>\n",
       "      <th>music</th>\n",
       "      <th>views</th>\n",
       "      <th>likes</th>\n",
       "      <th>comments</th>\n",
       "      <th>atmosphere</th>\n",
       "      <th>subject</th>\n",
       "    </tr>\n",
       "  </thead>\n",
       "  <tbody>\n",
       "    <tr>\n",
       "      <th>106</th>\n",
       "      <td>미스트롯1</td>\n",
       "      <td>정다경</td>\n",
       "      <td>당신이 좋아</td>\n",
       "      <td>20148</td>\n",
       "      <td>74</td>\n",
       "      <td>7</td>\n",
       "      <td>신남</td>\n",
       "      <td>남녀사랑</td>\n",
       "    </tr>\n",
       "    <tr>\n",
       "      <th>107</th>\n",
       "      <td>미스트롯1</td>\n",
       "      <td>정다경</td>\n",
       "      <td>빨간구두 아가씨</td>\n",
       "      <td>6931</td>\n",
       "      <td>9</td>\n",
       "      <td>1</td>\n",
       "      <td>활기참</td>\n",
       "      <td>남녀사랑</td>\n",
       "    </tr>\n",
       "    <tr>\n",
       "      <th>108</th>\n",
       "      <td>미스트롯1</td>\n",
       "      <td>정다경</td>\n",
       "      <td>열두줄</td>\n",
       "      <td>23337</td>\n",
       "      <td>101</td>\n",
       "      <td>7</td>\n",
       "      <td>신남</td>\n",
       "      <td>남녀사랑</td>\n",
       "    </tr>\n",
       "    <tr>\n",
       "      <th>109</th>\n",
       "      <td>미스트롯1</td>\n",
       "      <td>정다경</td>\n",
       "      <td>벌써 12시</td>\n",
       "      <td>60525</td>\n",
       "      <td>85</td>\n",
       "      <td>10</td>\n",
       "      <td>신남</td>\n",
       "      <td>남녀사랑</td>\n",
       "    </tr>\n",
       "    <tr>\n",
       "      <th>110</th>\n",
       "      <td>미스트롯1</td>\n",
       "      <td>정다경</td>\n",
       "      <td>질풍가도</td>\n",
       "      <td>60525</td>\n",
       "      <td>85</td>\n",
       "      <td>10</td>\n",
       "      <td>신남</td>\n",
       "      <td>희망부여</td>\n",
       "    </tr>\n",
       "    <tr>\n",
       "      <th>111</th>\n",
       "      <td>미스트롯1</td>\n",
       "      <td>정다경</td>\n",
       "      <td>한잔해</td>\n",
       "      <td>34961</td>\n",
       "      <td>46</td>\n",
       "      <td>2</td>\n",
       "      <td>신남</td>\n",
       "      <td>희망부여</td>\n",
       "    </tr>\n",
       "    <tr>\n",
       "      <th>113</th>\n",
       "      <td>미스트롯1</td>\n",
       "      <td>정다경</td>\n",
       "      <td>내가 저지른 사랑</td>\n",
       "      <td>48417</td>\n",
       "      <td>113</td>\n",
       "      <td>43</td>\n",
       "      <td>씁쓸함</td>\n",
       "      <td>남녀사랑</td>\n",
       "    </tr>\n",
       "    <tr>\n",
       "      <th>114</th>\n",
       "      <td>미스트롯1</td>\n",
       "      <td>정다경</td>\n",
       "      <td>가슴 아프게</td>\n",
       "      <td>63500</td>\n",
       "      <td>218</td>\n",
       "      <td>42</td>\n",
       "      <td>애절함</td>\n",
       "      <td>남녀사랑</td>\n",
       "    </tr>\n",
       "    <tr>\n",
       "      <th>115</th>\n",
       "      <td>미스트롯1</td>\n",
       "      <td>정다경</td>\n",
       "      <td>미워도 다시 한번</td>\n",
       "      <td>38307</td>\n",
       "      <td>99</td>\n",
       "      <td>34</td>\n",
       "      <td>애절함</td>\n",
       "      <td>남녀사랑</td>\n",
       "    </tr>\n",
       "    <tr>\n",
       "      <th>116</th>\n",
       "      <td>미스트롯1</td>\n",
       "      <td>정다경</td>\n",
       "      <td>사랑의 신호등</td>\n",
       "      <td>58212</td>\n",
       "      <td>212</td>\n",
       "      <td>34</td>\n",
       "      <td>신남</td>\n",
       "      <td>남녀사랑</td>\n",
       "    </tr>\n",
       "    <tr>\n",
       "      <th>117</th>\n",
       "      <td>미스트롯1</td>\n",
       "      <td>정다경</td>\n",
       "      <td>약손</td>\n",
       "      <td>100237</td>\n",
       "      <td>418</td>\n",
       "      <td>87</td>\n",
       "      <td>슬픔</td>\n",
       "      <td>부모효도</td>\n",
       "    </tr>\n",
       "  </tbody>\n",
       "</table>\n",
       "</div>"
      ],
      "text/plain": [
       "    program_name singer      music   views  likes  comments atmosphere subject\n",
       "106        미스트롯1    정다경     당신이 좋아   20148     74         7         신남    남녀사랑\n",
       "107        미스트롯1    정다경   빨간구두 아가씨    6931      9         1        활기참    남녀사랑\n",
       "108        미스트롯1    정다경        열두줄   23337    101         7         신남    남녀사랑\n",
       "109        미스트롯1    정다경     벌써 12시   60525     85        10         신남    남녀사랑\n",
       "110        미스트롯1    정다경       질풍가도   60525     85        10         신남    희망부여\n",
       "111        미스트롯1    정다경        한잔해   34961     46         2         신남    희망부여\n",
       "113        미스트롯1    정다경  내가 저지른 사랑   48417    113        43        씁쓸함    남녀사랑\n",
       "114        미스트롯1    정다경     가슴 아프게   63500    218        42        애절함    남녀사랑\n",
       "115        미스트롯1    정다경  미워도 다시 한번   38307     99        34        애절함    남녀사랑\n",
       "116        미스트롯1    정다경    사랑의 신호등   58212    212        34         신남    남녀사랑\n",
       "117        미스트롯1    정다경         약손  100237    418        87         슬픔    부모효도"
      ]
     },
     "execution_count": 12,
     "metadata": {},
     "output_type": "execute_result"
    }
   ],
   "source": [
    "# df.drop_duplicates(['singer', 'music'], keep='first', inplace=True)\n",
    "# df[df['singer'] == '정다경']"
   ]
  },
  {
   "cell_type": "code",
   "execution_count": 14,
   "metadata": {},
   "outputs": [],
   "source": [
    "#df.to_csv('join_table_final.csv', encoding='utf-8-sig')"
   ]
  },
  {
   "cell_type": "markdown",
   "metadata": {},
   "source": [
    "# 감정, 주제 라벨링"
   ]
  },
  {
   "cell_type": "code",
   "execution_count": 3,
   "metadata": {},
   "outputs": [
    {
     "data": {
      "text/html": [
       "<div>\n",
       "<style scoped>\n",
       "    .dataframe tbody tr th:only-of-type {\n",
       "        vertical-align: middle;\n",
       "    }\n",
       "\n",
       "    .dataframe tbody tr th {\n",
       "        vertical-align: top;\n",
       "    }\n",
       "\n",
       "    .dataframe thead th {\n",
       "        text-align: right;\n",
       "    }\n",
       "</style>\n",
       "<table border=\"1\" class=\"dataframe\">\n",
       "  <thead>\n",
       "    <tr style=\"text-align: right;\">\n",
       "      <th></th>\n",
       "      <th>program_name</th>\n",
       "      <th>singer</th>\n",
       "      <th>music</th>\n",
       "      <th>views</th>\n",
       "      <th>likes</th>\n",
       "      <th>comments</th>\n",
       "      <th>atmosphere</th>\n",
       "      <th>subject</th>\n",
       "    </tr>\n",
       "  </thead>\n",
       "  <tbody>\n",
       "    <tr>\n",
       "      <th>0</th>\n",
       "      <td>미스터트롯</td>\n",
       "      <td>임영웅</td>\n",
       "      <td>바램</td>\n",
       "      <td>2223366</td>\n",
       "      <td>22906</td>\n",
       "      <td>4689</td>\n",
       "      <td>슬픔</td>\n",
       "      <td>인생</td>\n",
       "    </tr>\n",
       "    <tr>\n",
       "      <th>1</th>\n",
       "      <td>미스터트롯</td>\n",
       "      <td>영탁</td>\n",
       "      <td>사내</td>\n",
       "      <td>604639</td>\n",
       "      <td>6583</td>\n",
       "      <td>1599</td>\n",
       "      <td>활기참</td>\n",
       "      <td>인생</td>\n",
       "    </tr>\n",
       "    <tr>\n",
       "      <th>2</th>\n",
       "      <td>미스터트롯</td>\n",
       "      <td>영탁</td>\n",
       "      <td>댄싱퀸</td>\n",
       "      <td>828628</td>\n",
       "      <td>7804</td>\n",
       "      <td>1884</td>\n",
       "      <td>신남</td>\n",
       "      <td>남녀사랑</td>\n",
       "    </tr>\n",
       "    <tr>\n",
       "      <th>3</th>\n",
       "      <td>미스터트롯</td>\n",
       "      <td>임영웅</td>\n",
       "      <td>댄싱퀸</td>\n",
       "      <td>828628</td>\n",
       "      <td>7804</td>\n",
       "      <td>1884</td>\n",
       "      <td>신남</td>\n",
       "      <td>남녀사랑</td>\n",
       "    </tr>\n",
       "    <tr>\n",
       "      <th>4</th>\n",
       "      <td>미스터트롯</td>\n",
       "      <td>영탁</td>\n",
       "      <td>막걸리 한 잔</td>\n",
       "      <td>1805978</td>\n",
       "      <td>19675</td>\n",
       "      <td>7231</td>\n",
       "      <td>활기참</td>\n",
       "      <td>부모효도</td>\n",
       "    </tr>\n",
       "  </tbody>\n",
       "</table>\n",
       "</div>"
      ],
      "text/plain": [
       "  program_name singer    music    views  likes  comments atmosphere subject\n",
       "0        미스터트롯    임영웅       바램  2223366  22906      4689         슬픔      인생\n",
       "1        미스터트롯     영탁       사내   604639   6583      1599        활기참      인생\n",
       "2        미스터트롯     영탁      댄싱퀸   828628   7804      1884         신남    남녀사랑\n",
       "3        미스터트롯    임영웅      댄싱퀸   828628   7804      1884         신남    남녀사랑\n",
       "4        미스터트롯     영탁  막걸리 한 잔  1805978  19675      7231        활기참    부모효도"
      ]
     },
     "execution_count": 3,
     "metadata": {},
     "output_type": "execute_result"
    }
   ],
   "source": [
    "df = pd.read_csv('join_table_final.csv')\n",
    "df.drop(['Unnamed: 0'], axis=1, inplace=True)\n",
    "df.head()"
   ]
  },
  {
   "cell_type": "code",
   "execution_count": 8,
   "metadata": {},
   "outputs": [],
   "source": [
    "from sklearn.preprocessing import LabelEncoder\n",
    "encoder = LabelEncoder()\n",
    "encoder.fit(df['atmosphere'])\n",
    "df['atmos_label'] = encoder.transform(df['atmosphere'])"
   ]
  },
  {
   "cell_type": "code",
   "execution_count": 9,
   "metadata": {},
   "outputs": [
    {
     "data": {
      "text/plain": [
       "{0: '기쁨', 1: '슬픔', 2: '신남', 3: '씁쓸함', 4: '애절함', 5: '어두움', 6: '활기참'}"
      ]
     },
     "execution_count": 9,
     "metadata": {},
     "output_type": "execute_result"
    }
   ],
   "source": [
    "mapping = dict(zip(range(len(encoder.classes_)), encoder.classes_))\n",
    "mapping"
   ]
  },
  {
   "cell_type": "code",
   "execution_count": 10,
   "metadata": {},
   "outputs": [],
   "source": [
    "encoder = LabelEncoder()\n",
    "encoder.fit(df['subject'])\n",
    "df['sub_label'] = encoder.transform(df['subject'])"
   ]
  },
  {
   "cell_type": "code",
   "execution_count": 11,
   "metadata": {},
   "outputs": [
    {
     "data": {
      "text/plain": [
       "{0: '과거역경', 1: '기타', 2: '남녀사랑', 3: '부모효도', 4: '인생', 5: '희망부여'}"
      ]
     },
     "execution_count": 11,
     "metadata": {},
     "output_type": "execute_result"
    }
   ],
   "source": [
    "mapping = dict(zip(range(len(encoder.classes_)), encoder.classes_))\n",
    "mapping"
   ]
  },
  {
   "cell_type": "code",
   "execution_count": 12,
   "metadata": {},
   "outputs": [
    {
     "data": {
      "text/html": [
       "<div>\n",
       "<style scoped>\n",
       "    .dataframe tbody tr th:only-of-type {\n",
       "        vertical-align: middle;\n",
       "    }\n",
       "\n",
       "    .dataframe tbody tr th {\n",
       "        vertical-align: top;\n",
       "    }\n",
       "\n",
       "    .dataframe thead th {\n",
       "        text-align: right;\n",
       "    }\n",
       "</style>\n",
       "<table border=\"1\" class=\"dataframe\">\n",
       "  <thead>\n",
       "    <tr style=\"text-align: right;\">\n",
       "      <th></th>\n",
       "      <th>program_name</th>\n",
       "      <th>singer</th>\n",
       "      <th>music</th>\n",
       "      <th>views</th>\n",
       "      <th>likes</th>\n",
       "      <th>comments</th>\n",
       "      <th>atmosphere</th>\n",
       "      <th>subject</th>\n",
       "      <th>atmos_label</th>\n",
       "      <th>sub_label</th>\n",
       "    </tr>\n",
       "  </thead>\n",
       "  <tbody>\n",
       "    <tr>\n",
       "      <th>0</th>\n",
       "      <td>미스터트롯</td>\n",
       "      <td>임영웅</td>\n",
       "      <td>바램</td>\n",
       "      <td>2223366</td>\n",
       "      <td>22906</td>\n",
       "      <td>4689</td>\n",
       "      <td>슬픔</td>\n",
       "      <td>인생</td>\n",
       "      <td>1</td>\n",
       "      <td>4</td>\n",
       "    </tr>\n",
       "    <tr>\n",
       "      <th>1</th>\n",
       "      <td>미스터트롯</td>\n",
       "      <td>영탁</td>\n",
       "      <td>사내</td>\n",
       "      <td>604639</td>\n",
       "      <td>6583</td>\n",
       "      <td>1599</td>\n",
       "      <td>활기참</td>\n",
       "      <td>인생</td>\n",
       "      <td>6</td>\n",
       "      <td>4</td>\n",
       "    </tr>\n",
       "    <tr>\n",
       "      <th>2</th>\n",
       "      <td>미스터트롯</td>\n",
       "      <td>영탁</td>\n",
       "      <td>댄싱퀸</td>\n",
       "      <td>828628</td>\n",
       "      <td>7804</td>\n",
       "      <td>1884</td>\n",
       "      <td>신남</td>\n",
       "      <td>남녀사랑</td>\n",
       "      <td>2</td>\n",
       "      <td>2</td>\n",
       "    </tr>\n",
       "    <tr>\n",
       "      <th>3</th>\n",
       "      <td>미스터트롯</td>\n",
       "      <td>임영웅</td>\n",
       "      <td>댄싱퀸</td>\n",
       "      <td>828628</td>\n",
       "      <td>7804</td>\n",
       "      <td>1884</td>\n",
       "      <td>신남</td>\n",
       "      <td>남녀사랑</td>\n",
       "      <td>2</td>\n",
       "      <td>2</td>\n",
       "    </tr>\n",
       "    <tr>\n",
       "      <th>4</th>\n",
       "      <td>미스터트롯</td>\n",
       "      <td>영탁</td>\n",
       "      <td>막걸리 한 잔</td>\n",
       "      <td>1805978</td>\n",
       "      <td>19675</td>\n",
       "      <td>7231</td>\n",
       "      <td>활기참</td>\n",
       "      <td>부모효도</td>\n",
       "      <td>6</td>\n",
       "      <td>3</td>\n",
       "    </tr>\n",
       "  </tbody>\n",
       "</table>\n",
       "</div>"
      ],
      "text/plain": [
       "  program_name singer    music    views  likes  comments atmosphere subject  \\\n",
       "0        미스터트롯    임영웅       바램  2223366  22906      4689         슬픔      인생   \n",
       "1        미스터트롯     영탁       사내   604639   6583      1599        활기참      인생   \n",
       "2        미스터트롯     영탁      댄싱퀸   828628   7804      1884         신남    남녀사랑   \n",
       "3        미스터트롯    임영웅      댄싱퀸   828628   7804      1884         신남    남녀사랑   \n",
       "4        미스터트롯     영탁  막걸리 한 잔  1805978  19675      7231        활기참    부모효도   \n",
       "\n",
       "   atmos_label  sub_label  \n",
       "0            1          4  \n",
       "1            6          4  \n",
       "2            2          2  \n",
       "3            2          2  \n",
       "4            6          3  "
      ]
     },
     "execution_count": 12,
     "metadata": {},
     "output_type": "execute_result"
    }
   ],
   "source": [
    "df.head()"
   ]
  },
  {
   "cell_type": "code",
   "execution_count": 13,
   "metadata": {},
   "outputs": [],
   "source": [
    "df.to_csv('join_table.csv', encoding='utf-8-sig')"
   ]
  },
  {
   "cell_type": "code",
   "execution_count": null,
   "metadata": {},
   "outputs": [],
   "source": []
  }
 ],
 "metadata": {
  "kernelspec": {
   "display_name": "Python 3",
   "language": "python",
   "name": "python3"
  },
  "language_info": {
   "codemirror_mode": {
    "name": "ipython",
    "version": 3
   },
   "file_extension": ".py",
   "mimetype": "text/x-python",
   "name": "python",
   "nbconvert_exporter": "python",
   "pygments_lexer": "ipython3",
   "version": "3.7.3"
  }
 },
 "nbformat": 4,
 "nbformat_minor": 4
}
