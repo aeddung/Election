{
  "nbformat": 4,
  "nbformat_minor": 0,
  "metadata": {
    "colab": {
      "name": "prediction_Demo.ipynb",
      "provenance": [],
      "collapsed_sections": []
    },
    "kernelspec": {
      "name": "python3",
      "display_name": "Python 3"
    },
    "language_info": {
      "name": "python"
    },
    "accelerator": "GPU"
  },
  "cells": [
    {
      "cell_type": "markdown",
      "metadata": {
        "id": "TwRQEg2e5OqI"
      },
      "source": [
        "# 주어진 기간에 마지막으로 거래된 가격(종가)를 예측"
      ]
    },
    {
      "cell_type": "code",
      "metadata": {
        "colab": {
          "base_uri": "https://localhost:8080/"
        },
        "id": "zeuhV6US3rso",
        "outputId": "7bcdd1c5-730e-4479-fd8a-4264ae61a815"
      },
      "source": [
        "!pip install -q finance-datareader"
      ],
      "execution_count": 1,
      "outputs": [
        {
          "output_type": "stream",
          "name": "stdout",
          "text": [
            "Collecting finance-datareader\n",
            "  Downloading finance_datareader-0.9.31-py3-none-any.whl (17 kB)\n",
            "Requirement already satisfied: requests>=2.3.0 in /usr/local/lib/python3.7/dist-packages (from finance-datareader) (2.23.0)\n",
            "Requirement already satisfied: pandas>=0.19.2 in /usr/local/lib/python3.7/dist-packages (from finance-datareader) (1.1.5)\n",
            "Requirement already satisfied: lxml in /usr/local/lib/python3.7/dist-packages (from finance-datareader) (4.2.6)\n",
            "Requirement already satisfied: tqdm in /usr/local/lib/python3.7/dist-packages (from finance-datareader) (4.62.3)\n",
            "Collecting requests-file\n",
            "  Downloading requests_file-1.5.1-py2.py3-none-any.whl (3.7 kB)\n",
            "Requirement already satisfied: python-dateutil>=2.7.3 in /usr/local/lib/python3.7/dist-packages (from pandas>=0.19.2->finance-datareader) (2.8.2)\n",
            "Requirement already satisfied: numpy>=1.15.4 in /usr/local/lib/python3.7/dist-packages (from pandas>=0.19.2->finance-datareader) (1.19.5)\n",
            "Requirement already satisfied: pytz>=2017.2 in /usr/local/lib/python3.7/dist-packages (from pandas>=0.19.2->finance-datareader) (2018.9)\n",
            "Requirement already satisfied: six>=1.5 in /usr/local/lib/python3.7/dist-packages (from python-dateutil>=2.7.3->pandas>=0.19.2->finance-datareader) (1.15.0)\n",
            "Requirement already satisfied: urllib3!=1.25.0,!=1.25.1,<1.26,>=1.21.1 in /usr/local/lib/python3.7/dist-packages (from requests>=2.3.0->finance-datareader) (1.24.3)\n",
            "Requirement already satisfied: certifi>=2017.4.17 in /usr/local/lib/python3.7/dist-packages (from requests>=2.3.0->finance-datareader) (2021.10.8)\n",
            "Requirement already satisfied: idna<3,>=2.5 in /usr/local/lib/python3.7/dist-packages (from requests>=2.3.0->finance-datareader) (2.10)\n",
            "Requirement already satisfied: chardet<4,>=3.0.2 in /usr/local/lib/python3.7/dist-packages (from requests>=2.3.0->finance-datareader) (3.0.4)\n",
            "Installing collected packages: requests-file, finance-datareader\n",
            "Successfully installed finance-datareader-0.9.31 requests-file-1.5.1\n"
          ]
        }
      ]
    },
    {
      "cell_type": "code",
      "metadata": {
        "id": "w3-aQgbgbv0h"
      },
      "source": [
        "!pip install -q OpenDartReader"
      ],
      "execution_count": 2,
      "outputs": []
    },
    {
      "cell_type": "code",
      "metadata": {
        "id": "yg9NksnKw8G_"
      },
      "source": [
        "import warnings\n",
        "warnings.filterwarnings(action='ignore')"
      ],
      "execution_count": 3,
      "outputs": []
    },
    {
      "cell_type": "code",
      "metadata": {
        "id": "ArxLQP7731iJ"
      },
      "source": [
        "import pandas as pd\n",
        "import numpy as np\n",
        "import os\n",
        "import FinanceDataReader as fdr\n",
        "import OpenDartReader\n",
        "\n",
        "from tqdm import tqdm"
      ],
      "execution_count": 4,
      "outputs": []
    },
    {
      "cell_type": "code",
      "metadata": {
        "id": "9suhMTISX-I3"
      },
      "source": [
        "import matplotlib.pyplot as plt\n",
        "%matplotlib inline\n",
        "\n",
        "import seaborn as sns\n",
        "import datetime"
      ],
      "execution_count": 5,
      "outputs": []
    },
    {
      "cell_type": "code",
      "metadata": {
        "colab": {
          "base_uri": "https://localhost:8080/"
        },
        "id": "RVOSKIY43_AE",
        "outputId": "f654b697-7475-4727-bdef-b63f297a73bc"
      },
      "source": [
        "from google.colab import drive\n",
        "drive.mount('/content/drive')"
      ],
      "execution_count": 6,
      "outputs": [
        {
          "output_type": "stream",
          "name": "stdout",
          "text": [
            "Mounted at /content/drive\n"
          ]
        }
      ]
    },
    {
      "cell_type": "code",
      "metadata": {
        "colab": {
          "base_uri": "https://localhost:8080/",
          "height": 420
        },
        "id": "h930F0dq36N8",
        "outputId": "d20646cb-f24d-4d8d-e9e2-aad52d075517"
      },
      "source": [
        "path = '/content/drive/My Drive/Colab Notebooks/dacon/주식 종료 가격 예측/'\n",
        "stock_list = pd.read_csv(path + 'open/stock_list.csv')\n",
        "stock_list['종목코드'] = stock_list['종목코드'].apply(lambda x : str(x).zfill(6)) # zfill(n): n자리를 기준으로 모자른 자리는 0으로 채움 ex) 원본 데이터가 12라면 000012로 변환\n",
        "stock_list"
      ],
      "execution_count": 7,
      "outputs": [
        {
          "output_type": "execute_result",
          "data": {
            "text/html": [
              "<div>\n",
              "<style scoped>\n",
              "    .dataframe tbody tr th:only-of-type {\n",
              "        vertical-align: middle;\n",
              "    }\n",
              "\n",
              "    .dataframe tbody tr th {\n",
              "        vertical-align: top;\n",
              "    }\n",
              "\n",
              "    .dataframe thead th {\n",
              "        text-align: right;\n",
              "    }\n",
              "</style>\n",
              "<table border=\"1\" class=\"dataframe\">\n",
              "  <thead>\n",
              "    <tr style=\"text-align: right;\">\n",
              "      <th></th>\n",
              "      <th>종목명</th>\n",
              "      <th>종목코드</th>\n",
              "      <th>상장시장</th>\n",
              "    </tr>\n",
              "  </thead>\n",
              "  <tbody>\n",
              "    <tr>\n",
              "      <th>0</th>\n",
              "      <td>삼성전자</td>\n",
              "      <td>005930</td>\n",
              "      <td>KOSPI</td>\n",
              "    </tr>\n",
              "    <tr>\n",
              "      <th>1</th>\n",
              "      <td>SK하이닉스</td>\n",
              "      <td>000660</td>\n",
              "      <td>KOSPI</td>\n",
              "    </tr>\n",
              "    <tr>\n",
              "      <th>2</th>\n",
              "      <td>NAVER</td>\n",
              "      <td>035420</td>\n",
              "      <td>KOSPI</td>\n",
              "    </tr>\n",
              "    <tr>\n",
              "      <th>3</th>\n",
              "      <td>카카오</td>\n",
              "      <td>035720</td>\n",
              "      <td>KOSPI</td>\n",
              "    </tr>\n",
              "    <tr>\n",
              "      <th>4</th>\n",
              "      <td>삼성바이오로직스</td>\n",
              "      <td>207940</td>\n",
              "      <td>KOSPI</td>\n",
              "    </tr>\n",
              "    <tr>\n",
              "      <th>...</th>\n",
              "      <td>...</td>\n",
              "      <td>...</td>\n",
              "      <td>...</td>\n",
              "    </tr>\n",
              "    <tr>\n",
              "      <th>365</th>\n",
              "      <td>맘스터치</td>\n",
              "      <td>220630</td>\n",
              "      <td>KOSDAQ</td>\n",
              "    </tr>\n",
              "    <tr>\n",
              "      <th>366</th>\n",
              "      <td>다날</td>\n",
              "      <td>064260</td>\n",
              "      <td>KOSDAQ</td>\n",
              "    </tr>\n",
              "    <tr>\n",
              "      <th>367</th>\n",
              "      <td>제이시스메디칼</td>\n",
              "      <td>287410</td>\n",
              "      <td>KOSDAQ</td>\n",
              "    </tr>\n",
              "    <tr>\n",
              "      <th>368</th>\n",
              "      <td>크리스에프앤씨</td>\n",
              "      <td>110790</td>\n",
              "      <td>KOSDAQ</td>\n",
              "    </tr>\n",
              "    <tr>\n",
              "      <th>369</th>\n",
              "      <td>쎄트렉아이</td>\n",
              "      <td>099320</td>\n",
              "      <td>KOSDAQ</td>\n",
              "    </tr>\n",
              "  </tbody>\n",
              "</table>\n",
              "<p>370 rows × 3 columns</p>\n",
              "</div>"
            ],
            "text/plain": [
              "          종목명    종목코드    상장시장\n",
              "0        삼성전자  005930   KOSPI\n",
              "1      SK하이닉스  000660   KOSPI\n",
              "2       NAVER  035420   KOSPI\n",
              "3         카카오  035720   KOSPI\n",
              "4    삼성바이오로직스  207940   KOSPI\n",
              "..        ...     ...     ...\n",
              "365      맘스터치  220630  KOSDAQ\n",
              "366        다날  064260  KOSDAQ\n",
              "367   제이시스메디칼  287410  KOSDAQ\n",
              "368   크리스에프앤씨  110790  KOSDAQ\n",
              "369     쎄트렉아이  099320  KOSDAQ\n",
              "\n",
              "[370 rows x 3 columns]"
            ]
          },
          "metadata": {},
          "execution_count": 7
        }
      ]
    },
    {
      "cell_type": "code",
      "metadata": {
        "colab": {
          "base_uri": "https://localhost:8080/",
          "height": 597
        },
        "id": "BzsAm-v0Dq8N",
        "outputId": "e5383d04-0b3b-4ab8-e719-224697cf95ab"
      },
      "source": [
        "# 제출코드 형태 확인 -> 컬럼들이 \"종목코드\"로 이루어짐, 즉 모든 종목코드의 종가를 예측하는 것\n",
        "submission = pd.read_csv(path + 'open/sample_submission.csv')\n",
        "print(submission.shape)\n",
        "submission # 2021-11-01 ~ 2021-11-05 / 2021-11-29 ~ 2021-12-03"
      ],
      "execution_count": 8,
      "outputs": [
        {
          "output_type": "stream",
          "name": "stdout",
          "text": [
            "(10, 371)\n"
          ]
        },
        {
          "output_type": "execute_result",
          "data": {
            "text/html": [
              "<div>\n",
              "<style scoped>\n",
              "    .dataframe tbody tr th:only-of-type {\n",
              "        vertical-align: middle;\n",
              "    }\n",
              "\n",
              "    .dataframe tbody tr th {\n",
              "        vertical-align: top;\n",
              "    }\n",
              "\n",
              "    .dataframe thead th {\n",
              "        text-align: right;\n",
              "    }\n",
              "</style>\n",
              "<table border=\"1\" class=\"dataframe\">\n",
              "  <thead>\n",
              "    <tr style=\"text-align: right;\">\n",
              "      <th></th>\n",
              "      <th>Day</th>\n",
              "      <th>000060</th>\n",
              "      <th>000080</th>\n",
              "      <th>000100</th>\n",
              "      <th>000120</th>\n",
              "      <th>000150</th>\n",
              "      <th>000240</th>\n",
              "      <th>000250</th>\n",
              "      <th>000270</th>\n",
              "      <th>000660</th>\n",
              "      <th>000670</th>\n",
              "      <th>000720</th>\n",
              "      <th>000810</th>\n",
              "      <th>000880</th>\n",
              "      <th>000990</th>\n",
              "      <th>001230</th>\n",
              "      <th>001440</th>\n",
              "      <th>001450</th>\n",
              "      <th>001740</th>\n",
              "      <th>002380</th>\n",
              "      <th>002790</th>\n",
              "      <th>003000</th>\n",
              "      <th>003090</th>\n",
              "      <th>003380</th>\n",
              "      <th>003410</th>\n",
              "      <th>003490</th>\n",
              "      <th>003670</th>\n",
              "      <th>003800</th>\n",
              "      <th>004000</th>\n",
              "      <th>004020</th>\n",
              "      <th>004170</th>\n",
              "      <th>004370</th>\n",
              "      <th>004490</th>\n",
              "      <th>004800</th>\n",
              "      <th>004990</th>\n",
              "      <th>005250</th>\n",
              "      <th>005290</th>\n",
              "      <th>005300</th>\n",
              "      <th>005380</th>\n",
              "      <th>005385</th>\n",
              "      <th>...</th>\n",
              "      <th>272290</th>\n",
              "      <th>273130</th>\n",
              "      <th>278280</th>\n",
              "      <th>278530</th>\n",
              "      <th>282330</th>\n",
              "      <th>285130</th>\n",
              "      <th>287410</th>\n",
              "      <th>290510</th>\n",
              "      <th>290650</th>\n",
              "      <th>292150</th>\n",
              "      <th>293490</th>\n",
              "      <th>293780</th>\n",
              "      <th>294090</th>\n",
              "      <th>294870</th>\n",
              "      <th>298000</th>\n",
              "      <th>298020</th>\n",
              "      <th>298050</th>\n",
              "      <th>298380</th>\n",
              "      <th>299030</th>\n",
              "      <th>299660</th>\n",
              "      <th>299900</th>\n",
              "      <th>307950</th>\n",
              "      <th>314130</th>\n",
              "      <th>316140</th>\n",
              "      <th>319400</th>\n",
              "      <th>319660</th>\n",
              "      <th>321550</th>\n",
              "      <th>323990</th>\n",
              "      <th>326030</th>\n",
              "      <th>330590</th>\n",
              "      <th>330860</th>\n",
              "      <th>336260</th>\n",
              "      <th>336370</th>\n",
              "      <th>347860</th>\n",
              "      <th>348150</th>\n",
              "      <th>348210</th>\n",
              "      <th>352820</th>\n",
              "      <th>357780</th>\n",
              "      <th>363280</th>\n",
              "      <th>950130</th>\n",
              "    </tr>\n",
              "  </thead>\n",
              "  <tbody>\n",
              "    <tr>\n",
              "      <th>0</th>\n",
              "      <td>2021-11-01</td>\n",
              "      <td>0</td>\n",
              "      <td>0</td>\n",
              "      <td>0</td>\n",
              "      <td>0</td>\n",
              "      <td>0</td>\n",
              "      <td>0</td>\n",
              "      <td>0</td>\n",
              "      <td>0</td>\n",
              "      <td>0</td>\n",
              "      <td>0</td>\n",
              "      <td>0</td>\n",
              "      <td>0</td>\n",
              "      <td>0</td>\n",
              "      <td>0</td>\n",
              "      <td>0</td>\n",
              "      <td>0</td>\n",
              "      <td>0</td>\n",
              "      <td>0</td>\n",
              "      <td>0</td>\n",
              "      <td>0</td>\n",
              "      <td>0</td>\n",
              "      <td>0</td>\n",
              "      <td>0</td>\n",
              "      <td>0</td>\n",
              "      <td>0</td>\n",
              "      <td>0</td>\n",
              "      <td>0</td>\n",
              "      <td>0</td>\n",
              "      <td>0</td>\n",
              "      <td>0</td>\n",
              "      <td>0</td>\n",
              "      <td>0</td>\n",
              "      <td>0</td>\n",
              "      <td>0</td>\n",
              "      <td>0</td>\n",
              "      <td>0</td>\n",
              "      <td>0</td>\n",
              "      <td>0</td>\n",
              "      <td>0</td>\n",
              "      <td>...</td>\n",
              "      <td>0</td>\n",
              "      <td>0</td>\n",
              "      <td>0</td>\n",
              "      <td>0</td>\n",
              "      <td>0</td>\n",
              "      <td>0</td>\n",
              "      <td>0</td>\n",
              "      <td>0</td>\n",
              "      <td>0</td>\n",
              "      <td>0</td>\n",
              "      <td>0</td>\n",
              "      <td>0</td>\n",
              "      <td>0</td>\n",
              "      <td>0</td>\n",
              "      <td>0</td>\n",
              "      <td>0</td>\n",
              "      <td>0</td>\n",
              "      <td>0</td>\n",
              "      <td>0</td>\n",
              "      <td>0</td>\n",
              "      <td>0</td>\n",
              "      <td>0</td>\n",
              "      <td>0</td>\n",
              "      <td>0</td>\n",
              "      <td>0</td>\n",
              "      <td>0</td>\n",
              "      <td>0</td>\n",
              "      <td>0</td>\n",
              "      <td>0</td>\n",
              "      <td>0</td>\n",
              "      <td>0</td>\n",
              "      <td>0</td>\n",
              "      <td>0</td>\n",
              "      <td>0</td>\n",
              "      <td>0</td>\n",
              "      <td>0</td>\n",
              "      <td>0</td>\n",
              "      <td>0</td>\n",
              "      <td>0</td>\n",
              "      <td>0</td>\n",
              "    </tr>\n",
              "    <tr>\n",
              "      <th>1</th>\n",
              "      <td>2021-11-02</td>\n",
              "      <td>0</td>\n",
              "      <td>0</td>\n",
              "      <td>0</td>\n",
              "      <td>0</td>\n",
              "      <td>0</td>\n",
              "      <td>0</td>\n",
              "      <td>0</td>\n",
              "      <td>0</td>\n",
              "      <td>0</td>\n",
              "      <td>0</td>\n",
              "      <td>0</td>\n",
              "      <td>0</td>\n",
              "      <td>0</td>\n",
              "      <td>0</td>\n",
              "      <td>0</td>\n",
              "      <td>0</td>\n",
              "      <td>0</td>\n",
              "      <td>0</td>\n",
              "      <td>0</td>\n",
              "      <td>0</td>\n",
              "      <td>0</td>\n",
              "      <td>0</td>\n",
              "      <td>0</td>\n",
              "      <td>0</td>\n",
              "      <td>0</td>\n",
              "      <td>0</td>\n",
              "      <td>0</td>\n",
              "      <td>0</td>\n",
              "      <td>0</td>\n",
              "      <td>0</td>\n",
              "      <td>0</td>\n",
              "      <td>0</td>\n",
              "      <td>0</td>\n",
              "      <td>0</td>\n",
              "      <td>0</td>\n",
              "      <td>0</td>\n",
              "      <td>0</td>\n",
              "      <td>0</td>\n",
              "      <td>0</td>\n",
              "      <td>...</td>\n",
              "      <td>0</td>\n",
              "      <td>0</td>\n",
              "      <td>0</td>\n",
              "      <td>0</td>\n",
              "      <td>0</td>\n",
              "      <td>0</td>\n",
              "      <td>0</td>\n",
              "      <td>0</td>\n",
              "      <td>0</td>\n",
              "      <td>0</td>\n",
              "      <td>0</td>\n",
              "      <td>0</td>\n",
              "      <td>0</td>\n",
              "      <td>0</td>\n",
              "      <td>0</td>\n",
              "      <td>0</td>\n",
              "      <td>0</td>\n",
              "      <td>0</td>\n",
              "      <td>0</td>\n",
              "      <td>0</td>\n",
              "      <td>0</td>\n",
              "      <td>0</td>\n",
              "      <td>0</td>\n",
              "      <td>0</td>\n",
              "      <td>0</td>\n",
              "      <td>0</td>\n",
              "      <td>0</td>\n",
              "      <td>0</td>\n",
              "      <td>0</td>\n",
              "      <td>0</td>\n",
              "      <td>0</td>\n",
              "      <td>0</td>\n",
              "      <td>0</td>\n",
              "      <td>0</td>\n",
              "      <td>0</td>\n",
              "      <td>0</td>\n",
              "      <td>0</td>\n",
              "      <td>0</td>\n",
              "      <td>0</td>\n",
              "      <td>0</td>\n",
              "    </tr>\n",
              "    <tr>\n",
              "      <th>2</th>\n",
              "      <td>2021-11-03</td>\n",
              "      <td>0</td>\n",
              "      <td>0</td>\n",
              "      <td>0</td>\n",
              "      <td>0</td>\n",
              "      <td>0</td>\n",
              "      <td>0</td>\n",
              "      <td>0</td>\n",
              "      <td>0</td>\n",
              "      <td>0</td>\n",
              "      <td>0</td>\n",
              "      <td>0</td>\n",
              "      <td>0</td>\n",
              "      <td>0</td>\n",
              "      <td>0</td>\n",
              "      <td>0</td>\n",
              "      <td>0</td>\n",
              "      <td>0</td>\n",
              "      <td>0</td>\n",
              "      <td>0</td>\n",
              "      <td>0</td>\n",
              "      <td>0</td>\n",
              "      <td>0</td>\n",
              "      <td>0</td>\n",
              "      <td>0</td>\n",
              "      <td>0</td>\n",
              "      <td>0</td>\n",
              "      <td>0</td>\n",
              "      <td>0</td>\n",
              "      <td>0</td>\n",
              "      <td>0</td>\n",
              "      <td>0</td>\n",
              "      <td>0</td>\n",
              "      <td>0</td>\n",
              "      <td>0</td>\n",
              "      <td>0</td>\n",
              "      <td>0</td>\n",
              "      <td>0</td>\n",
              "      <td>0</td>\n",
              "      <td>0</td>\n",
              "      <td>...</td>\n",
              "      <td>0</td>\n",
              "      <td>0</td>\n",
              "      <td>0</td>\n",
              "      <td>0</td>\n",
              "      <td>0</td>\n",
              "      <td>0</td>\n",
              "      <td>0</td>\n",
              "      <td>0</td>\n",
              "      <td>0</td>\n",
              "      <td>0</td>\n",
              "      <td>0</td>\n",
              "      <td>0</td>\n",
              "      <td>0</td>\n",
              "      <td>0</td>\n",
              "      <td>0</td>\n",
              "      <td>0</td>\n",
              "      <td>0</td>\n",
              "      <td>0</td>\n",
              "      <td>0</td>\n",
              "      <td>0</td>\n",
              "      <td>0</td>\n",
              "      <td>0</td>\n",
              "      <td>0</td>\n",
              "      <td>0</td>\n",
              "      <td>0</td>\n",
              "      <td>0</td>\n",
              "      <td>0</td>\n",
              "      <td>0</td>\n",
              "      <td>0</td>\n",
              "      <td>0</td>\n",
              "      <td>0</td>\n",
              "      <td>0</td>\n",
              "      <td>0</td>\n",
              "      <td>0</td>\n",
              "      <td>0</td>\n",
              "      <td>0</td>\n",
              "      <td>0</td>\n",
              "      <td>0</td>\n",
              "      <td>0</td>\n",
              "      <td>0</td>\n",
              "    </tr>\n",
              "    <tr>\n",
              "      <th>3</th>\n",
              "      <td>2021-11-04</td>\n",
              "      <td>0</td>\n",
              "      <td>0</td>\n",
              "      <td>0</td>\n",
              "      <td>0</td>\n",
              "      <td>0</td>\n",
              "      <td>0</td>\n",
              "      <td>0</td>\n",
              "      <td>0</td>\n",
              "      <td>0</td>\n",
              "      <td>0</td>\n",
              "      <td>0</td>\n",
              "      <td>0</td>\n",
              "      <td>0</td>\n",
              "      <td>0</td>\n",
              "      <td>0</td>\n",
              "      <td>0</td>\n",
              "      <td>0</td>\n",
              "      <td>0</td>\n",
              "      <td>0</td>\n",
              "      <td>0</td>\n",
              "      <td>0</td>\n",
              "      <td>0</td>\n",
              "      <td>0</td>\n",
              "      <td>0</td>\n",
              "      <td>0</td>\n",
              "      <td>0</td>\n",
              "      <td>0</td>\n",
              "      <td>0</td>\n",
              "      <td>0</td>\n",
              "      <td>0</td>\n",
              "      <td>0</td>\n",
              "      <td>0</td>\n",
              "      <td>0</td>\n",
              "      <td>0</td>\n",
              "      <td>0</td>\n",
              "      <td>0</td>\n",
              "      <td>0</td>\n",
              "      <td>0</td>\n",
              "      <td>0</td>\n",
              "      <td>...</td>\n",
              "      <td>0</td>\n",
              "      <td>0</td>\n",
              "      <td>0</td>\n",
              "      <td>0</td>\n",
              "      <td>0</td>\n",
              "      <td>0</td>\n",
              "      <td>0</td>\n",
              "      <td>0</td>\n",
              "      <td>0</td>\n",
              "      <td>0</td>\n",
              "      <td>0</td>\n",
              "      <td>0</td>\n",
              "      <td>0</td>\n",
              "      <td>0</td>\n",
              "      <td>0</td>\n",
              "      <td>0</td>\n",
              "      <td>0</td>\n",
              "      <td>0</td>\n",
              "      <td>0</td>\n",
              "      <td>0</td>\n",
              "      <td>0</td>\n",
              "      <td>0</td>\n",
              "      <td>0</td>\n",
              "      <td>0</td>\n",
              "      <td>0</td>\n",
              "      <td>0</td>\n",
              "      <td>0</td>\n",
              "      <td>0</td>\n",
              "      <td>0</td>\n",
              "      <td>0</td>\n",
              "      <td>0</td>\n",
              "      <td>0</td>\n",
              "      <td>0</td>\n",
              "      <td>0</td>\n",
              "      <td>0</td>\n",
              "      <td>0</td>\n",
              "      <td>0</td>\n",
              "      <td>0</td>\n",
              "      <td>0</td>\n",
              "      <td>0</td>\n",
              "    </tr>\n",
              "    <tr>\n",
              "      <th>4</th>\n",
              "      <td>2021-11-05</td>\n",
              "      <td>0</td>\n",
              "      <td>0</td>\n",
              "      <td>0</td>\n",
              "      <td>0</td>\n",
              "      <td>0</td>\n",
              "      <td>0</td>\n",
              "      <td>0</td>\n",
              "      <td>0</td>\n",
              "      <td>0</td>\n",
              "      <td>0</td>\n",
              "      <td>0</td>\n",
              "      <td>0</td>\n",
              "      <td>0</td>\n",
              "      <td>0</td>\n",
              "      <td>0</td>\n",
              "      <td>0</td>\n",
              "      <td>0</td>\n",
              "      <td>0</td>\n",
              "      <td>0</td>\n",
              "      <td>0</td>\n",
              "      <td>0</td>\n",
              "      <td>0</td>\n",
              "      <td>0</td>\n",
              "      <td>0</td>\n",
              "      <td>0</td>\n",
              "      <td>0</td>\n",
              "      <td>0</td>\n",
              "      <td>0</td>\n",
              "      <td>0</td>\n",
              "      <td>0</td>\n",
              "      <td>0</td>\n",
              "      <td>0</td>\n",
              "      <td>0</td>\n",
              "      <td>0</td>\n",
              "      <td>0</td>\n",
              "      <td>0</td>\n",
              "      <td>0</td>\n",
              "      <td>0</td>\n",
              "      <td>0</td>\n",
              "      <td>...</td>\n",
              "      <td>0</td>\n",
              "      <td>0</td>\n",
              "      <td>0</td>\n",
              "      <td>0</td>\n",
              "      <td>0</td>\n",
              "      <td>0</td>\n",
              "      <td>0</td>\n",
              "      <td>0</td>\n",
              "      <td>0</td>\n",
              "      <td>0</td>\n",
              "      <td>0</td>\n",
              "      <td>0</td>\n",
              "      <td>0</td>\n",
              "      <td>0</td>\n",
              "      <td>0</td>\n",
              "      <td>0</td>\n",
              "      <td>0</td>\n",
              "      <td>0</td>\n",
              "      <td>0</td>\n",
              "      <td>0</td>\n",
              "      <td>0</td>\n",
              "      <td>0</td>\n",
              "      <td>0</td>\n",
              "      <td>0</td>\n",
              "      <td>0</td>\n",
              "      <td>0</td>\n",
              "      <td>0</td>\n",
              "      <td>0</td>\n",
              "      <td>0</td>\n",
              "      <td>0</td>\n",
              "      <td>0</td>\n",
              "      <td>0</td>\n",
              "      <td>0</td>\n",
              "      <td>0</td>\n",
              "      <td>0</td>\n",
              "      <td>0</td>\n",
              "      <td>0</td>\n",
              "      <td>0</td>\n",
              "      <td>0</td>\n",
              "      <td>0</td>\n",
              "    </tr>\n",
              "    <tr>\n",
              "      <th>5</th>\n",
              "      <td>2021-11-29</td>\n",
              "      <td>0</td>\n",
              "      <td>0</td>\n",
              "      <td>0</td>\n",
              "      <td>0</td>\n",
              "      <td>0</td>\n",
              "      <td>0</td>\n",
              "      <td>0</td>\n",
              "      <td>0</td>\n",
              "      <td>0</td>\n",
              "      <td>0</td>\n",
              "      <td>0</td>\n",
              "      <td>0</td>\n",
              "      <td>0</td>\n",
              "      <td>0</td>\n",
              "      <td>0</td>\n",
              "      <td>0</td>\n",
              "      <td>0</td>\n",
              "      <td>0</td>\n",
              "      <td>0</td>\n",
              "      <td>0</td>\n",
              "      <td>0</td>\n",
              "      <td>0</td>\n",
              "      <td>0</td>\n",
              "      <td>0</td>\n",
              "      <td>0</td>\n",
              "      <td>0</td>\n",
              "      <td>0</td>\n",
              "      <td>0</td>\n",
              "      <td>0</td>\n",
              "      <td>0</td>\n",
              "      <td>0</td>\n",
              "      <td>0</td>\n",
              "      <td>0</td>\n",
              "      <td>0</td>\n",
              "      <td>0</td>\n",
              "      <td>0</td>\n",
              "      <td>0</td>\n",
              "      <td>0</td>\n",
              "      <td>0</td>\n",
              "      <td>...</td>\n",
              "      <td>0</td>\n",
              "      <td>0</td>\n",
              "      <td>0</td>\n",
              "      <td>0</td>\n",
              "      <td>0</td>\n",
              "      <td>0</td>\n",
              "      <td>0</td>\n",
              "      <td>0</td>\n",
              "      <td>0</td>\n",
              "      <td>0</td>\n",
              "      <td>0</td>\n",
              "      <td>0</td>\n",
              "      <td>0</td>\n",
              "      <td>0</td>\n",
              "      <td>0</td>\n",
              "      <td>0</td>\n",
              "      <td>0</td>\n",
              "      <td>0</td>\n",
              "      <td>0</td>\n",
              "      <td>0</td>\n",
              "      <td>0</td>\n",
              "      <td>0</td>\n",
              "      <td>0</td>\n",
              "      <td>0</td>\n",
              "      <td>0</td>\n",
              "      <td>0</td>\n",
              "      <td>0</td>\n",
              "      <td>0</td>\n",
              "      <td>0</td>\n",
              "      <td>0</td>\n",
              "      <td>0</td>\n",
              "      <td>0</td>\n",
              "      <td>0</td>\n",
              "      <td>0</td>\n",
              "      <td>0</td>\n",
              "      <td>0</td>\n",
              "      <td>0</td>\n",
              "      <td>0</td>\n",
              "      <td>0</td>\n",
              "      <td>0</td>\n",
              "    </tr>\n",
              "    <tr>\n",
              "      <th>6</th>\n",
              "      <td>2021-11-30</td>\n",
              "      <td>0</td>\n",
              "      <td>0</td>\n",
              "      <td>0</td>\n",
              "      <td>0</td>\n",
              "      <td>0</td>\n",
              "      <td>0</td>\n",
              "      <td>0</td>\n",
              "      <td>0</td>\n",
              "      <td>0</td>\n",
              "      <td>0</td>\n",
              "      <td>0</td>\n",
              "      <td>0</td>\n",
              "      <td>0</td>\n",
              "      <td>0</td>\n",
              "      <td>0</td>\n",
              "      <td>0</td>\n",
              "      <td>0</td>\n",
              "      <td>0</td>\n",
              "      <td>0</td>\n",
              "      <td>0</td>\n",
              "      <td>0</td>\n",
              "      <td>0</td>\n",
              "      <td>0</td>\n",
              "      <td>0</td>\n",
              "      <td>0</td>\n",
              "      <td>0</td>\n",
              "      <td>0</td>\n",
              "      <td>0</td>\n",
              "      <td>0</td>\n",
              "      <td>0</td>\n",
              "      <td>0</td>\n",
              "      <td>0</td>\n",
              "      <td>0</td>\n",
              "      <td>0</td>\n",
              "      <td>0</td>\n",
              "      <td>0</td>\n",
              "      <td>0</td>\n",
              "      <td>0</td>\n",
              "      <td>0</td>\n",
              "      <td>...</td>\n",
              "      <td>0</td>\n",
              "      <td>0</td>\n",
              "      <td>0</td>\n",
              "      <td>0</td>\n",
              "      <td>0</td>\n",
              "      <td>0</td>\n",
              "      <td>0</td>\n",
              "      <td>0</td>\n",
              "      <td>0</td>\n",
              "      <td>0</td>\n",
              "      <td>0</td>\n",
              "      <td>0</td>\n",
              "      <td>0</td>\n",
              "      <td>0</td>\n",
              "      <td>0</td>\n",
              "      <td>0</td>\n",
              "      <td>0</td>\n",
              "      <td>0</td>\n",
              "      <td>0</td>\n",
              "      <td>0</td>\n",
              "      <td>0</td>\n",
              "      <td>0</td>\n",
              "      <td>0</td>\n",
              "      <td>0</td>\n",
              "      <td>0</td>\n",
              "      <td>0</td>\n",
              "      <td>0</td>\n",
              "      <td>0</td>\n",
              "      <td>0</td>\n",
              "      <td>0</td>\n",
              "      <td>0</td>\n",
              "      <td>0</td>\n",
              "      <td>0</td>\n",
              "      <td>0</td>\n",
              "      <td>0</td>\n",
              "      <td>0</td>\n",
              "      <td>0</td>\n",
              "      <td>0</td>\n",
              "      <td>0</td>\n",
              "      <td>0</td>\n",
              "    </tr>\n",
              "    <tr>\n",
              "      <th>7</th>\n",
              "      <td>2021-12-01</td>\n",
              "      <td>0</td>\n",
              "      <td>0</td>\n",
              "      <td>0</td>\n",
              "      <td>0</td>\n",
              "      <td>0</td>\n",
              "      <td>0</td>\n",
              "      <td>0</td>\n",
              "      <td>0</td>\n",
              "      <td>0</td>\n",
              "      <td>0</td>\n",
              "      <td>0</td>\n",
              "      <td>0</td>\n",
              "      <td>0</td>\n",
              "      <td>0</td>\n",
              "      <td>0</td>\n",
              "      <td>0</td>\n",
              "      <td>0</td>\n",
              "      <td>0</td>\n",
              "      <td>0</td>\n",
              "      <td>0</td>\n",
              "      <td>0</td>\n",
              "      <td>0</td>\n",
              "      <td>0</td>\n",
              "      <td>0</td>\n",
              "      <td>0</td>\n",
              "      <td>0</td>\n",
              "      <td>0</td>\n",
              "      <td>0</td>\n",
              "      <td>0</td>\n",
              "      <td>0</td>\n",
              "      <td>0</td>\n",
              "      <td>0</td>\n",
              "      <td>0</td>\n",
              "      <td>0</td>\n",
              "      <td>0</td>\n",
              "      <td>0</td>\n",
              "      <td>0</td>\n",
              "      <td>0</td>\n",
              "      <td>0</td>\n",
              "      <td>...</td>\n",
              "      <td>0</td>\n",
              "      <td>0</td>\n",
              "      <td>0</td>\n",
              "      <td>0</td>\n",
              "      <td>0</td>\n",
              "      <td>0</td>\n",
              "      <td>0</td>\n",
              "      <td>0</td>\n",
              "      <td>0</td>\n",
              "      <td>0</td>\n",
              "      <td>0</td>\n",
              "      <td>0</td>\n",
              "      <td>0</td>\n",
              "      <td>0</td>\n",
              "      <td>0</td>\n",
              "      <td>0</td>\n",
              "      <td>0</td>\n",
              "      <td>0</td>\n",
              "      <td>0</td>\n",
              "      <td>0</td>\n",
              "      <td>0</td>\n",
              "      <td>0</td>\n",
              "      <td>0</td>\n",
              "      <td>0</td>\n",
              "      <td>0</td>\n",
              "      <td>0</td>\n",
              "      <td>0</td>\n",
              "      <td>0</td>\n",
              "      <td>0</td>\n",
              "      <td>0</td>\n",
              "      <td>0</td>\n",
              "      <td>0</td>\n",
              "      <td>0</td>\n",
              "      <td>0</td>\n",
              "      <td>0</td>\n",
              "      <td>0</td>\n",
              "      <td>0</td>\n",
              "      <td>0</td>\n",
              "      <td>0</td>\n",
              "      <td>0</td>\n",
              "    </tr>\n",
              "    <tr>\n",
              "      <th>8</th>\n",
              "      <td>2021-12-02</td>\n",
              "      <td>0</td>\n",
              "      <td>0</td>\n",
              "      <td>0</td>\n",
              "      <td>0</td>\n",
              "      <td>0</td>\n",
              "      <td>0</td>\n",
              "      <td>0</td>\n",
              "      <td>0</td>\n",
              "      <td>0</td>\n",
              "      <td>0</td>\n",
              "      <td>0</td>\n",
              "      <td>0</td>\n",
              "      <td>0</td>\n",
              "      <td>0</td>\n",
              "      <td>0</td>\n",
              "      <td>0</td>\n",
              "      <td>0</td>\n",
              "      <td>0</td>\n",
              "      <td>0</td>\n",
              "      <td>0</td>\n",
              "      <td>0</td>\n",
              "      <td>0</td>\n",
              "      <td>0</td>\n",
              "      <td>0</td>\n",
              "      <td>0</td>\n",
              "      <td>0</td>\n",
              "      <td>0</td>\n",
              "      <td>0</td>\n",
              "      <td>0</td>\n",
              "      <td>0</td>\n",
              "      <td>0</td>\n",
              "      <td>0</td>\n",
              "      <td>0</td>\n",
              "      <td>0</td>\n",
              "      <td>0</td>\n",
              "      <td>0</td>\n",
              "      <td>0</td>\n",
              "      <td>0</td>\n",
              "      <td>0</td>\n",
              "      <td>...</td>\n",
              "      <td>0</td>\n",
              "      <td>0</td>\n",
              "      <td>0</td>\n",
              "      <td>0</td>\n",
              "      <td>0</td>\n",
              "      <td>0</td>\n",
              "      <td>0</td>\n",
              "      <td>0</td>\n",
              "      <td>0</td>\n",
              "      <td>0</td>\n",
              "      <td>0</td>\n",
              "      <td>0</td>\n",
              "      <td>0</td>\n",
              "      <td>0</td>\n",
              "      <td>0</td>\n",
              "      <td>0</td>\n",
              "      <td>0</td>\n",
              "      <td>0</td>\n",
              "      <td>0</td>\n",
              "      <td>0</td>\n",
              "      <td>0</td>\n",
              "      <td>0</td>\n",
              "      <td>0</td>\n",
              "      <td>0</td>\n",
              "      <td>0</td>\n",
              "      <td>0</td>\n",
              "      <td>0</td>\n",
              "      <td>0</td>\n",
              "      <td>0</td>\n",
              "      <td>0</td>\n",
              "      <td>0</td>\n",
              "      <td>0</td>\n",
              "      <td>0</td>\n",
              "      <td>0</td>\n",
              "      <td>0</td>\n",
              "      <td>0</td>\n",
              "      <td>0</td>\n",
              "      <td>0</td>\n",
              "      <td>0</td>\n",
              "      <td>0</td>\n",
              "    </tr>\n",
              "    <tr>\n",
              "      <th>9</th>\n",
              "      <td>2021-12-03</td>\n",
              "      <td>0</td>\n",
              "      <td>0</td>\n",
              "      <td>0</td>\n",
              "      <td>0</td>\n",
              "      <td>0</td>\n",
              "      <td>0</td>\n",
              "      <td>0</td>\n",
              "      <td>0</td>\n",
              "      <td>0</td>\n",
              "      <td>0</td>\n",
              "      <td>0</td>\n",
              "      <td>0</td>\n",
              "      <td>0</td>\n",
              "      <td>0</td>\n",
              "      <td>0</td>\n",
              "      <td>0</td>\n",
              "      <td>0</td>\n",
              "      <td>0</td>\n",
              "      <td>0</td>\n",
              "      <td>0</td>\n",
              "      <td>0</td>\n",
              "      <td>0</td>\n",
              "      <td>0</td>\n",
              "      <td>0</td>\n",
              "      <td>0</td>\n",
              "      <td>0</td>\n",
              "      <td>0</td>\n",
              "      <td>0</td>\n",
              "      <td>0</td>\n",
              "      <td>0</td>\n",
              "      <td>0</td>\n",
              "      <td>0</td>\n",
              "      <td>0</td>\n",
              "      <td>0</td>\n",
              "      <td>0</td>\n",
              "      <td>0</td>\n",
              "      <td>0</td>\n",
              "      <td>0</td>\n",
              "      <td>0</td>\n",
              "      <td>...</td>\n",
              "      <td>0</td>\n",
              "      <td>0</td>\n",
              "      <td>0</td>\n",
              "      <td>0</td>\n",
              "      <td>0</td>\n",
              "      <td>0</td>\n",
              "      <td>0</td>\n",
              "      <td>0</td>\n",
              "      <td>0</td>\n",
              "      <td>0</td>\n",
              "      <td>0</td>\n",
              "      <td>0</td>\n",
              "      <td>0</td>\n",
              "      <td>0</td>\n",
              "      <td>0</td>\n",
              "      <td>0</td>\n",
              "      <td>0</td>\n",
              "      <td>0</td>\n",
              "      <td>0</td>\n",
              "      <td>0</td>\n",
              "      <td>0</td>\n",
              "      <td>0</td>\n",
              "      <td>0</td>\n",
              "      <td>0</td>\n",
              "      <td>0</td>\n",
              "      <td>0</td>\n",
              "      <td>0</td>\n",
              "      <td>0</td>\n",
              "      <td>0</td>\n",
              "      <td>0</td>\n",
              "      <td>0</td>\n",
              "      <td>0</td>\n",
              "      <td>0</td>\n",
              "      <td>0</td>\n",
              "      <td>0</td>\n",
              "      <td>0</td>\n",
              "      <td>0</td>\n",
              "      <td>0</td>\n",
              "      <td>0</td>\n",
              "      <td>0</td>\n",
              "    </tr>\n",
              "  </tbody>\n",
              "</table>\n",
              "<p>10 rows × 371 columns</p>\n",
              "</div>"
            ],
            "text/plain": [
              "          Day  000060  000080  000100  ...  352820  357780  363280  950130\n",
              "0  2021-11-01       0       0       0  ...       0       0       0       0\n",
              "1  2021-11-02       0       0       0  ...       0       0       0       0\n",
              "2  2021-11-03       0       0       0  ...       0       0       0       0\n",
              "3  2021-11-04       0       0       0  ...       0       0       0       0\n",
              "4  2021-11-05       0       0       0  ...       0       0       0       0\n",
              "5  2021-11-29       0       0       0  ...       0       0       0       0\n",
              "6  2021-11-30       0       0       0  ...       0       0       0       0\n",
              "7  2021-12-01       0       0       0  ...       0       0       0       0\n",
              "8  2021-12-02       0       0       0  ...       0       0       0       0\n",
              "9  2021-12-03       0       0       0  ...       0       0       0       0\n",
              "\n",
              "[10 rows x 371 columns]"
            ]
          },
          "metadata": {},
          "execution_count": 8
        }
      ]
    },
    {
      "cell_type": "markdown",
      "metadata": {
        "id": "d1ip27fWdffn"
      },
      "source": [
        "# 각 기업 재무지표 살펴보기(Dart)\n",
        "* https://blog.naver.com/PostView.naver?blogId=freed0om&logNo=221982792271&parentCategoryNo=&categoryNo=67&viewDate=&isShowPopularPosts=false&from=postView"
      ]
    },
    {
      "cell_type": "code",
      "metadata": {
        "id": "7EwoGaXqb1qa"
      },
      "source": [
        "# https://opendart.fss.or.kr/\n",
        "api_key = 'bb289f2268496cb2987004bf6bfa7ed348820b60'\n",
        "dart = OpenDartReader(api_key)"
      ],
      "execution_count": 9,
      "outputs": []
    },
    {
      "cell_type": "code",
      "metadata": {
        "colab": {
          "base_uri": "https://localhost:8080/",
          "height": 866
        },
        "id": "PoRgbdIPc4O0",
        "outputId": "81bdf556-91fb-4d4a-cf21-ef7dd38fa610"
      },
      "source": [
        "# corp: 종목코드, bsns_year: 사업연도, reprt_code: 보고서코드(1분기보고서 : 11013, 반기보고서 : 11012, 3분기보고서 : 11014, 사업보고서 : 11011)\n",
        "dart.finstate_all(corp=stock_list.loc[0, '종목코드'], bsns_year=2021, reprt_code=11013)"
      ],
      "execution_count": 11,
      "outputs": [
        {
          "output_type": "execute_result",
          "data": {
            "text/html": [
              "<div>\n",
              "<style scoped>\n",
              "    .dataframe tbody tr th:only-of-type {\n",
              "        vertical-align: middle;\n",
              "    }\n",
              "\n",
              "    .dataframe tbody tr th {\n",
              "        vertical-align: top;\n",
              "    }\n",
              "\n",
              "    .dataframe thead th {\n",
              "        text-align: right;\n",
              "    }\n",
              "</style>\n",
              "<table border=\"1\" class=\"dataframe\">\n",
              "  <thead>\n",
              "    <tr style=\"text-align: right;\">\n",
              "      <th></th>\n",
              "      <th>rcept_no</th>\n",
              "      <th>reprt_code</th>\n",
              "      <th>bsns_year</th>\n",
              "      <th>corp_code</th>\n",
              "      <th>sj_div</th>\n",
              "      <th>sj_nm</th>\n",
              "      <th>account_id</th>\n",
              "      <th>account_nm</th>\n",
              "      <th>account_detail</th>\n",
              "      <th>thstrm_nm</th>\n",
              "      <th>thstrm_amount</th>\n",
              "      <th>frmtrm_nm</th>\n",
              "      <th>frmtrm_amount</th>\n",
              "      <th>ord</th>\n",
              "      <th>thstrm_add_amount</th>\n",
              "      <th>frmtrm_q_nm</th>\n",
              "      <th>frmtrm_q_amount</th>\n",
              "      <th>frmtrm_add_amount</th>\n",
              "    </tr>\n",
              "  </thead>\n",
              "  <tbody>\n",
              "    <tr>\n",
              "      <th>0</th>\n",
              "      <td>20210517001185</td>\n",
              "      <td>11013</td>\n",
              "      <td>2021</td>\n",
              "      <td>00126380</td>\n",
              "      <td>BS</td>\n",
              "      <td>재무상태표</td>\n",
              "      <td>ifrs-full_CurrentAssets</td>\n",
              "      <td>유동자산</td>\n",
              "      <td>-</td>\n",
              "      <td>제 53 기 1분기말</td>\n",
              "      <td>209155353000000</td>\n",
              "      <td>제 52 기말</td>\n",
              "      <td>198215579000000</td>\n",
              "      <td>1</td>\n",
              "      <td>NaN</td>\n",
              "      <td>NaN</td>\n",
              "      <td>NaN</td>\n",
              "      <td>NaN</td>\n",
              "    </tr>\n",
              "    <tr>\n",
              "      <th>1</th>\n",
              "      <td>20210517001185</td>\n",
              "      <td>11013</td>\n",
              "      <td>2021</td>\n",
              "      <td>00126380</td>\n",
              "      <td>BS</td>\n",
              "      <td>재무상태표</td>\n",
              "      <td>ifrs-full_CashAndCashEquivalents</td>\n",
              "      <td>현금및현금성자산</td>\n",
              "      <td>-</td>\n",
              "      <td>제 53 기 1분기말</td>\n",
              "      <td>41039591000000</td>\n",
              "      <td>제 52 기말</td>\n",
              "      <td>29382578000000</td>\n",
              "      <td>2</td>\n",
              "      <td>NaN</td>\n",
              "      <td>NaN</td>\n",
              "      <td>NaN</td>\n",
              "      <td>NaN</td>\n",
              "    </tr>\n",
              "    <tr>\n",
              "      <th>2</th>\n",
              "      <td>20210517001185</td>\n",
              "      <td>11013</td>\n",
              "      <td>2021</td>\n",
              "      <td>00126380</td>\n",
              "      <td>BS</td>\n",
              "      <td>재무상태표</td>\n",
              "      <td>dart_ShortTermDepositsNotClassifiedAsCashEquiv...</td>\n",
              "      <td>단기금융상품</td>\n",
              "      <td>-</td>\n",
              "      <td>제 53 기 1분기말</td>\n",
              "      <td>87159273000000</td>\n",
              "      <td>제 52 기말</td>\n",
              "      <td>92441703000000</td>\n",
              "      <td>3</td>\n",
              "      <td>NaN</td>\n",
              "      <td>NaN</td>\n",
              "      <td>NaN</td>\n",
              "      <td>NaN</td>\n",
              "    </tr>\n",
              "    <tr>\n",
              "      <th>3</th>\n",
              "      <td>20210517001185</td>\n",
              "      <td>11013</td>\n",
              "      <td>2021</td>\n",
              "      <td>00126380</td>\n",
              "      <td>BS</td>\n",
              "      <td>재무상태표</td>\n",
              "      <td>-표준계정코드 미사용-</td>\n",
              "      <td>단기상각후원가금융자산</td>\n",
              "      <td>-</td>\n",
              "      <td>제 53 기 1분기말</td>\n",
              "      <td>3526888000000</td>\n",
              "      <td>제 52 기말</td>\n",
              "      <td>2757111000000</td>\n",
              "      <td>4</td>\n",
              "      <td>NaN</td>\n",
              "      <td>NaN</td>\n",
              "      <td>NaN</td>\n",
              "      <td>NaN</td>\n",
              "    </tr>\n",
              "    <tr>\n",
              "      <th>4</th>\n",
              "      <td>20210517001185</td>\n",
              "      <td>11013</td>\n",
              "      <td>2021</td>\n",
              "      <td>00126380</td>\n",
              "      <td>BS</td>\n",
              "      <td>재무상태표</td>\n",
              "      <td>ifrs-full_CurrentFinancialAssetsAtFairValueThr...</td>\n",
              "      <td>단기당기손익-공정가치금융자산</td>\n",
              "      <td>-</td>\n",
              "      <td>제 53 기 1분기말</td>\n",
              "      <td>59495000000</td>\n",
              "      <td>제 52 기말</td>\n",
              "      <td>71451000000</td>\n",
              "      <td>5</td>\n",
              "      <td>NaN</td>\n",
              "      <td>NaN</td>\n",
              "      <td>NaN</td>\n",
              "      <td>NaN</td>\n",
              "    </tr>\n",
              "    <tr>\n",
              "      <th>...</th>\n",
              "      <td>...</td>\n",
              "      <td>...</td>\n",
              "      <td>...</td>\n",
              "      <td>...</td>\n",
              "      <td>...</td>\n",
              "      <td>...</td>\n",
              "      <td>...</td>\n",
              "      <td>...</td>\n",
              "      <td>...</td>\n",
              "      <td>...</td>\n",
              "      <td>...</td>\n",
              "      <td>...</td>\n",
              "      <td>...</td>\n",
              "      <td>...</td>\n",
              "      <td>...</td>\n",
              "      <td>...</td>\n",
              "      <td>...</td>\n",
              "      <td>...</td>\n",
              "    </tr>\n",
              "    <tr>\n",
              "      <th>171</th>\n",
              "      <td>20210517001185</td>\n",
              "      <td>11013</td>\n",
              "      <td>2021</td>\n",
              "      <td>00126380</td>\n",
              "      <td>SCE</td>\n",
              "      <td>자본변동표</td>\n",
              "      <td>ifrs-full_Equity</td>\n",
              "      <td>기말자본</td>\n",
              "      <td>자본 [member]|지배기업 소유주지분|기타자본항목</td>\n",
              "      <td>제 53 기 1분기</td>\n",
              "      <td>-5616350000000</td>\n",
              "      <td>NaN</td>\n",
              "      <td>NaN</td>\n",
              "      <td>12</td>\n",
              "      <td>NaN</td>\n",
              "      <td>제 52 기 1분기</td>\n",
              "      <td>-3898556000000</td>\n",
              "      <td>NaN</td>\n",
              "    </tr>\n",
              "    <tr>\n",
              "      <th>172</th>\n",
              "      <td>20210517001185</td>\n",
              "      <td>11013</td>\n",
              "      <td>2021</td>\n",
              "      <td>00126380</td>\n",
              "      <td>SCE</td>\n",
              "      <td>자본변동표</td>\n",
              "      <td>ifrs-full_Equity</td>\n",
              "      <td>기말자본</td>\n",
              "      <td>자본 [member]|지배기업 소유주지분|매각예정분류기타자본항목</td>\n",
              "      <td>제 53 기 1분기</td>\n",
              "      <td>16055000000</td>\n",
              "      <td>NaN</td>\n",
              "      <td>NaN</td>\n",
              "      <td>12</td>\n",
              "      <td>NaN</td>\n",
              "      <td>제 52 기 1분기</td>\n",
              "      <td>0</td>\n",
              "      <td>NaN</td>\n",
              "    </tr>\n",
              "    <tr>\n",
              "      <th>173</th>\n",
              "      <td>20210517001185</td>\n",
              "      <td>11013</td>\n",
              "      <td>2021</td>\n",
              "      <td>00126380</td>\n",
              "      <td>SCE</td>\n",
              "      <td>자본변동표</td>\n",
              "      <td>ifrs-full_Equity</td>\n",
              "      <td>기말자본</td>\n",
              "      <td>자본 [member]|지배기업 소유주지분|이익잉여금 [member]</td>\n",
              "      <td>제 53 기 1분기</td>\n",
              "      <td>266066142000000</td>\n",
              "      <td>NaN</td>\n",
              "      <td>NaN</td>\n",
              "      <td>12</td>\n",
              "      <td>NaN</td>\n",
              "      <td>제 52 기 1분기</td>\n",
              "      <td>257078919000000</td>\n",
              "      <td>NaN</td>\n",
              "    </tr>\n",
              "    <tr>\n",
              "      <th>174</th>\n",
              "      <td>20210517001185</td>\n",
              "      <td>11013</td>\n",
              "      <td>2021</td>\n",
              "      <td>00126380</td>\n",
              "      <td>SCE</td>\n",
              "      <td>자본변동표</td>\n",
              "      <td>ifrs-full_Equity</td>\n",
              "      <td>기말자본</td>\n",
              "      <td>자본 [member]|지배기업 소유주지분|자본금 [member]</td>\n",
              "      <td>제 53 기 1분기</td>\n",
              "      <td>897514000000</td>\n",
              "      <td>NaN</td>\n",
              "      <td>NaN</td>\n",
              "      <td>12</td>\n",
              "      <td>NaN</td>\n",
              "      <td>제 52 기 1분기</td>\n",
              "      <td>897514000000</td>\n",
              "      <td>NaN</td>\n",
              "    </tr>\n",
              "    <tr>\n",
              "      <th>175</th>\n",
              "      <td>20210517001185</td>\n",
              "      <td>11013</td>\n",
              "      <td>2021</td>\n",
              "      <td>00126380</td>\n",
              "      <td>SCE</td>\n",
              "      <td>자본변동표</td>\n",
              "      <td>ifrs-full_Equity</td>\n",
              "      <td>기말자본</td>\n",
              "      <td>자본 [member]|지배기업 소유주지분|주식발행초과금</td>\n",
              "      <td>제 53 기 1분기</td>\n",
              "      <td>4403893000000</td>\n",
              "      <td>NaN</td>\n",
              "      <td>NaN</td>\n",
              "      <td>12</td>\n",
              "      <td>NaN</td>\n",
              "      <td>제 52 기 1분기</td>\n",
              "      <td>4403893000000</td>\n",
              "      <td>NaN</td>\n",
              "    </tr>\n",
              "  </tbody>\n",
              "</table>\n",
              "<p>176 rows × 18 columns</p>\n",
              "</div>"
            ],
            "text/plain": [
              "           rcept_no reprt_code  ...  frmtrm_q_amount frmtrm_add_amount\n",
              "0    20210517001185      11013  ...              NaN               NaN\n",
              "1    20210517001185      11013  ...              NaN               NaN\n",
              "2    20210517001185      11013  ...              NaN               NaN\n",
              "3    20210517001185      11013  ...              NaN               NaN\n",
              "4    20210517001185      11013  ...              NaN               NaN\n",
              "..              ...        ...  ...              ...               ...\n",
              "171  20210517001185      11013  ...   -3898556000000               NaN\n",
              "172  20210517001185      11013  ...                0               NaN\n",
              "173  20210517001185      11013  ...  257078919000000               NaN\n",
              "174  20210517001185      11013  ...     897514000000               NaN\n",
              "175  20210517001185      11013  ...    4403893000000               NaN\n",
              "\n",
              "[176 rows x 18 columns]"
            ]
          },
          "metadata": {},
          "execution_count": 11
        }
      ]
    },
    {
      "cell_type": "markdown",
      "metadata": {
        "id": "hvGXVaTZ46-r"
      },
      "source": [
        "# 데이터셋 구성"
      ]
    },
    {
      "cell_type": "code",
      "metadata": {
        "id": "MHnZI8kOAu58"
      },
      "source": [
        "# 2020년 삼성전자 주가 정보 예시 -> ['Open', 'High', 'Low', 'Close', 'Volumne', 'Change'] 컬럼으로 구성\n",
        "start_date = '20200101'\n",
        "end_date = '20201231'\n",
        "sample_code = '005930'\n",
        "stock = fdr.DataReader(sample_code, start = start_date, end = end_date)\n",
        "stock"
      ],
      "execution_count": null,
      "outputs": []
    },
    {
      "cell_type": "code",
      "metadata": {
        "colab": {
          "base_uri": "https://localhost:8080/",
          "height": 257
        },
        "id": "_Ez1FCdL44aO",
        "outputId": "2fdcb792-18eb-4302-f356-4b0fc3b8b464"
      },
      "source": [
        "# 주식장 열리는 날 표시\n",
        "start_date = '20210104'\n",
        "end_date = '20211105'\n",
        "\n",
        "start_weekday = pd.to_datetime(start_date).weekday() # 요일\n",
        "max_weeknum = pd.to_datetime(end_date).strftime('%V') # strftime('%V') -> 연도 주 번호(몇 주 째인지)\n",
        "Business_days = pd.DataFrame(pd.date_range(start_date, end_date, freq='B'), columns = ['Date']) # freq: B -> 영업일만 출력\n",
        "\n",
        "print(f'WEEKDAY of \"start_date\" : {start_weekday}')\n",
        "print(f'NUM of WEEKS to \"end_date\" : {max_weeknum}')\n",
        "print(f'HOW MANY \"Business_days\" : {Business_days.shape}', )\n",
        "display(Business_days.head())"
      ],
      "execution_count": 9,
      "outputs": [
        {
          "output_type": "stream",
          "name": "stdout",
          "text": [
            "WEEKDAY of \"start_date\" : 0\n",
            "NUM of WEEKS to \"end_date\" : 44\n",
            "HOW MANY \"Business_days\" : (220, 1)\n"
          ]
        },
        {
          "output_type": "display_data",
          "data": {
            "text/html": [
              "<div>\n",
              "<style scoped>\n",
              "    .dataframe tbody tr th:only-of-type {\n",
              "        vertical-align: middle;\n",
              "    }\n",
              "\n",
              "    .dataframe tbody tr th {\n",
              "        vertical-align: top;\n",
              "    }\n",
              "\n",
              "    .dataframe thead th {\n",
              "        text-align: right;\n",
              "    }\n",
              "</style>\n",
              "<table border=\"1\" class=\"dataframe\">\n",
              "  <thead>\n",
              "    <tr style=\"text-align: right;\">\n",
              "      <th></th>\n",
              "      <th>Date</th>\n",
              "    </tr>\n",
              "  </thead>\n",
              "  <tbody>\n",
              "    <tr>\n",
              "      <th>0</th>\n",
              "      <td>2021-01-04</td>\n",
              "    </tr>\n",
              "    <tr>\n",
              "      <th>1</th>\n",
              "      <td>2021-01-05</td>\n",
              "    </tr>\n",
              "    <tr>\n",
              "      <th>2</th>\n",
              "      <td>2021-01-06</td>\n",
              "    </tr>\n",
              "    <tr>\n",
              "      <th>3</th>\n",
              "      <td>2021-01-07</td>\n",
              "    </tr>\n",
              "    <tr>\n",
              "      <th>4</th>\n",
              "      <td>2021-01-08</td>\n",
              "    </tr>\n",
              "  </tbody>\n",
              "</table>\n",
              "</div>"
            ],
            "text/plain": [
              "        Date\n",
              "0 2021-01-04\n",
              "1 2021-01-05\n",
              "2 2021-01-06\n",
              "3 2021-01-07\n",
              "4 2021-01-08"
            ]
          },
          "metadata": {}
        }
      ]
    },
    {
      "cell_type": "code",
      "metadata": {
        "colab": {
          "base_uri": "https://localhost:8080/",
          "height": 236
        },
        "id": "oWmImjb8I3rv",
        "outputId": "945dc6a5-cc75-467a-81bf-a0187c5e66ac"
      },
      "source": [
        "# base line 모델 형태 확인하기\n",
        "sample_code = stock_list.loc[0, '종목코드']\n",
        "\n",
        "sample = fdr.DataReader(sample_code, start = start_date, end = end_date)[['Close']].reset_index()\n",
        "sample = pd.merge(Business_days, sample, how = 'outer')\n",
        "sample['weekday'] = sample.Date.apply(lambda x : x.weekday())\n",
        "sample['weeknum'] = sample.Date.apply(lambda x : x.strftime('%V'))\n",
        "sample.Close = sample.Close.ffill()\n",
        "sample = pd.pivot_table(data = sample, values = 'Close', columns = 'weekday', index = 'weeknum')\n",
        "sample.head()"
      ],
      "execution_count": 35,
      "outputs": [
        {
          "output_type": "execute_result",
          "data": {
            "text/html": [
              "<div>\n",
              "<style scoped>\n",
              "    .dataframe tbody tr th:only-of-type {\n",
              "        vertical-align: middle;\n",
              "    }\n",
              "\n",
              "    .dataframe tbody tr th {\n",
              "        vertical-align: top;\n",
              "    }\n",
              "\n",
              "    .dataframe thead th {\n",
              "        text-align: right;\n",
              "    }\n",
              "</style>\n",
              "<table border=\"1\" class=\"dataframe\">\n",
              "  <thead>\n",
              "    <tr style=\"text-align: right;\">\n",
              "      <th>weekday</th>\n",
              "      <th>0</th>\n",
              "      <th>1</th>\n",
              "      <th>2</th>\n",
              "      <th>3</th>\n",
              "      <th>4</th>\n",
              "    </tr>\n",
              "    <tr>\n",
              "      <th>weeknum</th>\n",
              "      <th></th>\n",
              "      <th></th>\n",
              "      <th></th>\n",
              "      <th></th>\n",
              "      <th></th>\n",
              "    </tr>\n",
              "  </thead>\n",
              "  <tbody>\n",
              "    <tr>\n",
              "      <th>01</th>\n",
              "      <td>83000.0</td>\n",
              "      <td>83900.0</td>\n",
              "      <td>82200.0</td>\n",
              "      <td>82900.0</td>\n",
              "      <td>88800.0</td>\n",
              "    </tr>\n",
              "    <tr>\n",
              "      <th>02</th>\n",
              "      <td>91000.0</td>\n",
              "      <td>90600.0</td>\n",
              "      <td>89700.0</td>\n",
              "      <td>89700.0</td>\n",
              "      <td>88000.0</td>\n",
              "    </tr>\n",
              "    <tr>\n",
              "      <th>03</th>\n",
              "      <td>85000.0</td>\n",
              "      <td>87000.0</td>\n",
              "      <td>87200.0</td>\n",
              "      <td>88100.0</td>\n",
              "      <td>86800.0</td>\n",
              "    </tr>\n",
              "    <tr>\n",
              "      <th>04</th>\n",
              "      <td>89400.0</td>\n",
              "      <td>86700.0</td>\n",
              "      <td>85600.0</td>\n",
              "      <td>83700.0</td>\n",
              "      <td>82000.0</td>\n",
              "    </tr>\n",
              "    <tr>\n",
              "      <th>05</th>\n",
              "      <td>83000.0</td>\n",
              "      <td>84400.0</td>\n",
              "      <td>84600.0</td>\n",
              "      <td>82500.0</td>\n",
              "      <td>83500.0</td>\n",
              "    </tr>\n",
              "  </tbody>\n",
              "</table>\n",
              "</div>"
            ],
            "text/plain": [
              "weekday        0        1        2        3        4\n",
              "weeknum                                             \n",
              "01       83000.0  83900.0  82200.0  82900.0  88800.0\n",
              "02       91000.0  90600.0  89700.0  89700.0  88000.0\n",
              "03       85000.0  87000.0  87200.0  88100.0  86800.0\n",
              "04       89400.0  86700.0  85600.0  83700.0  82000.0\n",
              "05       83000.0  84400.0  84600.0  82500.0  83500.0"
            ]
          },
          "metadata": {},
          "execution_count": 35
        }
      ]
    },
    {
      "cell_type": "markdown",
      "metadata": {
        "id": "iXYCMfRQ1zo1"
      },
      "source": [
        "# EDA\n",
        "* 샘플 데이터(삼성전자) 시각화해보기 -> 별다른 인사이트가 보이지는 않는 듯?"
      ]
    },
    {
      "cell_type": "code",
      "metadata": {
        "colab": {
          "base_uri": "https://localhost:8080/",
          "height": 420
        },
        "id": "SF74j3U31ydF",
        "outputId": "bac373d2-64c9-4034-9082-599900395f7e"
      },
      "source": [
        "sample_code = stock_list.loc[0, '종목코드']\n",
        "sample = fdr.DataReader(sample_code, start = start_date, end = end_date).reset_index()\n",
        "merged_df = pd.merge(Business_days, sample, how='outer')\n",
        "merged_df"
      ],
      "execution_count": 31,
      "outputs": [
        {
          "output_type": "execute_result",
          "data": {
            "text/html": [
              "<div>\n",
              "<style scoped>\n",
              "    .dataframe tbody tr th:only-of-type {\n",
              "        vertical-align: middle;\n",
              "    }\n",
              "\n",
              "    .dataframe tbody tr th {\n",
              "        vertical-align: top;\n",
              "    }\n",
              "\n",
              "    .dataframe thead th {\n",
              "        text-align: right;\n",
              "    }\n",
              "</style>\n",
              "<table border=\"1\" class=\"dataframe\">\n",
              "  <thead>\n",
              "    <tr style=\"text-align: right;\">\n",
              "      <th></th>\n",
              "      <th>Date</th>\n",
              "      <th>Open</th>\n",
              "      <th>High</th>\n",
              "      <th>Low</th>\n",
              "      <th>Close</th>\n",
              "      <th>Volume</th>\n",
              "      <th>Change</th>\n",
              "    </tr>\n",
              "  </thead>\n",
              "  <tbody>\n",
              "    <tr>\n",
              "      <th>0</th>\n",
              "      <td>2021-01-04</td>\n",
              "      <td>81000.0</td>\n",
              "      <td>84400.0</td>\n",
              "      <td>80200.0</td>\n",
              "      <td>83000.0</td>\n",
              "      <td>38655276.0</td>\n",
              "      <td>0.024691</td>\n",
              "    </tr>\n",
              "    <tr>\n",
              "      <th>1</th>\n",
              "      <td>2021-01-05</td>\n",
              "      <td>81600.0</td>\n",
              "      <td>83900.0</td>\n",
              "      <td>81600.0</td>\n",
              "      <td>83900.0</td>\n",
              "      <td>35335669.0</td>\n",
              "      <td>0.010843</td>\n",
              "    </tr>\n",
              "    <tr>\n",
              "      <th>2</th>\n",
              "      <td>2021-01-06</td>\n",
              "      <td>83300.0</td>\n",
              "      <td>84500.0</td>\n",
              "      <td>82100.0</td>\n",
              "      <td>82200.0</td>\n",
              "      <td>42089013.0</td>\n",
              "      <td>-0.020262</td>\n",
              "    </tr>\n",
              "    <tr>\n",
              "      <th>3</th>\n",
              "      <td>2021-01-07</td>\n",
              "      <td>82800.0</td>\n",
              "      <td>84200.0</td>\n",
              "      <td>82700.0</td>\n",
              "      <td>82900.0</td>\n",
              "      <td>32644642.0</td>\n",
              "      <td>0.008516</td>\n",
              "    </tr>\n",
              "    <tr>\n",
              "      <th>4</th>\n",
              "      <td>2021-01-08</td>\n",
              "      <td>83300.0</td>\n",
              "      <td>90000.0</td>\n",
              "      <td>83000.0</td>\n",
              "      <td>88800.0</td>\n",
              "      <td>59013307.0</td>\n",
              "      <td>0.071170</td>\n",
              "    </tr>\n",
              "    <tr>\n",
              "      <th>...</th>\n",
              "      <td>...</td>\n",
              "      <td>...</td>\n",
              "      <td>...</td>\n",
              "      <td>...</td>\n",
              "      <td>...</td>\n",
              "      <td>...</td>\n",
              "      <td>...</td>\n",
              "    </tr>\n",
              "    <tr>\n",
              "      <th>215</th>\n",
              "      <td>2021-11-01</td>\n",
              "      <td>70200.0</td>\n",
              "      <td>70600.0</td>\n",
              "      <td>69900.0</td>\n",
              "      <td>69900.0</td>\n",
              "      <td>11503729.0</td>\n",
              "      <td>0.001433</td>\n",
              "    </tr>\n",
              "    <tr>\n",
              "      <th>216</th>\n",
              "      <td>2021-11-02</td>\n",
              "      <td>70800.0</td>\n",
              "      <td>72200.0</td>\n",
              "      <td>70700.0</td>\n",
              "      <td>71500.0</td>\n",
              "      <td>16812570.0</td>\n",
              "      <td>0.022890</td>\n",
              "    </tr>\n",
              "    <tr>\n",
              "      <th>217</th>\n",
              "      <td>2021-11-03</td>\n",
              "      <td>71700.0</td>\n",
              "      <td>71700.0</td>\n",
              "      <td>70100.0</td>\n",
              "      <td>70400.0</td>\n",
              "      <td>12770428.0</td>\n",
              "      <td>-0.015385</td>\n",
              "    </tr>\n",
              "    <tr>\n",
              "      <th>218</th>\n",
              "      <td>2021-11-04</td>\n",
              "      <td>71200.0</td>\n",
              "      <td>71600.0</td>\n",
              "      <td>70500.0</td>\n",
              "      <td>70600.0</td>\n",
              "      <td>11818987.0</td>\n",
              "      <td>0.002841</td>\n",
              "    </tr>\n",
              "    <tr>\n",
              "      <th>219</th>\n",
              "      <td>2021-11-05</td>\n",
              "      <td>71600.0</td>\n",
              "      <td>71600.0</td>\n",
              "      <td>70200.0</td>\n",
              "      <td>70200.0</td>\n",
              "      <td>12667743.0</td>\n",
              "      <td>-0.005666</td>\n",
              "    </tr>\n",
              "  </tbody>\n",
              "</table>\n",
              "<p>220 rows × 7 columns</p>\n",
              "</div>"
            ],
            "text/plain": [
              "          Date     Open     High      Low    Close      Volume    Change\n",
              "0   2021-01-04  81000.0  84400.0  80200.0  83000.0  38655276.0  0.024691\n",
              "1   2021-01-05  81600.0  83900.0  81600.0  83900.0  35335669.0  0.010843\n",
              "2   2021-01-06  83300.0  84500.0  82100.0  82200.0  42089013.0 -0.020262\n",
              "3   2021-01-07  82800.0  84200.0  82700.0  82900.0  32644642.0  0.008516\n",
              "4   2021-01-08  83300.0  90000.0  83000.0  88800.0  59013307.0  0.071170\n",
              "..         ...      ...      ...      ...      ...         ...       ...\n",
              "215 2021-11-01  70200.0  70600.0  69900.0  69900.0  11503729.0  0.001433\n",
              "216 2021-11-02  70800.0  72200.0  70700.0  71500.0  16812570.0  0.022890\n",
              "217 2021-11-03  71700.0  71700.0  70100.0  70400.0  12770428.0 -0.015385\n",
              "218 2021-11-04  71200.0  71600.0  70500.0  70600.0  11818987.0  0.002841\n",
              "219 2021-11-05  71600.0  71600.0  70200.0  70200.0  12667743.0 -0.005666\n",
              "\n",
              "[220 rows x 7 columns]"
            ]
          },
          "metadata": {},
          "execution_count": 31
        }
      ]
    },
    {
      "cell_type": "code",
      "metadata": {
        "colab": {
          "base_uri": "https://localhost:8080/"
        },
        "id": "NdT1Dju_WFTI",
        "outputId": "57fa821e-268b-4c84-9bbd-aa7a0a74dbcb"
      },
      "source": [
        "# 결측치 채우기(보간법 이용)\n",
        "merged_df['Open'] = merged_df['Open'].interpolate() # default=linear\n",
        "merged_df['High'] = merged_df['High'].interpolate()\n",
        "merged_df['Low'] = merged_df['Low'].interpolate()\n",
        "merged_df['Close'] = merged_df['Close'].interpolate()\n",
        "merged_df['Volume'] = merged_df['Volume'].interpolate()\n",
        "merged_df['Change'] = merged_df['Change'].interpolate()\n",
        "merged_df.isnull().sum()"
      ],
      "execution_count": 32,
      "outputs": [
        {
          "output_type": "execute_result",
          "data": {
            "text/plain": [
              "Date      0\n",
              "Open      0\n",
              "High      0\n",
              "Low       0\n",
              "Close     0\n",
              "Volume    0\n",
              "Change    0\n",
              "dtype: int64"
            ]
          },
          "metadata": {},
          "execution_count": 32
        }
      ]
    },
    {
      "cell_type": "code",
      "metadata": {
        "colab": {
          "base_uri": "https://localhost:8080/",
          "height": 592
        },
        "id": "aIfyIhpiV5eE",
        "outputId": "ab114970-b0b3-4a78-aee1-914dc5deb43c"
      },
      "source": [
        "plt.figure(figsize=(20, 10))\n",
        "merged_df['Open'].plot(label='Open')\n",
        "merged_df['High'].plot(label='High')\n",
        "merged_df['Low'].plot(label='Low')\n",
        "merged_df['Close'].plot(label='Close')\n",
        "plt.legend()\n",
        "plt.show()"
      ],
      "execution_count": 33,
      "outputs": [
        {
          "output_type": "display_data",
          "data": {
            "image/png": "[encoded data removed]",
            "text/plain": [
              "<Figure size 1440x720 with 1 Axes>"
            ]
          },
          "metadata": {
            "needs_background": "light"
          }
        }
      ]
    },
    {
      "cell_type": "code",
      "metadata": {
        "colab": {
          "base_uri": "https://localhost:8080/",
          "height": 614
        },
        "id": "HmTyvp39Yq4P",
        "outputId": "1a8ce345-8d06-4123-d2f8-21a7c8d92796"
      },
      "source": [
        "# 상관관계 확인\n",
        "plt.figure(figsize=(15, 10))\n",
        "sns.heatmap(merged_df.drop(['Date'], axis=1).corr(), annot=True)"
      ],
      "execution_count": 34,
      "outputs": [
        {
          "output_type": "execute_result",
          "data": {
            "text/plain": [
              "<matplotlib.axes._subplots.AxesSubplot at 0x7f79e37736d0>"
            ]
          },
          "metadata": {},
          "execution_count": 34
        },
        {
          "output_type": "display_data",
          "data": {
            "image/png": "[encoded data removed]",
            "text/plain": [
              "<Figure size 1080x720 with 2 Axes>"
            ]
          },
          "metadata": {
            "needs_background": "light"
          }
        }
      ]
    },
    {
      "cell_type": "markdown",
      "metadata": {
        "id": "51QOzgVsf3wV"
      },
      "source": [
        "# 평가 방식\n",
        "* 지표: NMAE * 100\n",
        "* public score: 11월 1일 ~ 11월 5일 주식 종료 예측값\n",
        "* private score: 11월 29일 ~ 12월 3일 주식 종료 예측값"
      ]
    },
    {
      "cell_type": "code",
      "metadata": {
        "id": "JzSiLhtagXYM"
      },
      "source": [
        "# 11월 1일 ~ 11월 5일까지만 지표 측정 가능\n",
        "def nmae(true_df, pred_df):\n",
        "  true_df = true_df.drop(['Day'], axis=1)\n",
        "  pred_df = pred_df.drop(['Day'], axis=1)\n",
        "  scores = []\n",
        "\n",
        "  for code in pred_df.columns:\n",
        "    true = true_df.loc[:, code].to_numpy()\n",
        "    pred = pred_df.loc[:, code].to_numpy()\n",
        "\n",
        "    score = np.mean((np.abs(true - pred)) / true)\n",
        "    scores.append(score)\n",
        "\n",
        "  return scores"
      ],
      "execution_count": 10,
      "outputs": []
    },
    {
      "cell_type": "markdown",
      "metadata": {
        "id": "MJU_5EnnJ1x7"
      },
      "source": [
        "# 모델 선택\n",
        "* 기본 회귀 모델\n",
        "* 부스팅 회귀 모델\n",
        "* 딥러닝\n",
        "* 통계 모델"
      ]
    },
    {
      "cell_type": "code",
      "metadata": {
        "colab": {
          "base_uri": "https://localhost:8080/",
          "height": 386
        },
        "id": "ddZyxNw3agWC",
        "outputId": "758cd825-1f50-467f-f817-fa6b537d5d48"
      },
      "source": [
        "!pip install statsmodels==0.12.2"
      ],
      "execution_count": 100,
      "outputs": [
        {
          "output_type": "stream",
          "name": "stdout",
          "text": [
            "Collecting statsmodels==0.12.2\n",
            "  Downloading statsmodels-0.12.2-cp37-cp37m-manylinux1_x86_64.whl (9.5 MB)\n",
            "\u001b[K     |████████████████████████████████| 9.5 MB 4.6 MB/s \n",
            "\u001b[?25hRequirement already satisfied: patsy>=0.5 in /usr/local/lib/python3.7/dist-packages (from statsmodels==0.12.2) (0.5.2)\n",
            "Requirement already satisfied: numpy>=1.15 in /usr/local/lib/python3.7/dist-packages (from statsmodels==0.12.2) (1.19.5)\n",
            "Requirement already satisfied: pandas>=0.21 in /usr/local/lib/python3.7/dist-packages (from statsmodels==0.12.2) (1.1.5)\n",
            "Requirement already satisfied: scipy>=1.1 in /usr/local/lib/python3.7/dist-packages (from statsmodels==0.12.2) (1.4.1)\n",
            "Requirement already satisfied: python-dateutil>=2.7.3 in /usr/local/lib/python3.7/dist-packages (from pandas>=0.21->statsmodels==0.12.2) (2.8.2)\n",
            "Requirement already satisfied: pytz>=2017.2 in /usr/local/lib/python3.7/dist-packages (from pandas>=0.21->statsmodels==0.12.2) (2018.9)\n",
            "Requirement already satisfied: six in /usr/local/lib/python3.7/dist-packages (from patsy>=0.5->statsmodels==0.12.2) (1.15.0)\n",
            "Installing collected packages: statsmodels\n",
            "  Attempting uninstall: statsmodels\n",
            "    Found existing installation: statsmodels 0.10.2\n",
            "    Uninstalling statsmodels-0.10.2:\n",
            "      Successfully uninstalled statsmodels-0.10.2\n",
            "Successfully installed statsmodels-0.12.2\n"
          ]
        },
        {
          "output_type": "display_data",
          "data": {
            "application/vnd.colab-display-data+json": {
              "pip_warning": {
                "packages": [
                  "statsmodels"
                ]
              }
            }
          },
          "metadata": {}
        }
      ]
    },
    {
      "cell_type": "code",
      "metadata": {
        "id": "HqZyg5C_JsuR"
      },
      "source": [
        "# Regression\n",
        "from sklearn.linear_model import LinearRegression\n",
        "\n",
        "# bagging\n",
        "from sklearn.tree import DecisionTreeRegressor\n",
        "from sklearn.ensemble import RandomForestRegressor\n",
        "\n",
        "# boosting\n",
        "from xgboost import XGBRegressor\n",
        "from lightgbm import LGBMRegressor\n",
        "\n",
        "# deep learning\n",
        "from keras.models import Sequential, Model, load_model\n",
        "from keras.layers import Input, Dense, Activation, Flatten, Dropout\n",
        "from keras.layers import LSTM, SimpleRNN, GRU\n",
        "\n",
        "# Statistics\n",
        "from statsmodels.tsa.arima_model import ARIMA\n",
        "\n",
        "from statsmodels.graphics.tsaplots import plot_acf, plot_pacf\n",
        "from statsmodels.tsa.stattools import adfuller"
      ],
      "execution_count": 11,
      "outputs": []
    },
    {
      "cell_type": "markdown",
      "metadata": {
        "id": "J3perbBadyZg"
      },
      "source": [
        "# ARIMA\n",
        "* AR(p), MA(q), 차분(d)\n",
        "* 370개(종목) 모델에 대해 그래프를 살펴볼 수 없기 때문에 최적의 차수를 정하는데 AIC를 기준으로 함\n",
        "* ACF, PACF 그래프 상으로 0에 빨리 수렴을 해야 정상성을 만족하는 것 -> 몇 lag 이후로 0에 급격히 수렴하는지에 따라 해당 lag가 p와 q의 후보가 되는 것\n",
        "* https://leedakyeong.tistory.com/entry/Python-%EB%82%A0%EC%94%A8-%EC%8B%9C%EA%B3%84%EC%97%B4-%EB%8D%B0%EC%9D%B4%ED%84%B0Kaggle%EB%A1%9C-ARIMA-%EC%A0%81%EC%9A%A9%ED%95%98%EA%B8%B0"
      ]
    },
    {
      "cell_type": "markdown",
      "metadata": {
        "id": "Llb5_QZm6liE"
      },
      "source": [
        "## 샘플 데이터로 ARIMA 그래프 그려보기"
      ]
    },
    {
      "cell_type": "code",
      "metadata": {
        "colab": {
          "base_uri": "https://localhost:8080/",
          "height": 499
        },
        "id": "J_FCjq_8kRwf",
        "outputId": "d4baf350-cbb5-42c1-cad1-0c068dc2011c"
      },
      "source": [
        "# ACF 그래프 / PACF 그래프 -> 0에 가까워지는 시점을 찾아야 함\n",
        "import statsmodels.api as sm\n",
        "fig = plt.figure(figsize=(20, 8))\n",
        "ax1 = fig.add_subplot(211)\n",
        "fig = plot_acf(arima_set['Close'], lags=40, ax=ax1)\n",
        "ax2 = fig.add_subplot(212)\n",
        "fig = plot_acf(arima_set['Close'], lags=40, ax=ax2)"
      ],
      "execution_count": 167,
      "outputs": [
        {
          "output_type": "display_data",
          "data": {
            "image/png": "[encoded data removed]",
            "text/plain": [
              "<Figure size 1440x576 with 2 Axes>"
            ]
          },
          "metadata": {
            "needs_background": "light"
          }
        }
      ]
    },
    {
      "cell_type": "code",
      "metadata": {
        "colab": {
          "base_uri": "https://localhost:8080/"
        },
        "id": "cufmrcwmeBYA",
        "outputId": "6351d5b8-6ff3-41b3-9a7e-a248eb996a4b"
      },
      "source": [
        "# ADF 검정(aUGMENTED Dickey-Fuller test)\n",
        "# H0: 정상성을 만족하지 않음 <-> H1: 정상성 만족\n",
        "result = adfuller(arima_set['Close'])\n",
        "print('ADF Statstic: %f' % result[0])\n",
        "print('p-value: %f' % result[1]) # p-value > 0.05: 데이터가 정상성을 만족하지 못함\n",
        "print('Critical Values: ')\n",
        "for key, value in result[4].items():\n",
        "  print('\\t%s: %.3f' % (key, value))"
      ],
      "execution_count": 168,
      "outputs": [
        {
          "output_type": "stream",
          "name": "stdout",
          "text": [
            "ADF Statstic: -0.221678\n",
            "p-value: 0.935888\n",
            "Critical Values: \n",
            "\t1%: -3.463\n",
            "\t5%: -2.876\n",
            "\t10%: -2.574\n"
          ]
        }
      ]
    },
    {
      "cell_type": "code",
      "metadata": {
        "colab": {
          "base_uri": "https://localhost:8080/",
          "height": 501
        },
        "id": "ggqOd9LHf3m2",
        "outputId": "ac2d35be-600b-40fa-c23f-cbd1d1d3c3d6"
      },
      "source": [
        "# 정상성 해결을 위해 1차 차분한 버전 -> 그래프 상으로 봐도 별다른 패턴이 보이지 않음(이게 정상)\n",
        "close_diff = arima_set - arima_set.shift()\n",
        "plt.figure(figsize=(22, 8))\n",
        "plt.plot(close_diff['Close'])"
      ],
      "execution_count": 177,
      "outputs": [
        {
          "output_type": "execute_result",
          "data": {
            "text/plain": [
              "[<matplotlib.lines.Line2D at 0x7f59344d1710>]"
            ]
          },
          "metadata": {},
          "execution_count": 177
        },
        {
          "output_type": "display_data",
          "data": {
            "image/png": "[encoded data removed]",
            "text/plain": [
              "<Figure size 1584x576 with 1 Axes>"
            ]
          },
          "metadata": {
            "needs_background": "light"
          }
        }
      ]
    },
    {
      "cell_type": "code",
      "metadata": {
        "colab": {
          "base_uri": "https://localhost:8080/",
          "height": 499
        },
        "id": "zPg5POUmvNNO",
        "outputId": "95d9d3a4-17b0-4113-9f52-1bad543b1243"
      },
      "source": [
        "# ACF 그래프 / PACF 그래프\n",
        "import statsmodels.api as sm\n",
        "fig = plt.figure(figsize=(20, 8))\n",
        "ax1 = fig.add_subplot(211)\n",
        "fig = plot_acf(close_diff['Close'][1:], lags=5, ax=ax1) # 1차 차분했으므로 index는 1부터 시작\n",
        "ax2 = fig.add_subplot(212)\n",
        "fig = plot_acf(close_diff['Close'][1:], lags=5, ax=ax2)"
      ],
      "execution_count": 178,
      "outputs": [
        {
          "output_type": "display_data",
          "data": {
            "image/png": "[encoded data removed]",
            "text/plain": [
              "<Figure size 1440x576 with 2 Axes>"
            ]
          },
          "metadata": {
            "needs_background": "light"
          }
        }
      ]
    },
    {
      "cell_type": "code",
      "metadata": {
        "id": "E8hd8jV1vwP6"
      },
      "source": [
        "# AIC 기준으로 최적의 p, q, d 찾는 함수\n",
        "def my_auto_arima(data, order, sort='AIC'):\n",
        "  order_list = []\n",
        "  aic_list = []\n",
        "  bic_lsit = []\n",
        "  for p in range(order[0]):\n",
        "    for d in range(order[1]):\n",
        "      for q in range(order[2]):\n",
        "        model = ARIMA(data, order=(p, d, q))\n",
        "        \n",
        "        try:\n",
        "          model_fit = model.fit()\n",
        "          c_order = f'p{p} d{d} q{q}'\n",
        "          aic = model_fit.aic\n",
        "          bic = model_fit.bic\n",
        "          order_list.append(c_order)\n",
        "          aic_list.append(aic)\n",
        "          bic_list.append(bic)\n",
        "        except:\n",
        "          pass\n",
        "\n",
        "  result_df = pd.DataFrame(list(zip(order_list, aic_list)), columns=['order', 'AIC'])\n",
        "  result_df.sort_values(sort, inplace=True)\n",
        "  return result_df"
      ],
      "execution_count": 179,
      "outputs": []
    },
    {
      "cell_type": "code",
      "metadata": {
        "colab": {
          "base_uri": "https://localhost:8080/",
          "height": 1000
        },
        "id": "MV0W7MEdwrha",
        "outputId": "f08b7fd8-94a5-47a1-8643-0071e003bd53"
      },
      "source": [
        "grid_df = my_auto_arima(arima_set['Close'], [3, 3, 3])\n",
        "grid_df"
      ],
      "execution_count": 190,
      "outputs": [
        {
          "output_type": "stream",
          "name": "stderr",
          "text": [
            "/usr/local/lib/python3.7/dist-packages/statsmodels/tsa/arima_model.py:472: FutureWarning: \n",
            "statsmodels.tsa.arima_model.ARMA and statsmodels.tsa.arima_model.ARIMA have\n",
            "been deprecated in favor of statsmodels.tsa.arima.model.ARIMA (note the .\n",
            "between arima and model) and\n",
            "statsmodels.tsa.SARIMAX. These will be removed after the 0.12 release.\n",
            "\n",
            "statsmodels.tsa.arima.model.ARIMA makes use of the statespace framework and\n",
            "is both well tested and maintained.\n",
            "\n",
            "To silence this warning and continue using ARMA and ARIMA until they are\n",
            "removed, use:\n",
            "\n",
            "import warnings\n",
            "warnings.filterwarnings('ignore', 'statsmodels.tsa.arima_model.ARMA',\n",
            "                        FutureWarning)\n",
            "warnings.filterwarnings('ignore', 'statsmodels.tsa.arima_model.ARIMA',\n",
            "                        FutureWarning)\n",
            "\n",
            "  warnings.warn(ARIMA_DEPRECATION_WARN, FutureWarning)\n",
            "/usr/local/lib/python3.7/dist-packages/statsmodels/tsa/arima_model.py:472: FutureWarning: \n",
            "statsmodels.tsa.arima_model.ARMA and statsmodels.tsa.arima_model.ARIMA have\n",
            "been deprecated in favor of statsmodels.tsa.arima.model.ARIMA (note the .\n",
            "between arima and model) and\n",
            "statsmodels.tsa.SARIMAX. These will be removed after the 0.12 release.\n",
            "\n",
            "statsmodels.tsa.arima.model.ARIMA makes use of the statespace framework and\n",
            "is both well tested and maintained.\n",
            "\n",
            "To silence this warning and continue using ARMA and ARIMA until they are\n",
            "removed, use:\n",
            "\n",
            "import warnings\n",
            "warnings.filterwarnings('ignore', 'statsmodels.tsa.arima_model.ARMA',\n",
            "                        FutureWarning)\n",
            "warnings.filterwarnings('ignore', 'statsmodels.tsa.arima_model.ARIMA',\n",
            "                        FutureWarning)\n",
            "\n",
            "  warnings.warn(ARIMA_DEPRECATION_WARN, FutureWarning)\n",
            "/usr/local/lib/python3.7/dist-packages/statsmodels/tsa/arima_model.py:472: FutureWarning: \n",
            "statsmodels.tsa.arima_model.ARMA and statsmodels.tsa.arima_model.ARIMA have\n",
            "been deprecated in favor of statsmodels.tsa.arima.model.ARIMA (note the .\n",
            "between arima and model) and\n",
            "statsmodels.tsa.SARIMAX. These will be removed after the 0.12 release.\n",
            "\n",
            "statsmodels.tsa.arima.model.ARIMA makes use of the statespace framework and\n",
            "is both well tested and maintained.\n",
            "\n",
            "To silence this warning and continue using ARMA and ARIMA until they are\n",
            "removed, use:\n",
            "\n",
            "import warnings\n",
            "warnings.filterwarnings('ignore', 'statsmodels.tsa.arima_model.ARMA',\n",
            "                        FutureWarning)\n",
            "warnings.filterwarnings('ignore', 'statsmodels.tsa.arima_model.ARIMA',\n",
            "                        FutureWarning)\n",
            "\n",
            "  warnings.warn(ARIMA_DEPRECATION_WARN, FutureWarning)\n",
            "/usr/local/lib/python3.7/dist-packages/statsmodels/tsa/arima_model.py:472: FutureWarning: \n",
            "statsmodels.tsa.arima_model.ARMA and statsmodels.tsa.arima_model.ARIMA have\n",
            "been deprecated in favor of statsmodels.tsa.arima.model.ARIMA (note the .\n",
            "between arima and model) and\n",
            "statsmodels.tsa.SARIMAX. These will be removed after the 0.12 release.\n",
            "\n",
            "statsmodels.tsa.arima.model.ARIMA makes use of the statespace framework and\n",
            "is both well tested and maintained.\n",
            "\n",
            "To silence this warning and continue using ARMA and ARIMA until they are\n",
            "removed, use:\n",
            "\n",
            "import warnings\n",
            "warnings.filterwarnings('ignore', 'statsmodels.tsa.arima_model.ARMA',\n",
            "                        FutureWarning)\n",
            "warnings.filterwarnings('ignore', 'statsmodels.tsa.arima_model.ARIMA',\n",
            "                        FutureWarning)\n",
            "\n",
            "  warnings.warn(ARIMA_DEPRECATION_WARN, FutureWarning)\n",
            "/usr/local/lib/python3.7/dist-packages/statsmodels/tsa/arima_model.py:472: FutureWarning: \n",
            "statsmodels.tsa.arima_model.ARMA and statsmodels.tsa.arima_model.ARIMA have\n",
            "been deprecated in favor of statsmodels.tsa.arima.model.ARIMA (note the .\n",
            "between arima and model) and\n",
            "statsmodels.tsa.SARIMAX. These will be removed after the 0.12 release.\n",
            "\n",
            "statsmodels.tsa.arima.model.ARIMA makes use of the statespace framework and\n",
            "is both well tested and maintained.\n",
            "\n",
            "To silence this warning and continue using ARMA and ARIMA until they are\n",
            "removed, use:\n",
            "\n",
            "import warnings\n",
            "warnings.filterwarnings('ignore', 'statsmodels.tsa.arima_model.ARMA',\n",
            "                        FutureWarning)\n",
            "warnings.filterwarnings('ignore', 'statsmodels.tsa.arima_model.ARIMA',\n",
            "                        FutureWarning)\n",
            "\n",
            "  warnings.warn(ARIMA_DEPRECATION_WARN, FutureWarning)\n",
            "/usr/local/lib/python3.7/dist-packages/statsmodels/tsa/arima_model.py:472: FutureWarning: \n",
            "statsmodels.tsa.arima_model.ARMA and statsmodels.tsa.arima_model.ARIMA have\n",
            "been deprecated in favor of statsmodels.tsa.arima.model.ARIMA (note the .\n",
            "between arima and model) and\n",
            "statsmodels.tsa.SARIMAX. These will be removed after the 0.12 release.\n",
            "\n",
            "statsmodels.tsa.arima.model.ARIMA makes use of the statespace framework and\n",
            "is both well tested and maintained.\n",
            "\n",
            "To silence this warning and continue using ARMA and ARIMA until they are\n",
            "removed, use:\n",
            "\n",
            "import warnings\n",
            "warnings.filterwarnings('ignore', 'statsmodels.tsa.arima_model.ARMA',\n",
            "                        FutureWarning)\n",
            "warnings.filterwarnings('ignore', 'statsmodels.tsa.arima_model.ARIMA',\n",
            "                        FutureWarning)\n",
            "\n",
            "  warnings.warn(ARIMA_DEPRECATION_WARN, FutureWarning)\n",
            "/usr/local/lib/python3.7/dist-packages/statsmodels/tsa/arima_model.py:472: FutureWarning: \n",
            "statsmodels.tsa.arima_model.ARMA and statsmodels.tsa.arima_model.ARIMA have\n",
            "been deprecated in favor of statsmodels.tsa.arima.model.ARIMA (note the .\n",
            "between arima and model) and\n",
            "statsmodels.tsa.SARIMAX. These will be removed after the 0.12 release.\n",
            "\n",
            "statsmodels.tsa.arima.model.ARIMA makes use of the statespace framework and\n",
            "is both well tested and maintained.\n",
            "\n",
            "To silence this warning and continue using ARMA and ARIMA until they are\n",
            "removed, use:\n",
            "\n",
            "import warnings\n",
            "warnings.filterwarnings('ignore', 'statsmodels.tsa.arima_model.ARMA',\n",
            "                        FutureWarning)\n",
            "warnings.filterwarnings('ignore', 'statsmodels.tsa.arima_model.ARIMA',\n",
            "                        FutureWarning)\n",
            "\n",
            "  warnings.warn(ARIMA_DEPRECATION_WARN, FutureWarning)\n",
            "/usr/local/lib/python3.7/dist-packages/statsmodels/tsa/arima_model.py:472: FutureWarning: \n",
            "statsmodels.tsa.arima_model.ARMA and statsmodels.tsa.arima_model.ARIMA have\n",
            "been deprecated in favor of statsmodels.tsa.arima.model.ARIMA (note the .\n",
            "between arima and model) and\n",
            "statsmodels.tsa.SARIMAX. These will be removed after the 0.12 release.\n",
            "\n",
            "statsmodels.tsa.arima.model.ARIMA makes use of the statespace framework and\n",
            "is both well tested and maintained.\n",
            "\n",
            "To silence this warning and continue using ARMA and ARIMA until they are\n",
            "removed, use:\n",
            "\n",
            "import warnings\n",
            "warnings.filterwarnings('ignore', 'statsmodels.tsa.arima_model.ARMA',\n",
            "                        FutureWarning)\n",
            "warnings.filterwarnings('ignore', 'statsmodels.tsa.arima_model.ARIMA',\n",
            "                        FutureWarning)\n",
            "\n",
            "  warnings.warn(ARIMA_DEPRECATION_WARN, FutureWarning)\n",
            "/usr/local/lib/python3.7/dist-packages/statsmodels/tsa/arima_model.py:472: FutureWarning: \n",
            "statsmodels.tsa.arima_model.ARMA and statsmodels.tsa.arima_model.ARIMA have\n",
            "been deprecated in favor of statsmodels.tsa.arima.model.ARIMA (note the .\n",
            "between arima and model) and\n",
            "statsmodels.tsa.SARIMAX. These will be removed after the 0.12 release.\n",
            "\n",
            "statsmodels.tsa.arima.model.ARIMA makes use of the statespace framework and\n",
            "is both well tested and maintained.\n",
            "\n",
            "To silence this warning and continue using ARMA and ARIMA until they are\n",
            "removed, use:\n",
            "\n",
            "import warnings\n",
            "warnings.filterwarnings('ignore', 'statsmodels.tsa.arima_model.ARMA',\n",
            "                        FutureWarning)\n",
            "warnings.filterwarnings('ignore', 'statsmodels.tsa.arima_model.ARIMA',\n",
            "                        FutureWarning)\n",
            "\n",
            "  warnings.warn(ARIMA_DEPRECATION_WARN, FutureWarning)\n",
            "/usr/local/lib/python3.7/dist-packages/statsmodels/tsa/arima_model.py:472: FutureWarning: \n",
            "statsmodels.tsa.arima_model.ARMA and statsmodels.tsa.arima_model.ARIMA have\n",
            "been deprecated in favor of statsmodels.tsa.arima.model.ARIMA (note the .\n",
            "between arima and model) and\n",
            "statsmodels.tsa.SARIMAX. These will be removed after the 0.12 release.\n",
            "\n",
            "statsmodels.tsa.arima.model.ARIMA makes use of the statespace framework and\n",
            "is both well tested and maintained.\n",
            "\n",
            "To silence this warning and continue using ARMA and ARIMA until they are\n",
            "removed, use:\n",
            "\n",
            "import warnings\n",
            "warnings.filterwarnings('ignore', 'statsmodels.tsa.arima_model.ARMA',\n",
            "                        FutureWarning)\n",
            "warnings.filterwarnings('ignore', 'statsmodels.tsa.arima_model.ARIMA',\n",
            "                        FutureWarning)\n",
            "\n",
            "  warnings.warn(ARIMA_DEPRECATION_WARN, FutureWarning)\n",
            "/usr/local/lib/python3.7/dist-packages/statsmodels/tsa/arima_model.py:472: FutureWarning: \n",
            "statsmodels.tsa.arima_model.ARMA and statsmodels.tsa.arima_model.ARIMA have\n",
            "been deprecated in favor of statsmodels.tsa.arima.model.ARIMA (note the .\n",
            "between arima and model) and\n",
            "statsmodels.tsa.SARIMAX. These will be removed after the 0.12 release.\n",
            "\n",
            "statsmodels.tsa.arima.model.ARIMA makes use of the statespace framework and\n",
            "is both well tested and maintained.\n",
            "\n",
            "To silence this warning and continue using ARMA and ARIMA until they are\n",
            "removed, use:\n",
            "\n",
            "import warnings\n",
            "warnings.filterwarnings('ignore', 'statsmodels.tsa.arima_model.ARMA',\n",
            "                        FutureWarning)\n",
            "warnings.filterwarnings('ignore', 'statsmodels.tsa.arima_model.ARIMA',\n",
            "                        FutureWarning)\n",
            "\n",
            "  warnings.warn(ARIMA_DEPRECATION_WARN, FutureWarning)\n",
            "/usr/local/lib/python3.7/dist-packages/statsmodels/tsa/arima_model.py:472: FutureWarning: \n",
            "statsmodels.tsa.arima_model.ARMA and statsmodels.tsa.arima_model.ARIMA have\n",
            "been deprecated in favor of statsmodels.tsa.arima.model.ARIMA (note the .\n",
            "between arima and model) and\n",
            "statsmodels.tsa.SARIMAX. These will be removed after the 0.12 release.\n",
            "\n",
            "statsmodels.tsa.arima.model.ARIMA makes use of the statespace framework and\n",
            "is both well tested and maintained.\n",
            "\n",
            "To silence this warning and continue using ARMA and ARIMA until they are\n",
            "removed, use:\n",
            "\n",
            "import warnings\n",
            "warnings.filterwarnings('ignore', 'statsmodels.tsa.arima_model.ARMA',\n",
            "                        FutureWarning)\n",
            "warnings.filterwarnings('ignore', 'statsmodels.tsa.arima_model.ARIMA',\n",
            "                        FutureWarning)\n",
            "\n",
            "  warnings.warn(ARIMA_DEPRECATION_WARN, FutureWarning)\n",
            "/usr/local/lib/python3.7/dist-packages/statsmodels/base/model.py:548: HessianInversionWarning: Inverting hessian failed, no bse or cov_params available\n",
            "  'available', HessianInversionWarning)\n",
            "/usr/local/lib/python3.7/dist-packages/statsmodels/base/model.py:568: ConvergenceWarning: Maximum Likelihood optimization failed to converge. Check mle_retvals\n",
            "  ConvergenceWarning)\n",
            "/usr/local/lib/python3.7/dist-packages/statsmodels/tsa/arima_model.py:472: FutureWarning: \n",
            "statsmodels.tsa.arima_model.ARMA and statsmodels.tsa.arima_model.ARIMA have\n",
            "been deprecated in favor of statsmodels.tsa.arima.model.ARIMA (note the .\n",
            "between arima and model) and\n",
            "statsmodels.tsa.SARIMAX. These will be removed after the 0.12 release.\n",
            "\n",
            "statsmodels.tsa.arima.model.ARIMA makes use of the statespace framework and\n",
            "is both well tested and maintained.\n",
            "\n",
            "To silence this warning and continue using ARMA and ARIMA until they are\n",
            "removed, use:\n",
            "\n",
            "import warnings\n",
            "warnings.filterwarnings('ignore', 'statsmodels.tsa.arima_model.ARMA',\n",
            "                        FutureWarning)\n",
            "warnings.filterwarnings('ignore', 'statsmodels.tsa.arima_model.ARIMA',\n",
            "                        FutureWarning)\n",
            "\n",
            "  warnings.warn(ARIMA_DEPRECATION_WARN, FutureWarning)\n"
          ]
        },
        {
          "output_type": "execute_result",
          "data": {
            "text/html": [
              "<div>\n",
              "<style scoped>\n",
              "    .dataframe tbody tr th:only-of-type {\n",
              "        vertical-align: middle;\n",
              "    }\n",
              "\n",
              "    .dataframe tbody tr th {\n",
              "        vertical-align: top;\n",
              "    }\n",
              "\n",
              "    .dataframe thead th {\n",
              "        text-align: right;\n",
              "    }\n",
              "</style>\n",
              "<table border=\"1\" class=\"dataframe\">\n",
              "  <thead>\n",
              "    <tr style=\"text-align: right;\">\n",
              "      <th></th>\n",
              "      <th>order</th>\n",
              "      <th>AIC</th>\n",
              "    </tr>\n",
              "  </thead>\n",
              "  <tbody>\n",
              "    <tr>\n",
              "      <th>26</th>\n",
              "      <td>p2 d2 q2</td>\n",
              "      <td>3574.579229</td>\n",
              "    </tr>\n",
              "    <tr>\n",
              "      <th>7</th>\n",
              "      <td>p0 d2 q1</td>\n",
              "      <td>3579.570166</td>\n",
              "    </tr>\n",
              "    <tr>\n",
              "      <th>8</th>\n",
              "      <td>p0 d2 q2</td>\n",
              "      <td>3580.818867</td>\n",
              "    </tr>\n",
              "    <tr>\n",
              "      <th>16</th>\n",
              "      <td>p1 d2 q1</td>\n",
              "      <td>3580.893627</td>\n",
              "    </tr>\n",
              "    <tr>\n",
              "      <th>17</th>\n",
              "      <td>p1 d2 q2</td>\n",
              "      <td>3581.867181</td>\n",
              "    </tr>\n",
              "    <tr>\n",
              "      <th>25</th>\n",
              "      <td>p2 d2 q1</td>\n",
              "      <td>3582.177456</td>\n",
              "    </tr>\n",
              "    <tr>\n",
              "      <th>22</th>\n",
              "      <td>p2 d1 q1</td>\n",
              "      <td>3584.116927</td>\n",
              "    </tr>\n",
              "    <tr>\n",
              "      <th>14</th>\n",
              "      <td>p1 d1 q2</td>\n",
              "      <td>3584.224921</td>\n",
              "    </tr>\n",
              "    <tr>\n",
              "      <th>3</th>\n",
              "      <td>p0 d1 q0</td>\n",
              "      <td>3588.629239</td>\n",
              "    </tr>\n",
              "    <tr>\n",
              "      <th>4</th>\n",
              "      <td>p0 d1 q1</td>\n",
              "      <td>3589.938082</td>\n",
              "    </tr>\n",
              "    <tr>\n",
              "      <th>12</th>\n",
              "      <td>p1 d1 q0</td>\n",
              "      <td>3590.008877</td>\n",
              "    </tr>\n",
              "    <tr>\n",
              "      <th>21</th>\n",
              "      <td>p2 d1 q0</td>\n",
              "      <td>3591.261338</td>\n",
              "    </tr>\n",
              "    <tr>\n",
              "      <th>23</th>\n",
              "      <td>p2 d1 q2</td>\n",
              "      <td>3591.359669</td>\n",
              "    </tr>\n",
              "    <tr>\n",
              "      <th>5</th>\n",
              "      <td>p0 d1 q2</td>\n",
              "      <td>3591.562687</td>\n",
              "    </tr>\n",
              "    <tr>\n",
              "      <th>13</th>\n",
              "      <td>p1 d1 q1</td>\n",
              "      <td>3591.862234</td>\n",
              "    </tr>\n",
              "    <tr>\n",
              "      <th>9</th>\n",
              "      <td>p1 d0 q0</td>\n",
              "      <td>3609.503376</td>\n",
              "    </tr>\n",
              "    <tr>\n",
              "      <th>10</th>\n",
              "      <td>p1 d0 q1</td>\n",
              "      <td>3610.370413</td>\n",
              "    </tr>\n",
              "    <tr>\n",
              "      <th>18</th>\n",
              "      <td>p2 d0 q0</td>\n",
              "      <td>3610.447603</td>\n",
              "    </tr>\n",
              "    <tr>\n",
              "      <th>11</th>\n",
              "      <td>p1 d0 q2</td>\n",
              "      <td>3612.273689</td>\n",
              "    </tr>\n",
              "    <tr>\n",
              "      <th>19</th>\n",
              "      <td>p2 d0 q1</td>\n",
              "      <td>3612.344449</td>\n",
              "    </tr>\n",
              "    <tr>\n",
              "      <th>20</th>\n",
              "      <td>p2 d0 q2</td>\n",
              "      <td>3613.530192</td>\n",
              "    </tr>\n",
              "    <tr>\n",
              "      <th>24</th>\n",
              "      <td>p2 d2 q0</td>\n",
              "      <td>3648.527731</td>\n",
              "    </tr>\n",
              "    <tr>\n",
              "      <th>15</th>\n",
              "      <td>p1 d2 q0</td>\n",
              "      <td>3664.329074</td>\n",
              "    </tr>\n",
              "    <tr>\n",
              "      <th>6</th>\n",
              "      <td>p0 d2 q0</td>\n",
              "      <td>3707.965071</td>\n",
              "    </tr>\n",
              "    <tr>\n",
              "      <th>2</th>\n",
              "      <td>p0 d0 q2</td>\n",
              "      <td>3844.168645</td>\n",
              "    </tr>\n",
              "    <tr>\n",
              "      <th>1</th>\n",
              "      <td>p0 d0 q1</td>\n",
              "      <td>4003.327120</td>\n",
              "    </tr>\n",
              "    <tr>\n",
              "      <th>0</th>\n",
              "      <td>p0 d0 q0</td>\n",
              "      <td>4232.123313</td>\n",
              "    </tr>\n",
              "  </tbody>\n",
              "</table>\n",
              "</div>"
            ],
            "text/plain": [
              "       order          AIC\n",
              "26  p2 d2 q2  3574.579229\n",
              "7   p0 d2 q1  3579.570166\n",
              "8   p0 d2 q2  3580.818867\n",
              "16  p1 d2 q1  3580.893627\n",
              "17  p1 d2 q2  3581.867181\n",
              "25  p2 d2 q1  3582.177456\n",
              "22  p2 d1 q1  3584.116927\n",
              "14  p1 d1 q2  3584.224921\n",
              "3   p0 d1 q0  3588.629239\n",
              "4   p0 d1 q1  3589.938082\n",
              "12  p1 d1 q0  3590.008877\n",
              "21  p2 d1 q0  3591.261338\n",
              "23  p2 d1 q2  3591.359669\n",
              "5   p0 d1 q2  3591.562687\n",
              "13  p1 d1 q1  3591.862234\n",
              "9   p1 d0 q0  3609.503376\n",
              "10  p1 d0 q1  3610.370413\n",
              "18  p2 d0 q0  3610.447603\n",
              "11  p1 d0 q2  3612.273689\n",
              "19  p2 d0 q1  3612.344449\n",
              "20  p2 d0 q2  3613.530192\n",
              "24  p2 d2 q0  3648.527731\n",
              "15  p1 d2 q0  3664.329074\n",
              "6   p0 d2 q0  3707.965071\n",
              "2   p0 d0 q2  3844.168645\n",
              "1   p0 d0 q1  4003.327120\n",
              "0   p0 d0 q0  4232.123313"
            ]
          },
          "metadata": {},
          "execution_count": 190
        }
      ]
    },
    {
      "cell_type": "code",
      "metadata": {
        "colab": {
          "base_uri": "https://localhost:8080/"
        },
        "id": "LYXnv8b6bHMW",
        "outputId": "237cff64-e094-4789-93ab-e871a24a75b4"
      },
      "source": [
        "# AR 모델 적용\n",
        "try:\n",
        "  ARIMA_MODEL = ARIMA(arima_set['Close'], order=(2, 2, 2)) # p, d, q\n",
        "  ARIMA_MODEL_FIT = ARIMA_MODEL.fit(trend='nc', full_output=True, disp=True) # trend='nc': 상수가 없는 모형(non-constant) / disp=True: 수렴 정보가 출력\n",
        "  print('수렴')\n",
        "# 수렴하지 않을 경우 p d q 를 1, 1, 0으로 사용\n",
        "except:\n",
        "  ARIMA_MODEL = ARIMA(arima_set['Close'], order = (1, 1, 0))\n",
        "  ARIMA_MODEL_FIT = ARIMA_MODEL.fit(trend='nc', full_output=True, disp=True)\n",
        "  print('수렴하지 못함')\n",
        "\n",
        "# ARIMA 예측\n",
        "pred_start = 2\n",
        "pred_end = len(merged_df) - 2\n",
        "# train_prediction = ARIMA_MODEL_FIT.predict(start=pred_start, end=pred_end, typ='levels')\n",
        "forecast = ARIMA_MODEL_FIT.forecast(steps=5)"
      ],
      "execution_count": 200,
      "outputs": [
        {
          "output_type": "stream",
          "name": "stderr",
          "text": [
            "/usr/local/lib/python3.7/dist-packages/statsmodels/tsa/arima_model.py:472: FutureWarning: \n",
            "statsmodels.tsa.arima_model.ARMA and statsmodels.tsa.arima_model.ARIMA have\n",
            "been deprecated in favor of statsmodels.tsa.arima.model.ARIMA (note the .\n",
            "between arima and model) and\n",
            "statsmodels.tsa.SARIMAX. These will be removed after the 0.12 release.\n",
            "\n",
            "statsmodels.tsa.arima.model.ARIMA makes use of the statespace framework and\n",
            "is both well tested and maintained.\n",
            "\n",
            "To silence this warning and continue using ARMA and ARIMA until they are\n",
            "removed, use:\n",
            "\n",
            "import warnings\n",
            "warnings.filterwarnings('ignore', 'statsmodels.tsa.arima_model.ARMA',\n",
            "                        FutureWarning)\n",
            "warnings.filterwarnings('ignore', 'statsmodels.tsa.arima_model.ARIMA',\n",
            "                        FutureWarning)\n",
            "\n",
            "  warnings.warn(ARIMA_DEPRECATION_WARN, FutureWarning)\n"
          ]
        },
        {
          "output_type": "stream",
          "name": "stdout",
          "text": [
            "수렴\n"
          ]
        },
        {
          "output_type": "stream",
          "name": "stderr",
          "text": [
            "/usr/local/lib/python3.7/dist-packages/statsmodels/tsa/arima_model.py:472: FutureWarning: \n",
            "statsmodels.tsa.arima_model.ARMA and statsmodels.tsa.arima_model.ARIMA have\n",
            "been deprecated in favor of statsmodels.tsa.arima.model.ARIMA (note the .\n",
            "between arima and model) and\n",
            "statsmodels.tsa.SARIMAX. These will be removed after the 0.12 release.\n",
            "\n",
            "statsmodels.tsa.arima.model.ARIMA makes use of the statespace framework and\n",
            "is both well tested and maintained.\n",
            "\n",
            "To silence this warning and continue using ARMA and ARIMA until they are\n",
            "removed, use:\n",
            "\n",
            "import warnings\n",
            "warnings.filterwarnings('ignore', 'statsmodels.tsa.arima_model.ARMA',\n",
            "                        FutureWarning)\n",
            "warnings.filterwarnings('ignore', 'statsmodels.tsa.arima_model.ARIMA',\n",
            "                        FutureWarning)\n",
            "\n",
            "  warnings.warn(ARIMA_DEPRECATION_WARN, FutureWarning)\n"
          ]
        }
      ]
    },
    {
      "cell_type": "code",
      "metadata": {
        "colab": {
          "base_uri": "https://localhost:8080/"
        },
        "id": "TehIYyR8gO7x",
        "outputId": "9451f185-1d09-4315-c0bc-4c53f4ace41f"
      },
      "source": [
        "print(ARIMA_MODEL_FIT.summary()) # p-value로 봐서는 유의미하지 않은 결과임..."
      ],
      "execution_count": 201,
      "outputs": [
        {
          "output_type": "stream",
          "name": "stdout",
          "text": [
            "                             ARIMA Model Results                              \n",
            "==============================================================================\n",
            "Dep. Variable:               D2.Close   No. Observations:                  213\n",
            "Model:                 ARIMA(2, 2, 2)   Log Likelihood               -1786.649\n",
            "Method:                       css-mle   S.D. of innovations           1050.290\n",
            "Date:                Mon, 22 Nov 2021   AIC                           3583.297\n",
            "Time:                        08:35:25   BIC                           3600.104\n",
            "Sample:                             2   HQIC                          3590.089\n",
            "                                                                              \n",
            "==================================================================================\n",
            "                     coef    std err          z      P>|z|      [0.025      0.975]\n",
            "----------------------------------------------------------------------------------\n",
            "ar.L1.D2.Close    -0.6310      0.350     -1.804      0.071      -1.317       0.055\n",
            "ar.L2.D2.Close     0.0635      0.069      0.914      0.361      -0.073       0.200\n",
            "ma.L1.D2.Close    -0.3109      0.344     -0.903      0.366      -0.986       0.364\n",
            "ma.L2.D2.Close    -0.6891      0.344     -2.003      0.045      -1.364      -0.015\n",
            "                                    Roots                                    \n",
            "=============================================================================\n",
            "                  Real          Imaginary           Modulus         Frequency\n",
            "-----------------------------------------------------------------------------\n",
            "AR.1           -1.3902           +0.0000j            1.3902            0.5000\n",
            "AR.2           11.3241           +0.0000j           11.3241            0.0000\n",
            "MA.1            1.0000           +0.0000j            1.0000            0.0000\n",
            "MA.2           -1.4511           +0.0000j            1.4511            0.5000\n",
            "-----------------------------------------------------------------------------\n"
          ]
        }
      ]
    },
    {
      "cell_type": "code",
      "metadata": {
        "colab": {
          "base_uri": "https://localhost:8080/",
          "height": 530
        },
        "id": "THEYH1MBg6VW",
        "outputId": "eda3c36f-d457-46e1-a273-9fbce4481029"
      },
      "source": [
        "# 왜 그래프가 2개나 생기는지 모르겠음\n",
        "ARIMA_MODEL_FIT.plot_predict()"
      ],
      "execution_count": 202,
      "outputs": [
        {
          "output_type": "execute_result",
          "data": {
            "image/png": "[encoded data removed]",
            "text/plain": [
              "<Figure size 432x288 with 1 Axes>"
            ]
          },
          "metadata": {},
          "execution_count": 202
        },
        {
          "output_type": "display_data",
          "data": {
            "text/plain": [
              "<Figure size 1440x720 with 0 Axes>"
            ]
          },
          "metadata": {}
        },
        {
          "output_type": "display_data",
          "data": {
            "image/png": "[encoded data removed]",
            "text/plain": [
              "<Figure size 432x288 with 1 Axes>"
            ]
          },
          "metadata": {
            "needs_background": "light"
          }
        }
      ]
    },
    {
      "cell_type": "code",
      "metadata": {
        "id": "MrkZpcovg3IR"
      },
      "source": [
        "# 전체 데이터셋 예측값 계산해서 DataFrame으로 저장하는 함수\n",
        "def arima_predict():\n",
        "  arima_forecast = pd.DataFrame()\n",
        "  i = 0\n",
        "  for code in tqdm(stock_list['종목코드'].values):\n",
        "    data = fdr.DataReader(code, start=start_date, end=end_date)[['Close']].reset_index()\n",
        "    data = pd.merge(Business_days, data, how='outer')\n",
        "    data['Close'] = data['Close'].interpolate()\n",
        "\n",
        "    data = data.iloc[:-1]\n",
        "    # AR 모델 적용\n",
        "    try:\n",
        "      ARIMA_MODEL = ARIMA(data['Close'], order=(2, 2, 2)) # p, d, q\n",
        "      ARIMA_MODEL_FIT = ARIMA_MODEL.fit(trend='nc', full_output=True, disp=True) # trend='nc': 상수가 없는 모형(non-constant) / disp=True: 수렴 정보가 출력\n",
        "      print('수렴')\n",
        "    # 수렴하지 않을 경우 p, d, q 를 1, 1, 0으로 사용\n",
        "    except:\n",
        "      ARIMA_MODEL = ARIMA(data['Close'], order = (1, 1, 0))\n",
        "      ARIMA_MODEL_FIT = ARIMA_MODEL.fit(trend='nc', full_output=True, disp=True)\n",
        "      print('수렴하지 못함')\n",
        "\n",
        "    # ARIMA 예측\n",
        "    pred_start = 2\n",
        "    pred_end = len(data) - 2\n",
        "    # train_prediction = ARIMA_MODEL_FIT.predict(start=pred_start, end=pred_end, typ='levels')\n",
        "    forecast = ARIMA_MODEL_FIT.forecast(steps=5)\n",
        "    tmp = pd.DataFrame(forecast[0].tolist(), columns=[code])\n",
        "\n",
        "    arima_forecast = pd.concat([arima_forecast, tmp], axis=1)\n",
        "    print(f'{i}번째 코드 예측값 추가 완료')\n",
        "    i += 1\n",
        "  return arima_forecast"
      ],
      "execution_count": 22,
      "outputs": []
    },
    {
      "cell_type": "code",
      "metadata": {
        "colab": {
          "base_uri": "https://localhost:8080/",
          "height": 1000
        },
        "id": "yIMITmTW0pkQ",
        "outputId": "8caf4b2b-9eb5-400e-e39f-1b0194973c6a"
      },
      "source": [
        "arima_pred = arima_predict()\n",
        "arima_pred"
      ],
      "execution_count": 23,
      "outputs": [
        {
          "output_type": "stream",
          "name": "stderr",
          "text": [
            "  0%|          | 1/370 [00:02<16:33,  2.69s/it]"
          ]
        },
        {
          "output_type": "stream",
          "name": "stdout",
          "text": [
            "수렴\n",
            "0번째 코드 예측값 추가 완료\n"
          ]
        },
        {
          "output_type": "stream",
          "name": "stderr",
          "text": [
            "\r  1%|          | 2/370 [00:04<13:22,  2.18s/it]"
          ]
        },
        {
          "output_type": "stream",
          "name": "stdout",
          "text": [
            "수렴\n",
            "1번째 코드 예측값 추가 완료\n"
          ]
        },
        {
          "output_type": "stream",
          "name": "stderr",
          "text": [
            "\r  1%|          | 3/370 [00:06<11:24,  1.86s/it]"
          ]
        },
        {
          "output_type": "stream",
          "name": "stdout",
          "text": [
            "수렴하지 못함\n",
            "2번째 코드 예측값 추가 완료\n"
          ]
        },
        {
          "output_type": "stream",
          "name": "stderr",
          "text": [
            "\r  1%|          | 4/370 [00:07<10:21,  1.70s/it]"
          ]
        },
        {
          "output_type": "stream",
          "name": "stdout",
          "text": [
            "수렴\n",
            "3번째 코드 예측값 추가 완료\n"
          ]
        },
        {
          "output_type": "stream",
          "name": "stderr",
          "text": [
            "\r  1%|▏         | 5/370 [00:08<09:00,  1.48s/it]"
          ]
        },
        {
          "output_type": "stream",
          "name": "stdout",
          "text": [
            "수렴\n",
            "4번째 코드 예측값 추가 완료\n"
          ]
        },
        {
          "output_type": "stream",
          "name": "stderr",
          "text": [
            "/usr/local/lib/python3.7/dist-packages/statsmodels/base/model.py:492: HessianInversionWarning: Inverting hessian failed, no bse or cov_params available\n",
            "  'available', HessianInversionWarning)\n",
            "\r  2%|▏         | 6/370 [00:10<09:08,  1.51s/it]"
          ]
        },
        {
          "output_type": "stream",
          "name": "stdout",
          "text": [
            "수렴\n",
            "5번째 코드 예측값 추가 완료\n"
          ]
        },
        {
          "output_type": "stream",
          "name": "stderr",
          "text": [
            "/usr/local/lib/python3.7/dist-packages/statsmodels/base/model.py:492: HessianInversionWarning: Inverting hessian failed, no bse or cov_params available\n",
            "  'available', HessianInversionWarning)\n",
            "\r  2%|▏         | 7/370 [00:11<09:34,  1.58s/it]"
          ]
        },
        {
          "output_type": "stream",
          "name": "stdout",
          "text": [
            "수렴\n",
            "6번째 코드 예측값 추가 완료\n"
          ]
        },
        {
          "output_type": "stream",
          "name": "stderr",
          "text": [
            "\r  2%|▏         | 8/370 [00:13<09:24,  1.56s/it]"
          ]
        },
        {
          "output_type": "stream",
          "name": "stdout",
          "text": [
            "수렴\n",
            "7번째 코드 예측값 추가 완료\n"
          ]
        },
        {
          "output_type": "stream",
          "name": "stderr",
          "text": [
            "\r  2%|▏         | 9/370 [00:14<09:10,  1.53s/it]"
          ]
        },
        {
          "output_type": "stream",
          "name": "stdout",
          "text": [
            "수렴\n",
            "8번째 코드 예측값 추가 완료\n"
          ]
        },
        {
          "output_type": "stream",
          "name": "stderr",
          "text": [
            "\r  3%|▎         | 10/370 [00:16<09:17,  1.55s/it]"
          ]
        },
        {
          "output_type": "stream",
          "name": "stdout",
          "text": [
            "수렴\n",
            "9번째 코드 예측값 추가 완료\n"
          ]
        },
        {
          "output_type": "stream",
          "name": "stderr",
          "text": [
            "\r  3%|▎         | 11/370 [00:18<09:38,  1.61s/it]"
          ]
        },
        {
          "output_type": "stream",
          "name": "stdout",
          "text": [
            "수렴\n",
            "10번째 코드 예측값 추가 완료\n"
          ]
        },
        {
          "output_type": "stream",
          "name": "stderr",
          "text": [
            "\r  3%|▎         | 12/370 [00:19<09:40,  1.62s/it]"
          ]
        },
        {
          "output_type": "stream",
          "name": "stdout",
          "text": [
            "수렴\n",
            "11번째 코드 예측값 추가 완료\n"
          ]
        },
        {
          "output_type": "stream",
          "name": "stderr",
          "text": [
            "\r  4%|▎         | 13/370 [00:21<09:16,  1.56s/it]"
          ]
        },
        {
          "output_type": "stream",
          "name": "stdout",
          "text": [
            "수렴\n",
            "12번째 코드 예측값 추가 완료\n"
          ]
        },
        {
          "output_type": "stream",
          "name": "stderr",
          "text": [
            "\r  4%|▍         | 14/370 [00:22<08:57,  1.51s/it]"
          ]
        },
        {
          "output_type": "stream",
          "name": "stdout",
          "text": [
            "수렴\n",
            "13번째 코드 예측값 추가 완료\n"
          ]
        },
        {
          "output_type": "stream",
          "name": "stderr",
          "text": [
            "\r  4%|▍         | 15/370 [00:23<08:30,  1.44s/it]"
          ]
        },
        {
          "output_type": "stream",
          "name": "stdout",
          "text": [
            "수렴하지 못함\n",
            "14번째 코드 예측값 추가 완료\n"
          ]
        },
        {
          "output_type": "stream",
          "name": "stderr",
          "text": [
            "\r  4%|▍         | 16/370 [00:25<08:30,  1.44s/it]"
          ]
        },
        {
          "output_type": "stream",
          "name": "stdout",
          "text": [
            "수렴하지 못함\n",
            "15번째 코드 예측값 추가 완료\n"
          ]
        },
        {
          "output_type": "stream",
          "name": "stderr",
          "text": [
            "/usr/local/lib/python3.7/dist-packages/statsmodels/base/model.py:492: HessianInversionWarning: Inverting hessian failed, no bse or cov_params available\n",
            "  'available', HessianInversionWarning)\n",
            "\r  5%|▍         | 17/370 [00:26<08:33,  1.45s/it]"
          ]
        },
        {
          "output_type": "stream",
          "name": "stdout",
          "text": [
            "수렴\n",
            "16번째 코드 예측값 추가 완료\n"
          ]
        },
        {
          "output_type": "stream",
          "name": "stderr",
          "text": [
            "\r  5%|▍         | 18/370 [00:28<08:50,  1.51s/it]"
          ]
        },
        {
          "output_type": "stream",
          "name": "stdout",
          "text": [
            "수렴\n",
            "17번째 코드 예측값 추가 완료\n"
          ]
        },
        {
          "output_type": "stream",
          "name": "stderr",
          "text": [
            "\r  5%|▌         | 19/370 [00:30<08:55,  1.53s/it]"
          ]
        },
        {
          "output_type": "stream",
          "name": "stdout",
          "text": [
            "수렴\n",
            "18번째 코드 예측값 추가 완료\n"
          ]
        },
        {
          "output_type": "stream",
          "name": "stderr",
          "text": [
            "\r  5%|▌         | 20/370 [00:31<09:00,  1.54s/it]"
          ]
        },
        {
          "output_type": "stream",
          "name": "stdout",
          "text": [
            "수렴\n",
            "19번째 코드 예측값 추가 완료\n"
          ]
        },
        {
          "output_type": "stream",
          "name": "stderr",
          "text": [
            "\r  6%|▌         | 21/370 [00:32<08:26,  1.45s/it]"
          ]
        },
        {
          "output_type": "stream",
          "name": "stdout",
          "text": [
            "수렴\n",
            "20번째 코드 예측값 추가 완료\n"
          ]
        },
        {
          "output_type": "stream",
          "name": "stderr",
          "text": [
            "\r  6%|▌         | 22/370 [00:34<08:26,  1.46s/it]"
          ]
        },
        {
          "output_type": "stream",
          "name": "stdout",
          "text": [
            "수렴\n",
            "21번째 코드 예측값 추가 완료\n"
          ]
        },
        {
          "output_type": "stream",
          "name": "stderr",
          "text": [
            "\r  6%|▌         | 23/370 [00:36<09:00,  1.56s/it]"
          ]
        },
        {
          "output_type": "stream",
          "name": "stdout",
          "text": [
            "수렴\n",
            "22번째 코드 예측값 추가 완료\n"
          ]
        },
        {
          "output_type": "stream",
          "name": "stderr",
          "text": [
            "/usr/local/lib/python3.7/dist-packages/statsmodels/base/model.py:492: HessianInversionWarning: Inverting hessian failed, no bse or cov_params available\n",
            "  'available', HessianInversionWarning)\n",
            "\r  6%|▋         | 24/370 [00:37<08:44,  1.52s/it]"
          ]
        },
        {
          "output_type": "stream",
          "name": "stdout",
          "text": [
            "수렴\n",
            "23번째 코드 예측값 추가 완료\n"
          ]
        },
        {
          "output_type": "stream",
          "name": "stderr",
          "text": [
            "\r  7%|▋         | 25/370 [00:39<08:41,  1.51s/it]"
          ]
        },
        {
          "output_type": "stream",
          "name": "stdout",
          "text": [
            "수렴\n",
            "24번째 코드 예측값 추가 완료\n"
          ]
        },
        {
          "output_type": "stream",
          "name": "stderr",
          "text": [
            "\r  7%|▋         | 26/370 [00:40<08:12,  1.43s/it]"
          ]
        },
        {
          "output_type": "stream",
          "name": "stdout",
          "text": [
            "수렴\n",
            "25번째 코드 예측값 추가 완료\n"
          ]
        },
        {
          "output_type": "stream",
          "name": "stderr",
          "text": [
            "\r  7%|▋         | 27/370 [00:42<08:52,  1.55s/it]"
          ]
        },
        {
          "output_type": "stream",
          "name": "stdout",
          "text": [
            "수렴\n",
            "26번째 코드 예측값 추가 완료\n"
          ]
        },
        {
          "output_type": "stream",
          "name": "stderr",
          "text": [
            "/usr/local/lib/python3.7/dist-packages/statsmodels/base/model.py:492: HessianInversionWarning: Inverting hessian failed, no bse or cov_params available\n",
            "  'available', HessianInversionWarning)\n",
            "\r  8%|▊         | 28/370 [00:43<08:34,  1.51s/it]"
          ]
        },
        {
          "output_type": "stream",
          "name": "stdout",
          "text": [
            "수렴\n",
            "27번째 코드 예측값 추가 완료\n"
          ]
        },
        {
          "output_type": "stream",
          "name": "stderr",
          "text": [
            "\r  8%|▊         | 29/370 [00:44<08:31,  1.50s/it]"
          ]
        },
        {
          "output_type": "stream",
          "name": "stdout",
          "text": [
            "수렴\n",
            "28번째 코드 예측값 추가 완료\n"
          ]
        },
        {
          "output_type": "stream",
          "name": "stderr",
          "text": [
            "\r  8%|▊         | 30/370 [00:46<07:52,  1.39s/it]"
          ]
        },
        {
          "output_type": "stream",
          "name": "stdout",
          "text": [
            "수렴\n",
            "29번째 코드 예측값 추가 완료\n"
          ]
        },
        {
          "output_type": "stream",
          "name": "stderr",
          "text": [
            "/usr/local/lib/python3.7/dist-packages/statsmodels/base/model.py:492: HessianInversionWarning: Inverting hessian failed, no bse or cov_params available\n",
            "  'available', HessianInversionWarning)\n",
            "\r  8%|▊         | 31/370 [00:47<07:58,  1.41s/it]"
          ]
        },
        {
          "output_type": "stream",
          "name": "stdout",
          "text": [
            "수렴\n",
            "30번째 코드 예측값 추가 완료\n"
          ]
        },
        {
          "output_type": "stream",
          "name": "stderr",
          "text": [
            "/usr/local/lib/python3.7/dist-packages/statsmodels/base/model.py:492: HessianInversionWarning: Inverting hessian failed, no bse or cov_params available\n",
            "  'available', HessianInversionWarning)\n",
            "\r  9%|▊         | 32/370 [00:48<07:13,  1.28s/it]"
          ]
        },
        {
          "output_type": "stream",
          "name": "stdout",
          "text": [
            "수렴\n",
            "31번째 코드 예측값 추가 완료\n"
          ]
        },
        {
          "output_type": "stream",
          "name": "stderr",
          "text": [
            "\r  9%|▉         | 33/370 [00:50<07:46,  1.38s/it]"
          ]
        },
        {
          "output_type": "stream",
          "name": "stdout",
          "text": [
            "수렴\n",
            "32번째 코드 예측값 추가 완료\n"
          ]
        },
        {
          "output_type": "stream",
          "name": "stderr",
          "text": [
            "\r  9%|▉         | 34/370 [00:51<07:33,  1.35s/it]"
          ]
        },
        {
          "output_type": "stream",
          "name": "stdout",
          "text": [
            "수렴하지 못함\n",
            "33번째 코드 예측값 추가 완료\n"
          ]
        },
        {
          "output_type": "stream",
          "name": "stderr",
          "text": [
            "\r  9%|▉         | 35/370 [00:52<07:24,  1.33s/it]"
          ]
        },
        {
          "output_type": "stream",
          "name": "stdout",
          "text": [
            "수렴하지 못함\n",
            "34번째 코드 예측값 추가 완료\n"
          ]
        },
        {
          "output_type": "stream",
          "name": "stderr",
          "text": [
            "/usr/local/lib/python3.7/dist-packages/statsmodels/base/model.py:492: HessianInversionWarning: Inverting hessian failed, no bse or cov_params available\n",
            "  'available', HessianInversionWarning)\n",
            "\r 10%|▉         | 36/370 [00:54<07:35,  1.36s/it]"
          ]
        },
        {
          "output_type": "stream",
          "name": "stdout",
          "text": [
            "수렴\n",
            "35번째 코드 예측값 추가 완료\n"
          ]
        },
        {
          "output_type": "stream",
          "name": "stderr",
          "text": [
            "\r 10%|█         | 37/370 [00:55<07:42,  1.39s/it]"
          ]
        },
        {
          "output_type": "stream",
          "name": "stdout",
          "text": [
            "수렴하지 못함\n",
            "36번째 코드 예측값 추가 완료\n"
          ]
        },
        {
          "output_type": "stream",
          "name": "stderr",
          "text": [
            "\r 10%|█         | 38/370 [00:56<07:26,  1.34s/it]"
          ]
        },
        {
          "output_type": "stream",
          "name": "stdout",
          "text": [
            "수렴하지 못함\n",
            "37번째 코드 예측값 추가 완료\n"
          ]
        },
        {
          "output_type": "stream",
          "name": "stderr",
          "text": [
            "\r 11%|█         | 39/370 [00:58<07:19,  1.33s/it]"
          ]
        },
        {
          "output_type": "stream",
          "name": "stdout",
          "text": [
            "수렴하지 못함\n",
            "38번째 코드 예측값 추가 완료\n"
          ]
        },
        {
          "output_type": "stream",
          "name": "stderr",
          "text": [
            "\r 11%|█         | 40/370 [00:59<06:52,  1.25s/it]"
          ]
        },
        {
          "output_type": "stream",
          "name": "stdout",
          "text": [
            "수렴\n",
            "39번째 코드 예측값 추가 완료\n"
          ]
        },
        {
          "output_type": "stream",
          "name": "stderr",
          "text": [
            "\r 11%|█         | 41/370 [01:00<07:18,  1.33s/it]"
          ]
        },
        {
          "output_type": "stream",
          "name": "stdout",
          "text": [
            "수렴\n",
            "40번째 코드 예측값 추가 완료\n"
          ]
        },
        {
          "output_type": "stream",
          "name": "stderr",
          "text": [
            "/usr/local/lib/python3.7/dist-packages/statsmodels/base/model.py:492: HessianInversionWarning: Inverting hessian failed, no bse or cov_params available\n",
            "  'available', HessianInversionWarning)\n",
            "\r 11%|█▏        | 42/370 [01:02<07:42,  1.41s/it]"
          ]
        },
        {
          "output_type": "stream",
          "name": "stdout",
          "text": [
            "수렴\n",
            "41번째 코드 예측값 추가 완료\n"
          ]
        },
        {
          "output_type": "stream",
          "name": "stderr",
          "text": [
            "\r 12%|█▏        | 43/370 [01:03<07:27,  1.37s/it]"
          ]
        },
        {
          "output_type": "stream",
          "name": "stdout",
          "text": [
            "수렴하지 못함\n",
            "42번째 코드 예측값 추가 완료\n"
          ]
        },
        {
          "output_type": "stream",
          "name": "stderr",
          "text": [
            "/usr/local/lib/python3.7/dist-packages/statsmodels/base/model.py:492: HessianInversionWarning: Inverting hessian failed, no bse or cov_params available\n",
            "  'available', HessianInversionWarning)\n",
            "\r 12%|█▏        | 44/370 [01:05<07:40,  1.41s/it]"
          ]
        },
        {
          "output_type": "stream",
          "name": "stdout",
          "text": [
            "수렴\n",
            "43번째 코드 예측값 추가 완료\n"
          ]
        },
        {
          "output_type": "stream",
          "name": "stderr",
          "text": [
            "\r 12%|█▏        | 45/370 [01:06<07:09,  1.32s/it]"
          ]
        },
        {
          "output_type": "stream",
          "name": "stdout",
          "text": [
            "수렴\n",
            "44번째 코드 예측값 추가 완료\n"
          ]
        },
        {
          "output_type": "stream",
          "name": "stderr",
          "text": [
            "\r 12%|█▏        | 46/370 [01:07<07:25,  1.37s/it]"
          ]
        },
        {
          "output_type": "stream",
          "name": "stdout",
          "text": [
            "수렴\n",
            "45번째 코드 예측값 추가 완료\n"
          ]
        },
        {
          "output_type": "stream",
          "name": "stderr",
          "text": [
            "/usr/local/lib/python3.7/dist-packages/statsmodels/base/model.py:492: HessianInversionWarning: Inverting hessian failed, no bse or cov_params available\n",
            "  'available', HessianInversionWarning)\n",
            "\r 13%|█▎        | 47/370 [01:09<07:48,  1.45s/it]"
          ]
        },
        {
          "output_type": "stream",
          "name": "stdout",
          "text": [
            "수렴\n",
            "46번째 코드 예측값 추가 완료\n"
          ]
        },
        {
          "output_type": "stream",
          "name": "stderr",
          "text": [
            "\r 13%|█▎        | 48/370 [01:10<07:25,  1.38s/it]"
          ]
        },
        {
          "output_type": "stream",
          "name": "stdout",
          "text": [
            "수렴하지 못함\n",
            "47번째 코드 예측값 추가 완료\n"
          ]
        },
        {
          "output_type": "stream",
          "name": "stderr",
          "text": [
            "\r 13%|█▎        | 49/370 [01:12<07:45,  1.45s/it]"
          ]
        },
        {
          "output_type": "stream",
          "name": "stdout",
          "text": [
            "수렴\n",
            "48번째 코드 예측값 추가 완료\n"
          ]
        },
        {
          "output_type": "stream",
          "name": "stderr",
          "text": [
            "/usr/local/lib/python3.7/dist-packages/statsmodels/base/model.py:492: HessianInversionWarning: Inverting hessian failed, no bse or cov_params available\n",
            "  'available', HessianInversionWarning)\n",
            "\r 14%|█▎        | 50/370 [01:13<07:36,  1.43s/it]"
          ]
        },
        {
          "output_type": "stream",
          "name": "stdout",
          "text": [
            "수렴\n",
            "49번째 코드 예측값 추가 완료\n"
          ]
        },
        {
          "output_type": "stream",
          "name": "stderr",
          "text": [
            "/usr/local/lib/python3.7/dist-packages/statsmodels/base/model.py:492: HessianInversionWarning: Inverting hessian failed, no bse or cov_params available\n",
            "  'available', HessianInversionWarning)\n",
            "\r 14%|█▍        | 51/370 [01:15<08:02,  1.51s/it]"
          ]
        },
        {
          "output_type": "stream",
          "name": "stdout",
          "text": [
            "수렴\n",
            "50번째 코드 예측값 추가 완료\n"
          ]
        },
        {
          "output_type": "stream",
          "name": "stderr",
          "text": [
            "\r 14%|█▍        | 52/370 [01:16<07:46,  1.47s/it]"
          ]
        },
        {
          "output_type": "stream",
          "name": "stdout",
          "text": [
            "수렴\n",
            "51번째 코드 예측값 추가 완료\n"
          ]
        },
        {
          "output_type": "stream",
          "name": "stderr",
          "text": [
            "\r 14%|█▍        | 53/370 [01:18<08:18,  1.57s/it]"
          ]
        },
        {
          "output_type": "stream",
          "name": "stdout",
          "text": [
            "수렴\n",
            "52번째 코드 예측값 추가 완료\n"
          ]
        },
        {
          "output_type": "stream",
          "name": "stderr",
          "text": [
            "\r 15%|█▍        | 54/370 [01:19<08:08,  1.55s/it]"
          ]
        },
        {
          "output_type": "stream",
          "name": "stdout",
          "text": [
            "수렴하지 못함\n",
            "53번째 코드 예측값 추가 완료\n"
          ]
        },
        {
          "output_type": "stream",
          "name": "stderr",
          "text": [
            "\r 15%|█▍        | 55/370 [01:21<07:36,  1.45s/it]"
          ]
        },
        {
          "output_type": "stream",
          "name": "stdout",
          "text": [
            "수렴\n",
            "54번째 코드 예측값 추가 완료\n"
          ]
        },
        {
          "output_type": "stream",
          "name": "stderr",
          "text": [
            "\r 15%|█▌        | 56/370 [01:22<08:00,  1.53s/it]"
          ]
        },
        {
          "output_type": "stream",
          "name": "stdout",
          "text": [
            "수렴\n",
            "55번째 코드 예측값 추가 완료\n"
          ]
        },
        {
          "output_type": "stream",
          "name": "stderr",
          "text": [
            "/usr/local/lib/python3.7/dist-packages/statsmodels/base/model.py:492: HessianInversionWarning: Inverting hessian failed, no bse or cov_params available\n",
            "  'available', HessianInversionWarning)\n",
            "\r 15%|█▌        | 57/370 [01:24<08:01,  1.54s/it]"
          ]
        },
        {
          "output_type": "stream",
          "name": "stdout",
          "text": [
            "수렴\n",
            "56번째 코드 예측값 추가 완료\n"
          ]
        },
        {
          "output_type": "stream",
          "name": "stderr",
          "text": [
            "/usr/local/lib/python3.7/dist-packages/statsmodels/base/model.py:492: HessianInversionWarning: Inverting hessian failed, no bse or cov_params available\n",
            "  'available', HessianInversionWarning)\n",
            "\r 16%|█▌        | 58/370 [01:25<07:51,  1.51s/it]"
          ]
        },
        {
          "output_type": "stream",
          "name": "stdout",
          "text": [
            "수렴\n",
            "57번째 코드 예측값 추가 완료\n"
          ]
        },
        {
          "output_type": "stream",
          "name": "stderr",
          "text": [
            "\r 16%|█▌        | 59/370 [01:26<06:53,  1.33s/it]"
          ]
        },
        {
          "output_type": "stream",
          "name": "stdout",
          "text": [
            "수렴하지 못함\n",
            "58번째 코드 예측값 추가 완료\n"
          ]
        },
        {
          "output_type": "stream",
          "name": "stderr",
          "text": [
            "\r 16%|█▌        | 60/370 [01:28<06:57,  1.35s/it]"
          ]
        },
        {
          "output_type": "stream",
          "name": "stdout",
          "text": [
            "수렴하지 못함\n",
            "59번째 코드 예측값 추가 완료\n"
          ]
        },
        {
          "output_type": "stream",
          "name": "stderr",
          "text": [
            "\r 16%|█▋        | 61/370 [01:30<07:50,  1.52s/it]"
          ]
        },
        {
          "output_type": "stream",
          "name": "stdout",
          "text": [
            "수렴\n",
            "60번째 코드 예측값 추가 완료\n"
          ]
        },
        {
          "output_type": "stream",
          "name": "stderr",
          "text": [
            "\r 17%|█▋        | 62/370 [01:31<07:38,  1.49s/it]"
          ]
        },
        {
          "output_type": "stream",
          "name": "stdout",
          "text": [
            "수렴\n",
            "61번째 코드 예측값 추가 완료\n"
          ]
        },
        {
          "output_type": "stream",
          "name": "stderr",
          "text": [
            "\r 17%|█▋        | 63/370 [01:33<07:37,  1.49s/it]"
          ]
        },
        {
          "output_type": "stream",
          "name": "stdout",
          "text": [
            "수렴\n",
            "62번째 코드 예측값 추가 완료\n"
          ]
        },
        {
          "output_type": "stream",
          "name": "stderr",
          "text": [
            "\r 17%|█▋        | 64/370 [01:34<07:32,  1.48s/it]"
          ]
        },
        {
          "output_type": "stream",
          "name": "stdout",
          "text": [
            "수렴\n",
            "63번째 코드 예측값 추가 완료\n"
          ]
        },
        {
          "output_type": "stream",
          "name": "stderr",
          "text": [
            "/usr/local/lib/python3.7/dist-packages/statsmodels/base/model.py:492: HessianInversionWarning: Inverting hessian failed, no bse or cov_params available\n",
            "  'available', HessianInversionWarning)\n",
            "/usr/local/lib/python3.7/dist-packages/statsmodels/base/model.py:512: ConvergenceWarning: Maximum Likelihood optimization failed to converge. Check mle_retvals\n",
            "  \"Check mle_retvals\", ConvergenceWarning)\n",
            "\r 18%|█▊        | 65/370 [01:36<07:45,  1.52s/it]"
          ]
        },
        {
          "output_type": "stream",
          "name": "stdout",
          "text": [
            "수렴\n",
            "64번째 코드 예측값 추가 완료\n"
          ]
        },
        {
          "output_type": "stream",
          "name": "stderr",
          "text": [
            "\r 18%|█▊        | 66/370 [01:37<06:48,  1.34s/it]"
          ]
        },
        {
          "output_type": "stream",
          "name": "stdout",
          "text": [
            "수렴하지 못함\n",
            "65번째 코드 예측값 추가 완료\n"
          ]
        },
        {
          "output_type": "stream",
          "name": "stderr",
          "text": [
            "\r 18%|█▊        | 67/370 [01:38<06:38,  1.32s/it]"
          ]
        },
        {
          "output_type": "stream",
          "name": "stdout",
          "text": [
            "수렴\n",
            "66번째 코드 예측값 추가 완료\n"
          ]
        },
        {
          "output_type": "stream",
          "name": "stderr",
          "text": [
            "/usr/local/lib/python3.7/dist-packages/statsmodels/base/model.py:492: HessianInversionWarning: Inverting hessian failed, no bse or cov_params available\n",
            "  'available', HessianInversionWarning)\n",
            "\r 18%|█▊        | 68/370 [01:39<06:49,  1.36s/it]"
          ]
        },
        {
          "output_type": "stream",
          "name": "stdout",
          "text": [
            "수렴\n",
            "67번째 코드 예측값 추가 완료\n"
          ]
        },
        {
          "output_type": "stream",
          "name": "stderr",
          "text": [
            "\r 19%|█▊        | 69/370 [01:41<06:57,  1.39s/it]"
          ]
        },
        {
          "output_type": "stream",
          "name": "stdout",
          "text": [
            "수렴하지 못함\n",
            "68번째 코드 예측값 추가 완료\n"
          ]
        },
        {
          "output_type": "stream",
          "name": "stderr",
          "text": [
            "\r 19%|█▉        | 70/370 [01:42<06:47,  1.36s/it]"
          ]
        },
        {
          "output_type": "stream",
          "name": "stdout",
          "text": [
            "수렴하지 못함\n",
            "69번째 코드 예측값 추가 완료\n"
          ]
        },
        {
          "output_type": "stream",
          "name": "stderr",
          "text": [
            "\r 19%|█▉        | 71/370 [01:43<06:56,  1.39s/it]"
          ]
        },
        {
          "output_type": "stream",
          "name": "stdout",
          "text": [
            "수렴\n",
            "70번째 코드 예측값 추가 완료\n"
          ]
        },
        {
          "output_type": "stream",
          "name": "stderr",
          "text": [
            "\r 19%|█▉        | 72/370 [01:45<07:04,  1.43s/it]"
          ]
        },
        {
          "output_type": "stream",
          "name": "stdout",
          "text": [
            "수렴\n",
            "71번째 코드 예측값 추가 완료\n"
          ]
        },
        {
          "output_type": "stream",
          "name": "stderr",
          "text": [
            "\r 20%|█▉        | 73/370 [01:47<07:26,  1.50s/it]"
          ]
        },
        {
          "output_type": "stream",
          "name": "stdout",
          "text": [
            "수렴\n",
            "72번째 코드 예측값 추가 완료\n"
          ]
        },
        {
          "output_type": "stream",
          "name": "stderr",
          "text": [
            "/usr/local/lib/python3.7/dist-packages/statsmodels/base/model.py:492: HessianInversionWarning: Inverting hessian failed, no bse or cov_params available\n",
            "  'available', HessianInversionWarning)\n",
            "\r 20%|██        | 74/370 [01:48<07:20,  1.49s/it]"
          ]
        },
        {
          "output_type": "stream",
          "name": "stdout",
          "text": [
            "수렴\n",
            "73번째 코드 예측값 추가 완료\n"
          ]
        },
        {
          "output_type": "stream",
          "name": "stderr",
          "text": [
            "\r 20%|██        | 75/370 [01:49<07:11,  1.46s/it]"
          ]
        },
        {
          "output_type": "stream",
          "name": "stdout",
          "text": [
            "수렴\n",
            "74번째 코드 예측값 추가 완료\n"
          ]
        },
        {
          "output_type": "stream",
          "name": "stderr",
          "text": [
            "\r 21%|██        | 76/370 [01:51<07:15,  1.48s/it]"
          ]
        },
        {
          "output_type": "stream",
          "name": "stdout",
          "text": [
            "수렴\n",
            "75번째 코드 예측값 추가 완료\n"
          ]
        },
        {
          "output_type": "stream",
          "name": "stderr",
          "text": [
            "\r 21%|██        | 77/370 [01:53<07:29,  1.53s/it]"
          ]
        },
        {
          "output_type": "stream",
          "name": "stdout",
          "text": [
            "수렴\n",
            "76번째 코드 예측값 추가 완료\n"
          ]
        },
        {
          "output_type": "stream",
          "name": "stderr",
          "text": [
            "\r 21%|██        | 78/370 [01:54<07:52,  1.62s/it]"
          ]
        },
        {
          "output_type": "stream",
          "name": "stdout",
          "text": [
            "수렴\n",
            "77번째 코드 예측값 추가 완료\n"
          ]
        },
        {
          "output_type": "stream",
          "name": "stderr",
          "text": [
            "\r 21%|██▏       | 79/370 [01:56<07:33,  1.56s/it]"
          ]
        },
        {
          "output_type": "stream",
          "name": "stdout",
          "text": [
            "수렴\n",
            "78번째 코드 예측값 추가 완료\n"
          ]
        },
        {
          "output_type": "stream",
          "name": "stderr",
          "text": [
            "\r 22%|██▏       | 80/370 [01:57<06:54,  1.43s/it]"
          ]
        },
        {
          "output_type": "stream",
          "name": "stdout",
          "text": [
            "수렴하지 못함\n",
            "79번째 코드 예측값 추가 완료\n"
          ]
        },
        {
          "output_type": "stream",
          "name": "stderr",
          "text": [
            "\r 22%|██▏       | 81/370 [01:58<06:38,  1.38s/it]"
          ]
        },
        {
          "output_type": "stream",
          "name": "stdout",
          "text": [
            "수렴하지 못함\n",
            "80번째 코드 예측값 추가 완료\n"
          ]
        },
        {
          "output_type": "stream",
          "name": "stderr",
          "text": [
            "/usr/local/lib/python3.7/dist-packages/statsmodels/base/model.py:492: HessianInversionWarning: Inverting hessian failed, no bse or cov_params available\n",
            "  'available', HessianInversionWarning)\n",
            "\r 22%|██▏       | 82/370 [02:00<06:34,  1.37s/it]"
          ]
        },
        {
          "output_type": "stream",
          "name": "stdout",
          "text": [
            "수렴\n",
            "81번째 코드 예측값 추가 완료\n"
          ]
        },
        {
          "output_type": "stream",
          "name": "stderr",
          "text": [
            "\r 22%|██▏       | 83/370 [02:01<06:07,  1.28s/it]"
          ]
        },
        {
          "output_type": "stream",
          "name": "stdout",
          "text": [
            "수렴하지 못함\n",
            "82번째 코드 예측값 추가 완료\n"
          ]
        },
        {
          "output_type": "stream",
          "name": "stderr",
          "text": [
            "\r 23%|██▎       | 84/370 [02:02<06:16,  1.32s/it]"
          ]
        },
        {
          "output_type": "stream",
          "name": "stdout",
          "text": [
            "수렴\n",
            "83번째 코드 예측값 추가 완료\n"
          ]
        },
        {
          "output_type": "stream",
          "name": "stderr",
          "text": [
            "\r 23%|██▎       | 85/370 [02:04<06:30,  1.37s/it]"
          ]
        },
        {
          "output_type": "stream",
          "name": "stdout",
          "text": [
            "수렴하지 못함\n",
            "84번째 코드 예측값 추가 완료\n"
          ]
        },
        {
          "output_type": "stream",
          "name": "stderr",
          "text": [
            "/usr/local/lib/python3.7/dist-packages/statsmodels/base/model.py:492: HessianInversionWarning: Inverting hessian failed, no bse or cov_params available\n",
            "  'available', HessianInversionWarning)\n",
            "\r 23%|██▎       | 86/370 [02:05<06:52,  1.45s/it]"
          ]
        },
        {
          "output_type": "stream",
          "name": "stdout",
          "text": [
            "수렴\n",
            "85번째 코드 예측값 추가 완료\n"
          ]
        },
        {
          "output_type": "stream",
          "name": "stderr",
          "text": [
            "\r 24%|██▎       | 87/370 [02:07<06:51,  1.45s/it]"
          ]
        },
        {
          "output_type": "stream",
          "name": "stdout",
          "text": [
            "수렴\n",
            "86번째 코드 예측값 추가 완료\n"
          ]
        },
        {
          "output_type": "stream",
          "name": "stderr",
          "text": [
            "\r 24%|██▍       | 88/370 [02:08<06:19,  1.34s/it]"
          ]
        },
        {
          "output_type": "stream",
          "name": "stdout",
          "text": [
            "수렴\n",
            "87번째 코드 예측값 추가 완료\n"
          ]
        },
        {
          "output_type": "stream",
          "name": "stderr",
          "text": [
            "\r 24%|██▍       | 89/370 [02:09<06:24,  1.37s/it]"
          ]
        },
        {
          "output_type": "stream",
          "name": "stdout",
          "text": [
            "수렴\n",
            "88번째 코드 예측값 추가 완료\n"
          ]
        },
        {
          "output_type": "stream",
          "name": "stderr",
          "text": [
            "\r 24%|██▍       | 90/370 [02:11<06:27,  1.39s/it]"
          ]
        },
        {
          "output_type": "stream",
          "name": "stdout",
          "text": [
            "수렴\n",
            "89번째 코드 예측값 추가 완료\n"
          ]
        },
        {
          "output_type": "stream",
          "name": "stderr",
          "text": [
            "\r 25%|██▍       | 91/370 [02:12<06:32,  1.41s/it]"
          ]
        },
        {
          "output_type": "stream",
          "name": "stdout",
          "text": [
            "수렴\n",
            "90번째 코드 예측값 추가 완료\n"
          ]
        },
        {
          "output_type": "stream",
          "name": "stderr",
          "text": [
            "/usr/local/lib/python3.7/dist-packages/statsmodels/base/model.py:492: HessianInversionWarning: Inverting hessian failed, no bse or cov_params available\n",
            "  'available', HessianInversionWarning)\n",
            "\r 25%|██▍       | 92/370 [02:14<06:51,  1.48s/it]"
          ]
        },
        {
          "output_type": "stream",
          "name": "stdout",
          "text": [
            "수렴\n",
            "91번째 코드 예측값 추가 완료\n"
          ]
        },
        {
          "output_type": "stream",
          "name": "stderr",
          "text": [
            "\r 25%|██▌       | 93/370 [02:15<06:50,  1.48s/it]"
          ]
        },
        {
          "output_type": "stream",
          "name": "stdout",
          "text": [
            "수렴\n",
            "92번째 코드 예측값 추가 완료\n"
          ]
        },
        {
          "output_type": "stream",
          "name": "stderr",
          "text": [
            "\r 25%|██▌       | 94/370 [02:17<06:47,  1.48s/it]"
          ]
        },
        {
          "output_type": "stream",
          "name": "stdout",
          "text": [
            "수렴\n",
            "93번째 코드 예측값 추가 완료\n"
          ]
        },
        {
          "output_type": "stream",
          "name": "stderr",
          "text": [
            "\r 26%|██▌       | 95/370 [02:18<06:12,  1.36s/it]"
          ]
        },
        {
          "output_type": "stream",
          "name": "stdout",
          "text": [
            "수렴하지 못함\n",
            "94번째 코드 예측값 추가 완료\n"
          ]
        },
        {
          "output_type": "stream",
          "name": "stderr",
          "text": [
            "\r 26%|██▌       | 96/370 [02:19<06:15,  1.37s/it]"
          ]
        },
        {
          "output_type": "stream",
          "name": "stdout",
          "text": [
            "수렴\n",
            "95번째 코드 예측값 추가 완료\n"
          ]
        },
        {
          "output_type": "stream",
          "name": "stderr",
          "text": [
            "/usr/local/lib/python3.7/dist-packages/statsmodels/base/model.py:492: HessianInversionWarning: Inverting hessian failed, no bse or cov_params available\n",
            "  'available', HessianInversionWarning)\n",
            "\r 26%|██▌       | 97/370 [02:20<05:40,  1.25s/it]"
          ]
        },
        {
          "output_type": "stream",
          "name": "stdout",
          "text": [
            "수렴\n",
            "96번째 코드 예측값 추가 완료\n"
          ]
        },
        {
          "output_type": "stream",
          "name": "stderr",
          "text": [
            "\r 26%|██▋       | 98/370 [02:21<05:47,  1.28s/it]"
          ]
        },
        {
          "output_type": "stream",
          "name": "stdout",
          "text": [
            "수렴\n",
            "97번째 코드 예측값 추가 완료\n"
          ]
        },
        {
          "output_type": "stream",
          "name": "stderr",
          "text": [
            "\r 27%|██▋       | 99/370 [02:22<05:22,  1.19s/it]"
          ]
        },
        {
          "output_type": "stream",
          "name": "stdout",
          "text": [
            "수렴\n",
            "98번째 코드 예측값 추가 완료\n"
          ]
        },
        {
          "output_type": "stream",
          "name": "stderr",
          "text": [
            "\r 27%|██▋       | 100/370 [02:24<05:25,  1.21s/it]"
          ]
        },
        {
          "output_type": "stream",
          "name": "stdout",
          "text": [
            "수렴하지 못함\n",
            "99번째 코드 예측값 추가 완료\n"
          ]
        },
        {
          "output_type": "stream",
          "name": "stderr",
          "text": [
            "/usr/local/lib/python3.7/dist-packages/statsmodels/base/model.py:492: HessianInversionWarning: Inverting hessian failed, no bse or cov_params available\n",
            "  'available', HessianInversionWarning)\n",
            "\r 27%|██▋       | 101/370 [02:25<05:51,  1.31s/it]"
          ]
        },
        {
          "output_type": "stream",
          "name": "stdout",
          "text": [
            "수렴\n",
            "100번째 코드 예측값 추가 완료\n"
          ]
        },
        {
          "output_type": "stream",
          "name": "stderr",
          "text": [
            "/usr/local/lib/python3.7/dist-packages/statsmodels/base/model.py:492: HessianInversionWarning: Inverting hessian failed, no bse or cov_params available\n",
            "  'available', HessianInversionWarning)\n",
            "\r 28%|██▊       | 102/370 [02:27<06:08,  1.37s/it]"
          ]
        },
        {
          "output_type": "stream",
          "name": "stdout",
          "text": [
            "수렴\n",
            "101번째 코드 예측값 추가 완료\n"
          ]
        },
        {
          "output_type": "stream",
          "name": "stderr",
          "text": [
            "\r 28%|██▊       | 103/370 [02:28<06:17,  1.41s/it]"
          ]
        },
        {
          "output_type": "stream",
          "name": "stdout",
          "text": [
            "수렴\n",
            "102번째 코드 예측값 추가 완료\n"
          ]
        },
        {
          "output_type": "stream",
          "name": "stderr",
          "text": [
            "\r 28%|██▊       | 104/370 [02:30<06:03,  1.37s/it]"
          ]
        },
        {
          "output_type": "stream",
          "name": "stdout",
          "text": [
            "수렴하지 못함\n",
            "103번째 코드 예측값 추가 완료\n"
          ]
        },
        {
          "output_type": "stream",
          "name": "stderr",
          "text": [
            "\r 28%|██▊       | 105/370 [02:31<06:23,  1.45s/it]"
          ]
        },
        {
          "output_type": "stream",
          "name": "stdout",
          "text": [
            "수렴\n",
            "104번째 코드 예측값 추가 완료\n"
          ]
        },
        {
          "output_type": "stream",
          "name": "stderr",
          "text": [
            "\r 29%|██▊       | 106/370 [02:32<05:53,  1.34s/it]"
          ]
        },
        {
          "output_type": "stream",
          "name": "stdout",
          "text": [
            "수렴하지 못함\n",
            "105번째 코드 예측값 추가 완료\n"
          ]
        },
        {
          "output_type": "stream",
          "name": "stderr",
          "text": [
            "/usr/local/lib/python3.7/dist-packages/statsmodels/base/model.py:492: HessianInversionWarning: Inverting hessian failed, no bse or cov_params available\n",
            "  'available', HessianInversionWarning)\n",
            "\r 29%|██▉       | 107/370 [02:34<06:13,  1.42s/it]"
          ]
        },
        {
          "output_type": "stream",
          "name": "stdout",
          "text": [
            "수렴\n",
            "106번째 코드 예측값 추가 완료\n"
          ]
        },
        {
          "output_type": "stream",
          "name": "stderr",
          "text": [
            "/usr/local/lib/python3.7/dist-packages/statsmodels/base/model.py:492: HessianInversionWarning: Inverting hessian failed, no bse or cov_params available\n",
            "  'available', HessianInversionWarning)\n",
            "\r 29%|██▉       | 108/370 [02:35<06:16,  1.44s/it]"
          ]
        },
        {
          "output_type": "stream",
          "name": "stdout",
          "text": [
            "수렴\n",
            "107번째 코드 예측값 추가 완료\n"
          ]
        },
        {
          "output_type": "stream",
          "name": "stderr",
          "text": [
            "\r 29%|██▉       | 109/370 [02:37<06:18,  1.45s/it]"
          ]
        },
        {
          "output_type": "stream",
          "name": "stdout",
          "text": [
            "수렴\n",
            "108번째 코드 예측값 추가 완료\n"
          ]
        },
        {
          "output_type": "stream",
          "name": "stderr",
          "text": [
            "\r 30%|██▉       | 110/370 [02:38<06:28,  1.49s/it]"
          ]
        },
        {
          "output_type": "stream",
          "name": "stdout",
          "text": [
            "수렴\n",
            "109번째 코드 예측값 추가 완료\n"
          ]
        },
        {
          "output_type": "stream",
          "name": "stderr",
          "text": [
            "\r 30%|███       | 111/370 [02:40<06:00,  1.39s/it]"
          ]
        },
        {
          "output_type": "stream",
          "name": "stdout",
          "text": [
            "수렴\n",
            "110번째 코드 예측값 추가 완료\n"
          ]
        },
        {
          "output_type": "stream",
          "name": "stderr",
          "text": [
            "\r 30%|███       | 112/370 [02:41<06:00,  1.40s/it]"
          ]
        },
        {
          "output_type": "stream",
          "name": "stdout",
          "text": [
            "수렴\n",
            "111번째 코드 예측값 추가 완료\n"
          ]
        },
        {
          "output_type": "stream",
          "name": "stderr",
          "text": [
            "\r 31%|███       | 113/370 [02:43<06:09,  1.44s/it]"
          ]
        },
        {
          "output_type": "stream",
          "name": "stdout",
          "text": [
            "수렴\n",
            "112번째 코드 예측값 추가 완료\n"
          ]
        },
        {
          "output_type": "stream",
          "name": "stderr",
          "text": [
            "\r 31%|███       | 114/370 [02:44<05:50,  1.37s/it]"
          ]
        },
        {
          "output_type": "stream",
          "name": "stdout",
          "text": [
            "수렴\n",
            "113번째 코드 예측값 추가 완료\n"
          ]
        },
        {
          "output_type": "stream",
          "name": "stderr",
          "text": [
            "\r 31%|███       | 115/370 [02:45<05:54,  1.39s/it]"
          ]
        },
        {
          "output_type": "stream",
          "name": "stdout",
          "text": [
            "수렴\n",
            "114번째 코드 예측값 추가 완료\n"
          ]
        },
        {
          "output_type": "stream",
          "name": "stderr",
          "text": [
            "\r 31%|███▏      | 116/370 [02:47<06:05,  1.44s/it]"
          ]
        },
        {
          "output_type": "stream",
          "name": "stdout",
          "text": [
            "수렴하지 못함\n",
            "115번째 코드 예측값 추가 완료\n"
          ]
        },
        {
          "output_type": "stream",
          "name": "stderr",
          "text": [
            "\r 32%|███▏      | 117/370 [02:48<05:52,  1.39s/it]"
          ]
        },
        {
          "output_type": "stream",
          "name": "stdout",
          "text": [
            "수렴\n",
            "116번째 코드 예측값 추가 완료\n"
          ]
        },
        {
          "output_type": "stream",
          "name": "stderr",
          "text": [
            "\r 32%|███▏      | 118/370 [02:49<05:55,  1.41s/it]"
          ]
        },
        {
          "output_type": "stream",
          "name": "stdout",
          "text": [
            "수렴\n",
            "117번째 코드 예측값 추가 완료\n"
          ]
        },
        {
          "output_type": "stream",
          "name": "stderr",
          "text": [
            "/usr/local/lib/python3.7/dist-packages/statsmodels/base/model.py:492: HessianInversionWarning: Inverting hessian failed, no bse or cov_params available\n",
            "  'available', HessianInversionWarning)\n",
            "\r 32%|███▏      | 119/370 [02:51<05:54,  1.41s/it]"
          ]
        },
        {
          "output_type": "stream",
          "name": "stdout",
          "text": [
            "수렴\n",
            "118번째 코드 예측값 추가 완료\n"
          ]
        },
        {
          "output_type": "stream",
          "name": "stderr",
          "text": [
            "\r 32%|███▏      | 120/370 [02:52<05:53,  1.42s/it]"
          ]
        },
        {
          "output_type": "stream",
          "name": "stdout",
          "text": [
            "수렴\n",
            "119번째 코드 예측값 추가 완료\n"
          ]
        },
        {
          "output_type": "stream",
          "name": "stderr",
          "text": [
            "\r 33%|███▎      | 121/370 [02:54<05:40,  1.37s/it]"
          ]
        },
        {
          "output_type": "stream",
          "name": "stdout",
          "text": [
            "수렴\n",
            "120번째 코드 예측값 추가 완료\n"
          ]
        },
        {
          "output_type": "stream",
          "name": "stderr",
          "text": [
            "\r 33%|███▎      | 122/370 [02:55<05:49,  1.41s/it]"
          ]
        },
        {
          "output_type": "stream",
          "name": "stdout",
          "text": [
            "수렴\n",
            "121번째 코드 예측값 추가 완료\n"
          ]
        },
        {
          "output_type": "stream",
          "name": "stderr",
          "text": [
            "\r 33%|███▎      | 123/370 [02:57<05:59,  1.46s/it]"
          ]
        },
        {
          "output_type": "stream",
          "name": "stdout",
          "text": [
            "수렴\n",
            "122번째 코드 예측값 추가 완료\n"
          ]
        },
        {
          "output_type": "stream",
          "name": "stderr",
          "text": [
            "\r 34%|███▎      | 124/370 [02:58<05:58,  1.46s/it]"
          ]
        },
        {
          "output_type": "stream",
          "name": "stdout",
          "text": [
            "수렴\n",
            "123번째 코드 예측값 추가 완료\n"
          ]
        },
        {
          "output_type": "stream",
          "name": "stderr",
          "text": [
            "\r 34%|███▍      | 125/370 [02:59<05:50,  1.43s/it]"
          ]
        },
        {
          "output_type": "stream",
          "name": "stdout",
          "text": [
            "수렴\n",
            "124번째 코드 예측값 추가 완료\n"
          ]
        },
        {
          "output_type": "stream",
          "name": "stderr",
          "text": [
            "\r 34%|███▍      | 126/370 [03:01<05:42,  1.41s/it]"
          ]
        },
        {
          "output_type": "stream",
          "name": "stdout",
          "text": [
            "수렴\n",
            "125번째 코드 예측값 추가 완료\n"
          ]
        },
        {
          "output_type": "stream",
          "name": "stderr",
          "text": [
            "\r 34%|███▍      | 127/370 [03:02<05:34,  1.38s/it]"
          ]
        },
        {
          "output_type": "stream",
          "name": "stdout",
          "text": [
            "수렴\n",
            "126번째 코드 예측값 추가 완료\n"
          ]
        },
        {
          "output_type": "stream",
          "name": "stderr",
          "text": [
            "\r 35%|███▍      | 128/370 [03:04<05:47,  1.44s/it]"
          ]
        },
        {
          "output_type": "stream",
          "name": "stdout",
          "text": [
            "수렴\n",
            "127번째 코드 예측값 추가 완료\n"
          ]
        },
        {
          "output_type": "stream",
          "name": "stderr",
          "text": [
            "/usr/local/lib/python3.7/dist-packages/statsmodels/base/model.py:492: HessianInversionWarning: Inverting hessian failed, no bse or cov_params available\n",
            "  'available', HessianInversionWarning)\n",
            "\r 35%|███▍      | 129/370 [03:05<06:03,  1.51s/it]"
          ]
        },
        {
          "output_type": "stream",
          "name": "stdout",
          "text": [
            "수렴\n",
            "128번째 코드 예측값 추가 완료\n"
          ]
        },
        {
          "output_type": "stream",
          "name": "stderr",
          "text": [
            "/usr/local/lib/python3.7/dist-packages/statsmodels/base/model.py:492: HessianInversionWarning: Inverting hessian failed, no bse or cov_params available\n",
            "  'available', HessianInversionWarning)\n",
            "\r 35%|███▌      | 130/370 [03:07<06:04,  1.52s/it]"
          ]
        },
        {
          "output_type": "stream",
          "name": "stdout",
          "text": [
            "수렴\n",
            "129번째 코드 예측값 추가 완료\n"
          ]
        },
        {
          "output_type": "stream",
          "name": "stderr",
          "text": [
            "\r 35%|███▌      | 131/370 [03:08<05:57,  1.50s/it]"
          ]
        },
        {
          "output_type": "stream",
          "name": "stdout",
          "text": [
            "수렴\n",
            "130번째 코드 예측값 추가 완료\n"
          ]
        },
        {
          "output_type": "stream",
          "name": "stderr",
          "text": [
            "\r 36%|███▌      | 132/370 [03:10<05:30,  1.39s/it]"
          ]
        },
        {
          "output_type": "stream",
          "name": "stdout",
          "text": [
            "수렴\n",
            "131번째 코드 예측값 추가 완료\n"
          ]
        },
        {
          "output_type": "stream",
          "name": "stderr",
          "text": [
            "\r 36%|███▌      | 133/370 [03:11<05:17,  1.34s/it]"
          ]
        },
        {
          "output_type": "stream",
          "name": "stdout",
          "text": [
            "수렴\n",
            "132번째 코드 예측값 추가 완료\n"
          ]
        },
        {
          "output_type": "stream",
          "name": "stderr",
          "text": [
            "/usr/local/lib/python3.7/dist-packages/statsmodels/base/model.py:492: HessianInversionWarning: Inverting hessian failed, no bse or cov_params available\n",
            "  'available', HessianInversionWarning)\n",
            "\r 36%|███▌      | 134/370 [03:12<05:27,  1.39s/it]"
          ]
        },
        {
          "output_type": "stream",
          "name": "stdout",
          "text": [
            "수렴\n",
            "133번째 코드 예측값 추가 완료\n"
          ]
        },
        {
          "output_type": "stream",
          "name": "stderr",
          "text": [
            "\r 36%|███▋      | 135/370 [03:14<05:23,  1.38s/it]"
          ]
        },
        {
          "output_type": "stream",
          "name": "stdout",
          "text": [
            "수렴\n",
            "134번째 코드 예측값 추가 완료\n"
          ]
        },
        {
          "output_type": "stream",
          "name": "stderr",
          "text": [
            "\r 37%|███▋      | 136/370 [03:15<05:32,  1.42s/it]"
          ]
        },
        {
          "output_type": "stream",
          "name": "stdout",
          "text": [
            "수렴\n",
            "135번째 코드 예측값 추가 완료\n"
          ]
        },
        {
          "output_type": "stream",
          "name": "stderr",
          "text": [
            "\r 37%|███▋      | 137/370 [03:16<05:21,  1.38s/it]"
          ]
        },
        {
          "output_type": "stream",
          "name": "stdout",
          "text": [
            "수렴\n",
            "136번째 코드 예측값 추가 완료\n"
          ]
        },
        {
          "output_type": "stream",
          "name": "stderr",
          "text": [
            "\r 37%|███▋      | 138/370 [03:18<05:43,  1.48s/it]"
          ]
        },
        {
          "output_type": "stream",
          "name": "stdout",
          "text": [
            "수렴\n",
            "137번째 코드 예측값 추가 완료\n"
          ]
        },
        {
          "output_type": "stream",
          "name": "stderr",
          "text": [
            "\r 38%|███▊      | 139/370 [03:19<05:00,  1.30s/it]"
          ]
        },
        {
          "output_type": "stream",
          "name": "stdout",
          "text": [
            "수렴하지 못함\n",
            "138번째 코드 예측값 추가 완료\n"
          ]
        },
        {
          "output_type": "stream",
          "name": "stderr",
          "text": [
            "/usr/local/lib/python3.7/dist-packages/statsmodels/base/model.py:512: ConvergenceWarning: Maximum Likelihood optimization failed to converge. Check mle_retvals\n",
            "  \"Check mle_retvals\", ConvergenceWarning)\n",
            "\r 38%|███▊      | 140/370 [03:20<04:59,  1.30s/it]"
          ]
        },
        {
          "output_type": "stream",
          "name": "stdout",
          "text": [
            "수렴하지 못함\n",
            "139번째 코드 예측값 추가 완료\n"
          ]
        },
        {
          "output_type": "stream",
          "name": "stderr",
          "text": [
            "\r 38%|███▊      | 141/370 [03:22<05:09,  1.35s/it]"
          ]
        },
        {
          "output_type": "stream",
          "name": "stdout",
          "text": [
            "수렴\n",
            "140번째 코드 예측값 추가 완료\n"
          ]
        },
        {
          "output_type": "stream",
          "name": "stderr",
          "text": [
            "\r 38%|███▊      | 142/370 [03:23<05:20,  1.41s/it]"
          ]
        },
        {
          "output_type": "stream",
          "name": "stdout",
          "text": [
            "수렴\n",
            "141번째 코드 예측값 추가 완료\n"
          ]
        },
        {
          "output_type": "stream",
          "name": "stderr",
          "text": [
            "/usr/local/lib/python3.7/dist-packages/statsmodels/base/model.py:492: HessianInversionWarning: Inverting hessian failed, no bse or cov_params available\n",
            "  'available', HessianInversionWarning)\n",
            "\r 39%|███▊      | 143/370 [03:25<05:34,  1.48s/it]"
          ]
        },
        {
          "output_type": "stream",
          "name": "stdout",
          "text": [
            "수렴\n",
            "142번째 코드 예측값 추가 완료\n"
          ]
        },
        {
          "output_type": "stream",
          "name": "stderr",
          "text": [
            "\r 39%|███▉      | 144/370 [03:26<05:32,  1.47s/it]"
          ]
        },
        {
          "output_type": "stream",
          "name": "stdout",
          "text": [
            "수렴\n",
            "143번째 코드 예측값 추가 완료\n"
          ]
        },
        {
          "output_type": "stream",
          "name": "stderr",
          "text": [
            "\r 39%|███▉      | 145/370 [03:28<05:42,  1.52s/it]"
          ]
        },
        {
          "output_type": "stream",
          "name": "stdout",
          "text": [
            "수렴\n",
            "144번째 코드 예측값 추가 완료\n"
          ]
        },
        {
          "output_type": "stream",
          "name": "stderr",
          "text": [
            "\r 39%|███▉      | 146/370 [03:30<05:43,  1.53s/it]"
          ]
        },
        {
          "output_type": "stream",
          "name": "stdout",
          "text": [
            "수렴\n",
            "145번째 코드 예측값 추가 완료\n"
          ]
        },
        {
          "output_type": "stream",
          "name": "stderr",
          "text": [
            "\r 40%|███▉      | 147/370 [03:31<05:37,  1.51s/it]"
          ]
        },
        {
          "output_type": "stream",
          "name": "stdout",
          "text": [
            "수렴\n",
            "146번째 코드 예측값 추가 완료\n"
          ]
        },
        {
          "output_type": "stream",
          "name": "stderr",
          "text": [
            "/usr/local/lib/python3.7/dist-packages/statsmodels/base/model.py:492: HessianInversionWarning: Inverting hessian failed, no bse or cov_params available\n",
            "  'available', HessianInversionWarning)\n",
            "\r 40%|████      | 148/370 [03:33<05:31,  1.49s/it]"
          ]
        },
        {
          "output_type": "stream",
          "name": "stdout",
          "text": [
            "수렴\n",
            "147번째 코드 예측값 추가 완료\n"
          ]
        },
        {
          "output_type": "stream",
          "name": "stderr",
          "text": [
            "\r 40%|████      | 149/370 [03:34<05:33,  1.51s/it]"
          ]
        },
        {
          "output_type": "stream",
          "name": "stdout",
          "text": [
            "수렴\n",
            "148번째 코드 예측값 추가 완료\n"
          ]
        },
        {
          "output_type": "stream",
          "name": "stderr",
          "text": [
            "\r 41%|████      | 150/370 [03:35<05:17,  1.44s/it]"
          ]
        },
        {
          "output_type": "stream",
          "name": "stdout",
          "text": [
            "수렴\n",
            "149번째 코드 예측값 추가 완료\n"
          ]
        },
        {
          "output_type": "stream",
          "name": "stderr",
          "text": [
            "\r 41%|████      | 151/370 [03:36<04:52,  1.34s/it]"
          ]
        },
        {
          "output_type": "stream",
          "name": "stdout",
          "text": [
            "수렴\n",
            "150번째 코드 예측값 추가 완료\n"
          ]
        },
        {
          "output_type": "stream",
          "name": "stderr",
          "text": [
            "\r 41%|████      | 152/370 [03:38<04:46,  1.31s/it]"
          ]
        },
        {
          "output_type": "stream",
          "name": "stdout",
          "text": [
            "수렴\n",
            "151번째 코드 예측값 추가 완료\n"
          ]
        },
        {
          "output_type": "stream",
          "name": "stderr",
          "text": [
            "/usr/local/lib/python3.7/dist-packages/statsmodels/base/model.py:492: HessianInversionWarning: Inverting hessian failed, no bse or cov_params available\n",
            "  'available', HessianInversionWarning)\n",
            "\r 41%|████▏     | 153/370 [03:39<05:06,  1.41s/it]"
          ]
        },
        {
          "output_type": "stream",
          "name": "stdout",
          "text": [
            "수렴\n",
            "152번째 코드 예측값 추가 완료\n"
          ]
        },
        {
          "output_type": "stream",
          "name": "stderr",
          "text": [
            "\r 42%|████▏     | 154/370 [03:41<05:15,  1.46s/it]"
          ]
        },
        {
          "output_type": "stream",
          "name": "stdout",
          "text": [
            "수렴\n",
            "153번째 코드 예측값 추가 완료\n"
          ]
        },
        {
          "output_type": "stream",
          "name": "stderr",
          "text": [
            "/usr/local/lib/python3.7/dist-packages/statsmodels/base/model.py:492: HessianInversionWarning: Inverting hessian failed, no bse or cov_params available\n",
            "  'available', HessianInversionWarning)\n",
            "\r 42%|████▏     | 155/370 [03:42<05:14,  1.46s/it]"
          ]
        },
        {
          "output_type": "stream",
          "name": "stdout",
          "text": [
            "수렴\n",
            "154번째 코드 예측값 추가 완료\n"
          ]
        },
        {
          "output_type": "stream",
          "name": "stderr",
          "text": [
            "/usr/local/lib/python3.7/dist-packages/statsmodels/base/model.py:492: HessianInversionWarning: Inverting hessian failed, no bse or cov_params available\n",
            "  'available', HessianInversionWarning)\n",
            "\r 42%|████▏     | 156/370 [03:44<05:19,  1.49s/it]"
          ]
        },
        {
          "output_type": "stream",
          "name": "stdout",
          "text": [
            "수렴\n",
            "155번째 코드 예측값 추가 완료\n"
          ]
        },
        {
          "output_type": "stream",
          "name": "stderr",
          "text": [
            "\r 42%|████▏     | 157/370 [03:45<05:19,  1.50s/it]"
          ]
        },
        {
          "output_type": "stream",
          "name": "stdout",
          "text": [
            "수렴\n",
            "156번째 코드 예측값 추가 완료\n"
          ]
        },
        {
          "output_type": "stream",
          "name": "stderr",
          "text": [
            "\r 43%|████▎     | 158/370 [03:46<04:43,  1.34s/it]"
          ]
        },
        {
          "output_type": "stream",
          "name": "stdout",
          "text": [
            "수렴\n",
            "157번째 코드 예측값 추가 완료\n"
          ]
        },
        {
          "output_type": "stream",
          "name": "stderr",
          "text": [
            "\r 43%|████▎     | 159/370 [03:47<04:10,  1.19s/it]"
          ]
        },
        {
          "output_type": "stream",
          "name": "stdout",
          "text": [
            "수렴하지 못함\n",
            "158번째 코드 예측값 추가 완료\n"
          ]
        },
        {
          "output_type": "stream",
          "name": "stderr",
          "text": [
            "\r 43%|████▎     | 160/370 [03:49<04:30,  1.29s/it]"
          ]
        },
        {
          "output_type": "stream",
          "name": "stdout",
          "text": [
            "수렴\n",
            "159번째 코드 예측값 추가 완료\n"
          ]
        },
        {
          "output_type": "stream",
          "name": "stderr",
          "text": [
            "/usr/local/lib/python3.7/dist-packages/statsmodels/base/model.py:492: HessianInversionWarning: Inverting hessian failed, no bse or cov_params available\n",
            "  'available', HessianInversionWarning)\n",
            "\r 44%|████▎     | 161/370 [03:50<04:38,  1.33s/it]"
          ]
        },
        {
          "output_type": "stream",
          "name": "stdout",
          "text": [
            "수렴\n",
            "160번째 코드 예측값 추가 완료\n"
          ]
        },
        {
          "output_type": "stream",
          "name": "stderr",
          "text": [
            "\r 44%|████▍     | 162/370 [03:52<04:46,  1.38s/it]"
          ]
        },
        {
          "output_type": "stream",
          "name": "stdout",
          "text": [
            "수렴\n",
            "161번째 코드 예측값 추가 완료\n"
          ]
        },
        {
          "output_type": "stream",
          "name": "stderr",
          "text": [
            "\r 44%|████▍     | 163/370 [03:53<04:41,  1.36s/it]"
          ]
        },
        {
          "output_type": "stream",
          "name": "stdout",
          "text": [
            "수렴\n",
            "162번째 코드 예측값 추가 완료\n"
          ]
        },
        {
          "output_type": "stream",
          "name": "stderr",
          "text": [
            "/usr/local/lib/python3.7/dist-packages/statsmodels/base/model.py:492: HessianInversionWarning: Inverting hessian failed, no bse or cov_params available\n",
            "  'available', HessianInversionWarning)\n",
            "\r 44%|████▍     | 164/370 [03:54<04:43,  1.38s/it]"
          ]
        },
        {
          "output_type": "stream",
          "name": "stdout",
          "text": [
            "수렴\n",
            "163번째 코드 예측값 추가 완료\n"
          ]
        },
        {
          "output_type": "stream",
          "name": "stderr",
          "text": [
            "/usr/local/lib/python3.7/dist-packages/statsmodels/base/model.py:492: HessianInversionWarning: Inverting hessian failed, no bse or cov_params available\n",
            "  'available', HessianInversionWarning)\n",
            "\r 45%|████▍     | 165/370 [03:56<04:53,  1.43s/it]"
          ]
        },
        {
          "output_type": "stream",
          "name": "stdout",
          "text": [
            "수렴\n",
            "164번째 코드 예측값 추가 완료\n"
          ]
        },
        {
          "output_type": "stream",
          "name": "stderr",
          "text": [
            "/usr/local/lib/python3.7/dist-packages/statsmodels/base/model.py:492: HessianInversionWarning: Inverting hessian failed, no bse or cov_params available\n",
            "  'available', HessianInversionWarning)\n",
            "\r 45%|████▍     | 166/370 [03:58<05:13,  1.54s/it]"
          ]
        },
        {
          "output_type": "stream",
          "name": "stdout",
          "text": [
            "수렴\n",
            "165번째 코드 예측값 추가 완료\n"
          ]
        },
        {
          "output_type": "stream",
          "name": "stderr",
          "text": [
            "/usr/local/lib/python3.7/dist-packages/statsmodels/base/model.py:492: HessianInversionWarning: Inverting hessian failed, no bse or cov_params available\n",
            "  'available', HessianInversionWarning)\n",
            "\r 45%|████▌     | 167/370 [03:59<05:08,  1.52s/it]"
          ]
        },
        {
          "output_type": "stream",
          "name": "stdout",
          "text": [
            "수렴\n",
            "166번째 코드 예측값 추가 완료\n"
          ]
        },
        {
          "output_type": "stream",
          "name": "stderr",
          "text": [
            "\r 45%|████▌     | 168/370 [04:01<04:56,  1.47s/it]"
          ]
        },
        {
          "output_type": "stream",
          "name": "stdout",
          "text": [
            "수렴하지 못함\n",
            "167번째 코드 예측값 추가 완료\n"
          ]
        },
        {
          "output_type": "stream",
          "name": "stderr",
          "text": [
            "\r 46%|████▌     | 169/370 [04:01<04:12,  1.26s/it]"
          ]
        },
        {
          "output_type": "stream",
          "name": "stdout",
          "text": [
            "수렴하지 못함\n",
            "168번째 코드 예측값 추가 완료\n"
          ]
        },
        {
          "output_type": "stream",
          "name": "stderr",
          "text": [
            "\r 46%|████▌     | 170/370 [04:03<04:19,  1.30s/it]"
          ]
        },
        {
          "output_type": "stream",
          "name": "stdout",
          "text": [
            "수렴\n",
            "169번째 코드 예측값 추가 완료\n"
          ]
        },
        {
          "output_type": "stream",
          "name": "stderr",
          "text": [
            "\r 46%|████▌     | 171/370 [04:04<04:14,  1.28s/it]"
          ]
        },
        {
          "output_type": "stream",
          "name": "stdout",
          "text": [
            "수렴\n",
            "170번째 코드 예측값 추가 완료\n"
          ]
        },
        {
          "output_type": "stream",
          "name": "stderr",
          "text": [
            "\r 46%|████▋     | 172/370 [04:05<04:01,  1.22s/it]"
          ]
        },
        {
          "output_type": "stream",
          "name": "stdout",
          "text": [
            "수렴하지 못함\n",
            "171번째 코드 예측값 추가 완료\n"
          ]
        },
        {
          "output_type": "stream",
          "name": "stderr",
          "text": [
            "/usr/local/lib/python3.7/dist-packages/statsmodels/base/model.py:492: HessianInversionWarning: Inverting hessian failed, no bse or cov_params available\n",
            "  'available', HessianInversionWarning)\n",
            "\r 47%|████▋     | 173/370 [04:06<04:05,  1.25s/it]"
          ]
        },
        {
          "output_type": "stream",
          "name": "stdout",
          "text": [
            "수렴\n",
            "172번째 코드 예측값 추가 완료\n"
          ]
        },
        {
          "output_type": "stream",
          "name": "stderr",
          "text": [
            "/usr/local/lib/python3.7/dist-packages/statsmodels/base/model.py:492: HessianInversionWarning: Inverting hessian failed, no bse or cov_params available\n",
            "  'available', HessianInversionWarning)\n",
            "\r 47%|████▋     | 174/370 [04:08<04:17,  1.31s/it]"
          ]
        },
        {
          "output_type": "stream",
          "name": "stdout",
          "text": [
            "수렴\n",
            "173번째 코드 예측값 추가 완료\n"
          ]
        },
        {
          "output_type": "stream",
          "name": "stderr",
          "text": [
            "/usr/local/lib/python3.7/dist-packages/statsmodels/base/model.py:492: HessianInversionWarning: Inverting hessian failed, no bse or cov_params available\n",
            "  'available', HessianInversionWarning)\n",
            "\r 47%|████▋     | 175/370 [04:09<04:23,  1.35s/it]"
          ]
        },
        {
          "output_type": "stream",
          "name": "stdout",
          "text": [
            "수렴\n",
            "174번째 코드 예측값 추가 완료\n"
          ]
        },
        {
          "output_type": "stream",
          "name": "stderr",
          "text": [
            "/usr/local/lib/python3.7/dist-packages/statsmodels/base/model.py:492: HessianInversionWarning: Inverting hessian failed, no bse or cov_params available\n",
            "  'available', HessianInversionWarning)\n",
            "\r 48%|████▊     | 176/370 [04:11<04:28,  1.38s/it]"
          ]
        },
        {
          "output_type": "stream",
          "name": "stdout",
          "text": [
            "수렴\n",
            "175번째 코드 예측값 추가 완료\n"
          ]
        },
        {
          "output_type": "stream",
          "name": "stderr",
          "text": [
            "\r 48%|████▊     | 177/370 [04:11<03:50,  1.19s/it]"
          ]
        },
        {
          "output_type": "stream",
          "name": "stdout",
          "text": [
            "수렴하지 못함\n",
            "176번째 코드 예측값 추가 완료\n"
          ]
        },
        {
          "output_type": "stream",
          "name": "stderr",
          "text": [
            "\r 48%|████▊     | 178/370 [04:13<03:54,  1.22s/it]"
          ]
        },
        {
          "output_type": "stream",
          "name": "stdout",
          "text": [
            "수렴\n",
            "177번째 코드 예측값 추가 완료\n"
          ]
        },
        {
          "output_type": "stream",
          "name": "stderr",
          "text": [
            "\r 48%|████▊     | 179/370 [04:14<03:35,  1.13s/it]"
          ]
        },
        {
          "output_type": "stream",
          "name": "stdout",
          "text": [
            "수렴하지 못함\n",
            "178번째 코드 예측값 추가 완료\n"
          ]
        },
        {
          "output_type": "stream",
          "name": "stderr",
          "text": [
            "\r 49%|████▊     | 180/370 [04:15<03:43,  1.18s/it]"
          ]
        },
        {
          "output_type": "stream",
          "name": "stdout",
          "text": [
            "수렴하지 못함\n",
            "179번째 코드 예측값 추가 완료\n"
          ]
        },
        {
          "output_type": "stream",
          "name": "stderr",
          "text": [
            "\r 49%|████▉     | 181/370 [04:16<03:49,  1.21s/it]"
          ]
        },
        {
          "output_type": "stream",
          "name": "stdout",
          "text": [
            "수렴\n",
            "180번째 코드 예측값 추가 완료\n"
          ]
        },
        {
          "output_type": "stream",
          "name": "stderr",
          "text": [
            "\r 49%|████▉     | 182/370 [04:18<03:51,  1.23s/it]"
          ]
        },
        {
          "output_type": "stream",
          "name": "stdout",
          "text": [
            "수렴\n",
            "181번째 코드 예측값 추가 완료\n"
          ]
        },
        {
          "output_type": "stream",
          "name": "stderr",
          "text": [
            "/usr/local/lib/python3.7/dist-packages/statsmodels/base/model.py:492: HessianInversionWarning: Inverting hessian failed, no bse or cov_params available\n",
            "  'available', HessianInversionWarning)\n",
            "\r 49%|████▉     | 183/370 [04:19<04:15,  1.37s/it]"
          ]
        },
        {
          "output_type": "stream",
          "name": "stdout",
          "text": [
            "수렴\n",
            "182번째 코드 예측값 추가 완료\n"
          ]
        },
        {
          "output_type": "stream",
          "name": "stderr",
          "text": [
            "\r 50%|████▉     | 184/370 [04:21<04:24,  1.42s/it]"
          ]
        },
        {
          "output_type": "stream",
          "name": "stdout",
          "text": [
            "수렴\n",
            "183번째 코드 예측값 추가 완료\n"
          ]
        },
        {
          "output_type": "stream",
          "name": "stderr",
          "text": [
            "/usr/local/lib/python3.7/dist-packages/statsmodels/base/model.py:492: HessianInversionWarning: Inverting hessian failed, no bse or cov_params available\n",
            "  'available', HessianInversionWarning)\n",
            "\r 50%|█████     | 185/370 [04:22<04:24,  1.43s/it]"
          ]
        },
        {
          "output_type": "stream",
          "name": "stdout",
          "text": [
            "수렴\n",
            "184번째 코드 예측값 추가 완료\n"
          ]
        },
        {
          "output_type": "stream",
          "name": "stderr",
          "text": [
            "\r 50%|█████     | 186/370 [04:23<04:06,  1.34s/it]"
          ]
        },
        {
          "output_type": "stream",
          "name": "stdout",
          "text": [
            "수렴\n",
            "185번째 코드 예측값 추가 완료\n"
          ]
        },
        {
          "output_type": "stream",
          "name": "stderr",
          "text": [
            "\r 51%|█████     | 187/370 [04:24<03:39,  1.20s/it]"
          ]
        },
        {
          "output_type": "stream",
          "name": "stdout",
          "text": [
            "수렴\n",
            "186번째 코드 예측값 추가 완료\n"
          ]
        },
        {
          "output_type": "stream",
          "name": "stderr",
          "text": [
            "\r 51%|█████     | 188/370 [04:25<03:21,  1.11s/it]"
          ]
        },
        {
          "output_type": "stream",
          "name": "stdout",
          "text": [
            "수렴하지 못함\n",
            "187번째 코드 예측값 추가 완료\n"
          ]
        },
        {
          "output_type": "stream",
          "name": "stderr",
          "text": [
            "/usr/local/lib/python3.7/dist-packages/statsmodels/base/model.py:492: HessianInversionWarning: Inverting hessian failed, no bse or cov_params available\n",
            "  'available', HessianInversionWarning)\n",
            "\r 51%|█████     | 189/370 [04:27<03:40,  1.22s/it]"
          ]
        },
        {
          "output_type": "stream",
          "name": "stdout",
          "text": [
            "수렴\n",
            "188번째 코드 예측값 추가 완료\n"
          ]
        },
        {
          "output_type": "stream",
          "name": "stderr",
          "text": [
            "\r 51%|█████▏    | 190/370 [04:28<03:32,  1.18s/it]"
          ]
        },
        {
          "output_type": "stream",
          "name": "stdout",
          "text": [
            "수렴\n",
            "189번째 코드 예측값 추가 완료\n"
          ]
        },
        {
          "output_type": "stream",
          "name": "stderr",
          "text": [
            "\r 52%|█████▏    | 191/370 [04:29<03:56,  1.32s/it]"
          ]
        },
        {
          "output_type": "stream",
          "name": "stdout",
          "text": [
            "수렴\n",
            "190번째 코드 예측값 추가 완료\n"
          ]
        },
        {
          "output_type": "stream",
          "name": "stderr",
          "text": [
            "\r 52%|█████▏    | 192/370 [04:31<04:05,  1.38s/it]"
          ]
        },
        {
          "output_type": "stream",
          "name": "stdout",
          "text": [
            "수렴\n",
            "191번째 코드 예측값 추가 완료\n"
          ]
        },
        {
          "output_type": "stream",
          "name": "stderr",
          "text": [
            "\r 52%|█████▏    | 193/370 [04:32<03:59,  1.35s/it]"
          ]
        },
        {
          "output_type": "stream",
          "name": "stdout",
          "text": [
            "수렴\n",
            "192번째 코드 예측값 추가 완료\n"
          ]
        },
        {
          "output_type": "stream",
          "name": "stderr",
          "text": [
            "\r 52%|█████▏    | 194/370 [04:34<04:10,  1.42s/it]"
          ]
        },
        {
          "output_type": "stream",
          "name": "stdout",
          "text": [
            "수렴\n",
            "193번째 코드 예측값 추가 완료\n"
          ]
        },
        {
          "output_type": "stream",
          "name": "stderr",
          "text": [
            "/usr/local/lib/python3.7/dist-packages/statsmodels/base/model.py:492: HessianInversionWarning: Inverting hessian failed, no bse or cov_params available\n",
            "  'available', HessianInversionWarning)\n",
            "\r 53%|█████▎    | 195/370 [04:35<04:17,  1.47s/it]"
          ]
        },
        {
          "output_type": "stream",
          "name": "stdout",
          "text": [
            "수렴\n",
            "194번째 코드 예측값 추가 완료\n"
          ]
        },
        {
          "output_type": "stream",
          "name": "stderr",
          "text": [
            "/usr/local/lib/python3.7/dist-packages/statsmodels/base/model.py:492: HessianInversionWarning: Inverting hessian failed, no bse or cov_params available\n",
            "  'available', HessianInversionWarning)\n",
            "\r 53%|█████▎    | 196/370 [04:37<04:12,  1.45s/it]"
          ]
        },
        {
          "output_type": "stream",
          "name": "stdout",
          "text": [
            "수렴\n",
            "195번째 코드 예측값 추가 완료\n"
          ]
        },
        {
          "output_type": "stream",
          "name": "stderr",
          "text": [
            "\r 53%|█████▎    | 197/370 [04:38<04:01,  1.40s/it]"
          ]
        },
        {
          "output_type": "stream",
          "name": "stdout",
          "text": [
            "수렴\n",
            "196번째 코드 예측값 추가 완료\n"
          ]
        },
        {
          "output_type": "stream",
          "name": "stderr",
          "text": [
            "\r 54%|█████▎    | 198/370 [04:39<03:46,  1.32s/it]"
          ]
        },
        {
          "output_type": "stream",
          "name": "stdout",
          "text": [
            "수렴\n",
            "197번째 코드 예측값 추가 완료\n"
          ]
        },
        {
          "output_type": "stream",
          "name": "stderr",
          "text": [
            "/usr/local/lib/python3.7/dist-packages/statsmodels/base/model.py:492: HessianInversionWarning: Inverting hessian failed, no bse or cov_params available\n",
            "  'available', HessianInversionWarning)\n",
            "\r 54%|█████▍    | 199/370 [04:41<04:03,  1.42s/it]"
          ]
        },
        {
          "output_type": "stream",
          "name": "stdout",
          "text": [
            "수렴\n",
            "198번째 코드 예측값 추가 완료\n"
          ]
        },
        {
          "output_type": "stream",
          "name": "stderr",
          "text": [
            "/usr/local/lib/python3.7/dist-packages/statsmodels/base/model.py:492: HessianInversionWarning: Inverting hessian failed, no bse or cov_params available\n",
            "  'available', HessianInversionWarning)\n",
            "\r 54%|█████▍    | 200/370 [04:42<03:35,  1.27s/it]"
          ]
        },
        {
          "output_type": "stream",
          "name": "stdout",
          "text": [
            "수렴\n",
            "199번째 코드 예측값 추가 완료\n"
          ]
        },
        {
          "output_type": "stream",
          "name": "stderr",
          "text": [
            "\r 54%|█████▍    | 201/370 [04:43<03:30,  1.25s/it]"
          ]
        },
        {
          "output_type": "stream",
          "name": "stdout",
          "text": [
            "수렴\n",
            "200번째 코드 예측값 추가 완료\n"
          ]
        },
        {
          "output_type": "stream",
          "name": "stderr",
          "text": [
            "\r 55%|█████▍    | 202/370 [04:44<03:41,  1.32s/it]"
          ]
        },
        {
          "output_type": "stream",
          "name": "stdout",
          "text": [
            "수렴\n",
            "201번째 코드 예측값 추가 완료\n"
          ]
        },
        {
          "output_type": "stream",
          "name": "stderr",
          "text": [
            "\r 55%|█████▍    | 203/370 [04:45<03:28,  1.25s/it]"
          ]
        },
        {
          "output_type": "stream",
          "name": "stdout",
          "text": [
            "수렴\n",
            "202번째 코드 예측값 추가 완료\n"
          ]
        },
        {
          "output_type": "stream",
          "name": "stderr",
          "text": [
            "\r 55%|█████▌    | 204/370 [04:47<03:46,  1.37s/it]"
          ]
        },
        {
          "output_type": "stream",
          "name": "stdout",
          "text": [
            "수렴\n",
            "203번째 코드 예측값 추가 완료\n"
          ]
        },
        {
          "output_type": "stream",
          "name": "stderr",
          "text": [
            "\r 55%|█████▌    | 205/370 [04:48<03:45,  1.37s/it]"
          ]
        },
        {
          "output_type": "stream",
          "name": "stdout",
          "text": [
            "수렴\n",
            "204번째 코드 예측값 추가 완료\n"
          ]
        },
        {
          "output_type": "stream",
          "name": "stderr",
          "text": [
            "\r 56%|█████▌    | 206/370 [04:50<03:50,  1.40s/it]"
          ]
        },
        {
          "output_type": "stream",
          "name": "stdout",
          "text": [
            "수렴\n",
            "205번째 코드 예측값 추가 완료\n"
          ]
        },
        {
          "output_type": "stream",
          "name": "stderr",
          "text": [
            "\r 56%|█████▌    | 207/370 [04:51<03:40,  1.35s/it]"
          ]
        },
        {
          "output_type": "stream",
          "name": "stdout",
          "text": [
            "수렴\n",
            "206번째 코드 예측값 추가 완료\n"
          ]
        },
        {
          "output_type": "stream",
          "name": "stderr",
          "text": [
            "\r 56%|█████▌    | 208/370 [04:53<03:51,  1.43s/it]"
          ]
        },
        {
          "output_type": "stream",
          "name": "stdout",
          "text": [
            "수렴\n",
            "207번째 코드 예측값 추가 완료\n"
          ]
        },
        {
          "output_type": "stream",
          "name": "stderr",
          "text": [
            "/usr/local/lib/python3.7/dist-packages/statsmodels/base/model.py:492: HessianInversionWarning: Inverting hessian failed, no bse or cov_params available\n",
            "  'available', HessianInversionWarning)\n",
            "\r 56%|█████▋    | 209/370 [04:54<03:49,  1.43s/it]"
          ]
        },
        {
          "output_type": "stream",
          "name": "stdout",
          "text": [
            "수렴\n",
            "208번째 코드 예측값 추가 완료\n"
          ]
        },
        {
          "output_type": "stream",
          "name": "stderr",
          "text": [
            "/usr/local/lib/python3.7/dist-packages/statsmodels/base/model.py:492: HessianInversionWarning: Inverting hessian failed, no bse or cov_params available\n",
            "  'available', HessianInversionWarning)\n",
            "/usr/local/lib/python3.7/dist-packages/statsmodels/base/model.py:512: ConvergenceWarning: Maximum Likelihood optimization failed to converge. Check mle_retvals\n",
            "  \"Check mle_retvals\", ConvergenceWarning)\n",
            "\r 57%|█████▋    | 210/370 [04:56<03:58,  1.49s/it]"
          ]
        },
        {
          "output_type": "stream",
          "name": "stdout",
          "text": [
            "수렴\n",
            "209번째 코드 예측값 추가 완료\n"
          ]
        },
        {
          "output_type": "stream",
          "name": "stderr",
          "text": [
            "/usr/local/lib/python3.7/dist-packages/statsmodels/base/model.py:492: HessianInversionWarning: Inverting hessian failed, no bse or cov_params available\n",
            "  'available', HessianInversionWarning)\n",
            "\r 57%|█████▋    | 211/370 [04:57<03:44,  1.41s/it]"
          ]
        },
        {
          "output_type": "stream",
          "name": "stdout",
          "text": [
            "수렴\n",
            "210번째 코드 예측값 추가 완료\n"
          ]
        },
        {
          "output_type": "stream",
          "name": "stderr",
          "text": [
            "\r 57%|█████▋    | 212/370 [04:59<03:42,  1.41s/it]"
          ]
        },
        {
          "output_type": "stream",
          "name": "stdout",
          "text": [
            "수렴\n",
            "211번째 코드 예측값 추가 완료\n"
          ]
        },
        {
          "output_type": "stream",
          "name": "stderr",
          "text": [
            "\r 58%|█████▊    | 213/370 [05:00<03:50,  1.47s/it]"
          ]
        },
        {
          "output_type": "stream",
          "name": "stdout",
          "text": [
            "수렴\n",
            "212번째 코드 예측값 추가 완료\n"
          ]
        },
        {
          "output_type": "stream",
          "name": "stderr",
          "text": [
            "/usr/local/lib/python3.7/dist-packages/statsmodels/base/model.py:492: HessianInversionWarning: Inverting hessian failed, no bse or cov_params available\n",
            "  'available', HessianInversionWarning)\n",
            "\r 58%|█████▊    | 214/370 [05:02<03:56,  1.52s/it]"
          ]
        },
        {
          "output_type": "stream",
          "name": "stdout",
          "text": [
            "수렴\n",
            "213번째 코드 예측값 추가 완료\n"
          ]
        },
        {
          "output_type": "stream",
          "name": "stderr",
          "text": [
            "\r 58%|█████▊    | 215/370 [05:03<03:50,  1.49s/it]"
          ]
        },
        {
          "output_type": "stream",
          "name": "stdout",
          "text": [
            "수렴\n",
            "214번째 코드 예측값 추가 완료\n"
          ]
        },
        {
          "output_type": "stream",
          "name": "stderr",
          "text": [
            "\r 58%|█████▊    | 216/370 [05:05<03:48,  1.49s/it]"
          ]
        },
        {
          "output_type": "stream",
          "name": "stdout",
          "text": [
            "수렴\n",
            "215번째 코드 예측값 추가 완료\n"
          ]
        },
        {
          "output_type": "stream",
          "name": "stderr",
          "text": [
            "\r 59%|█████▊    | 217/370 [05:06<03:55,  1.54s/it]"
          ]
        },
        {
          "output_type": "stream",
          "name": "stdout",
          "text": [
            "수렴\n",
            "216번째 코드 예측값 추가 완료\n"
          ]
        },
        {
          "output_type": "stream",
          "name": "stderr",
          "text": [
            "\r 59%|█████▉    | 218/370 [05:08<03:41,  1.45s/it]"
          ]
        },
        {
          "output_type": "stream",
          "name": "stdout",
          "text": [
            "수렴하지 못함\n",
            "217번째 코드 예측값 추가 완료\n"
          ]
        },
        {
          "output_type": "stream",
          "name": "stderr",
          "text": [
            "\r 59%|█████▉    | 219/370 [05:09<03:21,  1.34s/it]"
          ]
        },
        {
          "output_type": "stream",
          "name": "stdout",
          "text": [
            "수렴\n",
            "218번째 코드 예측값 추가 완료\n"
          ]
        },
        {
          "output_type": "stream",
          "name": "stderr",
          "text": [
            "\r 59%|█████▉    | 220/370 [05:10<03:27,  1.38s/it]"
          ]
        },
        {
          "output_type": "stream",
          "name": "stdout",
          "text": [
            "수렴\n",
            "219번째 코드 예측값 추가 완료\n"
          ]
        },
        {
          "output_type": "stream",
          "name": "stderr",
          "text": [
            "\r 60%|█████▉    | 221/370 [05:12<03:28,  1.40s/it]"
          ]
        },
        {
          "output_type": "stream",
          "name": "stdout",
          "text": [
            "수렴\n",
            "220번째 코드 예측값 추가 완료\n"
          ]
        },
        {
          "output_type": "stream",
          "name": "stderr",
          "text": [
            "/usr/local/lib/python3.7/dist-packages/statsmodels/base/model.py:492: HessianInversionWarning: Inverting hessian failed, no bse or cov_params available\n",
            "  'available', HessianInversionWarning)\n",
            "\r 60%|██████    | 222/370 [05:13<03:31,  1.43s/it]"
          ]
        },
        {
          "output_type": "stream",
          "name": "stdout",
          "text": [
            "수렴\n",
            "221번째 코드 예측값 추가 완료\n"
          ]
        },
        {
          "output_type": "stream",
          "name": "stderr",
          "text": [
            "\r 60%|██████    | 223/370 [05:14<03:27,  1.41s/it]"
          ]
        },
        {
          "output_type": "stream",
          "name": "stdout",
          "text": [
            "수렴\n",
            "222번째 코드 예측값 추가 완료\n"
          ]
        },
        {
          "output_type": "stream",
          "name": "stderr",
          "text": [
            "\r 61%|██████    | 224/370 [05:16<03:20,  1.37s/it]"
          ]
        },
        {
          "output_type": "stream",
          "name": "stdout",
          "text": [
            "수렴\n",
            "223번째 코드 예측값 추가 완료\n"
          ]
        },
        {
          "output_type": "stream",
          "name": "stderr",
          "text": [
            "\r 61%|██████    | 225/370 [05:17<03:24,  1.41s/it]"
          ]
        },
        {
          "output_type": "stream",
          "name": "stdout",
          "text": [
            "수렴\n",
            "224번째 코드 예측값 추가 완료\n"
          ]
        },
        {
          "output_type": "stream",
          "name": "stderr",
          "text": [
            "\r 61%|██████    | 226/370 [05:19<03:18,  1.38s/it]"
          ]
        },
        {
          "output_type": "stream",
          "name": "stdout",
          "text": [
            "수렴\n",
            "225번째 코드 예측값 추가 완료\n"
          ]
        },
        {
          "output_type": "stream",
          "name": "stderr",
          "text": [
            "\r 61%|██████▏   | 227/370 [05:20<03:15,  1.37s/it]"
          ]
        },
        {
          "output_type": "stream",
          "name": "stdout",
          "text": [
            "수렴\n",
            "226번째 코드 예측값 추가 완료\n"
          ]
        },
        {
          "output_type": "stream",
          "name": "stderr",
          "text": [
            "\r 62%|██████▏   | 228/370 [05:21<03:09,  1.34s/it]"
          ]
        },
        {
          "output_type": "stream",
          "name": "stdout",
          "text": [
            "수렴하지 못함\n",
            "227번째 코드 예측값 추가 완료\n"
          ]
        },
        {
          "output_type": "stream",
          "name": "stderr",
          "text": [
            "\r 62%|██████▏   | 229/370 [05:22<03:04,  1.31s/it]"
          ]
        },
        {
          "output_type": "stream",
          "name": "stdout",
          "text": [
            "수렴\n",
            "228번째 코드 예측값 추가 완료\n"
          ]
        },
        {
          "output_type": "stream",
          "name": "stderr",
          "text": [
            "\r 62%|██████▏   | 230/370 [05:24<03:03,  1.31s/it]"
          ]
        },
        {
          "output_type": "stream",
          "name": "stdout",
          "text": [
            "수렴\n",
            "229번째 코드 예측값 추가 완료\n"
          ]
        },
        {
          "output_type": "stream",
          "name": "stderr",
          "text": [
            "\r 62%|██████▏   | 231/370 [05:24<02:38,  1.14s/it]"
          ]
        },
        {
          "output_type": "stream",
          "name": "stdout",
          "text": [
            "수렴하지 못함\n",
            "230번째 코드 예측값 추가 완료\n"
          ]
        },
        {
          "output_type": "stream",
          "name": "stderr",
          "text": [
            "/usr/local/lib/python3.7/dist-packages/statsmodels/base/model.py:492: HessianInversionWarning: Inverting hessian failed, no bse or cov_params available\n",
            "  'available', HessianInversionWarning)\n",
            "\r 63%|██████▎   | 232/370 [05:25<02:26,  1.06s/it]"
          ]
        },
        {
          "output_type": "stream",
          "name": "stdout",
          "text": [
            "수렴\n",
            "231번째 코드 예측값 추가 완료\n"
          ]
        },
        {
          "output_type": "stream",
          "name": "stderr",
          "text": [
            "\r 63%|██████▎   | 233/370 [05:27<02:41,  1.18s/it]"
          ]
        },
        {
          "output_type": "stream",
          "name": "stdout",
          "text": [
            "수렴\n",
            "232번째 코드 예측값 추가 완료\n"
          ]
        },
        {
          "output_type": "stream",
          "name": "stderr",
          "text": [
            "\r 63%|██████▎   | 234/370 [05:28<02:38,  1.16s/it]"
          ]
        },
        {
          "output_type": "stream",
          "name": "stdout",
          "text": [
            "수렴하지 못함\n",
            "233번째 코드 예측값 추가 완료\n"
          ]
        },
        {
          "output_type": "stream",
          "name": "stderr",
          "text": [
            "\r 64%|██████▎   | 235/370 [05:29<02:49,  1.25s/it]"
          ]
        },
        {
          "output_type": "stream",
          "name": "stdout",
          "text": [
            "수렴하지 못함\n",
            "234번째 코드 예측값 추가 완료\n"
          ]
        },
        {
          "output_type": "stream",
          "name": "stderr",
          "text": [
            "\r 64%|██████▍   | 236/370 [05:31<02:57,  1.32s/it]"
          ]
        },
        {
          "output_type": "stream",
          "name": "stdout",
          "text": [
            "수렴\n",
            "235번째 코드 예측값 추가 완료\n"
          ]
        },
        {
          "output_type": "stream",
          "name": "stderr",
          "text": [
            "\r 64%|██████▍   | 237/370 [05:32<03:03,  1.38s/it]"
          ]
        },
        {
          "output_type": "stream",
          "name": "stdout",
          "text": [
            "수렴\n",
            "236번째 코드 예측값 추가 완료\n"
          ]
        },
        {
          "output_type": "stream",
          "name": "stderr",
          "text": [
            "/usr/local/lib/python3.7/dist-packages/statsmodels/base/model.py:492: HessianInversionWarning: Inverting hessian failed, no bse or cov_params available\n",
            "  'available', HessianInversionWarning)\n",
            "/usr/local/lib/python3.7/dist-packages/statsmodels/base/model.py:512: ConvergenceWarning: Maximum Likelihood optimization failed to converge. Check mle_retvals\n",
            "  \"Check mle_retvals\", ConvergenceWarning)\n",
            "\r 64%|██████▍   | 238/370 [05:34<03:14,  1.47s/it]"
          ]
        },
        {
          "output_type": "stream",
          "name": "stdout",
          "text": [
            "수렴\n",
            "237번째 코드 예측값 추가 완료\n"
          ]
        },
        {
          "output_type": "stream",
          "name": "stderr",
          "text": [
            "\r 65%|██████▍   | 239/370 [05:35<03:04,  1.41s/it]"
          ]
        },
        {
          "output_type": "stream",
          "name": "stdout",
          "text": [
            "수렴\n",
            "238번째 코드 예측값 추가 완료\n"
          ]
        },
        {
          "output_type": "stream",
          "name": "stderr",
          "text": [
            "/usr/local/lib/python3.7/dist-packages/statsmodels/base/model.py:492: HessianInversionWarning: Inverting hessian failed, no bse or cov_params available\n",
            "  'available', HessianInversionWarning)\n",
            "\r 65%|██████▍   | 240/370 [05:37<03:06,  1.44s/it]"
          ]
        },
        {
          "output_type": "stream",
          "name": "stdout",
          "text": [
            "수렴\n",
            "239번째 코드 예측값 추가 완료\n"
          ]
        },
        {
          "output_type": "stream",
          "name": "stderr",
          "text": [
            "\r 65%|██████▌   | 241/370 [05:39<03:39,  1.70s/it]"
          ]
        },
        {
          "output_type": "stream",
          "name": "stdout",
          "text": [
            "수렴\n",
            "240번째 코드 예측값 추가 완료\n"
          ]
        },
        {
          "output_type": "stream",
          "name": "stderr",
          "text": [
            "/usr/local/lib/python3.7/dist-packages/statsmodels/base/model.py:492: HessianInversionWarning: Inverting hessian failed, no bse or cov_params available\n",
            "  'available', HessianInversionWarning)\n",
            "\r 65%|██████▌   | 242/370 [05:40<03:22,  1.58s/it]"
          ]
        },
        {
          "output_type": "stream",
          "name": "stdout",
          "text": [
            "수렴\n",
            "241번째 코드 예측값 추가 완료\n"
          ]
        },
        {
          "output_type": "stream",
          "name": "stderr",
          "text": [
            "\r 66%|██████▌   | 243/370 [05:42<03:09,  1.49s/it]"
          ]
        },
        {
          "output_type": "stream",
          "name": "stdout",
          "text": [
            "수렴하지 못함\n",
            "242번째 코드 예측값 추가 완료\n"
          ]
        },
        {
          "output_type": "stream",
          "name": "stderr",
          "text": [
            "\r 66%|██████▌   | 244/370 [05:43<02:54,  1.39s/it]"
          ]
        },
        {
          "output_type": "stream",
          "name": "stdout",
          "text": [
            "수렴\n",
            "243번째 코드 예측값 추가 완료\n"
          ]
        },
        {
          "output_type": "stream",
          "name": "stderr",
          "text": [
            "\r 66%|██████▌   | 245/370 [05:44<02:56,  1.41s/it]"
          ]
        },
        {
          "output_type": "stream",
          "name": "stdout",
          "text": [
            "수렴\n",
            "244번째 코드 예측값 추가 완료\n"
          ]
        },
        {
          "output_type": "stream",
          "name": "stderr",
          "text": [
            "\r 66%|██████▋   | 246/370 [05:45<02:43,  1.32s/it]"
          ]
        },
        {
          "output_type": "stream",
          "name": "stdout",
          "text": [
            "수렴\n",
            "245번째 코드 예측값 추가 완료\n"
          ]
        },
        {
          "output_type": "stream",
          "name": "stderr",
          "text": [
            "\r 67%|██████▋   | 247/370 [05:46<02:32,  1.24s/it]"
          ]
        },
        {
          "output_type": "stream",
          "name": "stdout",
          "text": [
            "수렴하지 못함\n",
            "246번째 코드 예측값 추가 완료\n"
          ]
        },
        {
          "output_type": "stream",
          "name": "stderr",
          "text": [
            "\r 67%|██████▋   | 248/370 [05:48<02:36,  1.28s/it]"
          ]
        },
        {
          "output_type": "stream",
          "name": "stdout",
          "text": [
            "수렴\n",
            "247번째 코드 예측값 추가 완료\n"
          ]
        },
        {
          "output_type": "stream",
          "name": "stderr",
          "text": [
            "\r 67%|██████▋   | 249/370 [05:49<02:21,  1.17s/it]"
          ]
        },
        {
          "output_type": "stream",
          "name": "stdout",
          "text": [
            "수렴하지 못함\n",
            "248번째 코드 예측값 추가 완료\n"
          ]
        },
        {
          "output_type": "stream",
          "name": "stderr",
          "text": [
            "\r 68%|██████▊   | 250/370 [05:50<02:25,  1.21s/it]"
          ]
        },
        {
          "output_type": "stream",
          "name": "stdout",
          "text": [
            "수렴\n",
            "249번째 코드 예측값 추가 완료\n"
          ]
        },
        {
          "output_type": "stream",
          "name": "stderr",
          "text": [
            "\r 68%|██████▊   | 251/370 [05:51<02:28,  1.25s/it]"
          ]
        },
        {
          "output_type": "stream",
          "name": "stdout",
          "text": [
            "수렴\n",
            "250번째 코드 예측값 추가 완료\n"
          ]
        },
        {
          "output_type": "stream",
          "name": "stderr",
          "text": [
            "\r 68%|██████▊   | 252/370 [05:53<02:29,  1.27s/it]"
          ]
        },
        {
          "output_type": "stream",
          "name": "stdout",
          "text": [
            "수렴\n",
            "251번째 코드 예측값 추가 완료\n"
          ]
        },
        {
          "output_type": "stream",
          "name": "stderr",
          "text": [
            "\r 68%|██████▊   | 253/370 [05:54<02:38,  1.35s/it]"
          ]
        },
        {
          "output_type": "stream",
          "name": "stdout",
          "text": [
            "수렴\n",
            "252번째 코드 예측값 추가 완료\n"
          ]
        },
        {
          "output_type": "stream",
          "name": "stderr",
          "text": [
            "\r 69%|██████▊   | 254/370 [05:55<02:30,  1.29s/it]"
          ]
        },
        {
          "output_type": "stream",
          "name": "stdout",
          "text": [
            "수렴\n",
            "253번째 코드 예측값 추가 완료\n"
          ]
        },
        {
          "output_type": "stream",
          "name": "stderr",
          "text": [
            "/usr/local/lib/python3.7/dist-packages/statsmodels/base/model.py:492: HessianInversionWarning: Inverting hessian failed, no bse or cov_params available\n",
            "  'available', HessianInversionWarning)\n",
            "\r 69%|██████▉   | 255/370 [05:57<02:32,  1.33s/it]"
          ]
        },
        {
          "output_type": "stream",
          "name": "stdout",
          "text": [
            "수렴\n",
            "254번째 코드 예측값 추가 완료\n"
          ]
        },
        {
          "output_type": "stream",
          "name": "stderr",
          "text": [
            "\r 69%|██████▉   | 256/370 [05:58<02:29,  1.31s/it]"
          ]
        },
        {
          "output_type": "stream",
          "name": "stdout",
          "text": [
            "수렴\n",
            "255번째 코드 예측값 추가 완료\n"
          ]
        },
        {
          "output_type": "stream",
          "name": "stderr",
          "text": [
            "/usr/local/lib/python3.7/dist-packages/statsmodels/base/model.py:492: HessianInversionWarning: Inverting hessian failed, no bse or cov_params available\n",
            "  'available', HessianInversionWarning)\n",
            "\r 69%|██████▉   | 257/370 [06:00<02:33,  1.36s/it]"
          ]
        },
        {
          "output_type": "stream",
          "name": "stdout",
          "text": [
            "수렴\n",
            "256번째 코드 예측값 추가 완료\n"
          ]
        },
        {
          "output_type": "stream",
          "name": "stderr",
          "text": [
            "\r 70%|██████▉   | 258/370 [06:01<02:32,  1.36s/it]"
          ]
        },
        {
          "output_type": "stream",
          "name": "stdout",
          "text": [
            "수렴\n",
            "257번째 코드 예측값 추가 완료\n"
          ]
        },
        {
          "output_type": "stream",
          "name": "stderr",
          "text": [
            "\r 70%|███████   | 259/370 [06:02<02:28,  1.34s/it]"
          ]
        },
        {
          "output_type": "stream",
          "name": "stdout",
          "text": [
            "수렴\n",
            "258번째 코드 예측값 추가 완료\n"
          ]
        },
        {
          "output_type": "stream",
          "name": "stderr",
          "text": [
            "\r 70%|███████   | 260/370 [06:03<02:23,  1.30s/it]"
          ]
        },
        {
          "output_type": "stream",
          "name": "stdout",
          "text": [
            "수렴\n",
            "259번째 코드 예측값 추가 완료\n"
          ]
        },
        {
          "output_type": "stream",
          "name": "stderr",
          "text": [
            "\r 71%|███████   | 261/370 [06:05<02:25,  1.34s/it]"
          ]
        },
        {
          "output_type": "stream",
          "name": "stdout",
          "text": [
            "수렴\n",
            "260번째 코드 예측값 추가 완료\n"
          ]
        },
        {
          "output_type": "stream",
          "name": "stderr",
          "text": [
            "\r 71%|███████   | 262/370 [06:06<02:24,  1.34s/it]"
          ]
        },
        {
          "output_type": "stream",
          "name": "stdout",
          "text": [
            "수렴\n",
            "261번째 코드 예측값 추가 완료\n"
          ]
        },
        {
          "output_type": "stream",
          "name": "stderr",
          "text": [
            "\r 71%|███████   | 263/370 [06:07<02:21,  1.32s/it]"
          ]
        },
        {
          "output_type": "stream",
          "name": "stdout",
          "text": [
            "수렴하지 못함\n",
            "262번째 코드 예측값 추가 완료\n"
          ]
        },
        {
          "output_type": "stream",
          "name": "stderr",
          "text": [
            "\r 71%|███████▏  | 264/370 [06:09<02:20,  1.32s/it]"
          ]
        },
        {
          "output_type": "stream",
          "name": "stdout",
          "text": [
            "수렴\n",
            "263번째 코드 예측값 추가 완료\n"
          ]
        },
        {
          "output_type": "stream",
          "name": "stderr",
          "text": [
            "\r 72%|███████▏  | 265/370 [06:10<02:15,  1.29s/it]"
          ]
        },
        {
          "output_type": "stream",
          "name": "stdout",
          "text": [
            "수렴\n",
            "264번째 코드 예측값 추가 완료\n"
          ]
        },
        {
          "output_type": "stream",
          "name": "stderr",
          "text": [
            "\r 72%|███████▏  | 266/370 [06:11<02:08,  1.24s/it]"
          ]
        },
        {
          "output_type": "stream",
          "name": "stdout",
          "text": [
            "수렴\n",
            "265번째 코드 예측값 추가 완료\n"
          ]
        },
        {
          "output_type": "stream",
          "name": "stderr",
          "text": [
            "/usr/local/lib/python3.7/dist-packages/statsmodels/base/model.py:492: HessianInversionWarning: Inverting hessian failed, no bse or cov_params available\n",
            "  'available', HessianInversionWarning)\n",
            "\r 72%|███████▏  | 267/370 [06:12<02:08,  1.25s/it]"
          ]
        },
        {
          "output_type": "stream",
          "name": "stdout",
          "text": [
            "수렴\n",
            "266번째 코드 예측값 추가 완료\n"
          ]
        },
        {
          "output_type": "stream",
          "name": "stderr",
          "text": [
            "\r 72%|███████▏  | 268/370 [06:14<02:08,  1.26s/it]"
          ]
        },
        {
          "output_type": "stream",
          "name": "stdout",
          "text": [
            "수렴\n",
            "267번째 코드 예측값 추가 완료\n"
          ]
        },
        {
          "output_type": "stream",
          "name": "stderr",
          "text": [
            "\r 73%|███████▎  | 269/370 [06:15<02:02,  1.22s/it]"
          ]
        },
        {
          "output_type": "stream",
          "name": "stdout",
          "text": [
            "수렴\n",
            "268번째 코드 예측값 추가 완료\n"
          ]
        },
        {
          "output_type": "stream",
          "name": "stderr",
          "text": [
            "\r 73%|███████▎  | 270/370 [06:16<02:14,  1.35s/it]"
          ]
        },
        {
          "output_type": "stream",
          "name": "stdout",
          "text": [
            "수렴\n",
            "269번째 코드 예측값 추가 완료\n"
          ]
        },
        {
          "output_type": "stream",
          "name": "stderr",
          "text": [
            "\r 73%|███████▎  | 271/370 [06:18<02:19,  1.41s/it]"
          ]
        },
        {
          "output_type": "stream",
          "name": "stdout",
          "text": [
            "수렴\n",
            "270번째 코드 예측값 추가 완료\n"
          ]
        },
        {
          "output_type": "stream",
          "name": "stderr",
          "text": [
            "\r 74%|███████▎  | 272/370 [06:19<02:17,  1.40s/it]"
          ]
        },
        {
          "output_type": "stream",
          "name": "stdout",
          "text": [
            "수렴\n",
            "271번째 코드 예측값 추가 완료\n"
          ]
        },
        {
          "output_type": "stream",
          "name": "stderr",
          "text": [
            "\r 74%|███████▍  | 273/370 [06:21<02:18,  1.42s/it]"
          ]
        },
        {
          "output_type": "stream",
          "name": "stdout",
          "text": [
            "수렴\n",
            "272번째 코드 예측값 추가 완료\n"
          ]
        },
        {
          "output_type": "stream",
          "name": "stderr",
          "text": [
            "\r 74%|███████▍  | 274/370 [06:22<02:11,  1.37s/it]"
          ]
        },
        {
          "output_type": "stream",
          "name": "stdout",
          "text": [
            "수렴\n",
            "273번째 코드 예측값 추가 완료\n"
          ]
        },
        {
          "output_type": "stream",
          "name": "stderr",
          "text": [
            "/usr/local/lib/python3.7/dist-packages/statsmodels/base/model.py:492: HessianInversionWarning: Inverting hessian failed, no bse or cov_params available\n",
            "  'available', HessianInversionWarning)\n",
            "\r 74%|███████▍  | 275/370 [06:23<02:04,  1.31s/it]"
          ]
        },
        {
          "output_type": "stream",
          "name": "stdout",
          "text": [
            "수렴\n",
            "274번째 코드 예측값 추가 완료\n"
          ]
        },
        {
          "output_type": "stream",
          "name": "stderr",
          "text": [
            "\r 75%|███████▍  | 276/370 [06:24<01:58,  1.26s/it]"
          ]
        },
        {
          "output_type": "stream",
          "name": "stdout",
          "text": [
            "수렴\n",
            "275번째 코드 예측값 추가 완료\n"
          ]
        },
        {
          "output_type": "stream",
          "name": "stderr",
          "text": [
            "\r 75%|███████▍  | 277/370 [06:26<02:02,  1.32s/it]"
          ]
        },
        {
          "output_type": "stream",
          "name": "stdout",
          "text": [
            "수렴\n",
            "276번째 코드 예측값 추가 완료\n"
          ]
        },
        {
          "output_type": "stream",
          "name": "stderr",
          "text": [
            "\r 75%|███████▌  | 278/370 [06:27<02:08,  1.40s/it]"
          ]
        },
        {
          "output_type": "stream",
          "name": "stdout",
          "text": [
            "수렴\n",
            "277번째 코드 예측값 추가 완료\n"
          ]
        },
        {
          "output_type": "stream",
          "name": "stderr",
          "text": [
            "/usr/local/lib/python3.7/dist-packages/statsmodels/base/model.py:492: HessianInversionWarning: Inverting hessian failed, no bse or cov_params available\n",
            "  'available', HessianInversionWarning)\n",
            "\r 75%|███████▌  | 279/370 [06:29<02:03,  1.35s/it]"
          ]
        },
        {
          "output_type": "stream",
          "name": "stdout",
          "text": [
            "수렴\n",
            "278번째 코드 예측값 추가 완료\n"
          ]
        },
        {
          "output_type": "stream",
          "name": "stderr",
          "text": [
            "/usr/local/lib/python3.7/dist-packages/statsmodels/base/model.py:492: HessianInversionWarning: Inverting hessian failed, no bse or cov_params available\n",
            "  'available', HessianInversionWarning)\n",
            "\r 76%|███████▌  | 280/370 [06:30<02:01,  1.35s/it]"
          ]
        },
        {
          "output_type": "stream",
          "name": "stdout",
          "text": [
            "수렴\n",
            "279번째 코드 예측값 추가 완료\n"
          ]
        },
        {
          "output_type": "stream",
          "name": "stderr",
          "text": [
            "\r 76%|███████▌  | 281/370 [06:31<01:53,  1.27s/it]"
          ]
        },
        {
          "output_type": "stream",
          "name": "stdout",
          "text": [
            "수렴하지 못함\n",
            "280번째 코드 예측값 추가 완료\n"
          ]
        },
        {
          "output_type": "stream",
          "name": "stderr",
          "text": [
            "\r 76%|███████▌  | 282/370 [06:33<01:59,  1.35s/it]"
          ]
        },
        {
          "output_type": "stream",
          "name": "stdout",
          "text": [
            "수렴\n",
            "281번째 코드 예측값 추가 완료\n"
          ]
        },
        {
          "output_type": "stream",
          "name": "stderr",
          "text": [
            "/usr/local/lib/python3.7/dist-packages/statsmodels/base/model.py:492: HessianInversionWarning: Inverting hessian failed, no bse or cov_params available\n",
            "  'available', HessianInversionWarning)\n",
            "\r 76%|███████▋  | 283/370 [06:34<02:00,  1.39s/it]"
          ]
        },
        {
          "output_type": "stream",
          "name": "stdout",
          "text": [
            "수렴\n",
            "282번째 코드 예측값 추가 완료\n"
          ]
        },
        {
          "output_type": "stream",
          "name": "stderr",
          "text": [
            "\r 77%|███████▋  | 284/370 [06:35<01:51,  1.30s/it]"
          ]
        },
        {
          "output_type": "stream",
          "name": "stdout",
          "text": [
            "수렴\n",
            "283번째 코드 예측값 추가 완료\n"
          ]
        },
        {
          "output_type": "stream",
          "name": "stderr",
          "text": [
            "\r 77%|███████▋  | 285/370 [06:37<01:54,  1.35s/it]"
          ]
        },
        {
          "output_type": "stream",
          "name": "stdout",
          "text": [
            "수렴\n",
            "284번째 코드 예측값 추가 완료\n"
          ]
        },
        {
          "output_type": "stream",
          "name": "stderr",
          "text": [
            "\r 77%|███████▋  | 286/370 [06:38<01:51,  1.33s/it]"
          ]
        },
        {
          "output_type": "stream",
          "name": "stdout",
          "text": [
            "수렴\n",
            "285번째 코드 예측값 추가 완료\n"
          ]
        },
        {
          "output_type": "stream",
          "name": "stderr",
          "text": [
            "\r 78%|███████▊  | 287/370 [06:39<01:51,  1.34s/it]"
          ]
        },
        {
          "output_type": "stream",
          "name": "stdout",
          "text": [
            "수렴\n",
            "286번째 코드 예측값 추가 완료\n"
          ]
        },
        {
          "output_type": "stream",
          "name": "stderr",
          "text": [
            "\r 78%|███████▊  | 288/370 [06:40<01:39,  1.21s/it]"
          ]
        },
        {
          "output_type": "stream",
          "name": "stdout",
          "text": [
            "수렴하지 못함\n",
            "287번째 코드 예측값 추가 완료\n"
          ]
        },
        {
          "output_type": "stream",
          "name": "stderr",
          "text": [
            "\r 78%|███████▊  | 289/370 [06:42<01:44,  1.29s/it]"
          ]
        },
        {
          "output_type": "stream",
          "name": "stdout",
          "text": [
            "수렴\n",
            "288번째 코드 예측값 추가 완료\n"
          ]
        },
        {
          "output_type": "stream",
          "name": "stderr",
          "text": [
            "\r 78%|███████▊  | 290/370 [06:43<01:42,  1.28s/it]"
          ]
        },
        {
          "output_type": "stream",
          "name": "stdout",
          "text": [
            "수렴하지 못함\n",
            "289번째 코드 예측값 추가 완료\n"
          ]
        },
        {
          "output_type": "stream",
          "name": "stderr",
          "text": [
            "/usr/local/lib/python3.7/dist-packages/statsmodels/base/model.py:492: HessianInversionWarning: Inverting hessian failed, no bse or cov_params available\n",
            "  'available', HessianInversionWarning)\n",
            "\r 79%|███████▊  | 291/370 [06:45<01:54,  1.44s/it]"
          ]
        },
        {
          "output_type": "stream",
          "name": "stdout",
          "text": [
            "수렴\n",
            "290번째 코드 예측값 추가 완료\n"
          ]
        },
        {
          "output_type": "stream",
          "name": "stderr",
          "text": [
            "/usr/local/lib/python3.7/dist-packages/statsmodels/base/model.py:492: HessianInversionWarning: Inverting hessian failed, no bse or cov_params available\n",
            "  'available', HessianInversionWarning)\n",
            "\r 79%|███████▉  | 292/370 [06:46<01:48,  1.39s/it]"
          ]
        },
        {
          "output_type": "stream",
          "name": "stdout",
          "text": [
            "수렴\n",
            "291번째 코드 예측값 추가 완료\n"
          ]
        },
        {
          "output_type": "stream",
          "name": "stderr",
          "text": [
            "\r 79%|███████▉  | 293/370 [06:47<01:44,  1.36s/it]"
          ]
        },
        {
          "output_type": "stream",
          "name": "stdout",
          "text": [
            "수렴\n",
            "292번째 코드 예측값 추가 완료\n"
          ]
        },
        {
          "output_type": "stream",
          "name": "stderr",
          "text": [
            "\r 79%|███████▉  | 294/370 [06:49<01:46,  1.41s/it]"
          ]
        },
        {
          "output_type": "stream",
          "name": "stdout",
          "text": [
            "수렴\n",
            "293번째 코드 예측값 추가 완료\n"
          ]
        },
        {
          "output_type": "stream",
          "name": "stderr",
          "text": [
            "\r 80%|███████▉  | 295/370 [06:50<01:33,  1.25s/it]"
          ]
        },
        {
          "output_type": "stream",
          "name": "stdout",
          "text": [
            "수렴하지 못함\n",
            "294번째 코드 예측값 추가 완료\n"
          ]
        },
        {
          "output_type": "stream",
          "name": "stderr",
          "text": [
            "/usr/local/lib/python3.7/dist-packages/statsmodels/base/model.py:492: HessianInversionWarning: Inverting hessian failed, no bse or cov_params available\n",
            "  'available', HessianInversionWarning)\n",
            "\r 80%|████████  | 296/370 [06:51<01:40,  1.36s/it]"
          ]
        },
        {
          "output_type": "stream",
          "name": "stdout",
          "text": [
            "수렴\n",
            "295번째 코드 예측값 추가 완료\n"
          ]
        },
        {
          "output_type": "stream",
          "name": "stderr",
          "text": [
            "\r 80%|████████  | 297/370 [06:52<01:33,  1.27s/it]"
          ]
        },
        {
          "output_type": "stream",
          "name": "stdout",
          "text": [
            "수렴하지 못함\n",
            "296번째 코드 예측값 추가 완료\n"
          ]
        },
        {
          "output_type": "stream",
          "name": "stderr",
          "text": [
            "\r 81%|████████  | 298/370 [06:54<01:40,  1.39s/it]"
          ]
        },
        {
          "output_type": "stream",
          "name": "stdout",
          "text": [
            "수렴\n",
            "297번째 코드 예측값 추가 완료\n"
          ]
        },
        {
          "output_type": "stream",
          "name": "stderr",
          "text": [
            "\r 81%|████████  | 299/370 [06:55<01:28,  1.25s/it]"
          ]
        },
        {
          "output_type": "stream",
          "name": "stdout",
          "text": [
            "수렴하지 못함\n",
            "298번째 코드 예측값 추가 완료\n"
          ]
        },
        {
          "output_type": "stream",
          "name": "stderr",
          "text": [
            "\r 81%|████████  | 300/370 [06:56<01:29,  1.28s/it]"
          ]
        },
        {
          "output_type": "stream",
          "name": "stdout",
          "text": [
            "수렴\n",
            "299번째 코드 예측값 추가 완료\n"
          ]
        },
        {
          "output_type": "stream",
          "name": "stderr",
          "text": [
            "\r 81%|████████▏ | 301/370 [06:58<01:26,  1.26s/it]"
          ]
        },
        {
          "output_type": "stream",
          "name": "stdout",
          "text": [
            "수렴\n",
            "300번째 코드 예측값 추가 완료\n"
          ]
        },
        {
          "output_type": "stream",
          "name": "stderr",
          "text": [
            "\r 82%|████████▏ | 302/370 [06:59<01:27,  1.29s/it]"
          ]
        },
        {
          "output_type": "stream",
          "name": "stdout",
          "text": [
            "수렴\n",
            "301번째 코드 예측값 추가 완료\n"
          ]
        },
        {
          "output_type": "stream",
          "name": "stderr",
          "text": [
            "\r 82%|████████▏ | 303/370 [07:00<01:28,  1.33s/it]"
          ]
        },
        {
          "output_type": "stream",
          "name": "stdout",
          "text": [
            "수렴\n",
            "302번째 코드 예측값 추가 완료\n"
          ]
        },
        {
          "output_type": "stream",
          "name": "stderr",
          "text": [
            "\r 82%|████████▏ | 304/370 [07:02<01:26,  1.30s/it]"
          ]
        },
        {
          "output_type": "stream",
          "name": "stdout",
          "text": [
            "수렴\n",
            "303번째 코드 예측값 추가 완료\n"
          ]
        },
        {
          "output_type": "stream",
          "name": "stderr",
          "text": [
            "/usr/local/lib/python3.7/dist-packages/statsmodels/base/model.py:512: ConvergenceWarning: Maximum Likelihood optimization failed to converge. Check mle_retvals\n",
            "  \"Check mle_retvals\", ConvergenceWarning)\n",
            "\r 82%|████████▏ | 305/370 [07:03<01:29,  1.38s/it]"
          ]
        },
        {
          "output_type": "stream",
          "name": "stdout",
          "text": [
            "수렴\n",
            "304번째 코드 예측값 추가 완료\n"
          ]
        },
        {
          "output_type": "stream",
          "name": "stderr",
          "text": [
            "\r 83%|████████▎ | 306/370 [07:05<01:31,  1.43s/it]"
          ]
        },
        {
          "output_type": "stream",
          "name": "stdout",
          "text": [
            "수렴\n",
            "305번째 코드 예측값 추가 완료\n"
          ]
        },
        {
          "output_type": "stream",
          "name": "stderr",
          "text": [
            "/usr/local/lib/python3.7/dist-packages/statsmodels/base/model.py:492: HessianInversionWarning: Inverting hessian failed, no bse or cov_params available\n",
            "  'available', HessianInversionWarning)\n",
            "\r 83%|████████▎ | 307/370 [07:06<01:19,  1.26s/it]"
          ]
        },
        {
          "output_type": "stream",
          "name": "stdout",
          "text": [
            "수렴\n",
            "306번째 코드 예측값 추가 완료\n"
          ]
        },
        {
          "output_type": "stream",
          "name": "stderr",
          "text": [
            "\r 83%|████████▎ | 308/370 [07:07<01:23,  1.35s/it]"
          ]
        },
        {
          "output_type": "stream",
          "name": "stdout",
          "text": [
            "수렴\n",
            "307번째 코드 예측값 추가 완료\n"
          ]
        },
        {
          "output_type": "stream",
          "name": "stderr",
          "text": [
            "/usr/local/lib/python3.7/dist-packages/statsmodels/base/model.py:492: HessianInversionWarning: Inverting hessian failed, no bse or cov_params available\n",
            "  'available', HessianInversionWarning)\n",
            "\r 84%|████████▎ | 309/370 [07:08<01:19,  1.30s/it]"
          ]
        },
        {
          "output_type": "stream",
          "name": "stdout",
          "text": [
            "수렴\n",
            "308번째 코드 예측값 추가 완료\n"
          ]
        },
        {
          "output_type": "stream",
          "name": "stderr",
          "text": [
            "\r 84%|████████▍ | 310/370 [07:09<01:12,  1.21s/it]"
          ]
        },
        {
          "output_type": "stream",
          "name": "stdout",
          "text": [
            "수렴\n",
            "309번째 코드 예측값 추가 완료\n"
          ]
        },
        {
          "output_type": "stream",
          "name": "stderr",
          "text": [
            "\r 84%|████████▍ | 311/370 [07:11<01:12,  1.23s/it]"
          ]
        },
        {
          "output_type": "stream",
          "name": "stdout",
          "text": [
            "수렴하지 못함\n",
            "310번째 코드 예측값 추가 완료\n"
          ]
        },
        {
          "output_type": "stream",
          "name": "stderr",
          "text": [
            "\r 84%|████████▍ | 312/370 [07:12<01:05,  1.13s/it]"
          ]
        },
        {
          "output_type": "stream",
          "name": "stdout",
          "text": [
            "수렴하지 못함\n",
            "311번째 코드 예측값 추가 완료\n"
          ]
        },
        {
          "output_type": "stream",
          "name": "stderr",
          "text": [
            "\r 85%|████████▍ | 313/370 [07:13<01:14,  1.31s/it]"
          ]
        },
        {
          "output_type": "stream",
          "name": "stdout",
          "text": [
            "수렴\n",
            "312번째 코드 예측값 추가 완료\n"
          ]
        },
        {
          "output_type": "stream",
          "name": "stderr",
          "text": [
            "/usr/local/lib/python3.7/dist-packages/statsmodels/base/model.py:492: HessianInversionWarning: Inverting hessian failed, no bse or cov_params available\n",
            "  'available', HessianInversionWarning)\n",
            "\r 85%|████████▍ | 314/370 [07:15<01:14,  1.34s/it]"
          ]
        },
        {
          "output_type": "stream",
          "name": "stdout",
          "text": [
            "수렴\n",
            "313번째 코드 예측값 추가 완료\n"
          ]
        },
        {
          "output_type": "stream",
          "name": "stderr",
          "text": [
            "/usr/local/lib/python3.7/dist-packages/statsmodels/base/model.py:492: HessianInversionWarning: Inverting hessian failed, no bse or cov_params available\n",
            "  'available', HessianInversionWarning)\n",
            "\r 85%|████████▌ | 315/370 [07:16<01:12,  1.31s/it]"
          ]
        },
        {
          "output_type": "stream",
          "name": "stdout",
          "text": [
            "수렴\n",
            "314번째 코드 예측값 추가 완료\n"
          ]
        },
        {
          "output_type": "stream",
          "name": "stderr",
          "text": [
            "\r 85%|████████▌ | 316/370 [07:17<01:14,  1.38s/it]"
          ]
        },
        {
          "output_type": "stream",
          "name": "stdout",
          "text": [
            "수렴\n",
            "315번째 코드 예측값 추가 완료\n"
          ]
        },
        {
          "output_type": "stream",
          "name": "stderr",
          "text": [
            "\r 86%|████████▌ | 317/370 [07:19<01:20,  1.51s/it]"
          ]
        },
        {
          "output_type": "stream",
          "name": "stdout",
          "text": [
            "수렴\n",
            "316번째 코드 예측값 추가 완료\n"
          ]
        },
        {
          "output_type": "stream",
          "name": "stderr",
          "text": [
            "/usr/local/lib/python3.7/dist-packages/statsmodels/base/model.py:492: HessianInversionWarning: Inverting hessian failed, no bse or cov_params available\n",
            "  'available', HessianInversionWarning)\n",
            "\r 86%|████████▌ | 318/370 [07:20<01:12,  1.39s/it]"
          ]
        },
        {
          "output_type": "stream",
          "name": "stdout",
          "text": [
            "수렴\n",
            "317번째 코드 예측값 추가 완료\n"
          ]
        },
        {
          "output_type": "stream",
          "name": "stderr",
          "text": [
            "\r 86%|████████▌ | 319/370 [07:22<01:08,  1.35s/it]"
          ]
        },
        {
          "output_type": "stream",
          "name": "stdout",
          "text": [
            "수렴\n",
            "318번째 코드 예측값 추가 완료\n"
          ]
        },
        {
          "output_type": "stream",
          "name": "stderr",
          "text": [
            "\r 86%|████████▋ | 320/370 [07:23<01:05,  1.32s/it]"
          ]
        },
        {
          "output_type": "stream",
          "name": "stdout",
          "text": [
            "수렴\n",
            "319번째 코드 예측값 추가 완료\n"
          ]
        },
        {
          "output_type": "stream",
          "name": "stderr",
          "text": [
            "\r 87%|████████▋ | 321/370 [07:24<00:58,  1.20s/it]"
          ]
        },
        {
          "output_type": "stream",
          "name": "stdout",
          "text": [
            "수렴\n",
            "320번째 코드 예측값 추가 완료\n"
          ]
        },
        {
          "output_type": "stream",
          "name": "stderr",
          "text": [
            "\r 87%|████████▋ | 322/370 [07:25<01:02,  1.30s/it]"
          ]
        },
        {
          "output_type": "stream",
          "name": "stdout",
          "text": [
            "수렴\n",
            "321번째 코드 예측값 추가 완료\n"
          ]
        },
        {
          "output_type": "stream",
          "name": "stderr",
          "text": [
            "\r 87%|████████▋ | 323/370 [07:27<01:05,  1.39s/it]"
          ]
        },
        {
          "output_type": "stream",
          "name": "stdout",
          "text": [
            "수렴\n",
            "322번째 코드 예측값 추가 완료\n"
          ]
        },
        {
          "output_type": "stream",
          "name": "stderr",
          "text": [
            "\r 88%|████████▊ | 324/370 [07:29<01:07,  1.46s/it]"
          ]
        },
        {
          "output_type": "stream",
          "name": "stdout",
          "text": [
            "수렴\n",
            "323번째 코드 예측값 추가 완료\n"
          ]
        },
        {
          "output_type": "stream",
          "name": "stderr",
          "text": [
            "\r 88%|████████▊ | 325/370 [07:30<01:03,  1.40s/it]"
          ]
        },
        {
          "output_type": "stream",
          "name": "stdout",
          "text": [
            "수렴\n",
            "324번째 코드 예측값 추가 완료\n"
          ]
        },
        {
          "output_type": "stream",
          "name": "stderr",
          "text": [
            "\r 88%|████████▊ | 326/370 [07:31<01:00,  1.37s/it]"
          ]
        },
        {
          "output_type": "stream",
          "name": "stdout",
          "text": [
            "수렴\n",
            "325번째 코드 예측값 추가 완료\n"
          ]
        },
        {
          "output_type": "stream",
          "name": "stderr",
          "text": [
            "/usr/local/lib/python3.7/dist-packages/statsmodels/base/model.py:492: HessianInversionWarning: Inverting hessian failed, no bse or cov_params available\n",
            "  'available', HessianInversionWarning)\n",
            "\r 88%|████████▊ | 327/370 [07:32<00:55,  1.30s/it]"
          ]
        },
        {
          "output_type": "stream",
          "name": "stdout",
          "text": [
            "수렴\n",
            "326번째 코드 예측값 추가 완료\n"
          ]
        },
        {
          "output_type": "stream",
          "name": "stderr",
          "text": [
            "/usr/local/lib/python3.7/dist-packages/statsmodels/base/model.py:492: HessianInversionWarning: Inverting hessian failed, no bse or cov_params available\n",
            "  'available', HessianInversionWarning)\n",
            "/usr/local/lib/python3.7/dist-packages/statsmodels/base/model.py:512: ConvergenceWarning: Maximum Likelihood optimization failed to converge. Check mle_retvals\n",
            "  \"Check mle_retvals\", ConvergenceWarning)\n",
            "\r 89%|████████▊ | 328/370 [07:34<01:03,  1.50s/it]"
          ]
        },
        {
          "output_type": "stream",
          "name": "stdout",
          "text": [
            "수렴\n",
            "327번째 코드 예측값 추가 완료\n"
          ]
        },
        {
          "output_type": "stream",
          "name": "stderr",
          "text": [
            "\r 89%|████████▉ | 329/370 [07:35<00:53,  1.30s/it]"
          ]
        },
        {
          "output_type": "stream",
          "name": "stdout",
          "text": [
            "수렴하지 못함\n",
            "328번째 코드 예측값 추가 완료\n"
          ]
        },
        {
          "output_type": "stream",
          "name": "stderr",
          "text": [
            "\r 89%|████████▉ | 330/370 [07:36<00:48,  1.22s/it]"
          ]
        },
        {
          "output_type": "stream",
          "name": "stdout",
          "text": [
            "수렴\n",
            "329번째 코드 예측값 추가 완료\n"
          ]
        },
        {
          "output_type": "stream",
          "name": "stderr",
          "text": [
            "\r 89%|████████▉ | 331/370 [07:37<00:47,  1.23s/it]"
          ]
        },
        {
          "output_type": "stream",
          "name": "stdout",
          "text": [
            "수렴\n",
            "330번째 코드 예측값 추가 완료\n"
          ]
        },
        {
          "output_type": "stream",
          "name": "stderr",
          "text": [
            "\r 90%|████████▉ | 332/370 [07:39<00:47,  1.24s/it]"
          ]
        },
        {
          "output_type": "stream",
          "name": "stdout",
          "text": [
            "수렴\n",
            "331번째 코드 예측값 추가 완료\n"
          ]
        },
        {
          "output_type": "stream",
          "name": "stderr",
          "text": [
            "\r 90%|█████████ | 333/370 [07:40<00:48,  1.31s/it]"
          ]
        },
        {
          "output_type": "stream",
          "name": "stdout",
          "text": [
            "수렴\n",
            "332번째 코드 예측값 추가 완료\n"
          ]
        },
        {
          "output_type": "stream",
          "name": "stderr",
          "text": [
            "\r 90%|█████████ | 334/370 [07:41<00:46,  1.29s/it]"
          ]
        },
        {
          "output_type": "stream",
          "name": "stdout",
          "text": [
            "수렴\n",
            "333번째 코드 예측값 추가 완료\n"
          ]
        },
        {
          "output_type": "stream",
          "name": "stderr",
          "text": [
            "\r 91%|█████████ | 335/370 [07:43<00:44,  1.28s/it]"
          ]
        },
        {
          "output_type": "stream",
          "name": "stdout",
          "text": [
            "수렴\n",
            "334번째 코드 예측값 추가 완료\n"
          ]
        },
        {
          "output_type": "stream",
          "name": "stderr",
          "text": [
            "\r 91%|█████████ | 336/370 [07:44<00:46,  1.36s/it]"
          ]
        },
        {
          "output_type": "stream",
          "name": "stdout",
          "text": [
            "수렴\n",
            "335번째 코드 예측값 추가 완료\n"
          ]
        },
        {
          "output_type": "stream",
          "name": "stderr",
          "text": [
            "\r 91%|█████████ | 337/370 [07:45<00:43,  1.33s/it]"
          ]
        },
        {
          "output_type": "stream",
          "name": "stdout",
          "text": [
            "수렴\n",
            "336번째 코드 예측값 추가 완료\n"
          ]
        },
        {
          "output_type": "stream",
          "name": "stderr",
          "text": [
            "\r 91%|█████████▏| 338/370 [07:46<00:38,  1.20s/it]"
          ]
        },
        {
          "output_type": "stream",
          "name": "stdout",
          "text": [
            "수렴\n",
            "337번째 코드 예측값 추가 완료\n"
          ]
        },
        {
          "output_type": "stream",
          "name": "stderr",
          "text": [
            "\r 92%|█████████▏| 339/370 [07:47<00:34,  1.11s/it]"
          ]
        },
        {
          "output_type": "stream",
          "name": "stdout",
          "text": [
            "수렴\n",
            "338번째 코드 예측값 추가 완료\n"
          ]
        },
        {
          "output_type": "stream",
          "name": "stderr",
          "text": [
            "/usr/local/lib/python3.7/dist-packages/statsmodels/base/model.py:492: HessianInversionWarning: Inverting hessian failed, no bse or cov_params available\n",
            "  'available', HessianInversionWarning)\n",
            "/usr/local/lib/python3.7/dist-packages/statsmodels/base/model.py:512: ConvergenceWarning: Maximum Likelihood optimization failed to converge. Check mle_retvals\n",
            "  \"Check mle_retvals\", ConvergenceWarning)\n",
            "\r 92%|█████████▏| 340/370 [07:49<00:37,  1.25s/it]"
          ]
        },
        {
          "output_type": "stream",
          "name": "stdout",
          "text": [
            "수렴\n",
            "339번째 코드 예측값 추가 완료\n"
          ]
        },
        {
          "output_type": "stream",
          "name": "stderr",
          "text": [
            "\r 92%|█████████▏| 341/370 [07:50<00:34,  1.19s/it]"
          ]
        },
        {
          "output_type": "stream",
          "name": "stdout",
          "text": [
            "수렴\n",
            "340번째 코드 예측값 추가 완료\n"
          ]
        },
        {
          "output_type": "stream",
          "name": "stderr",
          "text": [
            "/usr/local/lib/python3.7/dist-packages/statsmodels/base/model.py:492: HessianInversionWarning: Inverting hessian failed, no bse or cov_params available\n",
            "  'available', HessianInversionWarning)\n",
            "\r 92%|█████████▏| 342/370 [07:51<00:33,  1.21s/it]"
          ]
        },
        {
          "output_type": "stream",
          "name": "stdout",
          "text": [
            "수렴\n",
            "341번째 코드 예측값 추가 완료\n"
          ]
        },
        {
          "output_type": "stream",
          "name": "stderr",
          "text": [
            "\r 93%|█████████▎| 343/370 [07:53<00:34,  1.26s/it]"
          ]
        },
        {
          "output_type": "stream",
          "name": "stdout",
          "text": [
            "수렴\n",
            "342번째 코드 예측값 추가 완료\n"
          ]
        },
        {
          "output_type": "stream",
          "name": "stderr",
          "text": [
            "\r 93%|█████████▎| 344/370 [07:54<00:34,  1.31s/it]"
          ]
        },
        {
          "output_type": "stream",
          "name": "stdout",
          "text": [
            "수렴\n",
            "343번째 코드 예측값 추가 완료\n"
          ]
        },
        {
          "output_type": "stream",
          "name": "stderr",
          "text": [
            "\r 93%|█████████▎| 345/370 [07:55<00:32,  1.29s/it]"
          ]
        },
        {
          "output_type": "stream",
          "name": "stdout",
          "text": [
            "수렴하지 못함\n",
            "344번째 코드 예측값 추가 완료\n"
          ]
        },
        {
          "output_type": "stream",
          "name": "stderr",
          "text": [
            "\r 94%|█████████▎| 346/370 [07:57<00:33,  1.38s/it]"
          ]
        },
        {
          "output_type": "stream",
          "name": "stdout",
          "text": [
            "수렴\n",
            "345번째 코드 예측값 추가 완료\n"
          ]
        },
        {
          "output_type": "stream",
          "name": "stderr",
          "text": [
            "\r 94%|█████████▍| 347/370 [07:58<00:33,  1.44s/it]"
          ]
        },
        {
          "output_type": "stream",
          "name": "stdout",
          "text": [
            "수렴\n",
            "346번째 코드 예측값 추가 완료\n"
          ]
        },
        {
          "output_type": "stream",
          "name": "stderr",
          "text": [
            "\r 94%|█████████▍| 348/370 [08:00<00:30,  1.41s/it]"
          ]
        },
        {
          "output_type": "stream",
          "name": "stdout",
          "text": [
            "수렴\n",
            "347번째 코드 예측값 추가 완료\n"
          ]
        },
        {
          "output_type": "stream",
          "name": "stderr",
          "text": [
            "\r 94%|█████████▍| 349/370 [08:01<00:26,  1.26s/it]"
          ]
        },
        {
          "output_type": "stream",
          "name": "stdout",
          "text": [
            "수렴\n",
            "348번째 코드 예측값 추가 완료\n"
          ]
        },
        {
          "output_type": "stream",
          "name": "stderr",
          "text": [
            "\r 95%|█████████▍| 350/370 [08:02<00:25,  1.28s/it]"
          ]
        },
        {
          "output_type": "stream",
          "name": "stdout",
          "text": [
            "수렴\n",
            "349번째 코드 예측값 추가 완료\n"
          ]
        },
        {
          "output_type": "stream",
          "name": "stderr",
          "text": [
            "\r 95%|█████████▍| 351/370 [08:03<00:23,  1.25s/it]"
          ]
        },
        {
          "output_type": "stream",
          "name": "stdout",
          "text": [
            "수렴\n",
            "350번째 코드 예측값 추가 완료\n"
          ]
        },
        {
          "output_type": "stream",
          "name": "stderr",
          "text": [
            "\r 95%|█████████▌| 352/370 [08:05<00:23,  1.31s/it]"
          ]
        },
        {
          "output_type": "stream",
          "name": "stdout",
          "text": [
            "수렴\n",
            "351번째 코드 예측값 추가 완료\n"
          ]
        },
        {
          "output_type": "stream",
          "name": "stderr",
          "text": [
            "\r 95%|█████████▌| 353/370 [08:06<00:20,  1.21s/it]"
          ]
        },
        {
          "output_type": "stream",
          "name": "stdout",
          "text": [
            "수렴\n",
            "352번째 코드 예측값 추가 완료\n"
          ]
        },
        {
          "output_type": "stream",
          "name": "stderr",
          "text": [
            "\r 96%|█████████▌| 354/370 [08:07<00:20,  1.31s/it]"
          ]
        },
        {
          "output_type": "stream",
          "name": "stdout",
          "text": [
            "수렴\n",
            "353번째 코드 예측값 추가 완료\n"
          ]
        },
        {
          "output_type": "stream",
          "name": "stderr",
          "text": [
            "\r 96%|█████████▌| 355/370 [08:08<00:19,  1.29s/it]"
          ]
        },
        {
          "output_type": "stream",
          "name": "stdout",
          "text": [
            "수렴하지 못함\n",
            "354번째 코드 예측값 추가 완료\n"
          ]
        },
        {
          "output_type": "stream",
          "name": "stderr",
          "text": [
            "\r 96%|█████████▌| 356/370 [08:10<00:19,  1.40s/it]"
          ]
        },
        {
          "output_type": "stream",
          "name": "stdout",
          "text": [
            "수렴\n",
            "355번째 코드 예측값 추가 완료\n"
          ]
        },
        {
          "output_type": "stream",
          "name": "stderr",
          "text": [
            "/usr/local/lib/python3.7/dist-packages/statsmodels/base/model.py:492: HessianInversionWarning: Inverting hessian failed, no bse or cov_params available\n",
            "  'available', HessianInversionWarning)\n",
            "\r 96%|█████████▋| 357/370 [08:12<00:18,  1.45s/it]"
          ]
        },
        {
          "output_type": "stream",
          "name": "stdout",
          "text": [
            "수렴\n",
            "356번째 코드 예측값 추가 완료\n"
          ]
        },
        {
          "output_type": "stream",
          "name": "stderr",
          "text": [
            "\r 97%|█████████▋| 358/370 [08:13<00:16,  1.39s/it]"
          ]
        },
        {
          "output_type": "stream",
          "name": "stdout",
          "text": [
            "수렴\n",
            "357번째 코드 예측값 추가 완료\n"
          ]
        },
        {
          "output_type": "stream",
          "name": "stderr",
          "text": [
            "\r 97%|█████████▋| 359/370 [08:14<00:15,  1.41s/it]"
          ]
        },
        {
          "output_type": "stream",
          "name": "stdout",
          "text": [
            "수렴\n",
            "358번째 코드 예측값 추가 완료\n"
          ]
        },
        {
          "output_type": "stream",
          "name": "stderr",
          "text": [
            "/usr/local/lib/python3.7/dist-packages/statsmodels/base/model.py:492: HessianInversionWarning: Inverting hessian failed, no bse or cov_params available\n",
            "  'available', HessianInversionWarning)\n",
            "\r 97%|█████████▋| 360/370 [08:16<00:15,  1.51s/it]"
          ]
        },
        {
          "output_type": "stream",
          "name": "stdout",
          "text": [
            "수렴\n",
            "359번째 코드 예측값 추가 완료\n"
          ]
        },
        {
          "output_type": "stream",
          "name": "stderr",
          "text": [
            "\r 98%|█████████▊| 361/370 [08:17<00:13,  1.50s/it]"
          ]
        },
        {
          "output_type": "stream",
          "name": "stdout",
          "text": [
            "수렴\n",
            "360번째 코드 예측값 추가 완료\n"
          ]
        },
        {
          "output_type": "stream",
          "name": "stderr",
          "text": [
            "/usr/local/lib/python3.7/dist-packages/statsmodels/base/model.py:492: HessianInversionWarning: Inverting hessian failed, no bse or cov_params available\n",
            "  'available', HessianInversionWarning)\n",
            "\r 98%|█████████▊| 362/370 [08:19<00:11,  1.42s/it]"
          ]
        },
        {
          "output_type": "stream",
          "name": "stdout",
          "text": [
            "수렴\n",
            "361번째 코드 예측값 추가 완료\n"
          ]
        },
        {
          "output_type": "stream",
          "name": "stderr",
          "text": [
            "\r 98%|█████████▊| 363/370 [08:20<00:09,  1.32s/it]"
          ]
        },
        {
          "output_type": "stream",
          "name": "stdout",
          "text": [
            "수렴\n",
            "362번째 코드 예측값 추가 완료\n"
          ]
        },
        {
          "output_type": "stream",
          "name": "stderr",
          "text": [
            "\r 98%|█████████▊| 364/370 [08:22<00:08,  1.44s/it]"
          ]
        },
        {
          "output_type": "stream",
          "name": "stdout",
          "text": [
            "수렴\n",
            "363번째 코드 예측값 추가 완료\n"
          ]
        },
        {
          "output_type": "stream",
          "name": "stderr",
          "text": [
            "\r 99%|█████████▊| 365/370 [08:23<00:07,  1.46s/it]"
          ]
        },
        {
          "output_type": "stream",
          "name": "stdout",
          "text": [
            "수렴\n",
            "364번째 코드 예측값 추가 완료\n"
          ]
        },
        {
          "output_type": "stream",
          "name": "stderr",
          "text": [
            "\r 99%|█████████▉| 366/370 [08:24<00:05,  1.39s/it]"
          ]
        },
        {
          "output_type": "stream",
          "name": "stdout",
          "text": [
            "수렴\n",
            "365번째 코드 예측값 추가 완료\n"
          ]
        },
        {
          "output_type": "stream",
          "name": "stderr",
          "text": [
            "\r 99%|█████████▉| 367/370 [08:26<00:04,  1.42s/it]"
          ]
        },
        {
          "output_type": "stream",
          "name": "stdout",
          "text": [
            "수렴\n",
            "366번째 코드 예측값 추가 완료\n"
          ]
        },
        {
          "output_type": "stream",
          "name": "stderr",
          "text": [
            "/usr/local/lib/python3.7/dist-packages/statsmodels/base/model.py:492: HessianInversionWarning: Inverting hessian failed, no bse or cov_params available\n",
            "  'available', HessianInversionWarning)\n",
            "\r 99%|█████████▉| 368/370 [08:27<00:02,  1.32s/it]"
          ]
        },
        {
          "output_type": "stream",
          "name": "stdout",
          "text": [
            "수렴\n",
            "367번째 코드 예측값 추가 완료\n"
          ]
        },
        {
          "output_type": "stream",
          "name": "stderr",
          "text": [
            "\r100%|█████████▉| 369/370 [08:28<00:01,  1.26s/it]"
          ]
        },
        {
          "output_type": "stream",
          "name": "stdout",
          "text": [
            "수렴\n",
            "368번째 코드 예측값 추가 완료\n"
          ]
        },
        {
          "output_type": "stream",
          "name": "stderr",
          "text": [
            "100%|██████████| 370/370 [08:29<00:00,  1.38s/it]"
          ]
        },
        {
          "output_type": "stream",
          "name": "stdout",
          "text": [
            "수렴\n",
            "369번째 코드 예측값 추가 완료\n"
          ]
        },
        {
          "output_type": "stream",
          "name": "stderr",
          "text": [
            "\n"
          ]
        },
        {
          "output_type": "execute_result",
          "data": {
            "text/html": [
              "<div>\n",
              "<style scoped>\n",
              "    .dataframe tbody tr th:only-of-type {\n",
              "        vertical-align: middle;\n",
              "    }\n",
              "\n",
              "    .dataframe tbody tr th {\n",
              "        vertical-align: top;\n",
              "    }\n",
              "\n",
              "    .dataframe thead th {\n",
              "        text-align: right;\n",
              "    }\n",
              "</style>\n",
              "<table border=\"1\" class=\"dataframe\">\n",
              "  <thead>\n",
              "    <tr style=\"text-align: right;\">\n",
              "      <th></th>\n",
              "      <th>005930</th>\n",
              "      <th>000660</th>\n",
              "      <th>035420</th>\n",
              "      <th>035720</th>\n",
              "      <th>207940</th>\n",
              "      <th>005935</th>\n",
              "      <th>051910</th>\n",
              "      <th>006400</th>\n",
              "      <th>005380</th>\n",
              "      <th>068270</th>\n",
              "      <th>000270</th>\n",
              "      <th>005490</th>\n",
              "      <th>066570</th>\n",
              "      <th>028260</th>\n",
              "      <th>012330</th>\n",
              "      <th>096770</th>\n",
              "      <th>051900</th>\n",
              "      <th>017670</th>\n",
              "      <th>105560</th>\n",
              "      <th>055550</th>\n",
              "      <th>034730</th>\n",
              "      <th>036570</th>\n",
              "      <th>011200</th>\n",
              "      <th>015760</th>\n",
              "      <th>032830</th>\n",
              "      <th>018260</th>\n",
              "      <th>009150</th>\n",
              "      <th>090430</th>\n",
              "      <th>086790</th>\n",
              "      <th>251270</th>\n",
              "      <th>003670</th>\n",
              "      <th>352820</th>\n",
              "      <th>034020</th>\n",
              "      <th>010950</th>\n",
              "      <th>033780</th>\n",
              "      <th>003490</th>\n",
              "      <th>000810</th>\n",
              "      <th>010130</th>\n",
              "      <th>009540</th>\n",
              "      <th>326030</th>\n",
              "      <th>...</th>\n",
              "      <th>263720</th>\n",
              "      <th>143240</th>\n",
              "      <th>091700</th>\n",
              "      <th>067000</th>\n",
              "      <th>204270</th>\n",
              "      <th>032190</th>\n",
              "      <th>131370</th>\n",
              "      <th>321550</th>\n",
              "      <th>347860</th>\n",
              "      <th>003800</th>\n",
              "      <th>032300</th>\n",
              "      <th>122450</th>\n",
              "      <th>206640</th>\n",
              "      <th>015750</th>\n",
              "      <th>060720</th>\n",
              "      <th>043150</th>\n",
              "      <th>006730</th>\n",
              "      <th>089030</th>\n",
              "      <th>348150</th>\n",
              "      <th>319400</th>\n",
              "      <th>232140</th>\n",
              "      <th>083790</th>\n",
              "      <th>299030</th>\n",
              "      <th>049070</th>\n",
              "      <th>067310</th>\n",
              "      <th>036030</th>\n",
              "      <th>031390</th>\n",
              "      <th>121800</th>\n",
              "      <th>033310</th>\n",
              "      <th>086390</th>\n",
              "      <th>078020</th>\n",
              "      <th>102710</th>\n",
              "      <th>314130</th>\n",
              "      <th>035890</th>\n",
              "      <th>032620</th>\n",
              "      <th>220630</th>\n",
              "      <th>064260</th>\n",
              "      <th>287410</th>\n",
              "      <th>110790</th>\n",
              "      <th>099320</th>\n",
              "    </tr>\n",
              "  </thead>\n",
              "  <tbody>\n",
              "    <tr>\n",
              "      <th>0</th>\n",
              "      <td>70635.447720</td>\n",
              "      <td>105809.783261</td>\n",
              "      <td>411883.216915</td>\n",
              "      <td>131572.406363</td>\n",
              "      <td>866123.513515</td>\n",
              "      <td>66580.147687</td>\n",
              "      <td>790380.929790</td>\n",
              "      <td>750996.810447</td>\n",
              "      <td>214651.489615</td>\n",
              "      <td>208004.429530</td>\n",
              "      <td>86839.900525</td>\n",
              "      <td>297424.742843</td>\n",
              "      <td>122858.623864</td>\n",
              "      <td>116327.781624</td>\n",
              "      <td>251995.974004</td>\n",
              "      <td>239255.696003</td>\n",
              "      <td>1.237826e+06</td>\n",
              "      <td>310070.146940</td>\n",
              "      <td>56174.493196</td>\n",
              "      <td>38004.852076</td>\n",
              "      <td>247928.072171</td>\n",
              "      <td>591739.622829</td>\n",
              "      <td>26780.281940</td>\n",
              "      <td>23071.622844</td>\n",
              "      <td>68052.115246</td>\n",
              "      <td>156948.112833</td>\n",
              "      <td>159920.381291</td>\n",
              "      <td>186247.644311</td>\n",
              "      <td>44599.066764</td>\n",
              "      <td>124190.714884</td>\n",
              "      <td>145742.192406</td>\n",
              "      <td>358697.348303</td>\n",
              "      <td>25936.383542</td>\n",
              "      <td>99329.621536</td>\n",
              "      <td>85343.925258</td>\n",
              "      <td>30347.772337</td>\n",
              "      <td>228913.960719</td>\n",
              "      <td>509916.501321</td>\n",
              "      <td>101991.733803</td>\n",
              "      <td>97645.906928</td>\n",
              "      <td>...</td>\n",
              "      <td>40001.901070</td>\n",
              "      <td>45953.424428</td>\n",
              "      <td>10230.355343</td>\n",
              "      <td>11399.438602</td>\n",
              "      <td>8236.581234</td>\n",
              "      <td>13844.101272</td>\n",
              "      <td>7438.746018</td>\n",
              "      <td>18590.951911</td>\n",
              "      <td>35553.557980</td>\n",
              "      <td>47861.299189</td>\n",
              "      <td>57794.009603</td>\n",
              "      <td>8516.057037</td>\n",
              "      <td>17112.572192</td>\n",
              "      <td>6068.803438</td>\n",
              "      <td>22953.364864</td>\n",
              "      <td>40675.036690</td>\n",
              "      <td>8884.871595</td>\n",
              "      <td>20091.773390</td>\n",
              "      <td>25521.288172</td>\n",
              "      <td>3348.587802</td>\n",
              "      <td>5155.912811</td>\n",
              "      <td>7115.811541</td>\n",
              "      <td>51636.492318</td>\n",
              "      <td>22217.365392</td>\n",
              "      <td>22118.051606</td>\n",
              "      <td>9003.792463</td>\n",
              "      <td>38463.994070</td>\n",
              "      <td>16781.951261</td>\n",
              "      <td>10887.342105</td>\n",
              "      <td>28853.861724</td>\n",
              "      <td>9031.741011</td>\n",
              "      <td>28657.082069</td>\n",
              "      <td>39982.534862</td>\n",
              "      <td>1814.347515</td>\n",
              "      <td>7864.813542</td>\n",
              "      <td>4981.752358</td>\n",
              "      <td>8291.816381</td>\n",
              "      <td>6996.828253</td>\n",
              "      <td>42182.916958</td>\n",
              "      <td>47048.794608</td>\n",
              "    </tr>\n",
              "    <tr>\n",
              "      <th>1</th>\n",
              "      <td>70630.678404</td>\n",
              "      <td>105779.617363</td>\n",
              "      <td>411899.534160</td>\n",
              "      <td>130649.301636</td>\n",
              "      <td>866579.814634</td>\n",
              "      <td>66479.368985</td>\n",
              "      <td>789570.391314</td>\n",
              "      <td>751513.279265</td>\n",
              "      <td>213927.610101</td>\n",
              "      <td>207214.440246</td>\n",
              "      <td>87178.429743</td>\n",
              "      <td>296865.963635</td>\n",
              "      <td>122321.065688</td>\n",
              "      <td>116232.679667</td>\n",
              "      <td>251995.941587</td>\n",
              "      <td>239240.774892</td>\n",
              "      <td>1.236289e+06</td>\n",
              "      <td>310181.752308</td>\n",
              "      <td>56177.871481</td>\n",
              "      <td>37988.036627</td>\n",
              "      <td>246318.541695</td>\n",
              "      <td>599018.795866</td>\n",
              "      <td>26601.551044</td>\n",
              "      <td>23111.734406</td>\n",
              "      <td>68002.242510</td>\n",
              "      <td>156439.199189</td>\n",
              "      <td>159826.470592</td>\n",
              "      <td>186149.767529</td>\n",
              "      <td>44553.964058</td>\n",
              "      <td>124201.224559</td>\n",
              "      <td>146235.654002</td>\n",
              "      <td>358017.569337</td>\n",
              "      <td>26324.283728</td>\n",
              "      <td>99328.368057</td>\n",
              "      <td>85356.745955</td>\n",
              "      <td>30388.089819</td>\n",
              "      <td>228912.315661</td>\n",
              "      <td>509913.015306</td>\n",
              "      <td>101991.597143</td>\n",
              "      <td>97481.115859</td>\n",
              "      <td>...</td>\n",
              "      <td>40051.685012</td>\n",
              "      <td>46011.586379</td>\n",
              "      <td>10238.669131</td>\n",
              "      <td>11430.536623</td>\n",
              "      <td>8226.489857</td>\n",
              "      <td>13854.462409</td>\n",
              "      <td>7432.784971</td>\n",
              "      <td>18582.227657</td>\n",
              "      <td>35477.620634</td>\n",
              "      <td>47832.382137</td>\n",
              "      <td>58030.412498</td>\n",
              "      <td>8512.263055</td>\n",
              "      <td>17127.203132</td>\n",
              "      <td>6058.971292</td>\n",
              "      <td>22953.289382</td>\n",
              "      <td>40771.493967</td>\n",
              "      <td>8895.128274</td>\n",
              "      <td>20081.543948</td>\n",
              "      <td>25331.144268</td>\n",
              "      <td>3335.607651</td>\n",
              "      <td>5160.011293</td>\n",
              "      <td>7093.874180</td>\n",
              "      <td>51525.749405</td>\n",
              "      <td>22164.643979</td>\n",
              "      <td>22120.224009</td>\n",
              "      <td>8971.966568</td>\n",
              "      <td>38357.856380</td>\n",
              "      <td>17216.786106</td>\n",
              "      <td>10893.147478</td>\n",
              "      <td>28935.092090</td>\n",
              "      <td>9046.511655</td>\n",
              "      <td>28565.814241</td>\n",
              "      <td>40137.379959</td>\n",
              "      <td>1814.238264</td>\n",
              "      <td>7855.588111</td>\n",
              "      <td>4987.915428</td>\n",
              "      <td>8350.997247</td>\n",
              "      <td>7007.440101</td>\n",
              "      <td>42263.215710</td>\n",
              "      <td>46722.118847</td>\n",
              "    </tr>\n",
              "    <tr>\n",
              "      <th>2</th>\n",
              "      <td>70605.619746</td>\n",
              "      <td>105646.104493</td>\n",
              "      <td>411900.228943</td>\n",
              "      <td>131597.957209</td>\n",
              "      <td>866779.587600</td>\n",
              "      <td>66370.040576</td>\n",
              "      <td>789709.081770</td>\n",
              "      <td>751578.639355</td>\n",
              "      <td>213070.019107</td>\n",
              "      <td>206715.661747</td>\n",
              "      <td>87121.060158</td>\n",
              "      <td>296759.147865</td>\n",
              "      <td>122665.620476</td>\n",
              "      <td>116082.030520</td>\n",
              "      <td>251995.941326</td>\n",
              "      <td>239239.863570</td>\n",
              "      <td>1.234295e+06</td>\n",
              "      <td>310727.992115</td>\n",
              "      <td>56270.621118</td>\n",
              "      <td>37965.310795</td>\n",
              "      <td>244978.674720</td>\n",
              "      <td>598466.920119</td>\n",
              "      <td>26402.322106</td>\n",
              "      <td>23051.281172</td>\n",
              "      <td>67956.576335</td>\n",
              "      <td>156442.653542</td>\n",
              "      <td>159741.569867</td>\n",
              "      <td>185350.971640</td>\n",
              "      <td>44647.198633</td>\n",
              "      <td>124166.902002</td>\n",
              "      <td>146020.030403</td>\n",
              "      <td>360435.269062</td>\n",
              "      <td>26243.690144</td>\n",
              "      <td>99328.421100</td>\n",
              "      <td>85355.692804</td>\n",
              "      <td>30426.659731</td>\n",
              "      <td>228912.284208</td>\n",
              "      <td>509912.869768</td>\n",
              "      <td>101991.594884</td>\n",
              "      <td>97174.415042</td>\n",
              "      <td>...</td>\n",
              "      <td>40032.352491</td>\n",
              "      <td>46138.196890</td>\n",
              "      <td>10219.819284</td>\n",
              "      <td>11453.479487</td>\n",
              "      <td>8208.593035</td>\n",
              "      <td>13853.265394</td>\n",
              "      <td>7408.510146</td>\n",
              "      <td>18563.866469</td>\n",
              "      <td>35444.637161</td>\n",
              "      <td>47809.021025</td>\n",
              "      <td>58133.912216</td>\n",
              "      <td>8512.540857</td>\n",
              "      <td>17062.355990</td>\n",
              "      <td>6057.292375</td>\n",
              "      <td>22953.291076</td>\n",
              "      <td>40840.053966</td>\n",
              "      <td>8897.175630</td>\n",
              "      <td>20060.356511</td>\n",
              "      <td>25213.238991</td>\n",
              "      <td>3324.353660</td>\n",
              "      <td>5158.284733</td>\n",
              "      <td>7070.371233</td>\n",
              "      <td>51404.277165</td>\n",
              "      <td>22135.892698</td>\n",
              "      <td>22120.485444</td>\n",
              "      <td>9034.651622</td>\n",
              "      <td>38254.204037</td>\n",
              "      <td>17703.302419</td>\n",
              "      <td>10851.572225</td>\n",
              "      <td>28905.760974</td>\n",
              "      <td>9060.651232</td>\n",
              "      <td>28474.976157</td>\n",
              "      <td>40280.353743</td>\n",
              "      <td>1814.675786</td>\n",
              "      <td>7849.301930</td>\n",
              "      <td>4993.527657</td>\n",
              "      <td>8289.336074</td>\n",
              "      <td>7025.197273</td>\n",
              "      <td>42340.463915</td>\n",
              "      <td>46526.579874</td>\n",
              "    </tr>\n",
              "    <tr>\n",
              "      <th>3</th>\n",
              "      <td>70565.486702</td>\n",
              "      <td>105580.356475</td>\n",
              "      <td>411900.258527</td>\n",
              "      <td>130945.512438</td>\n",
              "      <td>866981.968113</td>\n",
              "      <td>66266.513591</td>\n",
              "      <td>788895.931340</td>\n",
              "      <td>752056.276562</td>\n",
              "      <td>212414.392444</td>\n",
              "      <td>205933.635230</td>\n",
              "      <td>87324.337811</td>\n",
              "      <td>296209.231182</td>\n",
              "      <td>122153.366857</td>\n",
              "      <td>115972.740624</td>\n",
              "      <td>251995.941324</td>\n",
              "      <td>239239.807910</td>\n",
              "      <td>1.232668e+06</td>\n",
              "      <td>310858.087868</td>\n",
              "      <td>56317.860327</td>\n",
              "      <td>37954.304472</td>\n",
              "      <td>243864.470415</td>\n",
              "      <td>595783.923223</td>\n",
              "      <td>26204.859203</td>\n",
              "      <td>23061.669050</td>\n",
              "      <td>67910.940660</td>\n",
              "      <td>156257.403782</td>\n",
              "      <td>159649.863418</td>\n",
              "      <td>185242.525894</td>\n",
              "      <td>44672.190078</td>\n",
              "      <td>124140.819969</td>\n",
              "      <td>146460.914292</td>\n",
              "      <td>359836.974091</td>\n",
              "      <td>26376.053906</td>\n",
              "      <td>99328.418855</td>\n",
              "      <td>85355.779315</td>\n",
              "      <td>30464.611580</td>\n",
              "      <td>228912.283607</td>\n",
              "      <td>509912.863691</td>\n",
              "      <td>101991.594847</td>\n",
              "      <td>96946.225094</td>\n",
              "      <td>...</td>\n",
              "      <td>40031.458572</td>\n",
              "      <td>46198.447049</td>\n",
              "      <td>10227.331713</td>\n",
              "      <td>11468.952172</td>\n",
              "      <td>8197.560021</td>\n",
              "      <td>13861.705739</td>\n",
              "      <td>7399.444354</td>\n",
              "      <td>18554.068306</td>\n",
              "      <td>35408.246243</td>\n",
              "      <td>47812.291665</td>\n",
              "      <td>58374.877809</td>\n",
              "      <td>8512.418500</td>\n",
              "      <td>17041.588374</td>\n",
              "      <td>6056.427103</td>\n",
              "      <td>22953.291038</td>\n",
              "      <td>40934.448564</td>\n",
              "      <td>8905.949960</td>\n",
              "      <td>20047.457304</td>\n",
              "      <td>25118.742162</td>\n",
              "      <td>3311.090370</td>\n",
              "      <td>5153.328105</td>\n",
              "      <td>7047.462432</td>\n",
              "      <td>51294.018021</td>\n",
              "      <td>22101.705475</td>\n",
              "      <td>22120.516907</td>\n",
              "      <td>9010.421897</td>\n",
              "      <td>38150.724321</td>\n",
              "      <td>18215.613344</td>\n",
              "      <td>10816.624628</td>\n",
              "      <td>28926.034031</td>\n",
              "      <td>9073.882852</td>\n",
              "      <td>28384.509939</td>\n",
              "      <td>40425.871454</td>\n",
              "      <td>1814.752166</td>\n",
              "      <td>7840.454805</td>\n",
              "      <td>4999.310774</td>\n",
              "      <td>8386.787389</td>\n",
              "      <td>7036.922531</td>\n",
              "      <td>42416.461710</td>\n",
              "      <td>46348.841857</td>\n",
              "    </tr>\n",
              "    <tr>\n",
              "      <th>4</th>\n",
              "      <td>70513.069587</td>\n",
              "      <td>105470.169106</td>\n",
              "      <td>411900.259786</td>\n",
              "      <td>131653.119217</td>\n",
              "      <td>867190.168560</td>\n",
              "      <td>66170.685190</td>\n",
              "      <td>789028.768353</td>\n",
              "      <td>752157.094801</td>\n",
              "      <td>211979.496370</td>\n",
              "      <td>205427.144874</td>\n",
              "      <td>87353.029325</td>\n",
              "      <td>296093.929129</td>\n",
              "      <td>122473.214193</td>\n",
              "      <td>115832.601727</td>\n",
              "      <td>251995.941324</td>\n",
              "      <td>239239.804511</td>\n",
              "      <td>1.230683e+06</td>\n",
              "      <td>311386.848001</td>\n",
              "      <td>56388.268106</td>\n",
              "      <td>37946.652930</td>\n",
              "      <td>242903.921828</td>\n",
              "      <td>594090.730669</td>\n",
              "      <td>26006.501755</td>\n",
              "      <td>23021.556064</td>\n",
              "      <td>67865.185492</td>\n",
              "      <td>156060.554596</td>\n",
              "      <td>159563.292409</td>\n",
              "      <td>184455.845413</td>\n",
              "      <td>44725.998357</td>\n",
              "      <td>124115.739575</td>\n",
              "      <td>146293.573959</td>\n",
              "      <td>362166.966983</td>\n",
              "      <td>26387.103591</td>\n",
              "      <td>99328.418950</td>\n",
              "      <td>85355.772209</td>\n",
              "      <td>30502.306149</td>\n",
              "      <td>228912.283595</td>\n",
              "      <td>509912.863438</td>\n",
              "      <td>101991.594846</td>\n",
              "      <td>96670.015729</td>\n",
              "      <td>...</td>\n",
              "      <td>40038.492551</td>\n",
              "      <td>46321.840176</td>\n",
              "      <td>10209.259578</td>\n",
              "      <td>11479.994172</td>\n",
              "      <td>8180.880707</td>\n",
              "      <td>13862.062152</td>\n",
              "      <td>7379.128885</td>\n",
              "      <td>18543.945610</td>\n",
              "      <td>35371.186125</td>\n",
              "      <td>47836.853533</td>\n",
              "      <td>58491.290547</td>\n",
              "      <td>8512.698618</td>\n",
              "      <td>17003.760920</td>\n",
              "      <td>6054.761948</td>\n",
              "      <td>22953.291038</td>\n",
              "      <td>41005.108993</td>\n",
              "      <td>8910.910208</td>\n",
              "      <td>20030.114107</td>\n",
              "      <td>25001.236482</td>\n",
              "      <td>3299.735559</td>\n",
              "      <td>5148.046030</td>\n",
              "      <td>7024.304003</td>\n",
              "      <td>51176.891248</td>\n",
              "      <td>22071.616762</td>\n",
              "      <td>22120.520693</td>\n",
              "      <td>9066.236061</td>\n",
              "      <td>38047.196040</td>\n",
              "      <td>18745.388846</td>\n",
              "      <td>10787.563550</td>\n",
              "      <td>28928.437589</td>\n",
              "      <td>9086.346102</td>\n",
              "      <td>28294.372112</td>\n",
              "      <td>40568.578612</td>\n",
              "      <td>1815.126472</td>\n",
              "      <td>7833.856465</td>\n",
              "      <td>5005.084344</td>\n",
              "      <td>8341.010394</td>\n",
              "      <td>7054.596206</td>\n",
              "      <td>42491.683420</td>\n",
              "      <td>46188.694338</td>\n",
              "    </tr>\n",
              "  </tbody>\n",
              "</table>\n",
              "<p>5 rows × 370 columns</p>\n",
              "</div>"
            ],
            "text/plain": [
              "         005930         000660  ...        110790        099320\n",
              "0  70635.447720  105809.783261  ...  42182.916958  47048.794608\n",
              "1  70630.678404  105779.617363  ...  42263.215710  46722.118847\n",
              "2  70605.619746  105646.104493  ...  42340.463915  46526.579874\n",
              "3  70565.486702  105580.356475  ...  42416.461710  46348.841857\n",
              "4  70513.069587  105470.169106  ...  42491.683420  46188.694338\n",
              "\n",
              "[5 rows x 370 columns]"
            ]
          },
          "metadata": {},
          "execution_count": 23
        }
      ]
    },
    {
      "cell_type": "code",
      "metadata": {
        "id": "TcyWo-H545Ki"
      },
      "source": [
        "# Arima용 최종 결과물 생성\n",
        "final_result = submission.copy()\n",
        "for code in arima_pred.columns:\n",
        "  final_result.loc[:, code] = arima_pred[code]"
      ],
      "execution_count": 51,
      "outputs": []
    },
    {
      "cell_type": "markdown",
      "metadata": {
        "id": "m6dUZqZKZcEs"
      },
      "source": [
        "# BASE LINE 코드에 나온 로직\n",
        "* 이번주(5일) 종가 데이터로 다음주(5일) 종가 데이터 예측\n",
        "* 사용한 변수는 오직 \"종가\""
      ]
    },
    {
      "cell_type": "code",
      "metadata": {
        "id": "3BuIgqluhp9C"
      },
      "source": [
        "learning_rate = 0.05\n",
        "reg_lambda = 2\n",
        "# early_stopping_rounds = 50\n",
        "\n",
        "lgb = LGBMRegressor(learning_rate=learning_rate, reg_lambda=reg_lambda)\n",
        "xgb = XGBRegressor(learning_rate=learning_rate, reg_lambda=reg_lambda)"
      ],
      "execution_count": 88,
      "outputs": []
    },
    {
      "cell_type": "code",
      "metadata": {
        "id": "ZcsEOFtEPBTj"
      },
      "source": [
        "def prediction(model, params):\n",
        "  for code in tqdm(stock_list['종목코드'].values):\n",
        "    data = fdr.DataReader(code, start=start_date, end=end_date)[['Open', 'High', 'Low', 'Close']].reset_index()\n",
        "    data = pd.merge(Business_days, data, how='outer')\n",
        "    data['weekday'] = data['Date'].apply(lambda x: x.weekday()) # 요일 변수\n",
        "    data['weeknum'] = data['Date'].apply(lambda x: x.strftime('%V'))\n",
        "    data['Close'] = data['Close'].interpolate() # ffill: 시계열 데이터에서 null값을 채울 때 앞에서 나온 데이터를 사용 <-> bfill\n",
        "    data = pd.pivot_table(data=data, values='Close', columns='weekday', index='weeknum')\n",
        "\n",
        "    x = data.iloc[0:-2].to_numpy() # 이번주 월~금 데이터를 바탕으로\n",
        "    y = data.iloc[1:-1].to_numpy() # 다음주 월~금 종가를 예측\n",
        "    y_0 = y[:, 0] # 월\n",
        "    y_1 = y[:, 1]\n",
        "    y_2 = y[:, 2]\n",
        "    y_3 = y[:, 3]\n",
        "    y_4 = y[:, 4] # 금\n",
        "\n",
        "    y_values = [y_0, y_1, y_2, y_3, y_4]\n",
        "    # 2021년 11월 1일부터 11월 5일까지의 종가를 예측\n",
        "    x_public = data.iloc[-2].to_numpy() # (5, )\n",
        "    \n",
        "    predictions = []\n",
        "    for y_value in y_values:\n",
        "      model.fit(x, y_value, eval_metric='l2')\n",
        "      prediction = model.predict(np.expand_dims(x_public, 0)) # (1, 5)\n",
        "      predictions.append(prediction[0])\n",
        "    submission.loc[:, code] = predictions * 2 # 11월 29일부터 12월 3일까지 종가는 11월 1일 ~ 11월 5일 종가를 그대로(임시방편인 듯)"
      ],
      "execution_count": 89,
      "outputs": []
    },
    {
      "cell_type": "code",
      "metadata": {
        "colab": {
          "base_uri": "https://localhost:8080/"
        },
        "id": "jqhYymunSdg5",
        "outputId": "dc543288-1220-4815-865a-100498e7e55a"
      },
      "source": [
        "prediction(lgb, params)"
      ],
      "execution_count": 90,
      "outputs": [
        {
          "output_type": "stream",
          "name": "stderr",
          "text": [
            "100%|██████████| 370/370 [07:22<00:00,  1.19s/it]\n"
          ]
        }
      ]
    },
    {
      "cell_type": "code",
      "metadata": {
        "id": "enhnZxoVVpop"
      },
      "source": [
        "prediction(xgb, params)"
      ],
      "execution_count": null,
      "outputs": []
    },
    {
      "cell_type": "code",
      "metadata": {
        "colab": {
          "base_uri": "https://localhost:8080/"
        },
        "id": "MEDwIERG-GBO",
        "outputId": "41e368f7-4829-47ba-fb5f-4c4b0d596bd9"
      },
      "source": [
        "for code in tqdm(stock_list['종목코드'].values):\n",
        "  data = fdr.DataReader(code, start=start_date, end=end_date)[['Close']].reset_index()\n",
        "  data = pd.merge(Business_days, data, how='outer')\n",
        "  data['weekday'] = data['Date'].apply(lambda x: x.weekday()) # 요일 변수\n",
        "  data['weeknum'] = data['Date'].apply(lambda x: x.strftime('%V'))\n",
        "  data['Close'] = data['Close'].ffill() # 시계열 데이터에서 null값을 채울 때 앞에서 나온 데이터를 사용 <-> bfill\n",
        "  data = pd.pivot_table(data=data, values='Close', columns='weekday', index='weeknum')\n",
        "\n",
        "  x = data.iloc[0:-2].to_numpy() # 이번주 월~금 데이터를 바탕으로\n",
        "  y = data.iloc[1:-1].to_numpy() # 다음주 월~금 종가를 예측\n",
        "  y_0 = y[:,0] # 월\n",
        "  y_1 = y[:,1]\n",
        "  y_2 = y[:,2]\n",
        "  y_3 = y[:,3]\n",
        "  y_4 = y[:,4] # 금\n",
        "\n",
        "  y_values = [y_0, y_1, y_2, y_3, y_4]\n",
        "  # 2021년 11월 1일부터 11월 5일까지의 종가를 예측\n",
        "  x_public = data.iloc[-2].to_numpy() # (5, )\n",
        "  \n",
        "  predictions = []\n",
        "  for y_value in y_values:\n",
        "    model.fit(x, y_value)\n",
        "    prediction = model.predict(np.expand_dims(x_public, 0)) # (1, 5)\n",
        "    predictions.append(prediction[0])\n",
        "  submission.loc[:, code] = predictions * 2 # 11월 29일부터 12월 3일까지 종가는 11월 1일 ~ 11월 5일 종가를 그대로(임시방편인 듯)"
      ],
      "execution_count": null,
      "outputs": [
        {
          "output_type": "stream",
          "name": "stderr",
          "text": [
            "100%|██████████| 370/370 [06:53<00:00,  1.12s/it]\n"
          ]
        }
      ]
    },
    {
      "cell_type": "code",
      "metadata": {
        "id": "GCNmpdqSKC8p"
      },
      "source": [
        "# linear, lgbm 용 submission 데이터셋 최종 변환하는 함수\n",
        "def convert_submission(submission):\n",
        "  result = submission.copy()\n",
        "  columns = list(result.columns[1:]) # Day 제외\n",
        "  columns = ['Day'] + [str(x).zfill(6) for x in columns]\n",
        "  result.columns = columns\n",
        "  \n",
        "  return result"
      ],
      "execution_count": 91,
      "outputs": []
    },
    {
      "cell_type": "code",
      "metadata": {
        "colab": {
          "base_uri": "https://localhost:8080/",
          "height": 579
        },
        "id": "htWxlnvaTwZt",
        "outputId": "41ee5a86-34d5-4952-e4a5-5010042c19b4"
      },
      "source": [
        "final_result = convert_submission(submission)\n",
        "final_result"
      ],
      "execution_count": 83,
      "outputs": [
        {
          "output_type": "execute_result",
          "data": {
            "text/html": [
              "<div>\n",
              "<style scoped>\n",
              "    .dataframe tbody tr th:only-of-type {\n",
              "        vertical-align: middle;\n",
              "    }\n",
              "\n",
              "    .dataframe tbody tr th {\n",
              "        vertical-align: top;\n",
              "    }\n",
              "\n",
              "    .dataframe thead th {\n",
              "        text-align: right;\n",
              "    }\n",
              "</style>\n",
              "<table border=\"1\" class=\"dataframe\">\n",
              "  <thead>\n",
              "    <tr style=\"text-align: right;\">\n",
              "      <th></th>\n",
              "      <th>Day</th>\n",
              "      <th>000060</th>\n",
              "      <th>000080</th>\n",
              "      <th>000100</th>\n",
              "      <th>000120</th>\n",
              "      <th>000150</th>\n",
              "      <th>000240</th>\n",
              "      <th>000250</th>\n",
              "      <th>000270</th>\n",
              "      <th>000660</th>\n",
              "      <th>000670</th>\n",
              "      <th>000720</th>\n",
              "      <th>000810</th>\n",
              "      <th>000880</th>\n",
              "      <th>000990</th>\n",
              "      <th>001230</th>\n",
              "      <th>001440</th>\n",
              "      <th>001450</th>\n",
              "      <th>001740</th>\n",
              "      <th>002380</th>\n",
              "      <th>002790</th>\n",
              "      <th>003000</th>\n",
              "      <th>003090</th>\n",
              "      <th>003380</th>\n",
              "      <th>003410</th>\n",
              "      <th>003490</th>\n",
              "      <th>003670</th>\n",
              "      <th>003800</th>\n",
              "      <th>004000</th>\n",
              "      <th>004020</th>\n",
              "      <th>004170</th>\n",
              "      <th>004370</th>\n",
              "      <th>004490</th>\n",
              "      <th>004800</th>\n",
              "      <th>004990</th>\n",
              "      <th>005250</th>\n",
              "      <th>005290</th>\n",
              "      <th>005300</th>\n",
              "      <th>005380</th>\n",
              "      <th>005385</th>\n",
              "      <th>...</th>\n",
              "      <th>272290</th>\n",
              "      <th>273130</th>\n",
              "      <th>278280</th>\n",
              "      <th>278530</th>\n",
              "      <th>282330</th>\n",
              "      <th>285130</th>\n",
              "      <th>287410</th>\n",
              "      <th>290510</th>\n",
              "      <th>290650</th>\n",
              "      <th>292150</th>\n",
              "      <th>293490</th>\n",
              "      <th>293780</th>\n",
              "      <th>294090</th>\n",
              "      <th>294870</th>\n",
              "      <th>298000</th>\n",
              "      <th>298020</th>\n",
              "      <th>298050</th>\n",
              "      <th>298380</th>\n",
              "      <th>299030</th>\n",
              "      <th>299660</th>\n",
              "      <th>299900</th>\n",
              "      <th>307950</th>\n",
              "      <th>314130</th>\n",
              "      <th>316140</th>\n",
              "      <th>319400</th>\n",
              "      <th>319660</th>\n",
              "      <th>321550</th>\n",
              "      <th>323990</th>\n",
              "      <th>326030</th>\n",
              "      <th>330590</th>\n",
              "      <th>330860</th>\n",
              "      <th>336260</th>\n",
              "      <th>336370</th>\n",
              "      <th>347860</th>\n",
              "      <th>348150</th>\n",
              "      <th>348210</th>\n",
              "      <th>352820</th>\n",
              "      <th>357780</th>\n",
              "      <th>363280</th>\n",
              "      <th>950130</th>\n",
              "    </tr>\n",
              "  </thead>\n",
              "  <tbody>\n",
              "    <tr>\n",
              "      <th>0</th>\n",
              "      <td>2021-11-01</td>\n",
              "      <td>25359.511478</td>\n",
              "      <td>34436.485921</td>\n",
              "      <td>61317.277868</td>\n",
              "      <td>162825.801755</td>\n",
              "      <td>97027.010642</td>\n",
              "      <td>16817.097442</td>\n",
              "      <td>50952.881434</td>\n",
              "      <td>87429.050733</td>\n",
              "      <td>108269.150116</td>\n",
              "      <td>707994.422888</td>\n",
              "      <td>48682.466652</td>\n",
              "      <td>226277.424035</td>\n",
              "      <td>33576.724097</td>\n",
              "      <td>56112.155007</td>\n",
              "      <td>12647.792201</td>\n",
              "      <td>2245.565965</td>\n",
              "      <td>26009.906979</td>\n",
              "      <td>5220.967600</td>\n",
              "      <td>377430.451982</td>\n",
              "      <td>55474.912054</td>\n",
              "      <td>19370.783091</td>\n",
              "      <td>33012.338580</td>\n",
              "      <td>10298.703285</td>\n",
              "      <td>7944.270922</td>\n",
              "      <td>31924.456115</td>\n",
              "      <td>142438.477537</td>\n",
              "      <td>46865.189584</td>\n",
              "      <td>78795.311132</td>\n",
              "      <td>44502.693920</td>\n",
              "      <td>256299.085645</td>\n",
              "      <td>284983.158334</td>\n",
              "      <td>82203.831016</td>\n",
              "      <td>113076.498737</td>\n",
              "      <td>33819.500981</td>\n",
              "      <td>31871.744738</td>\n",
              "      <td>33164.301012</td>\n",
              "      <td>151605.091051</td>\n",
              "      <td>214178.407320</td>\n",
              "      <td>101428.695331</td>\n",
              "      <td>...</td>\n",
              "      <td>37398.547479</td>\n",
              "      <td>108461.518169</td>\n",
              "      <td>243753.382771</td>\n",
              "      <td>13359.028275</td>\n",
              "      <td>162673.189961</td>\n",
              "      <td>205325.111542</td>\n",
              "      <td>7258.938824</td>\n",
              "      <td>7680.518099</td>\n",
              "      <td>36201.120284</td>\n",
              "      <td>14024.882535</td>\n",
              "      <td>74632.907546</td>\n",
              "      <td>43194.243895</td>\n",
              "      <td>58870.923702</td>\n",
              "      <td>27422.718502</td>\n",
              "      <td>262035.728148</td>\n",
              "      <td>489997.696710</td>\n",
              "      <td>618707.628734</td>\n",
              "      <td>23801.536371</td>\n",
              "      <td>59625.669098</td>\n",
              "      <td>49630.764282</td>\n",
              "      <td>17229.131175</td>\n",
              "      <td>112773.891078</td>\n",
              "      <td>37541.867410</td>\n",
              "      <td>11516.483423</td>\n",
              "      <td>4167.521696</td>\n",
              "      <td>36997.858880</td>\n",
              "      <td>18418.145787</td>\n",
              "      <td>75912.944576</td>\n",
              "      <td>106228.533638</td>\n",
              "      <td>5865.876686</td>\n",
              "      <td>49957.696484</td>\n",
              "      <td>54599.881887</td>\n",
              "      <td>65580.805557</td>\n",
              "      <td>37184.988378</td>\n",
              "      <td>29564.882334</td>\n",
              "      <td>54188.268780</td>\n",
              "      <td>295978.296482</td>\n",
              "      <td>280151.610906</td>\n",
              "      <td>25634.321206</td>\n",
              "      <td>16172.833077</td>\n",
              "    </tr>\n",
              "    <tr>\n",
              "      <th>1</th>\n",
              "      <td>2021-11-02</td>\n",
              "      <td>25577.554567</td>\n",
              "      <td>34534.202490</td>\n",
              "      <td>61343.496437</td>\n",
              "      <td>162828.072575</td>\n",
              "      <td>97861.736680</td>\n",
              "      <td>16915.075544</td>\n",
              "      <td>50369.295454</td>\n",
              "      <td>86839.501816</td>\n",
              "      <td>109095.308921</td>\n",
              "      <td>708010.884111</td>\n",
              "      <td>49574.650392</td>\n",
              "      <td>227183.885335</td>\n",
              "      <td>33778.009363</td>\n",
              "      <td>55749.985029</td>\n",
              "      <td>12797.567653</td>\n",
              "      <td>2251.347716</td>\n",
              "      <td>26084.718658</td>\n",
              "      <td>5225.001537</td>\n",
              "      <td>378328.460183</td>\n",
              "      <td>55713.204397</td>\n",
              "      <td>19283.281119</td>\n",
              "      <td>33210.114234</td>\n",
              "      <td>10373.792006</td>\n",
              "      <td>7989.477579</td>\n",
              "      <td>31936.949795</td>\n",
              "      <td>143854.755622</td>\n",
              "      <td>46704.404776</td>\n",
              "      <td>78689.202280</td>\n",
              "      <td>44759.925865</td>\n",
              "      <td>258915.147918</td>\n",
              "      <td>286095.755478</td>\n",
              "      <td>84625.070614</td>\n",
              "      <td>112886.895999</td>\n",
              "      <td>33949.193854</td>\n",
              "      <td>31751.199202</td>\n",
              "      <td>33167.593168</td>\n",
              "      <td>152521.594724</td>\n",
              "      <td>214423.991370</td>\n",
              "      <td>102020.997975</td>\n",
              "      <td>...</td>\n",
              "      <td>37597.297018</td>\n",
              "      <td>108413.310786</td>\n",
              "      <td>243463.777287</td>\n",
              "      <td>13383.206571</td>\n",
              "      <td>165997.581222</td>\n",
              "      <td>205233.608348</td>\n",
              "      <td>7294.384562</td>\n",
              "      <td>7710.583510</td>\n",
              "      <td>36176.275951</td>\n",
              "      <td>14048.975169</td>\n",
              "      <td>74823.892029</td>\n",
              "      <td>42977.026169</td>\n",
              "      <td>58306.719605</td>\n",
              "      <td>27812.099761</td>\n",
              "      <td>265658.798519</td>\n",
              "      <td>491998.085257</td>\n",
              "      <td>623682.861942</td>\n",
              "      <td>23652.940883</td>\n",
              "      <td>59147.691638</td>\n",
              "      <td>49837.360078</td>\n",
              "      <td>17242.145663</td>\n",
              "      <td>117590.872751</td>\n",
              "      <td>37499.770001</td>\n",
              "      <td>11587.624786</td>\n",
              "      <td>4133.828935</td>\n",
              "      <td>37137.666921</td>\n",
              "      <td>18593.607280</td>\n",
              "      <td>76106.879228</td>\n",
              "      <td>107110.146978</td>\n",
              "      <td>5862.118578</td>\n",
              "      <td>48836.088802</td>\n",
              "      <td>54336.634888</td>\n",
              "      <td>65595.598848</td>\n",
              "      <td>36778.329965</td>\n",
              "      <td>29657.989332</td>\n",
              "      <td>54335.745258</td>\n",
              "      <td>298259.993023</td>\n",
              "      <td>281286.662643</td>\n",
              "      <td>25745.310291</td>\n",
              "      <td>16330.989816</td>\n",
              "    </tr>\n",
              "    <tr>\n",
              "      <th>2</th>\n",
              "      <td>2021-11-03</td>\n",
              "      <td>25826.778518</td>\n",
              "      <td>34560.401029</td>\n",
              "      <td>61415.759561</td>\n",
              "      <td>164141.373348</td>\n",
              "      <td>98365.298810</td>\n",
              "      <td>17023.867366</td>\n",
              "      <td>50082.785261</td>\n",
              "      <td>87021.347937</td>\n",
              "      <td>108574.262327</td>\n",
              "      <td>706225.622621</td>\n",
              "      <td>49852.819480</td>\n",
              "      <td>227631.254139</td>\n",
              "      <td>33442.376312</td>\n",
              "      <td>55284.352230</td>\n",
              "      <td>12845.256456</td>\n",
              "      <td>2278.499875</td>\n",
              "      <td>26137.896596</td>\n",
              "      <td>5280.871349</td>\n",
              "      <td>376315.151292</td>\n",
              "      <td>55770.553436</td>\n",
              "      <td>19358.991885</td>\n",
              "      <td>33503.152057</td>\n",
              "      <td>10338.116748</td>\n",
              "      <td>7965.256007</td>\n",
              "      <td>31859.302231</td>\n",
              "      <td>145985.854939</td>\n",
              "      <td>45731.624821</td>\n",
              "      <td>78791.636529</td>\n",
              "      <td>44618.440108</td>\n",
              "      <td>258993.922936</td>\n",
              "      <td>284645.126629</td>\n",
              "      <td>85308.581784</td>\n",
              "      <td>113427.786965</td>\n",
              "      <td>33716.701395</td>\n",
              "      <td>31684.492965</td>\n",
              "      <td>32946.051129</td>\n",
              "      <td>152401.425853</td>\n",
              "      <td>214935.269119</td>\n",
              "      <td>102064.731561</td>\n",
              "      <td>...</td>\n",
              "      <td>37641.048377</td>\n",
              "      <td>108417.005126</td>\n",
              "      <td>244261.477081</td>\n",
              "      <td>13351.259350</td>\n",
              "      <td>166733.734001</td>\n",
              "      <td>198903.248287</td>\n",
              "      <td>7222.051022</td>\n",
              "      <td>7780.504948</td>\n",
              "      <td>36187.640829</td>\n",
              "      <td>14008.160477</td>\n",
              "      <td>74373.018143</td>\n",
              "      <td>42783.248070</td>\n",
              "      <td>57920.035015</td>\n",
              "      <td>27556.820688</td>\n",
              "      <td>269346.984161</td>\n",
              "      <td>496794.568444</td>\n",
              "      <td>623447.166167</td>\n",
              "      <td>23351.908820</td>\n",
              "      <td>59209.551670</td>\n",
              "      <td>50039.898307</td>\n",
              "      <td>17482.084981</td>\n",
              "      <td>118581.144251</td>\n",
              "      <td>37708.735254</td>\n",
              "      <td>11620.061037</td>\n",
              "      <td>4174.221398</td>\n",
              "      <td>37056.317888</td>\n",
              "      <td>18781.490777</td>\n",
              "      <td>75389.824816</td>\n",
              "      <td>106397.253458</td>\n",
              "      <td>5867.779103</td>\n",
              "      <td>48909.727062</td>\n",
              "      <td>53901.430682</td>\n",
              "      <td>65926.223454</td>\n",
              "      <td>36856.389437</td>\n",
              "      <td>29583.873550</td>\n",
              "      <td>54848.624674</td>\n",
              "      <td>296442.619975</td>\n",
              "      <td>281055.018487</td>\n",
              "      <td>25773.589819</td>\n",
              "      <td>16679.503593</td>\n",
              "    </tr>\n",
              "    <tr>\n",
              "      <th>3</th>\n",
              "      <td>2021-11-04</td>\n",
              "      <td>26089.979472</td>\n",
              "      <td>34492.430562</td>\n",
              "      <td>61419.391078</td>\n",
              "      <td>164431.598320</td>\n",
              "      <td>97765.547034</td>\n",
              "      <td>17055.232195</td>\n",
              "      <td>50922.939114</td>\n",
              "      <td>86698.523995</td>\n",
              "      <td>108130.858671</td>\n",
              "      <td>699128.705601</td>\n",
              "      <td>50067.667637</td>\n",
              "      <td>226592.795665</td>\n",
              "      <td>33371.558269</td>\n",
              "      <td>56374.902695</td>\n",
              "      <td>12984.758421</td>\n",
              "      <td>2322.297998</td>\n",
              "      <td>25994.092320</td>\n",
              "      <td>5275.052867</td>\n",
              "      <td>374584.524398</td>\n",
              "      <td>55606.443462</td>\n",
              "      <td>19087.788775</td>\n",
              "      <td>33698.805972</td>\n",
              "      <td>10221.946112</td>\n",
              "      <td>7810.780028</td>\n",
              "      <td>31769.988452</td>\n",
              "      <td>146681.185905</td>\n",
              "      <td>44948.666954</td>\n",
              "      <td>78441.676344</td>\n",
              "      <td>44751.161089</td>\n",
              "      <td>259187.532431</td>\n",
              "      <td>284839.640505</td>\n",
              "      <td>84196.733854</td>\n",
              "      <td>114057.346049</td>\n",
              "      <td>33799.073059</td>\n",
              "      <td>31939.160684</td>\n",
              "      <td>32945.701600</td>\n",
              "      <td>152080.120470</td>\n",
              "      <td>213633.312154</td>\n",
              "      <td>102069.219589</td>\n",
              "      <td>...</td>\n",
              "      <td>37639.800478</td>\n",
              "      <td>108476.481752</td>\n",
              "      <td>243539.565338</td>\n",
              "      <td>13353.011321</td>\n",
              "      <td>164846.611578</td>\n",
              "      <td>195034.727992</td>\n",
              "      <td>7281.361693</td>\n",
              "      <td>7779.685858</td>\n",
              "      <td>35969.498410</td>\n",
              "      <td>13995.047071</td>\n",
              "      <td>75538.119468</td>\n",
              "      <td>43373.447946</td>\n",
              "      <td>57583.686285</td>\n",
              "      <td>27694.321214</td>\n",
              "      <td>273934.096041</td>\n",
              "      <td>506378.264440</td>\n",
              "      <td>631312.523336</td>\n",
              "      <td>23121.174022</td>\n",
              "      <td>59346.736676</td>\n",
              "      <td>50811.364058</td>\n",
              "      <td>17598.829670</td>\n",
              "      <td>118000.484516</td>\n",
              "      <td>37997.491269</td>\n",
              "      <td>11627.101150</td>\n",
              "      <td>4152.820361</td>\n",
              "      <td>37128.688206</td>\n",
              "      <td>18592.465750</td>\n",
              "      <td>76135.695071</td>\n",
              "      <td>106785.221629</td>\n",
              "      <td>5850.440904</td>\n",
              "      <td>49335.068997</td>\n",
              "      <td>53730.672503</td>\n",
              "      <td>65403.407636</td>\n",
              "      <td>36119.954711</td>\n",
              "      <td>29891.302421</td>\n",
              "      <td>55138.824466</td>\n",
              "      <td>298149.018846</td>\n",
              "      <td>281149.440276</td>\n",
              "      <td>26000.943123</td>\n",
              "      <td>16840.632009</td>\n",
              "    </tr>\n",
              "    <tr>\n",
              "      <th>4</th>\n",
              "      <td>2021-11-05</td>\n",
              "      <td>25872.554387</td>\n",
              "      <td>34325.408535</td>\n",
              "      <td>61530.936035</td>\n",
              "      <td>163309.644008</td>\n",
              "      <td>97012.118680</td>\n",
              "      <td>17149.193168</td>\n",
              "      <td>51019.354603</td>\n",
              "      <td>84939.582690</td>\n",
              "      <td>108078.623602</td>\n",
              "      <td>695528.049175</td>\n",
              "      <td>49895.751244</td>\n",
              "      <td>226695.799882</td>\n",
              "      <td>33135.145212</td>\n",
              "      <td>55877.215033</td>\n",
              "      <td>13006.314682</td>\n",
              "      <td>2387.294399</td>\n",
              "      <td>26063.249724</td>\n",
              "      <td>5287.003941</td>\n",
              "      <td>373094.589295</td>\n",
              "      <td>55651.807994</td>\n",
              "      <td>18924.409225</td>\n",
              "      <td>33608.081764</td>\n",
              "      <td>10256.375739</td>\n",
              "      <td>7778.036782</td>\n",
              "      <td>31762.262473</td>\n",
              "      <td>147502.326722</td>\n",
              "      <td>44120.379680</td>\n",
              "      <td>78488.867638</td>\n",
              "      <td>44493.272741</td>\n",
              "      <td>258431.831960</td>\n",
              "      <td>285033.819679</td>\n",
              "      <td>84623.190553</td>\n",
              "      <td>113284.648730</td>\n",
              "      <td>33664.380676</td>\n",
              "      <td>31819.322229</td>\n",
              "      <td>33084.179521</td>\n",
              "      <td>150810.554931</td>\n",
              "      <td>213511.658350</td>\n",
              "      <td>101592.146349</td>\n",
              "      <td>...</td>\n",
              "      <td>37744.800199</td>\n",
              "      <td>108440.393964</td>\n",
              "      <td>242943.467382</td>\n",
              "      <td>13336.500941</td>\n",
              "      <td>167369.390293</td>\n",
              "      <td>195202.547828</td>\n",
              "      <td>7287.657634</td>\n",
              "      <td>7771.181494</td>\n",
              "      <td>35941.816409</td>\n",
              "      <td>14020.745336</td>\n",
              "      <td>75883.518176</td>\n",
              "      <td>43653.245433</td>\n",
              "      <td>57666.587386</td>\n",
              "      <td>27713.130458</td>\n",
              "      <td>276442.200302</td>\n",
              "      <td>514274.266202</td>\n",
              "      <td>634030.486812</td>\n",
              "      <td>23030.256026</td>\n",
              "      <td>60082.049561</td>\n",
              "      <td>51448.253971</td>\n",
              "      <td>17765.310814</td>\n",
              "      <td>117238.717543</td>\n",
              "      <td>37883.725980</td>\n",
              "      <td>11576.464544</td>\n",
              "      <td>4149.079898</td>\n",
              "      <td>37326.067187</td>\n",
              "      <td>18880.141923</td>\n",
              "      <td>75068.429774</td>\n",
              "      <td>107067.216575</td>\n",
              "      <td>5863.035730</td>\n",
              "      <td>49101.851610</td>\n",
              "      <td>53635.226438</td>\n",
              "      <td>65829.138319</td>\n",
              "      <td>35968.112425</td>\n",
              "      <td>30109.122275</td>\n",
              "      <td>54718.968468</td>\n",
              "      <td>297506.437455</td>\n",
              "      <td>282674.958387</td>\n",
              "      <td>25856.249175</td>\n",
              "      <td>17074.611390</td>\n",
              "    </tr>\n",
              "    <tr>\n",
              "      <th>5</th>\n",
              "      <td>2021-11-29</td>\n",
              "      <td>25359.511478</td>\n",
              "      <td>34436.485921</td>\n",
              "      <td>61317.277868</td>\n",
              "      <td>162825.801755</td>\n",
              "      <td>97027.010642</td>\n",
              "      <td>16817.097442</td>\n",
              "      <td>50952.881434</td>\n",
              "      <td>87429.050733</td>\n",
              "      <td>108269.150116</td>\n",
              "      <td>707994.422888</td>\n",
              "      <td>48682.466652</td>\n",
              "      <td>226277.424035</td>\n",
              "      <td>33576.724097</td>\n",
              "      <td>56112.155007</td>\n",
              "      <td>12647.792201</td>\n",
              "      <td>2245.565965</td>\n",
              "      <td>26009.906979</td>\n",
              "      <td>5220.967600</td>\n",
              "      <td>377430.451982</td>\n",
              "      <td>55474.912054</td>\n",
              "      <td>19370.783091</td>\n",
              "      <td>33012.338580</td>\n",
              "      <td>10298.703285</td>\n",
              "      <td>7944.270922</td>\n",
              "      <td>31924.456115</td>\n",
              "      <td>142438.477537</td>\n",
              "      <td>46865.189584</td>\n",
              "      <td>78795.311132</td>\n",
              "      <td>44502.693920</td>\n",
              "      <td>256299.085645</td>\n",
              "      <td>284983.158334</td>\n",
              "      <td>82203.831016</td>\n",
              "      <td>113076.498737</td>\n",
              "      <td>33819.500981</td>\n",
              "      <td>31871.744738</td>\n",
              "      <td>33164.301012</td>\n",
              "      <td>151605.091051</td>\n",
              "      <td>214178.407320</td>\n",
              "      <td>101428.695331</td>\n",
              "      <td>...</td>\n",
              "      <td>37398.547479</td>\n",
              "      <td>108461.518169</td>\n",
              "      <td>243753.382771</td>\n",
              "      <td>13359.028275</td>\n",
              "      <td>162673.189961</td>\n",
              "      <td>205325.111542</td>\n",
              "      <td>7258.938824</td>\n",
              "      <td>7680.518099</td>\n",
              "      <td>36201.120284</td>\n",
              "      <td>14024.882535</td>\n",
              "      <td>74632.907546</td>\n",
              "      <td>43194.243895</td>\n",
              "      <td>58870.923702</td>\n",
              "      <td>27422.718502</td>\n",
              "      <td>262035.728148</td>\n",
              "      <td>489997.696710</td>\n",
              "      <td>618707.628734</td>\n",
              "      <td>23801.536371</td>\n",
              "      <td>59625.669098</td>\n",
              "      <td>49630.764282</td>\n",
              "      <td>17229.131175</td>\n",
              "      <td>112773.891078</td>\n",
              "      <td>37541.867410</td>\n",
              "      <td>11516.483423</td>\n",
              "      <td>4167.521696</td>\n",
              "      <td>36997.858880</td>\n",
              "      <td>18418.145787</td>\n",
              "      <td>75912.944576</td>\n",
              "      <td>106228.533638</td>\n",
              "      <td>5865.876686</td>\n",
              "      <td>49957.696484</td>\n",
              "      <td>54599.881887</td>\n",
              "      <td>65580.805557</td>\n",
              "      <td>37184.988378</td>\n",
              "      <td>29564.882334</td>\n",
              "      <td>54188.268780</td>\n",
              "      <td>295978.296482</td>\n",
              "      <td>280151.610906</td>\n",
              "      <td>25634.321206</td>\n",
              "      <td>16172.833077</td>\n",
              "    </tr>\n",
              "    <tr>\n",
              "      <th>6</th>\n",
              "      <td>2021-11-30</td>\n",
              "      <td>25577.554567</td>\n",
              "      <td>34534.202490</td>\n",
              "      <td>61343.496437</td>\n",
              "      <td>162828.072575</td>\n",
              "      <td>97861.736680</td>\n",
              "      <td>16915.075544</td>\n",
              "      <td>50369.295454</td>\n",
              "      <td>86839.501816</td>\n",
              "      <td>109095.308921</td>\n",
              "      <td>708010.884111</td>\n",
              "      <td>49574.650392</td>\n",
              "      <td>227183.885335</td>\n",
              "      <td>33778.009363</td>\n",
              "      <td>55749.985029</td>\n",
              "      <td>12797.567653</td>\n",
              "      <td>2251.347716</td>\n",
              "      <td>26084.718658</td>\n",
              "      <td>5225.001537</td>\n",
              "      <td>378328.460183</td>\n",
              "      <td>55713.204397</td>\n",
              "      <td>19283.281119</td>\n",
              "      <td>33210.114234</td>\n",
              "      <td>10373.792006</td>\n",
              "      <td>7989.477579</td>\n",
              "      <td>31936.949795</td>\n",
              "      <td>143854.755622</td>\n",
              "      <td>46704.404776</td>\n",
              "      <td>78689.202280</td>\n",
              "      <td>44759.925865</td>\n",
              "      <td>258915.147918</td>\n",
              "      <td>286095.755478</td>\n",
              "      <td>84625.070614</td>\n",
              "      <td>112886.895999</td>\n",
              "      <td>33949.193854</td>\n",
              "      <td>31751.199202</td>\n",
              "      <td>33167.593168</td>\n",
              "      <td>152521.594724</td>\n",
              "      <td>214423.991370</td>\n",
              "      <td>102020.997975</td>\n",
              "      <td>...</td>\n",
              "      <td>37597.297018</td>\n",
              "      <td>108413.310786</td>\n",
              "      <td>243463.777287</td>\n",
              "      <td>13383.206571</td>\n",
              "      <td>165997.581222</td>\n",
              "      <td>205233.608348</td>\n",
              "      <td>7294.384562</td>\n",
              "      <td>7710.583510</td>\n",
              "      <td>36176.275951</td>\n",
              "      <td>14048.975169</td>\n",
              "      <td>74823.892029</td>\n",
              "      <td>42977.026169</td>\n",
              "      <td>58306.719605</td>\n",
              "      <td>27812.099761</td>\n",
              "      <td>265658.798519</td>\n",
              "      <td>491998.085257</td>\n",
              "      <td>623682.861942</td>\n",
              "      <td>23652.940883</td>\n",
              "      <td>59147.691638</td>\n",
              "      <td>49837.360078</td>\n",
              "      <td>17242.145663</td>\n",
              "      <td>117590.872751</td>\n",
              "      <td>37499.770001</td>\n",
              "      <td>11587.624786</td>\n",
              "      <td>4133.828935</td>\n",
              "      <td>37137.666921</td>\n",
              "      <td>18593.607280</td>\n",
              "      <td>76106.879228</td>\n",
              "      <td>107110.146978</td>\n",
              "      <td>5862.118578</td>\n",
              "      <td>48836.088802</td>\n",
              "      <td>54336.634888</td>\n",
              "      <td>65595.598848</td>\n",
              "      <td>36778.329965</td>\n",
              "      <td>29657.989332</td>\n",
              "      <td>54335.745258</td>\n",
              "      <td>298259.993023</td>\n",
              "      <td>281286.662643</td>\n",
              "      <td>25745.310291</td>\n",
              "      <td>16330.989816</td>\n",
              "    </tr>\n",
              "    <tr>\n",
              "      <th>7</th>\n",
              "      <td>2021-12-01</td>\n",
              "      <td>25826.778518</td>\n",
              "      <td>34560.401029</td>\n",
              "      <td>61415.759561</td>\n",
              "      <td>164141.373348</td>\n",
              "      <td>98365.298810</td>\n",
              "      <td>17023.867366</td>\n",
              "      <td>50082.785261</td>\n",
              "      <td>87021.347937</td>\n",
              "      <td>108574.262327</td>\n",
              "      <td>706225.622621</td>\n",
              "      <td>49852.819480</td>\n",
              "      <td>227631.254139</td>\n",
              "      <td>33442.376312</td>\n",
              "      <td>55284.352230</td>\n",
              "      <td>12845.256456</td>\n",
              "      <td>2278.499875</td>\n",
              "      <td>26137.896596</td>\n",
              "      <td>5280.871349</td>\n",
              "      <td>376315.151292</td>\n",
              "      <td>55770.553436</td>\n",
              "      <td>19358.991885</td>\n",
              "      <td>33503.152057</td>\n",
              "      <td>10338.116748</td>\n",
              "      <td>7965.256007</td>\n",
              "      <td>31859.302231</td>\n",
              "      <td>145985.854939</td>\n",
              "      <td>45731.624821</td>\n",
              "      <td>78791.636529</td>\n",
              "      <td>44618.440108</td>\n",
              "      <td>258993.922936</td>\n",
              "      <td>284645.126629</td>\n",
              "      <td>85308.581784</td>\n",
              "      <td>113427.786965</td>\n",
              "      <td>33716.701395</td>\n",
              "      <td>31684.492965</td>\n",
              "      <td>32946.051129</td>\n",
              "      <td>152401.425853</td>\n",
              "      <td>214935.269119</td>\n",
              "      <td>102064.731561</td>\n",
              "      <td>...</td>\n",
              "      <td>37641.048377</td>\n",
              "      <td>108417.005126</td>\n",
              "      <td>244261.477081</td>\n",
              "      <td>13351.259350</td>\n",
              "      <td>166733.734001</td>\n",
              "      <td>198903.248287</td>\n",
              "      <td>7222.051022</td>\n",
              "      <td>7780.504948</td>\n",
              "      <td>36187.640829</td>\n",
              "      <td>14008.160477</td>\n",
              "      <td>74373.018143</td>\n",
              "      <td>42783.248070</td>\n",
              "      <td>57920.035015</td>\n",
              "      <td>27556.820688</td>\n",
              "      <td>269346.984161</td>\n",
              "      <td>496794.568444</td>\n",
              "      <td>623447.166167</td>\n",
              "      <td>23351.908820</td>\n",
              "      <td>59209.551670</td>\n",
              "      <td>50039.898307</td>\n",
              "      <td>17482.084981</td>\n",
              "      <td>118581.144251</td>\n",
              "      <td>37708.735254</td>\n",
              "      <td>11620.061037</td>\n",
              "      <td>4174.221398</td>\n",
              "      <td>37056.317888</td>\n",
              "      <td>18781.490777</td>\n",
              "      <td>75389.824816</td>\n",
              "      <td>106397.253458</td>\n",
              "      <td>5867.779103</td>\n",
              "      <td>48909.727062</td>\n",
              "      <td>53901.430682</td>\n",
              "      <td>65926.223454</td>\n",
              "      <td>36856.389437</td>\n",
              "      <td>29583.873550</td>\n",
              "      <td>54848.624674</td>\n",
              "      <td>296442.619975</td>\n",
              "      <td>281055.018487</td>\n",
              "      <td>25773.589819</td>\n",
              "      <td>16679.503593</td>\n",
              "    </tr>\n",
              "    <tr>\n",
              "      <th>8</th>\n",
              "      <td>2021-12-02</td>\n",
              "      <td>26089.979472</td>\n",
              "      <td>34492.430562</td>\n",
              "      <td>61419.391078</td>\n",
              "      <td>164431.598320</td>\n",
              "      <td>97765.547034</td>\n",
              "      <td>17055.232195</td>\n",
              "      <td>50922.939114</td>\n",
              "      <td>86698.523995</td>\n",
              "      <td>108130.858671</td>\n",
              "      <td>699128.705601</td>\n",
              "      <td>50067.667637</td>\n",
              "      <td>226592.795665</td>\n",
              "      <td>33371.558269</td>\n",
              "      <td>56374.902695</td>\n",
              "      <td>12984.758421</td>\n",
              "      <td>2322.297998</td>\n",
              "      <td>25994.092320</td>\n",
              "      <td>5275.052867</td>\n",
              "      <td>374584.524398</td>\n",
              "      <td>55606.443462</td>\n",
              "      <td>19087.788775</td>\n",
              "      <td>33698.805972</td>\n",
              "      <td>10221.946112</td>\n",
              "      <td>7810.780028</td>\n",
              "      <td>31769.988452</td>\n",
              "      <td>146681.185905</td>\n",
              "      <td>44948.666954</td>\n",
              "      <td>78441.676344</td>\n",
              "      <td>44751.161089</td>\n",
              "      <td>259187.532431</td>\n",
              "      <td>284839.640505</td>\n",
              "      <td>84196.733854</td>\n",
              "      <td>114057.346049</td>\n",
              "      <td>33799.073059</td>\n",
              "      <td>31939.160684</td>\n",
              "      <td>32945.701600</td>\n",
              "      <td>152080.120470</td>\n",
              "      <td>213633.312154</td>\n",
              "      <td>102069.219589</td>\n",
              "      <td>...</td>\n",
              "      <td>37639.800478</td>\n",
              "      <td>108476.481752</td>\n",
              "      <td>243539.565338</td>\n",
              "      <td>13353.011321</td>\n",
              "      <td>164846.611578</td>\n",
              "      <td>195034.727992</td>\n",
              "      <td>7281.361693</td>\n",
              "      <td>7779.685858</td>\n",
              "      <td>35969.498410</td>\n",
              "      <td>13995.047071</td>\n",
              "      <td>75538.119468</td>\n",
              "      <td>43373.447946</td>\n",
              "      <td>57583.686285</td>\n",
              "      <td>27694.321214</td>\n",
              "      <td>273934.096041</td>\n",
              "      <td>506378.264440</td>\n",
              "      <td>631312.523336</td>\n",
              "      <td>23121.174022</td>\n",
              "      <td>59346.736676</td>\n",
              "      <td>50811.364058</td>\n",
              "      <td>17598.829670</td>\n",
              "      <td>118000.484516</td>\n",
              "      <td>37997.491269</td>\n",
              "      <td>11627.101150</td>\n",
              "      <td>4152.820361</td>\n",
              "      <td>37128.688206</td>\n",
              "      <td>18592.465750</td>\n",
              "      <td>76135.695071</td>\n",
              "      <td>106785.221629</td>\n",
              "      <td>5850.440904</td>\n",
              "      <td>49335.068997</td>\n",
              "      <td>53730.672503</td>\n",
              "      <td>65403.407636</td>\n",
              "      <td>36119.954711</td>\n",
              "      <td>29891.302421</td>\n",
              "      <td>55138.824466</td>\n",
              "      <td>298149.018846</td>\n",
              "      <td>281149.440276</td>\n",
              "      <td>26000.943123</td>\n",
              "      <td>16840.632009</td>\n",
              "    </tr>\n",
              "    <tr>\n",
              "      <th>9</th>\n",
              "      <td>2021-12-03</td>\n",
              "      <td>25872.554387</td>\n",
              "      <td>34325.408535</td>\n",
              "      <td>61530.936035</td>\n",
              "      <td>163309.644008</td>\n",
              "      <td>97012.118680</td>\n",
              "      <td>17149.193168</td>\n",
              "      <td>51019.354603</td>\n",
              "      <td>84939.582690</td>\n",
              "      <td>108078.623602</td>\n",
              "      <td>695528.049175</td>\n",
              "      <td>49895.751244</td>\n",
              "      <td>226695.799882</td>\n",
              "      <td>33135.145212</td>\n",
              "      <td>55877.215033</td>\n",
              "      <td>13006.314682</td>\n",
              "      <td>2387.294399</td>\n",
              "      <td>26063.249724</td>\n",
              "      <td>5287.003941</td>\n",
              "      <td>373094.589295</td>\n",
              "      <td>55651.807994</td>\n",
              "      <td>18924.409225</td>\n",
              "      <td>33608.081764</td>\n",
              "      <td>10256.375739</td>\n",
              "      <td>7778.036782</td>\n",
              "      <td>31762.262473</td>\n",
              "      <td>147502.326722</td>\n",
              "      <td>44120.379680</td>\n",
              "      <td>78488.867638</td>\n",
              "      <td>44493.272741</td>\n",
              "      <td>258431.831960</td>\n",
              "      <td>285033.819679</td>\n",
              "      <td>84623.190553</td>\n",
              "      <td>113284.648730</td>\n",
              "      <td>33664.380676</td>\n",
              "      <td>31819.322229</td>\n",
              "      <td>33084.179521</td>\n",
              "      <td>150810.554931</td>\n",
              "      <td>213511.658350</td>\n",
              "      <td>101592.146349</td>\n",
              "      <td>...</td>\n",
              "      <td>37744.800199</td>\n",
              "      <td>108440.393964</td>\n",
              "      <td>242943.467382</td>\n",
              "      <td>13336.500941</td>\n",
              "      <td>167369.390293</td>\n",
              "      <td>195202.547828</td>\n",
              "      <td>7287.657634</td>\n",
              "      <td>7771.181494</td>\n",
              "      <td>35941.816409</td>\n",
              "      <td>14020.745336</td>\n",
              "      <td>75883.518176</td>\n",
              "      <td>43653.245433</td>\n",
              "      <td>57666.587386</td>\n",
              "      <td>27713.130458</td>\n",
              "      <td>276442.200302</td>\n",
              "      <td>514274.266202</td>\n",
              "      <td>634030.486812</td>\n",
              "      <td>23030.256026</td>\n",
              "      <td>60082.049561</td>\n",
              "      <td>51448.253971</td>\n",
              "      <td>17765.310814</td>\n",
              "      <td>117238.717543</td>\n",
              "      <td>37883.725980</td>\n",
              "      <td>11576.464544</td>\n",
              "      <td>4149.079898</td>\n",
              "      <td>37326.067187</td>\n",
              "      <td>18880.141923</td>\n",
              "      <td>75068.429774</td>\n",
              "      <td>107067.216575</td>\n",
              "      <td>5863.035730</td>\n",
              "      <td>49101.851610</td>\n",
              "      <td>53635.226438</td>\n",
              "      <td>65829.138319</td>\n",
              "      <td>35968.112425</td>\n",
              "      <td>30109.122275</td>\n",
              "      <td>54718.968468</td>\n",
              "      <td>297506.437455</td>\n",
              "      <td>282674.958387</td>\n",
              "      <td>25856.249175</td>\n",
              "      <td>17074.611390</td>\n",
              "    </tr>\n",
              "  </tbody>\n",
              "</table>\n",
              "<p>10 rows × 371 columns</p>\n",
              "</div>"
            ],
            "text/plain": [
              "          Day        000060  ...        363280        950130\n",
              "0  2021-11-01  25359.511478  ...  25634.321206  16172.833077\n",
              "1  2021-11-02  25577.554567  ...  25745.310291  16330.989816\n",
              "2  2021-11-03  25826.778518  ...  25773.589819  16679.503593\n",
              "3  2021-11-04  26089.979472  ...  26000.943123  16840.632009\n",
              "4  2021-11-05  25872.554387  ...  25856.249175  17074.611390\n",
              "5  2021-11-29  25359.511478  ...  25634.321206  16172.833077\n",
              "6  2021-11-30  25577.554567  ...  25745.310291  16330.989816\n",
              "7  2021-12-01  25826.778518  ...  25773.589819  16679.503593\n",
              "8  2021-12-02  26089.979472  ...  26000.943123  16840.632009\n",
              "9  2021-12-03  25872.554387  ...  25856.249175  17074.611390\n",
              "\n",
              "[10 rows x 371 columns]"
            ]
          },
          "metadata": {},
          "execution_count": 83
        }
      ]
    },
    {
      "cell_type": "code",
      "metadata": {
        "id": "_SirWC5hGjNf"
      },
      "source": [
        "# submission.to_csv(path + 'submission/BASELINE_Linear.csv', index=False)\n",
        "# submission = pd.read_csv(path + 'submission/BASELINE_Linear.csv')"
      ],
      "execution_count": null,
      "outputs": []
    },
    {
      "cell_type": "markdown",
      "metadata": {
        "id": "E6iLezxihtJn"
      },
      "source": [
        "# Test셋 구축하기\n",
        "* 11월 1일 ~ 11월 5일까지밖에 불가\n",
        "* 11월 29일 ~ 12월 3일까지는 정답셋이 없기 때문에 말 그대로 추론만 가능"
      ]
    },
    {
      "cell_type": "code",
      "metadata": {
        "id": "oRm13Zh6NDcd"
      },
      "source": [
        "def make_test(start_date, end_date):\n",
        "  for code in tqdm(stock_list['종목코드'].values):\n",
        "    data = fdr.DataReader(code, start=start_date, end=end_date)[['Close']]\n",
        "    test_set.loc[:, code] = list(data['Close'])\n",
        "  return test_set"
      ],
      "execution_count": 62,
      "outputs": []
    },
    {
      "cell_type": "code",
      "metadata": {
        "colab": {
          "base_uri": "https://localhost:8080/",
          "height": 356
        },
        "id": "yf5e7aAVin72",
        "outputId": "2ea5c319-a793-4d46-b78f-43805c00bc17"
      },
      "source": [
        "test_start = '20211101'\n",
        "test_end = '20211106'\n",
        "test_set = submission.copy().head()\n",
        "test_set = make_test(test_start, test_end)\n",
        "test_set.head()"
      ],
      "execution_count": 63,
      "outputs": [
        {
          "output_type": "stream",
          "name": "stderr",
          "text": [
            "100%|██████████| 370/370 [06:48<00:00,  1.10s/it]\n"
          ]
        },
        {
          "output_type": "execute_result",
          "data": {
            "text/html": [
              "<div>\n",
              "<style scoped>\n",
              "    .dataframe tbody tr th:only-of-type {\n",
              "        vertical-align: middle;\n",
              "    }\n",
              "\n",
              "    .dataframe tbody tr th {\n",
              "        vertical-align: top;\n",
              "    }\n",
              "\n",
              "    .dataframe thead th {\n",
              "        text-align: right;\n",
              "    }\n",
              "</style>\n",
              "<table border=\"1\" class=\"dataframe\">\n",
              "  <thead>\n",
              "    <tr style=\"text-align: right;\">\n",
              "      <th></th>\n",
              "      <th>Day</th>\n",
              "      <th>000060</th>\n",
              "      <th>000080</th>\n",
              "      <th>000100</th>\n",
              "      <th>000120</th>\n",
              "      <th>000150</th>\n",
              "      <th>000240</th>\n",
              "      <th>000250</th>\n",
              "      <th>000270</th>\n",
              "      <th>000660</th>\n",
              "      <th>000670</th>\n",
              "      <th>000720</th>\n",
              "      <th>000810</th>\n",
              "      <th>000880</th>\n",
              "      <th>000990</th>\n",
              "      <th>001230</th>\n",
              "      <th>001440</th>\n",
              "      <th>001450</th>\n",
              "      <th>001740</th>\n",
              "      <th>002380</th>\n",
              "      <th>002790</th>\n",
              "      <th>003000</th>\n",
              "      <th>003090</th>\n",
              "      <th>003380</th>\n",
              "      <th>003410</th>\n",
              "      <th>003490</th>\n",
              "      <th>003670</th>\n",
              "      <th>003800</th>\n",
              "      <th>004000</th>\n",
              "      <th>004020</th>\n",
              "      <th>004170</th>\n",
              "      <th>004370</th>\n",
              "      <th>004490</th>\n",
              "      <th>004800</th>\n",
              "      <th>004990</th>\n",
              "      <th>005250</th>\n",
              "      <th>005290</th>\n",
              "      <th>005300</th>\n",
              "      <th>005380</th>\n",
              "      <th>005385</th>\n",
              "      <th>...</th>\n",
              "      <th>272290</th>\n",
              "      <th>273130</th>\n",
              "      <th>278280</th>\n",
              "      <th>278530</th>\n",
              "      <th>282330</th>\n",
              "      <th>285130</th>\n",
              "      <th>287410</th>\n",
              "      <th>290510</th>\n",
              "      <th>290650</th>\n",
              "      <th>292150</th>\n",
              "      <th>293490</th>\n",
              "      <th>293780</th>\n",
              "      <th>294090</th>\n",
              "      <th>294870</th>\n",
              "      <th>298000</th>\n",
              "      <th>298020</th>\n",
              "      <th>298050</th>\n",
              "      <th>298380</th>\n",
              "      <th>299030</th>\n",
              "      <th>299660</th>\n",
              "      <th>299900</th>\n",
              "      <th>307950</th>\n",
              "      <th>314130</th>\n",
              "      <th>316140</th>\n",
              "      <th>319400</th>\n",
              "      <th>319660</th>\n",
              "      <th>321550</th>\n",
              "      <th>323990</th>\n",
              "      <th>326030</th>\n",
              "      <th>330590</th>\n",
              "      <th>330860</th>\n",
              "      <th>336260</th>\n",
              "      <th>336370</th>\n",
              "      <th>347860</th>\n",
              "      <th>348150</th>\n",
              "      <th>348210</th>\n",
              "      <th>352820</th>\n",
              "      <th>357780</th>\n",
              "      <th>363280</th>\n",
              "      <th>950130</th>\n",
              "    </tr>\n",
              "  </thead>\n",
              "  <tbody>\n",
              "    <tr>\n",
              "      <th>0</th>\n",
              "      <td>2021-11-01</td>\n",
              "      <td>27850</td>\n",
              "      <td>35200</td>\n",
              "      <td>60000</td>\n",
              "      <td>146000</td>\n",
              "      <td>103000</td>\n",
              "      <td>16600</td>\n",
              "      <td>49750</td>\n",
              "      <td>84300</td>\n",
              "      <td>106500</td>\n",
              "      <td>694000</td>\n",
              "      <td>51300</td>\n",
              "      <td>235000</td>\n",
              "      <td>32750</td>\n",
              "      <td>57300</td>\n",
              "      <td>17000</td>\n",
              "      <td>2285</td>\n",
              "      <td>26500</td>\n",
              "      <td>5180</td>\n",
              "      <td>327000</td>\n",
              "      <td>50600</td>\n",
              "      <td>13350</td>\n",
              "      <td>32100</td>\n",
              "      <td>9470</td>\n",
              "      <td>8090</td>\n",
              "      <td>30450</td>\n",
              "      <td>144500</td>\n",
              "      <td>47350</td>\n",
              "      <td>84000</td>\n",
              "      <td>44100</td>\n",
              "      <td>238000</td>\n",
              "      <td>286000</td>\n",
              "      <td>80800</td>\n",
              "      <td>102000</td>\n",
              "      <td>33050</td>\n",
              "      <td>29800</td>\n",
              "      <td>34050</td>\n",
              "      <td>144500</td>\n",
              "      <td>208000</td>\n",
              "      <td>96400</td>\n",
              "      <td>...</td>\n",
              "      <td>41000</td>\n",
              "      <td>106705</td>\n",
              "      <td>271800</td>\n",
              "      <td>12780</td>\n",
              "      <td>167000</td>\n",
              "      <td>179500</td>\n",
              "      <td>7480</td>\n",
              "      <td>7390</td>\n",
              "      <td>34750</td>\n",
              "      <td>13385</td>\n",
              "      <td>87900</td>\n",
              "      <td>50800</td>\n",
              "      <td>53900</td>\n",
              "      <td>25500</td>\n",
              "      <td>272000</td>\n",
              "      <td>597000</td>\n",
              "      <td>695000</td>\n",
              "      <td>22050</td>\n",
              "      <td>52500</td>\n",
              "      <td>71200</td>\n",
              "      <td>28950</td>\n",
              "      <td>116500</td>\n",
              "      <td>36600</td>\n",
              "      <td>13350</td>\n",
              "      <td>3370</td>\n",
              "      <td>38500</td>\n",
              "      <td>18700</td>\n",
              "      <td>65600</td>\n",
              "      <td>95200</td>\n",
              "      <td>5700</td>\n",
              "      <td>48300</td>\n",
              "      <td>51700</td>\n",
              "      <td>80500</td>\n",
              "      <td>36750</td>\n",
              "      <td>25700</td>\n",
              "      <td>52000</td>\n",
              "      <td>348500</td>\n",
              "      <td>261600</td>\n",
              "      <td>26600</td>\n",
              "      <td>17600</td>\n",
              "    </tr>\n",
              "    <tr>\n",
              "      <th>1</th>\n",
              "      <td>2021-11-02</td>\n",
              "      <td>29250</td>\n",
              "      <td>35050</td>\n",
              "      <td>61700</td>\n",
              "      <td>148500</td>\n",
              "      <td>107000</td>\n",
              "      <td>17350</td>\n",
              "      <td>48950</td>\n",
              "      <td>86000</td>\n",
              "      <td>107500</td>\n",
              "      <td>698000</td>\n",
              "      <td>51800</td>\n",
              "      <td>235000</td>\n",
              "      <td>32800</td>\n",
              "      <td>58600</td>\n",
              "      <td>17300</td>\n",
              "      <td>2360</td>\n",
              "      <td>26300</td>\n",
              "      <td>5210</td>\n",
              "      <td>328000</td>\n",
              "      <td>51000</td>\n",
              "      <td>13800</td>\n",
              "      <td>33050</td>\n",
              "      <td>9390</td>\n",
              "      <td>8030</td>\n",
              "      <td>30800</td>\n",
              "      <td>144500</td>\n",
              "      <td>47400</td>\n",
              "      <td>87000</td>\n",
              "      <td>44100</td>\n",
              "      <td>237500</td>\n",
              "      <td>284000</td>\n",
              "      <td>81200</td>\n",
              "      <td>101000</td>\n",
              "      <td>33800</td>\n",
              "      <td>29950</td>\n",
              "      <td>34050</td>\n",
              "      <td>145000</td>\n",
              "      <td>210000</td>\n",
              "      <td>97800</td>\n",
              "      <td>...</td>\n",
              "      <td>40850</td>\n",
              "      <td>106725</td>\n",
              "      <td>270500</td>\n",
              "      <td>12945</td>\n",
              "      <td>164500</td>\n",
              "      <td>181500</td>\n",
              "      <td>7430</td>\n",
              "      <td>7500</td>\n",
              "      <td>34750</td>\n",
              "      <td>13565</td>\n",
              "      <td>86400</td>\n",
              "      <td>50000</td>\n",
              "      <td>59000</td>\n",
              "      <td>25900</td>\n",
              "      <td>272500</td>\n",
              "      <td>585000</td>\n",
              "      <td>682000</td>\n",
              "      <td>23600</td>\n",
              "      <td>52900</td>\n",
              "      <td>74300</td>\n",
              "      <td>28900</td>\n",
              "      <td>116000</td>\n",
              "      <td>38000</td>\n",
              "      <td>13450</td>\n",
              "      <td>3360</td>\n",
              "      <td>39400</td>\n",
              "      <td>19000</td>\n",
              "      <td>67700</td>\n",
              "      <td>97800</td>\n",
              "      <td>5690</td>\n",
              "      <td>50800</td>\n",
              "      <td>54100</td>\n",
              "      <td>81600</td>\n",
              "      <td>35850</td>\n",
              "      <td>25950</td>\n",
              "      <td>52900</td>\n",
              "      <td>348000</td>\n",
              "      <td>258600</td>\n",
              "      <td>27100</td>\n",
              "      <td>18100</td>\n",
              "    </tr>\n",
              "    <tr>\n",
              "      <th>2</th>\n",
              "      <td>2021-11-03</td>\n",
              "      <td>30250</td>\n",
              "      <td>34050</td>\n",
              "      <td>61500</td>\n",
              "      <td>145500</td>\n",
              "      <td>110000</td>\n",
              "      <td>17100</td>\n",
              "      <td>50300</td>\n",
              "      <td>85000</td>\n",
              "      <td>105500</td>\n",
              "      <td>685000</td>\n",
              "      <td>51400</td>\n",
              "      <td>233500</td>\n",
              "      <td>32250</td>\n",
              "      <td>58400</td>\n",
              "      <td>17050</td>\n",
              "      <td>2280</td>\n",
              "      <td>26150</td>\n",
              "      <td>5240</td>\n",
              "      <td>320500</td>\n",
              "      <td>50000</td>\n",
              "      <td>13700</td>\n",
              "      <td>33400</td>\n",
              "      <td>9140</td>\n",
              "      <td>7970</td>\n",
              "      <td>30200</td>\n",
              "      <td>145000</td>\n",
              "      <td>47400</td>\n",
              "      <td>91400</td>\n",
              "      <td>43650</td>\n",
              "      <td>238000</td>\n",
              "      <td>282000</td>\n",
              "      <td>80100</td>\n",
              "      <td>100000</td>\n",
              "      <td>33400</td>\n",
              "      <td>29650</td>\n",
              "      <td>33300</td>\n",
              "      <td>142000</td>\n",
              "      <td>208500</td>\n",
              "      <td>96900</td>\n",
              "      <td>...</td>\n",
              "      <td>39900</td>\n",
              "      <td>106870</td>\n",
              "      <td>274800</td>\n",
              "      <td>12790</td>\n",
              "      <td>167000</td>\n",
              "      <td>181500</td>\n",
              "      <td>7110</td>\n",
              "      <td>7390</td>\n",
              "      <td>35000</td>\n",
              "      <td>13350</td>\n",
              "      <td>89000</td>\n",
              "      <td>49600</td>\n",
              "      <td>60100</td>\n",
              "      <td>25550</td>\n",
              "      <td>262500</td>\n",
              "      <td>566000</td>\n",
              "      <td>675000</td>\n",
              "      <td>23650</td>\n",
              "      <td>52300</td>\n",
              "      <td>80600</td>\n",
              "      <td>28900</td>\n",
              "      <td>115500</td>\n",
              "      <td>38650</td>\n",
              "      <td>13300</td>\n",
              "      <td>3305</td>\n",
              "      <td>39350</td>\n",
              "      <td>18650</td>\n",
              "      <td>67500</td>\n",
              "      <td>97800</td>\n",
              "      <td>5650</td>\n",
              "      <td>49450</td>\n",
              "      <td>54600</td>\n",
              "      <td>82700</td>\n",
              "      <td>34700</td>\n",
              "      <td>25450</td>\n",
              "      <td>51200</td>\n",
              "      <td>346500</td>\n",
              "      <td>253700</td>\n",
              "      <td>26750</td>\n",
              "      <td>18300</td>\n",
              "    </tr>\n",
              "    <tr>\n",
              "      <th>3</th>\n",
              "      <td>2021-11-04</td>\n",
              "      <td>29450</td>\n",
              "      <td>33800</td>\n",
              "      <td>61100</td>\n",
              "      <td>145000</td>\n",
              "      <td>125500</td>\n",
              "      <td>17750</td>\n",
              "      <td>50600</td>\n",
              "      <td>87000</td>\n",
              "      <td>106000</td>\n",
              "      <td>687000</td>\n",
              "      <td>51600</td>\n",
              "      <td>229000</td>\n",
              "      <td>32300</td>\n",
              "      <td>58800</td>\n",
              "      <td>16850</td>\n",
              "      <td>2300</td>\n",
              "      <td>26100</td>\n",
              "      <td>5180</td>\n",
              "      <td>318500</td>\n",
              "      <td>50500</td>\n",
              "      <td>13450</td>\n",
              "      <td>32500</td>\n",
              "      <td>9170</td>\n",
              "      <td>8030</td>\n",
              "      <td>30300</td>\n",
              "      <td>146000</td>\n",
              "      <td>47800</td>\n",
              "      <td>86700</td>\n",
              "      <td>43400</td>\n",
              "      <td>235500</td>\n",
              "      <td>281000</td>\n",
              "      <td>79700</td>\n",
              "      <td>99700</td>\n",
              "      <td>33600</td>\n",
              "      <td>29400</td>\n",
              "      <td>33350</td>\n",
              "      <td>138500</td>\n",
              "      <td>214000</td>\n",
              "      <td>100500</td>\n",
              "      <td>...</td>\n",
              "      <td>39900</td>\n",
              "      <td>107080</td>\n",
              "      <td>284000</td>\n",
              "      <td>12840</td>\n",
              "      <td>168000</td>\n",
              "      <td>178000</td>\n",
              "      <td>6990</td>\n",
              "      <td>7450</td>\n",
              "      <td>35000</td>\n",
              "      <td>13535</td>\n",
              "      <td>91200</td>\n",
              "      <td>49650</td>\n",
              "      <td>60100</td>\n",
              "      <td>25500</td>\n",
              "      <td>263500</td>\n",
              "      <td>605000</td>\n",
              "      <td>682000</td>\n",
              "      <td>23800</td>\n",
              "      <td>51700</td>\n",
              "      <td>82000</td>\n",
              "      <td>31900</td>\n",
              "      <td>121000</td>\n",
              "      <td>39750</td>\n",
              "      <td>13600</td>\n",
              "      <td>3355</td>\n",
              "      <td>38950</td>\n",
              "      <td>18550</td>\n",
              "      <td>65500</td>\n",
              "      <td>98000</td>\n",
              "      <td>5620</td>\n",
              "      <td>48700</td>\n",
              "      <td>53800</td>\n",
              "      <td>81500</td>\n",
              "      <td>35500</td>\n",
              "      <td>25500</td>\n",
              "      <td>50600</td>\n",
              "      <td>356500</td>\n",
              "      <td>249600</td>\n",
              "      <td>26350</td>\n",
              "      <td>17550</td>\n",
              "    </tr>\n",
              "    <tr>\n",
              "      <th>4</th>\n",
              "      <td>2021-11-05</td>\n",
              "      <td>29550</td>\n",
              "      <td>33450</td>\n",
              "      <td>60600</td>\n",
              "      <td>144500</td>\n",
              "      <td>133500</td>\n",
              "      <td>17300</td>\n",
              "      <td>50400</td>\n",
              "      <td>88000</td>\n",
              "      <td>107000</td>\n",
              "      <td>684000</td>\n",
              "      <td>50600</td>\n",
              "      <td>225000</td>\n",
              "      <td>32450</td>\n",
              "      <td>59100</td>\n",
              "      <td>16000</td>\n",
              "      <td>2260</td>\n",
              "      <td>25250</td>\n",
              "      <td>5120</td>\n",
              "      <td>315500</td>\n",
              "      <td>49400</td>\n",
              "      <td>13300</td>\n",
              "      <td>32550</td>\n",
              "      <td>9190</td>\n",
              "      <td>8070</td>\n",
              "      <td>30100</td>\n",
              "      <td>149500</td>\n",
              "      <td>47850</td>\n",
              "      <td>81300</td>\n",
              "      <td>42000</td>\n",
              "      <td>233500</td>\n",
              "      <td>277500</td>\n",
              "      <td>79900</td>\n",
              "      <td>99200</td>\n",
              "      <td>33600</td>\n",
              "      <td>29050</td>\n",
              "      <td>32550</td>\n",
              "      <td>139500</td>\n",
              "      <td>215000</td>\n",
              "      <td>101000</td>\n",
              "      <td>...</td>\n",
              "      <td>38850</td>\n",
              "      <td>107375</td>\n",
              "      <td>285900</td>\n",
              "      <td>12815</td>\n",
              "      <td>165500</td>\n",
              "      <td>174000</td>\n",
              "      <td>6780</td>\n",
              "      <td>7330</td>\n",
              "      <td>34600</td>\n",
              "      <td>13525</td>\n",
              "      <td>97900</td>\n",
              "      <td>50100</td>\n",
              "      <td>58800</td>\n",
              "      <td>24750</td>\n",
              "      <td>255000</td>\n",
              "      <td>566000</td>\n",
              "      <td>650000</td>\n",
              "      <td>24050</td>\n",
              "      <td>50300</td>\n",
              "      <td>76300</td>\n",
              "      <td>32150</td>\n",
              "      <td>119000</td>\n",
              "      <td>38400</td>\n",
              "      <td>13300</td>\n",
              "      <td>3390</td>\n",
              "      <td>39800</td>\n",
              "      <td>18700</td>\n",
              "      <td>64100</td>\n",
              "      <td>98500</td>\n",
              "      <td>5610</td>\n",
              "      <td>49800</td>\n",
              "      <td>53900</td>\n",
              "      <td>85100</td>\n",
              "      <td>35500</td>\n",
              "      <td>25100</td>\n",
              "      <td>50200</td>\n",
              "      <td>383500</td>\n",
              "      <td>247800</td>\n",
              "      <td>26050</td>\n",
              "      <td>17550</td>\n",
              "    </tr>\n",
              "  </tbody>\n",
              "</table>\n",
              "<p>5 rows × 371 columns</p>\n",
              "</div>"
            ],
            "text/plain": [
              "          Day  000060  000080  000100  ...  352820  357780  363280  950130\n",
              "0  2021-11-01   27850   35200   60000  ...  348500  261600   26600   17600\n",
              "1  2021-11-02   29250   35050   61700  ...  348000  258600   27100   18100\n",
              "2  2021-11-03   30250   34050   61500  ...  346500  253700   26750   18300\n",
              "3  2021-11-04   29450   33800   61100  ...  356500  249600   26350   17550\n",
              "4  2021-11-05   29550   33450   60600  ...  383500  247800   26050   17550\n",
              "\n",
              "[5 rows x 371 columns]"
            ]
          },
          "metadata": {},
          "execution_count": 63
        }
      ]
    },
    {
      "cell_type": "code",
      "metadata": {
        "id": "r0Om-dEWHB_c"
      },
      "source": [
        "# test_set.to_csv(path + 'open/test_set.csv', index=False)\n",
        "test_set = pd.read_csv(path + 'open/test_set.csv')"
      ],
      "execution_count": 28,
      "outputs": []
    },
    {
      "cell_type": "markdown",
      "metadata": {
        "id": "h7ZQIhNx2iyi"
      },
      "source": [
        "# 모델별 NMAE 지표 비교"
      ]
    },
    {
      "cell_type": "code",
      "metadata": {
        "colab": {
          "base_uri": "https://localhost:8080/"
        },
        "id": "-aeqeLBxzXZ6",
        "outputId": "90019e5f-ff02-4e71-bd25-9ddd36733f96"
      },
      "source": [
        "# linear regression(base line code) 지표\n",
        "test_scores = nmae(test_set, submission.head())\n",
        "print(len(test_scores))\n",
        "np.mean(test_scores)"
      ],
      "execution_count": 73,
      "outputs": [
        {
          "output_type": "stream",
          "name": "stdout",
          "text": [
            "370\n"
          ]
        },
        {
          "output_type": "execute_result",
          "data": {
            "text/plain": [
              "0.03460824425289329"
            ]
          },
          "metadata": {},
          "execution_count": 73
        }
      ]
    },
    {
      "cell_type": "code",
      "metadata": {
        "colab": {
          "base_uri": "https://localhost:8080/"
        },
        "id": "wCLVFZkAG-ve",
        "outputId": "9e1c004b-77e0-43ae-bb80-a7caf519ae5e"
      },
      "source": [
        "# lgbm 지표\n",
        "test_scores = nmae(test_set, final_result.head())\n",
        "print(len(test_scores))\n",
        "np.mean(test_scores)"
      ],
      "execution_count": 92,
      "outputs": [
        {
          "output_type": "stream",
          "name": "stdout",
          "text": [
            "370\n"
          ]
        },
        {
          "output_type": "execute_result",
          "data": {
            "text/plain": [
              "0.08492767662551333"
            ]
          },
          "metadata": {},
          "execution_count": 92
        }
      ]
    },
    {
      "cell_type": "code",
      "metadata": {
        "colab": {
          "base_uri": "https://localhost:8080/"
        },
        "id": "RfJvhfLkUkJ9",
        "outputId": "835dc996-e620-416d-cf09-d9059b0d16bb"
      },
      "source": [
        "# Arima 지표\n",
        "test_scores = nmae(test_set, final_result.head())\n",
        "print(len(test_scores))\n",
        "np.mean(test_scores)"
      ],
      "execution_count": 38,
      "outputs": [
        {
          "output_type": "stream",
          "name": "stdout",
          "text": [
            "370\n"
          ]
        },
        {
          "output_type": "execute_result",
          "data": {
            "text/plain": [
              "0.020236232434717245"
            ]
          },
          "metadata": {},
          "execution_count": 38
        }
      ]
    },
    {
      "cell_type": "code",
      "metadata": {
        "colab": {
          "base_uri": "https://localhost:8080/",
          "height": 579
        },
        "id": "sllYeHwD7eBF",
        "outputId": "1b5970a6-7911-433c-a216-32386cecc472"
      },
      "source": [
        "# Arima 예측 제출하는 코드\n",
        "for code in final_result.head().columns[1:]:\n",
        "  tmp = final_result.head()[code]\n",
        "  final_result.tail()[code] = list(tmp)\n",
        "final_result"
      ],
      "execution_count": 52,
      "outputs": [
        {
          "output_type": "execute_result",
          "data": {
            "text/html": [
              "<div>\n",
              "<style scoped>\n",
              "    .dataframe tbody tr th:only-of-type {\n",
              "        vertical-align: middle;\n",
              "    }\n",
              "\n",
              "    .dataframe tbody tr th {\n",
              "        vertical-align: top;\n",
              "    }\n",
              "\n",
              "    .dataframe thead th {\n",
              "        text-align: right;\n",
              "    }\n",
              "</style>\n",
              "<table border=\"1\" class=\"dataframe\">\n",
              "  <thead>\n",
              "    <tr style=\"text-align: right;\">\n",
              "      <th></th>\n",
              "      <th>Day</th>\n",
              "      <th>000060</th>\n",
              "      <th>000080</th>\n",
              "      <th>000100</th>\n",
              "      <th>000120</th>\n",
              "      <th>000150</th>\n",
              "      <th>000240</th>\n",
              "      <th>000250</th>\n",
              "      <th>000270</th>\n",
              "      <th>000660</th>\n",
              "      <th>000670</th>\n",
              "      <th>000720</th>\n",
              "      <th>000810</th>\n",
              "      <th>000880</th>\n",
              "      <th>000990</th>\n",
              "      <th>001230</th>\n",
              "      <th>001440</th>\n",
              "      <th>001450</th>\n",
              "      <th>001740</th>\n",
              "      <th>002380</th>\n",
              "      <th>002790</th>\n",
              "      <th>003000</th>\n",
              "      <th>003090</th>\n",
              "      <th>003380</th>\n",
              "      <th>003410</th>\n",
              "      <th>003490</th>\n",
              "      <th>003670</th>\n",
              "      <th>003800</th>\n",
              "      <th>004000</th>\n",
              "      <th>004020</th>\n",
              "      <th>004170</th>\n",
              "      <th>004370</th>\n",
              "      <th>004490</th>\n",
              "      <th>004800</th>\n",
              "      <th>004990</th>\n",
              "      <th>005250</th>\n",
              "      <th>005290</th>\n",
              "      <th>005300</th>\n",
              "      <th>005380</th>\n",
              "      <th>005385</th>\n",
              "      <th>...</th>\n",
              "      <th>272290</th>\n",
              "      <th>273130</th>\n",
              "      <th>278280</th>\n",
              "      <th>278530</th>\n",
              "      <th>282330</th>\n",
              "      <th>285130</th>\n",
              "      <th>287410</th>\n",
              "      <th>290510</th>\n",
              "      <th>290650</th>\n",
              "      <th>292150</th>\n",
              "      <th>293490</th>\n",
              "      <th>293780</th>\n",
              "      <th>294090</th>\n",
              "      <th>294870</th>\n",
              "      <th>298000</th>\n",
              "      <th>298020</th>\n",
              "      <th>298050</th>\n",
              "      <th>298380</th>\n",
              "      <th>299030</th>\n",
              "      <th>299660</th>\n",
              "      <th>299900</th>\n",
              "      <th>307950</th>\n",
              "      <th>314130</th>\n",
              "      <th>316140</th>\n",
              "      <th>319400</th>\n",
              "      <th>319660</th>\n",
              "      <th>321550</th>\n",
              "      <th>323990</th>\n",
              "      <th>326030</th>\n",
              "      <th>330590</th>\n",
              "      <th>330860</th>\n",
              "      <th>336260</th>\n",
              "      <th>336370</th>\n",
              "      <th>347860</th>\n",
              "      <th>348150</th>\n",
              "      <th>348210</th>\n",
              "      <th>352820</th>\n",
              "      <th>357780</th>\n",
              "      <th>363280</th>\n",
              "      <th>950130</th>\n",
              "    </tr>\n",
              "  </thead>\n",
              "  <tbody>\n",
              "    <tr>\n",
              "      <th>0</th>\n",
              "      <td>2021-11-01</td>\n",
              "      <td>29124.577112</td>\n",
              "      <td>33886.790993</td>\n",
              "      <td>61019.459908</td>\n",
              "      <td>145016.522340</td>\n",
              "      <td>124867.547530</td>\n",
              "      <td>17761.613830</td>\n",
              "      <td>50788.160528</td>\n",
              "      <td>86839.900525</td>\n",
              "      <td>105809.783261</td>\n",
              "      <td>687267.554915</td>\n",
              "      <td>51601.368251</td>\n",
              "      <td>228913.960719</td>\n",
              "      <td>32286.333833</td>\n",
              "      <td>58787.065236</td>\n",
              "      <td>16833.343120</td>\n",
              "      <td>2321.378087</td>\n",
              "      <td>26099.907047</td>\n",
              "      <td>5188.759281</td>\n",
              "      <td>319104.315877</td>\n",
              "      <td>50490.619282</td>\n",
              "      <td>13354.891711</td>\n",
              "      <td>32284.057097</td>\n",
              "      <td>9149.283490</td>\n",
              "      <td>8030.714347</td>\n",
              "      <td>30347.772337</td>\n",
              "      <td>145742.192406</td>\n",
              "      <td>47861.299189</td>\n",
              "      <td>86723.872675</td>\n",
              "      <td>43291.522747</td>\n",
              "      <td>236235.697136</td>\n",
              "      <td>281022.370683</td>\n",
              "      <td>80054.006720</td>\n",
              "      <td>99655.771856</td>\n",
              "      <td>33566.113660</td>\n",
              "      <td>29244.297455</td>\n",
              "      <td>33322.875425</td>\n",
              "      <td>138746.279393</td>\n",
              "      <td>214651.489615</td>\n",
              "      <td>100919.266114</td>\n",
              "      <td>...</td>\n",
              "      <td>39900.0</td>\n",
              "      <td>107081.373320</td>\n",
              "      <td>284873.071495</td>\n",
              "      <td>12837.544844</td>\n",
              "      <td>168187.391900</td>\n",
              "      <td>177762.753002</td>\n",
              "      <td>6996.828253</td>\n",
              "      <td>7432.007939</td>\n",
              "      <td>34971.910243</td>\n",
              "      <td>13521.534464</td>\n",
              "      <td>92267.813899</td>\n",
              "      <td>49681.536432</td>\n",
              "      <td>59370.490329</td>\n",
              "      <td>25502.696466</td>\n",
              "      <td>261399.424332</td>\n",
              "      <td>604005.182886</td>\n",
              "      <td>684559.271420</td>\n",
              "      <td>23818.973468</td>\n",
              "      <td>51636.492318</td>\n",
              "      <td>81712.468630</td>\n",
              "      <td>32420.202830</td>\n",
              "      <td>121074.857174</td>\n",
              "      <td>39982.534862</td>\n",
              "      <td>13613.928168</td>\n",
              "      <td>3348.587802</td>\n",
              "      <td>38944.105332</td>\n",
              "      <td>18590.951911</td>\n",
              "      <td>64753.573866</td>\n",
              "      <td>97645.906928</td>\n",
              "      <td>5618.327348</td>\n",
              "      <td>48554.080967</td>\n",
              "      <td>53706.128538</td>\n",
              "      <td>81732.510689</td>\n",
              "      <td>35553.557980</td>\n",
              "      <td>25521.288172</td>\n",
              "      <td>50499.227777</td>\n",
              "      <td>358697.348303</td>\n",
              "      <td>249629.421416</td>\n",
              "      <td>26308.434061</td>\n",
              "      <td>17475.000728</td>\n",
              "    </tr>\n",
              "    <tr>\n",
              "      <th>1</th>\n",
              "      <td>2021-11-02</td>\n",
              "      <td>29284.679548</td>\n",
              "      <td>33961.339331</td>\n",
              "      <td>60992.873394</td>\n",
              "      <td>145015.976365</td>\n",
              "      <td>125775.897194</td>\n",
              "      <td>17820.441524</td>\n",
              "      <td>50507.675827</td>\n",
              "      <td>87178.429743</td>\n",
              "      <td>105779.617363</td>\n",
              "      <td>687303.347731</td>\n",
              "      <td>51601.377612</td>\n",
              "      <td>228912.315661</td>\n",
              "      <td>32330.294681</td>\n",
              "      <td>58787.483506</td>\n",
              "      <td>16831.955862</td>\n",
              "      <td>2312.249781</td>\n",
              "      <td>26135.808968</td>\n",
              "      <td>5194.517049</td>\n",
              "      <td>319642.477789</td>\n",
              "      <td>50288.469665</td>\n",
              "      <td>13268.937717</td>\n",
              "      <td>32396.353942</td>\n",
              "      <td>9160.519073</td>\n",
              "      <td>8038.598028</td>\n",
              "      <td>30388.089819</td>\n",
              "      <td>146235.654002</td>\n",
              "      <td>47832.382137</td>\n",
              "      <td>86863.869686</td>\n",
              "      <td>43333.380942</td>\n",
              "      <td>234704.679592</td>\n",
              "      <td>281067.255599</td>\n",
              "      <td>79984.084803</td>\n",
              "      <td>99667.147520</td>\n",
              "      <td>33583.905544</td>\n",
              "      <td>29111.279072</td>\n",
              "      <td>33320.216289</td>\n",
              "      <td>139017.342850</td>\n",
              "      <td>213927.610101</td>\n",
              "      <td>101407.586474</td>\n",
              "      <td>...</td>\n",
              "      <td>39900.0</td>\n",
              "      <td>107057.976340</td>\n",
              "      <td>285760.707666</td>\n",
              "      <td>12837.665400</td>\n",
              "      <td>168378.197753</td>\n",
              "      <td>177177.048065</td>\n",
              "      <td>7007.440101</td>\n",
              "      <td>7444.715352</td>\n",
              "      <td>35001.628674</td>\n",
              "      <td>13534.501094</td>\n",
              "      <td>93861.274711</td>\n",
              "      <td>49739.337696</td>\n",
              "      <td>58651.972253</td>\n",
              "      <td>25502.551047</td>\n",
              "      <td>261935.909901</td>\n",
              "      <td>604030.558812</td>\n",
              "      <td>686799.898379</td>\n",
              "      <td>23902.340864</td>\n",
              "      <td>51525.749405</td>\n",
              "      <td>82318.270088</td>\n",
              "      <td>32498.728423</td>\n",
              "      <td>121081.419809</td>\n",
              "      <td>40137.379959</td>\n",
              "      <td>13645.499318</td>\n",
              "      <td>3335.607651</td>\n",
              "      <td>38944.018464</td>\n",
              "      <td>18582.227657</td>\n",
              "      <td>64000.973094</td>\n",
              "      <td>97481.115859</td>\n",
              "      <td>5618.234089</td>\n",
              "      <td>48442.860031</td>\n",
              "      <td>53716.603255</td>\n",
              "      <td>81992.343327</td>\n",
              "      <td>35477.620634</td>\n",
              "      <td>25331.144268</td>\n",
              "      <td>50482.302708</td>\n",
              "      <td>358017.569337</td>\n",
              "      <td>249632.027378</td>\n",
              "      <td>26304.114742</td>\n",
              "      <td>17405.126298</td>\n",
              "    </tr>\n",
              "    <tr>\n",
              "      <th>2</th>\n",
              "      <td>2021-11-03</td>\n",
              "      <td>29482.848208</td>\n",
              "      <td>33983.073001</td>\n",
              "      <td>60915.282376</td>\n",
              "      <td>145015.994406</td>\n",
              "      <td>125459.034954</td>\n",
              "      <td>17824.312143</td>\n",
              "      <td>50557.172870</td>\n",
              "      <td>87121.060158</td>\n",
              "      <td>105646.104493</td>\n",
              "      <td>687308.136003</td>\n",
              "      <td>51601.377676</td>\n",
              "      <td>228912.284208</td>\n",
              "      <td>32318.974829</td>\n",
              "      <td>58787.469981</td>\n",
              "      <td>16831.840325</td>\n",
              "      <td>2327.952621</td>\n",
              "      <td>26135.864618</td>\n",
              "      <td>5192.436416</td>\n",
              "      <td>320220.310552</td>\n",
              "      <td>50222.821643</td>\n",
              "      <td>13187.729447</td>\n",
              "      <td>32132.118309</td>\n",
              "      <td>9153.565282</td>\n",
              "      <td>8044.479104</td>\n",
              "      <td>30426.659731</td>\n",
              "      <td>146020.030403</td>\n",
              "      <td>47809.021025</td>\n",
              "      <td>87034.718946</td>\n",
              "      <td>43258.900219</td>\n",
              "      <td>235112.708548</td>\n",
              "      <td>280986.550878</td>\n",
              "      <td>79991.477791</td>\n",
              "      <td>99689.054555</td>\n",
              "      <td>33553.925579</td>\n",
              "      <td>28986.147509</td>\n",
              "      <td>33293.456360</td>\n",
              "      <td>139224.495385</td>\n",
              "      <td>213070.019107</td>\n",
              "      <td>101314.093204</td>\n",
              "      <td>...</td>\n",
              "      <td>39900.0</td>\n",
              "      <td>107051.821019</td>\n",
              "      <td>285952.066918</td>\n",
              "      <td>12837.659480</td>\n",
              "      <td>168528.814527</td>\n",
              "      <td>176724.537682</td>\n",
              "      <td>7025.197273</td>\n",
              "      <td>7427.589189</td>\n",
              "      <td>34998.192314</td>\n",
              "      <td>13521.209301</td>\n",
              "      <td>95479.545244</td>\n",
              "      <td>49804.760713</td>\n",
              "      <td>58046.809826</td>\n",
              "      <td>25502.558890</td>\n",
              "      <td>259790.158871</td>\n",
              "      <td>604029.911519</td>\n",
              "      <td>689382.923761</td>\n",
              "      <td>23920.205534</td>\n",
              "      <td>51404.277165</td>\n",
              "      <td>82007.284083</td>\n",
              "      <td>33465.845699</td>\n",
              "      <td>120881.485584</td>\n",
              "      <td>40280.353743</td>\n",
              "      <td>13658.072188</td>\n",
              "      <td>3324.353660</td>\n",
              "      <td>38944.017184</td>\n",
              "      <td>18563.866469</td>\n",
              "      <td>63361.950064</td>\n",
              "      <td>97174.415042</td>\n",
              "      <td>5618.228889</td>\n",
              "      <td>48339.342756</td>\n",
              "      <td>53687.815313</td>\n",
              "      <td>82155.012353</td>\n",
              "      <td>35444.637161</td>\n",
              "      <td>25213.238991</td>\n",
              "      <td>50479.460081</td>\n",
              "      <td>360435.269062</td>\n",
              "      <td>249383.311885</td>\n",
              "      <td>26303.665901</td>\n",
              "      <td>17425.964405</td>\n",
              "    </tr>\n",
              "    <tr>\n",
              "      <th>3</th>\n",
              "      <td>2021-11-04</td>\n",
              "      <td>29573.695618</td>\n",
              "      <td>33986.211066</td>\n",
              "      <td>60825.213982</td>\n",
              "      <td>145015.993810</td>\n",
              "      <td>126244.098825</td>\n",
              "      <td>17842.141972</td>\n",
              "      <td>50338.020178</td>\n",
              "      <td>87324.337811</td>\n",
              "      <td>105580.356475</td>\n",
              "      <td>687308.776566</td>\n",
              "      <td>51601.377676</td>\n",
              "      <td>228912.283607</td>\n",
              "      <td>32361.038655</td>\n",
              "      <td>58787.470418</td>\n",
              "      <td>16831.830703</td>\n",
              "      <td>2322.496379</td>\n",
              "      <td>26171.369606</td>\n",
              "      <td>5193.538159</td>\n",
              "      <td>320788.208528</td>\n",
              "      <td>50117.158127</td>\n",
              "      <td>13110.010823</td>\n",
              "      <td>32145.863381</td>\n",
              "      <td>9157.263000</td>\n",
              "      <td>8051.418949</td>\n",
              "      <td>30464.611580</td>\n",
              "      <td>146460.914292</td>\n",
              "      <td>47812.291665</td>\n",
              "      <td>87183.796515</td>\n",
              "      <td>43291.151647</td>\n",
              "      <td>233816.076773</td>\n",
              "      <td>280912.492904</td>\n",
              "      <td>80061.381841</td>\n",
              "      <td>99713.460170</td>\n",
              "      <td>33568.645714</td>\n",
              "      <td>28865.278914</td>\n",
              "      <td>33286.644032</td>\n",
              "      <td>139399.229748</td>\n",
              "      <td>212414.392444</td>\n",
              "      <td>101467.711845</td>\n",
              "      <td>...</td>\n",
              "      <td>39900.0</td>\n",
              "      <td>107028.613101</td>\n",
              "      <td>286735.314435</td>\n",
              "      <td>12837.659771</td>\n",
              "      <td>168679.602006</td>\n",
              "      <td>176296.686051</td>\n",
              "      <td>7036.922531</td>\n",
              "      <td>7439.259811</td>\n",
              "      <td>35010.608767</td>\n",
              "      <td>13525.839156</td>\n",
              "      <td>96985.994162</td>\n",
              "      <td>49875.226467</td>\n",
              "      <td>57550.166012</td>\n",
              "      <td>25502.558467</td>\n",
              "      <td>260234.338775</td>\n",
              "      <td>604029.928030</td>\n",
              "      <td>691707.809338</td>\n",
              "      <td>24003.411603</td>\n",
              "      <td>51294.018021</td>\n",
              "      <td>82556.854881</td>\n",
              "      <td>34338.113062</td>\n",
              "      <td>120873.487203</td>\n",
              "      <td>40425.871454</td>\n",
              "      <td>13688.047805</td>\n",
              "      <td>3311.090370</td>\n",
              "      <td>38944.017165</td>\n",
              "      <td>18554.068306</td>\n",
              "      <td>62661.336595</td>\n",
              "      <td>96946.225094</td>\n",
              "      <td>5618.228599</td>\n",
              "      <td>48241.446276</td>\n",
              "      <td>53697.092396</td>\n",
              "      <td>82404.856501</td>\n",
              "      <td>35408.246243</td>\n",
              "      <td>25118.742162</td>\n",
              "      <td>50478.982651</td>\n",
              "      <td>359836.974091</td>\n",
              "      <td>249241.934368</td>\n",
              "      <td>26303.619260</td>\n",
              "      <td>17372.090511</td>\n",
              "    </tr>\n",
              "    <tr>\n",
              "      <th>4</th>\n",
              "      <td>2021-11-05</td>\n",
              "      <td>29620.952557</td>\n",
              "      <td>33989.728895</td>\n",
              "      <td>60743.040635</td>\n",
              "      <td>145015.993830</td>\n",
              "      <td>126036.300995</td>\n",
              "      <td>17853.338334</td>\n",
              "      <td>50334.165261</td>\n",
              "      <td>87353.029325</td>\n",
              "      <td>105470.169106</td>\n",
              "      <td>687308.862259</td>\n",
              "      <td>51601.377676</td>\n",
              "      <td>228912.283595</td>\n",
              "      <td>32351.512879</td>\n",
              "      <td>58787.470404</td>\n",
              "      <td>16831.829901</td>\n",
              "      <td>2335.032659</td>\n",
              "      <td>26171.818521</td>\n",
              "      <td>5194.521243</td>\n",
              "      <td>321358.808506</td>\n",
              "      <td>50015.038727</td>\n",
              "      <td>13034.886949</td>\n",
              "      <td>31972.949184</td>\n",
              "      <td>9154.773547</td>\n",
              "      <td>8057.703956</td>\n",
              "      <td>30502.306149</td>\n",
              "      <td>146293.573959</td>\n",
              "      <td>47836.853533</td>\n",
              "      <td>87351.205908</td>\n",
              "      <td>43226.871596</td>\n",
              "      <td>234022.968617</td>\n",
              "      <td>280853.159911</td>\n",
              "      <td>80069.464997</td>\n",
              "      <td>99738.271326</td>\n",
              "      <td>33541.538070</td>\n",
              "      <td>28747.373157</td>\n",
              "      <td>33263.037916</td>\n",
              "      <td>139559.077757</td>\n",
              "      <td>211979.496370</td>\n",
              "      <td>101420.162515</td>\n",
              "      <td>...</td>\n",
              "      <td>39900.0</td>\n",
              "      <td>107022.055142</td>\n",
              "      <td>286959.241124</td>\n",
              "      <td>12837.659757</td>\n",
              "      <td>168828.401858</td>\n",
              "      <td>175890.024572</td>\n",
              "      <td>7054.596206</td>\n",
              "      <td>7423.133537</td>\n",
              "      <td>35015.863473</td>\n",
              "      <td>13517.844309</td>\n",
              "      <td>98529.319974</td>\n",
              "      <td>49948.155249</td>\n",
              "      <td>57142.935778</td>\n",
              "      <td>25502.558490</td>\n",
              "      <td>258141.341703</td>\n",
              "      <td>604029.927609</td>\n",
              "      <td>694225.107356</td>\n",
              "      <td>24021.413485</td>\n",
              "      <td>51176.891248</td>\n",
              "      <td>82291.157207</td>\n",
              "      <td>34958.206208</td>\n",
              "      <td>120673.596053</td>\n",
              "      <td>40568.578612</td>\n",
              "      <td>13702.052366</td>\n",
              "      <td>3299.735559</td>\n",
              "      <td>38944.017164</td>\n",
              "      <td>18543.945610</td>\n",
              "      <td>62003.817416</td>\n",
              "      <td>96670.015729</td>\n",
              "      <td>5618.228583</td>\n",
              "      <td>48148.343639</td>\n",
              "      <td>53673.361752</td>\n",
              "      <td>82580.152033</td>\n",
              "      <td>35371.186125</td>\n",
              "      <td>25001.236482</td>\n",
              "      <td>50478.902464</td>\n",
              "      <td>362166.966983</td>\n",
              "      <td>249071.423366</td>\n",
              "      <td>26303.614413</td>\n",
              "      <td>17393.107724</td>\n",
              "    </tr>\n",
              "    <tr>\n",
              "      <th>5</th>\n",
              "      <td>2021-11-29</td>\n",
              "      <td>29124.577112</td>\n",
              "      <td>33886.790993</td>\n",
              "      <td>61019.459908</td>\n",
              "      <td>145016.522340</td>\n",
              "      <td>124867.547530</td>\n",
              "      <td>17761.613830</td>\n",
              "      <td>50788.160528</td>\n",
              "      <td>86839.900525</td>\n",
              "      <td>105809.783261</td>\n",
              "      <td>687267.554915</td>\n",
              "      <td>51601.368251</td>\n",
              "      <td>228913.960719</td>\n",
              "      <td>32286.333833</td>\n",
              "      <td>58787.065236</td>\n",
              "      <td>16833.343120</td>\n",
              "      <td>2321.378087</td>\n",
              "      <td>26099.907047</td>\n",
              "      <td>5188.759281</td>\n",
              "      <td>319104.315877</td>\n",
              "      <td>50490.619282</td>\n",
              "      <td>13354.891711</td>\n",
              "      <td>32284.057097</td>\n",
              "      <td>9149.283490</td>\n",
              "      <td>8030.714347</td>\n",
              "      <td>30347.772337</td>\n",
              "      <td>145742.192406</td>\n",
              "      <td>47861.299189</td>\n",
              "      <td>86723.872675</td>\n",
              "      <td>43291.522747</td>\n",
              "      <td>236235.697136</td>\n",
              "      <td>281022.370683</td>\n",
              "      <td>80054.006720</td>\n",
              "      <td>99655.771856</td>\n",
              "      <td>33566.113660</td>\n",
              "      <td>29244.297455</td>\n",
              "      <td>33322.875425</td>\n",
              "      <td>138746.279393</td>\n",
              "      <td>214651.489615</td>\n",
              "      <td>100919.266114</td>\n",
              "      <td>...</td>\n",
              "      <td>39900.0</td>\n",
              "      <td>107081.373320</td>\n",
              "      <td>284873.071495</td>\n",
              "      <td>12837.544844</td>\n",
              "      <td>168187.391900</td>\n",
              "      <td>177762.753002</td>\n",
              "      <td>6996.828253</td>\n",
              "      <td>7432.007939</td>\n",
              "      <td>34971.910243</td>\n",
              "      <td>13521.534464</td>\n",
              "      <td>92267.813899</td>\n",
              "      <td>49681.536432</td>\n",
              "      <td>59370.490329</td>\n",
              "      <td>25502.696466</td>\n",
              "      <td>261399.424332</td>\n",
              "      <td>604005.182886</td>\n",
              "      <td>684559.271420</td>\n",
              "      <td>23818.973468</td>\n",
              "      <td>51636.492318</td>\n",
              "      <td>81712.468630</td>\n",
              "      <td>32420.202830</td>\n",
              "      <td>121074.857174</td>\n",
              "      <td>39982.534862</td>\n",
              "      <td>13613.928168</td>\n",
              "      <td>3348.587802</td>\n",
              "      <td>38944.105332</td>\n",
              "      <td>18590.951911</td>\n",
              "      <td>64753.573866</td>\n",
              "      <td>97645.906928</td>\n",
              "      <td>5618.327348</td>\n",
              "      <td>48554.080967</td>\n",
              "      <td>53706.128538</td>\n",
              "      <td>81732.510689</td>\n",
              "      <td>35553.557980</td>\n",
              "      <td>25521.288172</td>\n",
              "      <td>50499.227777</td>\n",
              "      <td>358697.348303</td>\n",
              "      <td>249629.421416</td>\n",
              "      <td>26308.434061</td>\n",
              "      <td>17475.000728</td>\n",
              "    </tr>\n",
              "    <tr>\n",
              "      <th>6</th>\n",
              "      <td>2021-11-30</td>\n",
              "      <td>29284.679548</td>\n",
              "      <td>33961.339331</td>\n",
              "      <td>60992.873394</td>\n",
              "      <td>145015.976365</td>\n",
              "      <td>125775.897194</td>\n",
              "      <td>17820.441524</td>\n",
              "      <td>50507.675827</td>\n",
              "      <td>87178.429743</td>\n",
              "      <td>105779.617363</td>\n",
              "      <td>687303.347731</td>\n",
              "      <td>51601.377612</td>\n",
              "      <td>228912.315661</td>\n",
              "      <td>32330.294681</td>\n",
              "      <td>58787.483506</td>\n",
              "      <td>16831.955862</td>\n",
              "      <td>2312.249781</td>\n",
              "      <td>26135.808968</td>\n",
              "      <td>5194.517049</td>\n",
              "      <td>319642.477789</td>\n",
              "      <td>50288.469665</td>\n",
              "      <td>13268.937717</td>\n",
              "      <td>32396.353942</td>\n",
              "      <td>9160.519073</td>\n",
              "      <td>8038.598028</td>\n",
              "      <td>30388.089819</td>\n",
              "      <td>146235.654002</td>\n",
              "      <td>47832.382137</td>\n",
              "      <td>86863.869686</td>\n",
              "      <td>43333.380942</td>\n",
              "      <td>234704.679592</td>\n",
              "      <td>281067.255599</td>\n",
              "      <td>79984.084803</td>\n",
              "      <td>99667.147520</td>\n",
              "      <td>33583.905544</td>\n",
              "      <td>29111.279072</td>\n",
              "      <td>33320.216289</td>\n",
              "      <td>139017.342850</td>\n",
              "      <td>213927.610101</td>\n",
              "      <td>101407.586474</td>\n",
              "      <td>...</td>\n",
              "      <td>39900.0</td>\n",
              "      <td>107057.976340</td>\n",
              "      <td>285760.707666</td>\n",
              "      <td>12837.665400</td>\n",
              "      <td>168378.197753</td>\n",
              "      <td>177177.048065</td>\n",
              "      <td>7007.440101</td>\n",
              "      <td>7444.715352</td>\n",
              "      <td>35001.628674</td>\n",
              "      <td>13534.501094</td>\n",
              "      <td>93861.274711</td>\n",
              "      <td>49739.337696</td>\n",
              "      <td>58651.972253</td>\n",
              "      <td>25502.551047</td>\n",
              "      <td>261935.909901</td>\n",
              "      <td>604030.558812</td>\n",
              "      <td>686799.898379</td>\n",
              "      <td>23902.340864</td>\n",
              "      <td>51525.749405</td>\n",
              "      <td>82318.270088</td>\n",
              "      <td>32498.728423</td>\n",
              "      <td>121081.419809</td>\n",
              "      <td>40137.379959</td>\n",
              "      <td>13645.499318</td>\n",
              "      <td>3335.607651</td>\n",
              "      <td>38944.018464</td>\n",
              "      <td>18582.227657</td>\n",
              "      <td>64000.973094</td>\n",
              "      <td>97481.115859</td>\n",
              "      <td>5618.234089</td>\n",
              "      <td>48442.860031</td>\n",
              "      <td>53716.603255</td>\n",
              "      <td>81992.343327</td>\n",
              "      <td>35477.620634</td>\n",
              "      <td>25331.144268</td>\n",
              "      <td>50482.302708</td>\n",
              "      <td>358017.569337</td>\n",
              "      <td>249632.027378</td>\n",
              "      <td>26304.114742</td>\n",
              "      <td>17405.126298</td>\n",
              "    </tr>\n",
              "    <tr>\n",
              "      <th>7</th>\n",
              "      <td>2021-12-01</td>\n",
              "      <td>29482.848208</td>\n",
              "      <td>33983.073001</td>\n",
              "      <td>60915.282376</td>\n",
              "      <td>145015.994406</td>\n",
              "      <td>125459.034954</td>\n",
              "      <td>17824.312143</td>\n",
              "      <td>50557.172870</td>\n",
              "      <td>87121.060158</td>\n",
              "      <td>105646.104493</td>\n",
              "      <td>687308.136003</td>\n",
              "      <td>51601.377676</td>\n",
              "      <td>228912.284208</td>\n",
              "      <td>32318.974829</td>\n",
              "      <td>58787.469981</td>\n",
              "      <td>16831.840325</td>\n",
              "      <td>2327.952621</td>\n",
              "      <td>26135.864618</td>\n",
              "      <td>5192.436416</td>\n",
              "      <td>320220.310552</td>\n",
              "      <td>50222.821643</td>\n",
              "      <td>13187.729447</td>\n",
              "      <td>32132.118309</td>\n",
              "      <td>9153.565282</td>\n",
              "      <td>8044.479104</td>\n",
              "      <td>30426.659731</td>\n",
              "      <td>146020.030403</td>\n",
              "      <td>47809.021025</td>\n",
              "      <td>87034.718946</td>\n",
              "      <td>43258.900219</td>\n",
              "      <td>235112.708548</td>\n",
              "      <td>280986.550878</td>\n",
              "      <td>79991.477791</td>\n",
              "      <td>99689.054555</td>\n",
              "      <td>33553.925579</td>\n",
              "      <td>28986.147509</td>\n",
              "      <td>33293.456360</td>\n",
              "      <td>139224.495385</td>\n",
              "      <td>213070.019107</td>\n",
              "      <td>101314.093204</td>\n",
              "      <td>...</td>\n",
              "      <td>39900.0</td>\n",
              "      <td>107051.821019</td>\n",
              "      <td>285952.066918</td>\n",
              "      <td>12837.659480</td>\n",
              "      <td>168528.814527</td>\n",
              "      <td>176724.537682</td>\n",
              "      <td>7025.197273</td>\n",
              "      <td>7427.589189</td>\n",
              "      <td>34998.192314</td>\n",
              "      <td>13521.209301</td>\n",
              "      <td>95479.545244</td>\n",
              "      <td>49804.760713</td>\n",
              "      <td>58046.809826</td>\n",
              "      <td>25502.558890</td>\n",
              "      <td>259790.158871</td>\n",
              "      <td>604029.911519</td>\n",
              "      <td>689382.923761</td>\n",
              "      <td>23920.205534</td>\n",
              "      <td>51404.277165</td>\n",
              "      <td>82007.284083</td>\n",
              "      <td>33465.845699</td>\n",
              "      <td>120881.485584</td>\n",
              "      <td>40280.353743</td>\n",
              "      <td>13658.072188</td>\n",
              "      <td>3324.353660</td>\n",
              "      <td>38944.017184</td>\n",
              "      <td>18563.866469</td>\n",
              "      <td>63361.950064</td>\n",
              "      <td>97174.415042</td>\n",
              "      <td>5618.228889</td>\n",
              "      <td>48339.342756</td>\n",
              "      <td>53687.815313</td>\n",
              "      <td>82155.012353</td>\n",
              "      <td>35444.637161</td>\n",
              "      <td>25213.238991</td>\n",
              "      <td>50479.460081</td>\n",
              "      <td>360435.269062</td>\n",
              "      <td>249383.311885</td>\n",
              "      <td>26303.665901</td>\n",
              "      <td>17425.964405</td>\n",
              "    </tr>\n",
              "    <tr>\n",
              "      <th>8</th>\n",
              "      <td>2021-12-02</td>\n",
              "      <td>29573.695618</td>\n",
              "      <td>33986.211066</td>\n",
              "      <td>60825.213982</td>\n",
              "      <td>145015.993810</td>\n",
              "      <td>126244.098825</td>\n",
              "      <td>17842.141972</td>\n",
              "      <td>50338.020178</td>\n",
              "      <td>87324.337811</td>\n",
              "      <td>105580.356475</td>\n",
              "      <td>687308.776566</td>\n",
              "      <td>51601.377676</td>\n",
              "      <td>228912.283607</td>\n",
              "      <td>32361.038655</td>\n",
              "      <td>58787.470418</td>\n",
              "      <td>16831.830703</td>\n",
              "      <td>2322.496379</td>\n",
              "      <td>26171.369606</td>\n",
              "      <td>5193.538159</td>\n",
              "      <td>320788.208528</td>\n",
              "      <td>50117.158127</td>\n",
              "      <td>13110.010823</td>\n",
              "      <td>32145.863381</td>\n",
              "      <td>9157.263000</td>\n",
              "      <td>8051.418949</td>\n",
              "      <td>30464.611580</td>\n",
              "      <td>146460.914292</td>\n",
              "      <td>47812.291665</td>\n",
              "      <td>87183.796515</td>\n",
              "      <td>43291.151647</td>\n",
              "      <td>233816.076773</td>\n",
              "      <td>280912.492904</td>\n",
              "      <td>80061.381841</td>\n",
              "      <td>99713.460170</td>\n",
              "      <td>33568.645714</td>\n",
              "      <td>28865.278914</td>\n",
              "      <td>33286.644032</td>\n",
              "      <td>139399.229748</td>\n",
              "      <td>212414.392444</td>\n",
              "      <td>101467.711845</td>\n",
              "      <td>...</td>\n",
              "      <td>39900.0</td>\n",
              "      <td>107028.613101</td>\n",
              "      <td>286735.314435</td>\n",
              "      <td>12837.659771</td>\n",
              "      <td>168679.602006</td>\n",
              "      <td>176296.686051</td>\n",
              "      <td>7036.922531</td>\n",
              "      <td>7439.259811</td>\n",
              "      <td>35010.608767</td>\n",
              "      <td>13525.839156</td>\n",
              "      <td>96985.994162</td>\n",
              "      <td>49875.226467</td>\n",
              "      <td>57550.166012</td>\n",
              "      <td>25502.558467</td>\n",
              "      <td>260234.338775</td>\n",
              "      <td>604029.928030</td>\n",
              "      <td>691707.809338</td>\n",
              "      <td>24003.411603</td>\n",
              "      <td>51294.018021</td>\n",
              "      <td>82556.854881</td>\n",
              "      <td>34338.113062</td>\n",
              "      <td>120873.487203</td>\n",
              "      <td>40425.871454</td>\n",
              "      <td>13688.047805</td>\n",
              "      <td>3311.090370</td>\n",
              "      <td>38944.017165</td>\n",
              "      <td>18554.068306</td>\n",
              "      <td>62661.336595</td>\n",
              "      <td>96946.225094</td>\n",
              "      <td>5618.228599</td>\n",
              "      <td>48241.446276</td>\n",
              "      <td>53697.092396</td>\n",
              "      <td>82404.856501</td>\n",
              "      <td>35408.246243</td>\n",
              "      <td>25118.742162</td>\n",
              "      <td>50478.982651</td>\n",
              "      <td>359836.974091</td>\n",
              "      <td>249241.934368</td>\n",
              "      <td>26303.619260</td>\n",
              "      <td>17372.090511</td>\n",
              "    </tr>\n",
              "    <tr>\n",
              "      <th>9</th>\n",
              "      <td>2021-12-03</td>\n",
              "      <td>29620.952557</td>\n",
              "      <td>33989.728895</td>\n",
              "      <td>60743.040635</td>\n",
              "      <td>145015.993830</td>\n",
              "      <td>126036.300995</td>\n",
              "      <td>17853.338334</td>\n",
              "      <td>50334.165261</td>\n",
              "      <td>87353.029325</td>\n",
              "      <td>105470.169106</td>\n",
              "      <td>687308.862259</td>\n",
              "      <td>51601.377676</td>\n",
              "      <td>228912.283595</td>\n",
              "      <td>32351.512879</td>\n",
              "      <td>58787.470404</td>\n",
              "      <td>16831.829901</td>\n",
              "      <td>2335.032659</td>\n",
              "      <td>26171.818521</td>\n",
              "      <td>5194.521243</td>\n",
              "      <td>321358.808506</td>\n",
              "      <td>50015.038727</td>\n",
              "      <td>13034.886949</td>\n",
              "      <td>31972.949184</td>\n",
              "      <td>9154.773547</td>\n",
              "      <td>8057.703956</td>\n",
              "      <td>30502.306149</td>\n",
              "      <td>146293.573959</td>\n",
              "      <td>47836.853533</td>\n",
              "      <td>87351.205908</td>\n",
              "      <td>43226.871596</td>\n",
              "      <td>234022.968617</td>\n",
              "      <td>280853.159911</td>\n",
              "      <td>80069.464997</td>\n",
              "      <td>99738.271326</td>\n",
              "      <td>33541.538070</td>\n",
              "      <td>28747.373157</td>\n",
              "      <td>33263.037916</td>\n",
              "      <td>139559.077757</td>\n",
              "      <td>211979.496370</td>\n",
              "      <td>101420.162515</td>\n",
              "      <td>...</td>\n",
              "      <td>39900.0</td>\n",
              "      <td>107022.055142</td>\n",
              "      <td>286959.241124</td>\n",
              "      <td>12837.659757</td>\n",
              "      <td>168828.401858</td>\n",
              "      <td>175890.024572</td>\n",
              "      <td>7054.596206</td>\n",
              "      <td>7423.133537</td>\n",
              "      <td>35015.863473</td>\n",
              "      <td>13517.844309</td>\n",
              "      <td>98529.319974</td>\n",
              "      <td>49948.155249</td>\n",
              "      <td>57142.935778</td>\n",
              "      <td>25502.558490</td>\n",
              "      <td>258141.341703</td>\n",
              "      <td>604029.927609</td>\n",
              "      <td>694225.107356</td>\n",
              "      <td>24021.413485</td>\n",
              "      <td>51176.891248</td>\n",
              "      <td>82291.157207</td>\n",
              "      <td>34958.206208</td>\n",
              "      <td>120673.596053</td>\n",
              "      <td>40568.578612</td>\n",
              "      <td>13702.052366</td>\n",
              "      <td>3299.735559</td>\n",
              "      <td>38944.017164</td>\n",
              "      <td>18543.945610</td>\n",
              "      <td>62003.817416</td>\n",
              "      <td>96670.015729</td>\n",
              "      <td>5618.228583</td>\n",
              "      <td>48148.343639</td>\n",
              "      <td>53673.361752</td>\n",
              "      <td>82580.152033</td>\n",
              "      <td>35371.186125</td>\n",
              "      <td>25001.236482</td>\n",
              "      <td>50478.902464</td>\n",
              "      <td>362166.966983</td>\n",
              "      <td>249071.423366</td>\n",
              "      <td>26303.614413</td>\n",
              "      <td>17393.107724</td>\n",
              "    </tr>\n",
              "  </tbody>\n",
              "</table>\n",
              "<p>10 rows × 371 columns</p>\n",
              "</div>"
            ],
            "text/plain": [
              "          Day        000060  ...        363280        950130\n",
              "0  2021-11-01  29124.577112  ...  26308.434061  17475.000728\n",
              "1  2021-11-02  29284.679548  ...  26304.114742  17405.126298\n",
              "2  2021-11-03  29482.848208  ...  26303.665901  17425.964405\n",
              "3  2021-11-04  29573.695618  ...  26303.619260  17372.090511\n",
              "4  2021-11-05  29620.952557  ...  26303.614413  17393.107724\n",
              "5  2021-11-29  29124.577112  ...  26308.434061  17475.000728\n",
              "6  2021-11-30  29284.679548  ...  26304.114742  17405.126298\n",
              "7  2021-12-01  29482.848208  ...  26303.665901  17425.964405\n",
              "8  2021-12-02  29573.695618  ...  26303.619260  17372.090511\n",
              "9  2021-12-03  29620.952557  ...  26303.614413  17393.107724\n",
              "\n",
              "[10 rows x 371 columns]"
            ]
          },
          "metadata": {},
          "execution_count": 52
        }
      ]
    },
    {
      "cell_type": "code",
      "metadata": {
        "id": "n0acJmPY8BL8"
      },
      "source": [
        "final_result.to_csv(path + 'submission/Arima.csv', index=False)"
      ],
      "execution_count": 53,
      "outputs": []
    },
    {
      "cell_type": "code",
      "metadata": {
        "id": "L1RkZeCb8enj"
      },
      "source": [
        ""
      ],
      "execution_count": null,
      "outputs": []
    }
  ]
}